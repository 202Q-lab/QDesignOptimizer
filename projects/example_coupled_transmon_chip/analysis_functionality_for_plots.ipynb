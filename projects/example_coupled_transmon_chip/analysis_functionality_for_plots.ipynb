{
 "cells": [
  {
   "cell_type": "code",
   "execution_count": 1,
   "metadata": {},
   "outputs": [],
   "source": [
    "# necessary imports\n",
    "import numpy as np\n",
    "import os\n",
    "\n",
    "# plotting function\n",
    "from qdesignoptimizer.sim_plot_progress import plot_progress\n",
    "from qdesignoptimizer.sim_plot_progress import OptPltSet\n",
    "from typing import List\n",
    "\n",
    "from pprint import pprint\n",
    "import json \n",
    "from datetime import datetime"
   ]
  },
  {
   "cell_type": "code",
   "execution_count": 2,
   "metadata": {},
   "outputs": [],
   "source": [
    "def load_data_by_date(folder_parent: str, name_experiment: str, experiment_beginning: str, experiment_end: str):\n",
    "\n",
    "    files_experiment = []\n",
    "\n",
    "    all_files_in_folder = os.listdir(folder_parent)\n",
    "    # get all .npy\n",
    "    all_files_in_folder = [os.path.join(folder_parent, f) for f in all_files_in_folder]\n",
    "    npy_ind = []\n",
    "    for i in range(len(all_files_in_folder)):\n",
    "        if all_files_in_folder[i].endswith('npy'):\n",
    "            npy_ind.append(i)\n",
    "\n",
    "    npy_ind = np.array(npy_ind)\n",
    "    all_files_in_folder = np.array(all_files_in_folder)\n",
    "\n",
    "    files_npy = all_files_in_folder[npy_ind]\n",
    "\n",
    "    # filter for experiment name\n",
    "    experiment_ind = []\n",
    "    for i in range(len(files_npy)):\n",
    "        if files_npy[i].find(name_experiment) >0:\n",
    "            experiment_ind.append(i)\n",
    "\n",
    "    experiment_ind = np.array(experiment_ind)\n",
    "    files_experiment.append(files_npy[experiment_ind])\n",
    "\n",
    "    date_start_dt = datetime.strptime(experiment_beginning.split('_')[-1], '%Y%m%d-%H%M%S')\n",
    "    date_stop_dt = datetime.strptime(experiment_end.split('_')[-1], '%Y%m%d-%H%M%S')\n",
    "\n",
    "    filtered_files = []\n",
    "    for i, file in enumerate(np.concatenate(files_experiment)):\n",
    "        if date_start_dt <= datetime.strptime(file.split('_')[-1].rstrip('.npy'), '%Y%m%d-%H%M%S') <= date_stop_dt:\n",
    "            filtered_files.append(file)\n",
    "\n",
    "\n",
    "    return filtered_files"
   ]
  },
  {
   "cell_type": "code",
   "execution_count": 3,
   "metadata": {},
   "outputs": [],
   "source": [
    "def plot_optimization_results(files: List[str], plot_variance: bool = True):\n",
    "    results = []\n",
    "    for file in files:\n",
    "        results.append(np.load(file, allow_pickle= True)[0])\n",
    "    results = np.array(results)\n",
    "\n",
    "    for result in results:\n",
    "        assert result[\"system_target_params\"] == results[0][\"system_target_params\"], \"All optimization results must have the same target parameters\"\n",
    "        assert len(result[\"optimization_results\"]) == len(results[0][\"optimization_results\"]), \"All optimization results must have the same number of passes\"\n",
    "\n",
    "    plot_progress(\n",
    "                [result[\"optimization_results\"]for result in results],\n",
    "                results[0][\"system_target_params\"],\n",
    "                results[0][\"plot_settings\"],\n",
    "                save_figures=True,\n",
    "                plot_variance=plot_variance\n",
    "            )"
   ]
  },
  {
   "cell_type": "code",
   "execution_count": 8,
   "metadata": {},
   "outputs": [
    {
     "name": "stdout",
     "output_type": "stream",
     "text": [
      "5\n"
     ]
    }
   ],
   "source": [
    "files = load_data_by_date('out', 'multi_transmon_chip', 'multi_transmon_chip_20250305-105718', 'multi_transmon_chip_20250305-110352')\n",
    "print(len(files))\n",
    "plot_optimization_results(files, plot_variance= False)"
   ]
  },
  {
   "cell_type": "code",
   "execution_count": null,
   "metadata": {},
   "outputs": [],
   "source": [
    "folder = r\"out\"\n",
    "files = [ \"multi_transmon_chip_20250304-113933.npy\", \"multi_transmon_chip_20250304-120524.npy\"]\n",
    "# files = [ \"multi_transmon_chip_20250304-113933.npy\", \"multi_transmon_chip_20250304-113933.npy\"]\n",
    "\n"
   ]
  },
  {
   "cell_type": "code",
   "execution_count": null,
   "metadata": {},
   "outputs": [],
   "source": []
  }
 ],
 "metadata": {
  "kernelspec": {
   "display_name": "qdesignenv",
   "language": "python",
   "name": "python3"
  },
  "language_info": {
   "codemirror_mode": {
    "name": "ipython",
    "version": 3
   },
   "file_extension": ".py",
   "mimetype": "text/x-python",
   "name": "python",
   "nbconvert_exporter": "python",
   "pygments_lexer": "ipython3",
   "version": "3.10.16"
  }
 },
 "nbformat": 4,
 "nbformat_minor": 2
}
