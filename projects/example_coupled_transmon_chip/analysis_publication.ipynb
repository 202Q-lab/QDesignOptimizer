{
 "cells": [
  {
   "cell_type": "code",
   "execution_count": 1,
   "metadata": {},
   "outputs": [],
   "source": [
    "# necessary imports\n",
    "import numpy as np\n",
    "import os\n",
    "\n",
    "# plotting function\n",
    "from qdesignoptimizer.sim_plot_progress import plot_progress\n",
    "from qdesignoptimizer.sim_plot_progress import OptPltSet"
   ]
  },
  {
   "cell_type": "code",
   "execution_count": 5,
   "metadata": {},
   "outputs": [],
   "source": [
    "folder = r\"out\"\n",
    "files = [ \"multi_transmon_chip_20250304-113933.npy\", \"multi_transmon_chip_20250304-120524.npy\", \"multi_transmon_chip_20250304-120906.npy\"]\n",
    "results = []\n",
    "for file in files:\n",
    "    location = os.path.join(folder, file)\n",
    "    results.append(np.load(location, allow_pickle= True)[0])\n",
    "results = np.array(results)"
   ]
  },
  {
   "cell_type": "code",
   "execution_count": 6,
   "metadata": {},
   "outputs": [],
   "source": [
    "for result in results:\n",
    "    assert result[\"system_target_params\"] == results[0][\"system_target_params\"], \"All optimization results must have the same target parameters\""
   ]
  },
  {
   "cell_type": "code",
   "execution_count": 7,
   "metadata": {},
   "outputs": [],
   "source": [
    "plot_progress(\n",
    "                [result[\"optimization_results\"]for result in results],\n",
    "                results[0][\"system_target_params\"],\n",
    "                results[0][\"plot_settings\"],\n",
    "                save_figures=True,\n",
    "            )"
   ]
  },
  {
   "cell_type": "code",
   "execution_count": null,
   "metadata": {},
   "outputs": [],
   "source": []
  },
  {
   "cell_type": "code",
   "execution_count": null,
   "metadata": {},
   "outputs": [],
   "source": []
  },
  {
   "cell_type": "code",
   "execution_count": null,
   "metadata": {},
   "outputs": [],
   "source": []
  },
  {
   "cell_type": "code",
   "execution_count": null,
   "metadata": {},
   "outputs": [],
   "source": []
  }
 ],
 "metadata": {
  "kernelspec": {
   "display_name": "qdesignenv",
   "language": "python",
   "name": "python3"
  },
  "language_info": {
   "codemirror_mode": {
    "name": "ipython",
    "version": 3
   },
   "file_extension": ".py",
   "mimetype": "text/x-python",
   "name": "python",
   "nbconvert_exporter": "python",
   "pygments_lexer": "ipython3",
   "version": "3.10.16"
  }
 },
 "nbformat": 4,
 "nbformat_minor": 2
}
