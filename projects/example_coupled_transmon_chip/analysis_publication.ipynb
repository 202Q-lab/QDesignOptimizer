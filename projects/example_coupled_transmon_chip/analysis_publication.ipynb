{
 "cells": [
  {
   "cell_type": "code",
   "execution_count": null,
   "metadata": {},
   "outputs": [],
   "source": [
    "# necessary imports\n",
    "import numpy as np\n",
    "import os\n",
    "\n",
    "# plotting function\n",
    "from qdesignoptimizer.sim_plot_progress import plot_progress\n",
    "from qdesignoptimizer.sim_plot_progress import OptPltSet\n",
    "from typing import List"
   ]
  },
  {
   "cell_type": "code",
   "execution_count": null,
   "metadata": {},
   "outputs": [],
   "source": [
    "def plot_optimization_results(folder: str, files: List[str], plot_variance: bool = True):\n",
    "    results = []\n",
    "    for file in files:\n",
    "        location = os.path.join(folder, file)\n",
    "        results.append(np.load(location, allow_pickle= True)[0])\n",
    "    results = np.array(results)\n",
    "\n",
    "    for result in results:\n",
    "        assert result[\"system_target_params\"] == results[0][\"system_target_params\"], \"All optimization results must have the same target parameters\"\n",
    "        assert len(result[\"optimization_results\"]) == len(results[0][\"optimization_results\"]), \"All optimization results must have the same number of passes\"\n",
    "\n",
    "    plot_progress(\n",
    "                [result[\"optimization_results\"]for result in results],\n",
    "                results[0][\"system_target_params\"],\n",
    "                results[0][\"plot_settings\"],\n",
    "                save_figures=True,\n",
    "                plot_variance=plot_variance\n",
    "            )"
   ]
  },
  {
   "cell_type": "code",
   "execution_count": null,
   "metadata": {},
   "outputs": [],
   "source": [
    "folder = r\"out\"\n",
    "files = [ \"multi_transmon_chip_20250304-113933.npy\", \"multi_transmon_chip_20250304-120524.npy\"]\n",
    "# files = [ \"multi_transmon_chip_20250304-113933.npy\", \"multi_transmon_chip_20250304-113933.npy\"]\n",
    "\n",
    "plot_optimization_results(folder, files, plot_variance= False)"
   ]
  },
  {
   "cell_type": "code",
   "execution_count": null,
   "metadata": {},
   "outputs": [],
   "source": []
  }
 ],
 "metadata": {
  "kernelspec": {
   "display_name": "qdesignenv",
   "language": "python",
   "name": "python3"
  },
  "language_info": {
   "codemirror_mode": {
    "name": "ipython",
    "version": 3
   },
   "file_extension": ".py",
   "mimetype": "text/x-python",
   "name": "python",
   "nbconvert_exporter": "python",
   "pygments_lexer": "ipython3",
   "version": "3.10.16"
  }
 },
 "nbformat": 4,
 "nbformat_minor": 2
}
