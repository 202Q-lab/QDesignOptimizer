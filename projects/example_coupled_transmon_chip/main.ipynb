{
 "cells": [
  {
   "cell_type": "markdown",
   "metadata": {},
   "source": [
    "# Example 2: Coupled Transmon Qubits"
   ]
  },
  {
   "cell_type": "code",
   "execution_count": 1,
   "metadata": {},
   "outputs": [],
   "source": [
    "%load_ext autoreload\n",
    "%autoreload 2\n",
    "import time"
   ]
  },
  {
   "cell_type": "code",
   "execution_count": 2,
   "metadata": {},
   "outputs": [],
   "source": [
    "import json\n",
    "import design as d\n",
    "import names as n\n",
    "\n",
    "with open(\"design_variables.json\") as in_file:\n",
    "    initial_design_variables = json.load(in_file)\n",
    "\n",
    "from qdesignoptimizer.utils.chip_generation import create_chip_base, ChipType\n",
    "from qdesignoptimizer.utils.utils import close_ansys"
   ]
  },
  {
   "cell_type": "code",
   "execution_count": 3,
   "metadata": {},
   "outputs": [],
   "source": [
    "# for this example to store the data in the right place\n",
    "import os\n",
    "\n",
    "os.makedirs(os.path.dirname(\"out/\"), exist_ok=True)"
   ]
  },
  {
   "cell_type": "markdown",
   "metadata": {},
   "source": [
    "## Design assembly"
   ]
  },
  {
   "cell_type": "code",
   "execution_count": 4,
   "metadata": {},
   "outputs": [],
   "source": [
    "CHIP_NAME = \"multi_transmon_chip\"\n",
    "OPEN_GUI = False\n",
    "chip_type = ChipType(size_x=\"10mm\", size_y=\"10mm\", size_z=\"-300um\")\n",
    "design, gui = create_chip_base(\n",
    "    chip_name=CHIP_NAME, chip_type=chip_type, open_gui=OPEN_GUI\n",
    ")\n",
    "\n",
    "n.add_design_variables_to_design(design, initial_design_variables)"
   ]
  },
  {
   "cell_type": "code",
   "execution_count": 5,
   "metadata": {},
   "outputs": [],
   "source": [
    "def render_qiskit_metal_design(design, gui):\n",
    "    d.add_transmon_plus_resonator(design, group=n.NBR_1)\n",
    "    d.add_transmon_plus_resonator(design, group=n.NBR_2)\n",
    "\n",
    "    d.add_coupler(design)\n",
    "\n",
    "    d.add_route_interconnects(design)\n",
    "\n",
    "    d.add_launch_pads(design)\n",
    "\n",
    "    d.add_chargeline(design, group=n.NBR_1)\n",
    "    d.add_chargeline(design, group=n.NBR_2)\n",
    "    if gui:\n",
    "        gui.rebuild()\n",
    "        gui.autoscale()\n",
    "\n",
    "\n",
    "render_qiskit_metal_design(design, gui)"
   ]
  },
  {
   "cell_type": "markdown",
   "metadata": {},
   "source": [
    "## MiniStudies"
   ]
  },
  {
   "cell_type": "code",
   "execution_count": 6,
   "metadata": {},
   "outputs": [],
   "source": [
    "import mini_studies as ms\n",
    "import optimization_targets as ot\n",
    "import parameter_targets as pt\n",
    "import plot_settings as ps\n",
    "\n",
    "from qdesignoptimizer.design_analysis import DesignAnalysis, DesignAnalysisState\n",
    "from qiskit_metal.qlibrary.couplers.coupled_line_tee import CoupledLineTee\n",
    "from qdesignoptimizer.design_analysis_types import MeshingMap"
   ]
  },
  {
   "cell_type": "markdown",
   "metadata": {},
   "source": [
    "### Single resonator-qubit system\n",
    "Useful when first tuning up subsystems"
   ]
  },
  {
   "cell_type": "code",
   "execution_count": 6,
   "metadata": {},
   "outputs": [],
   "source": [
    "def CoupledLineTee_mesh_names(comp_names):\n",
    "    all_names_to_mesh = [f\"prime_cpw_{comp_names}\", f\"second_cpw_{comp_names}\"]\n",
    "    return all_names_to_mesh"
   ]
  },
  {
   "cell_type": "code",
   "execution_count": 7,
   "metadata": {},
   "outputs": [
    {
     "ename": "NameError",
     "evalue": "name 'ms' is not defined",
     "output_type": "error",
     "traceback": [
      "\u001b[1;31m---------------------------------------------------------------------------\u001b[0m",
      "\u001b[1;31mNameError\u001b[0m                                 Traceback (most recent call last)",
      "Cell \u001b[1;32mIn[7], line 2\u001b[0m\n\u001b[0;32m      1\u001b[0m MINI_STUDY_GROUP \u001b[38;5;241m=\u001b[39m n\u001b[38;5;241m.\u001b[39mNBR_1\n\u001b[1;32m----> 2\u001b[0m MINI_STUDY \u001b[38;5;241m=\u001b[39m \u001b[43mms\u001b[49m\u001b[38;5;241m.\u001b[39mget_mini_study_qb_res(group\u001b[38;5;241m=\u001b[39mMINI_STUDY_GROUP)\n\u001b[0;32m      3\u001b[0m RENDER_QISKIT_METAL \u001b[38;5;241m=\u001b[39m \u001b[38;5;28;01mlambda\u001b[39;00m design: render_qiskit_metal_design(design, gui)\n\u001b[0;32m      5\u001b[0m opt_targets \u001b[38;5;241m=\u001b[39m ot\u001b[38;5;241m.\u001b[39mget_opt_targets_2qubits_resonator_coupler(\n\u001b[0;32m      6\u001b[0m     groups\u001b[38;5;241m=\u001b[39m[MINI_STUDY_GROUP],\n\u001b[0;32m      7\u001b[0m     opt_target_qubit_freq\u001b[38;5;241m=\u001b[39m\u001b[38;5;28;01mTrue\u001b[39;00m,\n\u001b[1;32m   (...)\u001b[0m\n\u001b[0;32m     11\u001b[0m     opt_target_resonator_qubit_chi\u001b[38;5;241m=\u001b[39m\u001b[38;5;28;01mTrue\u001b[39;00m,\n\u001b[0;32m     12\u001b[0m )\n",
      "\u001b[1;31mNameError\u001b[0m: name 'ms' is not defined"
     ]
    }
   ],
   "source": [
    "MINI_STUDY_GROUP = n.NBR_1\n",
    "MINI_STUDY = ms.get_mini_study_qb_res(group=MINI_STUDY_GROUP)\n",
    "RENDER_QISKIT_METAL = lambda design: render_qiskit_metal_design(design, gui)\n",
    "\n",
    "opt_targets = ot.get_opt_targets_2qubits_resonator_coupler(\n",
    "    groups=[MINI_STUDY_GROUP],\n",
    "    opt_target_qubit_freq=True,\n",
    "    opt_target_qubit_anharm=True,\n",
    "    opt_target_resonator_freq=True,\n",
    "    opt_target_resonator_kappa=True,\n",
    "    opt_target_resonator_qubit_chi=True,\n",
    ")"
   ]
  },
  {
   "cell_type": "code",
   "execution_count": null,
   "metadata": {},
   "outputs": [],
   "source": [
    "design_analysis_state = DesignAnalysisState(\n",
    "    design, RENDER_QISKIT_METAL, pt.PARAM_TARGETS\n",
    ")\n",
    "design_analysis = DesignAnalysis(\n",
    "    design_analysis_state,\n",
    "    mini_study=MINI_STUDY,\n",
    "    opt_targets=opt_targets,\n",
    "    save_path=\"out/\" + CHIP_NAME + \"_\" + time.strftime(\"%Y%m%d-%H%M%S\"),\n",
    "    update_design_variables=False,\n",
    "    plot_settings=ps.PLOT_SETTINGS,\n",
    "    meshing_map=[\n",
    "        MeshingMap(component_class=CoupledLineTee, mesh_names=CoupledLineTee_mesh_names)\n",
    "    ],\n",
    ")\n",
    "\n",
    "group_runs = 2  # 10\n",
    "group_passes = 8  # 6\n",
    "delta_f = 0.001\n",
    "for i in range(group_runs):\n",
    "    design_analysis.update_nbr_passes(group_passes)\n",
    "    design_analysis.update_delta_f(delta_f)\n",
    "    design_analysis.optimize_target({}, {})\n",
    "    design_analysis.screenshot(gui=gui, run=i)"
   ]
  },
  {
   "cell_type": "code",
   "execution_count": null,
   "metadata": {},
   "outputs": [],
   "source": [
    "design_analysis.overwrite_parameters()"
   ]
  },
  {
   "cell_type": "markdown",
   "metadata": {},
   "source": [
    "### Two qubit-resonator system"
   ]
  },
  {
   "cell_type": "code",
   "execution_count": null,
   "metadata": {},
   "outputs": [],
   "source": [
    "MINI_STUDY = ms.get_mini_study_2qb_resonator_coupler()\n",
    "RENDER_QISKIT_METAL = lambda design: render_qiskit_metal_design(design, gui)\n",
    "\n",
    "opt_targets = ot.get_opt_targets_2qubits_resonator_coupler(\n",
    "    groups=[n.NBR_1, n.NBR_2],\n",
    "    opt_target_qubit_freq=True,\n",
    "    opt_target_qubit_anharm=True,\n",
    "    opt_target_resonator_freq=True,\n",
    "    opt_target_resonator_kappa=False,\n",
    "    opt_target_resonator_qubit_chi=True,\n",
    "    opt_target_coupler_freq=True,\n",
    ")"
   ]
  },
  {
   "cell_type": "code",
   "execution_count": null,
   "metadata": {},
   "outputs": [],
   "source": [
    "design_analysis_state = DesignAnalysisState(\n",
    "    design, RENDER_QISKIT_METAL, pt.PARAM_TARGETS\n",
    ")\n",
    "design_analysis = DesignAnalysis(\n",
    "    design_analysis_state,\n",
    "    mini_study=MINI_STUDY,\n",
    "    opt_targets=opt_targets,\n",
    "    save_path=\"out/\" + CHIP_NAME + \"_\" + time.strftime(\"%Y%m%d-%H%M%S\"),\n",
    "    update_design_variables=False,\n",
    "    plot_settings=ps.PLOT_SETTINGS_TWO_QB,\n",
    ")\n",
    "\n",
    "group_runs = 2\n",
    "group_passes = 6\n",
    "delta_f = 0.001\n",
    "for i in range(group_runs):\n",
    "    design_analysis.update_nbr_passes(group_passes)\n",
    "    design_analysis.update_delta_f(delta_f)\n",
    "    design_analysis.optimize_target({}, {})\n",
    "    design_analysis.screenshot(gui=gui, run=i)"
   ]
  },
  {
   "cell_type": "code",
   "execution_count": null,
   "metadata": {},
   "outputs": [],
   "source": [
    "design_analysis.overwrite_parameters()"
   ]
  },
  {
   "cell_type": "markdown",
   "metadata": {},
   "source": [
    "### Purcell decay into charge line"
   ]
  },
  {
   "cell_type": "markdown",
   "metadata": {},
   "source": [
    "The T1 of the qubit is limited by its decay into the charge line. This ministudy will change the distance of the charge line from the transmon pocket to optimize a T1 limit of 1 ms. This value is computed with simple capacitance matrix simulations and a classical model, assuming that the qubit frequency has already been optimized."
   ]
  },
  {
   "cell_type": "code",
   "execution_count": null,
   "metadata": {},
   "outputs": [],
   "source": [
    "close_ansys()"
   ]
  },
  {
   "cell_type": "code",
   "execution_count": null,
   "metadata": {},
   "outputs": [],
   "source": [
    "MINI_STUDY_GROUP = 1\n",
    "MINI_STUDY = ms.get_mini_study_qb_charge_line(group=MINI_STUDY_GROUP)\n",
    "opt_targets = ot.get_opt_targets_qb_charge_line(group=MINI_STUDY_GROUP)\n",
    "RENDER_QISKIT_METAL = lambda design: render_qiskit_metal_design(design, gui)"
   ]
  },
  {
   "cell_type": "code",
   "execution_count": null,
   "metadata": {},
   "outputs": [],
   "source": [
    "# %matplotlib inline\n",
    "design_analysis_state = DesignAnalysisState(\n",
    "    design, RENDER_QISKIT_METAL, pt.PARAM_TARGETS\n",
    ")\n",
    "design_analysis = DesignAnalysis(\n",
    "    design_analysis_state,\n",
    "    mini_study=MINI_STUDY,\n",
    "    opt_targets=opt_targets,\n",
    "    save_path=\"out/\" + CHIP_NAME + \"_\" + time.strftime(\"%Y%m%d-%H%M%S\"),\n",
    "    update_design_variables=False,\n",
    "    plot_settings=ps.PLOT_SETTINGS_CHARGE_LINE_DECAY,\n",
    ")"
   ]
  },
  {
   "cell_type": "code",
   "execution_count": null,
   "metadata": {},
   "outputs": [],
   "source": [
    "group_runs = 5\n",
    "group_passes_cap = 5\n",
    "\n",
    "for i in range(group_runs):\n",
    "    design_analysis.update_nbr_passes_capacitance_ministudies(group_passes_cap)\n",
    "    design_analysis.optimize_target({}, {})\n",
    "    design_analysis.screenshot(gui=gui, run=i)"
   ]
  },
  {
   "cell_type": "markdown",
   "metadata": {},
   "source": [
    "### Optimize capacitance target"
   ]
  },
  {
   "cell_type": "code",
   "execution_count": 9,
   "metadata": {},
   "outputs": [
    {
     "name": "stderr",
     "output_type": "stream",
     "text": [
      "\u001b[38;20m[INFO|2025-03-07 13:51:33]: self.eig_solver.sim.setup \n",
      "{\n",
      "    \"name\": \"Resonator_setup\",\n",
      "    \"reuse_selected_design\": true,\n",
      "    \"reuse_setup\": true,\n",
      "    \"min_freq_ghz\": 1,\n",
      "    \"n_modes\": 1,\n",
      "    \"max_delta_f\": 0.5,\n",
      "    \"max_passes\": 10,\n",
      "    \"min_passes\": 1,\n",
      "    \"min_converged\": 1,\n",
      "    \"pct_refinement\": 30,\n",
      "    \"basis_order\": 1,\n",
      "    \"vars\": {\n",
      "        \"Lj\": \"10 nH\",\n",
      "        \"Cj\": \"0 fF\"\n",
      "    }\n",
      "}\u001b[0m\n"
     ]
    },
    {
     "name": "stdout",
     "output_type": "stream",
     "text": [
      "pyaedt INFO: No project is defined. Project Project165 exists and has been read.\n",
      "pyaedt INFO: No consistent unique design is present. Inserting a new design.\n",
      "pyaedt INFO: Added design 'HFSS_6YE' of type HFSS.\n",
      "pyaedt INFO: Aedt Objects initialized\n",
      "pyaedt INFO: Variable Manager initialized\n",
      "pyaedt INFO: Design Loaded\n",
      "pyaedt INFO: Successfully loaded project materials !\n",
      "pyaedt INFO: Materials Loaded\n"
     ]
    },
    {
     "name": "stderr",
     "output_type": "stream",
     "text": [
      "\u001b[38;20m[INFO|2025-03-07 13:51:34]: self.eig_solver.sim.setup \n",
      "{\n",
      "    \"name\": \"Resonator_setup\",\n",
      "    \"reuse_selected_design\": true,\n",
      "    \"reuse_setup\": true,\n",
      "    \"min_freq_ghz\": 1,\n",
      "    \"n_modes\": 1,\n",
      "    \"max_delta_f\": 0.5,\n",
      "    \"max_passes\": 10,\n",
      "    \"min_passes\": 1,\n",
      "    \"min_converged\": 1,\n",
      "    \"pct_refinement\": 30,\n",
      "    \"basis_order\": 1,\n",
      "    \"vars\": {\n",
      "        \"Lj\": \"10 nH\",\n",
      "        \"Cj\": \"0 fF\"\n",
      "    }\n",
      "}\u001b[0m\n",
      "INFO 01:51PM [connect_project]: Connecting to Ansys Desktop API...\n",
      "INFO 01:51PM [load_ansys_project]: \tOpened Ansys App\n",
      "INFO 01:51PM [load_ansys_project]: \tOpened Ansys Desktop v2021.2.0\n",
      "INFO 01:51PM [load_ansys_project]: \tOpened Ansys Project\n",
      "\tFolder:    C:/Users/nirpit/Documents/Ansoft/\n",
      "\tProject:   Project165\n",
      "INFO 01:51PM [connect_design]: \tOpened active design\n",
      "\tDesign:    HFSS_6YE [Solution type: DrivenModal]\n",
      "WARNING 01:51PM [connect_setup]: \tNo design setup detected.\n",
      "WARNING 01:51PM [connect_setup]: \tCreating driven modal default setup.\n",
      "INFO 01:51PM [get_setup]: \tOpened setup `Setup`  (<class 'pyEPR.ansys.HfssDMSetup'>)\n",
      "INFO 01:51PM [connect]: \tConnected to project \"Project165\" and design \"HFSS_6YE\" 😀 \n",
      "\n",
      "01:51PM 34s WARNING [activate_ansys_design]: The design_name=get_mini_study_capacitance was not in active project.  Designs in active project are: \n",
      "['HFSS_QL4', \"('get_mini_study_scattering_analysis',)\", 'HFSS_6YE'].  A new design will be added to the project.  \n",
      "INFO 01:51PM [connect_design]: \tOpened active design\n",
      "\tDesign:    get_mini_study_capacitance [Solution type: Eigenmode]\n",
      "WARNING 01:51PM [connect_setup]: \tNo design setup detected.\n",
      "WARNING 01:51PM [connect_setup]: \tCreating eigenmode default setup.\n",
      "INFO 01:51PM [get_setup]: \tOpened setup `Setup`  (<class 'pyEPR.ansys.HfssEMSetup'>)\n"
     ]
    }
   ],
   "source": [
    "MINI_STUDY_BRANCH = 1\n",
    "MINI_STUDY = ms.get_mini_study_resonator_capacitance(group=MINI_STUDY_BRANCH)\n",
    "opt_targets = ot.get_opt_target_capacitance(group=MINI_STUDY_BRANCH)\n",
    "\n",
    "RENDER_QISKIT_METAL = lambda design: render_qiskit_metal_design(design, gui)\n",
    "# %matplotlib inline\n",
    "design_analysis_state = DesignAnalysisState(\n",
    "    design, RENDER_QISKIT_METAL, pt.PARAM_TARGETS\n",
    ")\n",
    "design_analysis = DesignAnalysis(\n",
    "    design_analysis_state,\n",
    "    mini_study=MINI_STUDY,\n",
    "    opt_targets=opt_targets,\n",
    "    save_path=\"out/\" + CHIP_NAME + \"_\" + time.strftime(\"%Y%m%d-%H%M%S\"),\n",
    "    update_design_variables=False,\n",
    "    plot_settings=ps.PLOT_SETTINGS_CAPACITANCE,\n",
    ")"
   ]
  },
  {
   "cell_type": "code",
   "execution_count": null,
   "metadata": {},
   "outputs": [],
   "source": [
    "group_runs = 10\n",
    "group_passes_cap = 2\n",
    "\n",
    "for i in range(group_runs):\n",
    "    design_analysis.update_nbr_passes_capacitance_ministudies(group_passes_cap)\n",
    "    design_analysis.optimize_target({}, {})\n",
    "    design_analysis.screenshot(gui=gui, run=i)"
   ]
  },
  {
   "cell_type": "markdown",
   "metadata": {},
   "source": [
    "### optimise scattering analysis and eigenmode"
   ]
  },
  {
   "cell_type": "code",
   "execution_count": 7,
   "metadata": {},
   "outputs": [
    {
     "name": "stderr",
     "output_type": "stream",
     "text": [
      "\u001b[38;20m[INFO|2025-03-07 16:09:59]: self.eig_solver.sim.setup \n",
      "{\n",
      "    \"name\": \"Resonator_setup\",\n",
      "    \"reuse_selected_design\": true,\n",
      "    \"reuse_setup\": true,\n",
      "    \"min_freq_ghz\": 1,\n",
      "    \"n_modes\": 1,\n",
      "    \"max_delta_f\": 0.5,\n",
      "    \"max_passes\": 10,\n",
      "    \"min_passes\": 1,\n",
      "    \"min_converged\": 1,\n",
      "    \"pct_refinement\": 30,\n",
      "    \"basis_order\": 1,\n",
      "    \"vars\": {\n",
      "        \"Lj\": \"10 nH\",\n",
      "        \"Cj\": \"0 fF\"\n",
      "    }\n",
      "}\u001b[0m\n"
     ]
    },
    {
     "name": "stdout",
     "output_type": "stream",
     "text": [
      "pyaedt INFO: using existing logger.\n",
      "pyaedt INFO: Launching PyAEDT outside AEDT with CPython and PythonNET.\n",
      "pyaedt INFO: AEDT installation Path C:\\Program Files\\AnsysEM\\AnsysEM21.2\\Win64.\n",
      "pyaedt INFO: Launching AEDT with module PythonNET.\n",
      "pyaedt INFO: Ansoft.ElectronicsDesktop.2021.2 Started with process ID 30180.\n",
      "pyaedt INFO: pyaedt v0.6.46\n",
      "pyaedt INFO: Python version 3.10.0 | packaged by conda-forge | (default, Nov 20 2021, 02:18:13) [MSC v.1916 64 bit (AMD64)]\n",
      "pyaedt INFO: Project Project173 has been created.\n",
      "pyaedt INFO: No design is present. Inserting a new design.\n",
      "pyaedt INFO: Added design 'HFSS_5HS' of type HFSS.\n",
      "pyaedt INFO: Aedt Objects initialized\n",
      "pyaedt INFO: Variable Manager initialized\n",
      "pyaedt INFO: Design Loaded\n",
      "pyaedt INFO: Successfully loaded project materials !\n",
      "pyaedt INFO: Materials Loaded\n"
     ]
    },
    {
     "name": "stderr",
     "output_type": "stream",
     "text": [
      "\u001b[38;20m[INFO|2025-03-07 16:10:13]: self.eig_solver.sim.setup \n",
      "{\n",
      "    \"name\": \"Resonator_setup\",\n",
      "    \"reuse_selected_design\": true,\n",
      "    \"reuse_setup\": true,\n",
      "    \"min_freq_ghz\": 1,\n",
      "    \"n_modes\": 1,\n",
      "    \"max_delta_f\": 0.5,\n",
      "    \"max_passes\": 10,\n",
      "    \"min_passes\": 1,\n",
      "    \"min_converged\": 1,\n",
      "    \"pct_refinement\": 30,\n",
      "    \"basis_order\": 1,\n",
      "    \"vars\": {\n",
      "        \"Lj\": \"10 nH\",\n",
      "        \"Cj\": \"0 fF\"\n",
      "    }\n",
      "}\u001b[0m\n",
      "INFO 04:10PM [connect_project]: Connecting to Ansys Desktop API...\n",
      "INFO 04:10PM [load_ansys_project]: \tOpened Ansys App\n",
      "INFO 04:10PM [load_ansys_project]: \tOpened Ansys Desktop v2021.2.0\n",
      "INFO 04:10PM [load_ansys_project]: \tOpened Ansys Project\n",
      "\tFolder:    C:/Users/nirpit/Documents/Ansoft/\n",
      "\tProject:   Project173\n",
      "INFO 04:10PM [connect_design]: \tOpened active design\n",
      "\tDesign:    HFSS_5HS [Solution type: DrivenModal]\n",
      "WARNING 04:10PM [connect_setup]: \tNo design setup detected.\n",
      "WARNING 04:10PM [connect_setup]: \tCreating driven modal default setup.\n",
      "INFO 04:10PM [get_setup]: \tOpened setup `Setup`  (<class 'pyEPR.ansys.HfssDMSetup'>)\n",
      "INFO 04:10PM [connect]: \tConnected to project \"Project173\" and design \"HFSS_5HS\" 😀 \n",
      "\n",
      "04:10PM 13s WARNING [activate_ansys_design]: The design_name=('get_mini_study_scattering_analysis',) was not in active project.  Designs in active project are: \n",
      "['HFSS_5HS'].  A new design will be added to the project.  \n",
      "INFO 04:10PM [connect_design]: \tOpened active design\n",
      "\tDesign:    ('get_mini_study_scattering_analysis',) [Solution type: Eigenmode]\n",
      "WARNING 04:10PM [connect_setup]: \tNo design setup detected.\n",
      "WARNING 04:10PM [connect_setup]: \tCreating eigenmode default setup.\n",
      "INFO 04:10PM [get_setup]: \tOpened setup `Setup`  (<class 'pyEPR.ansys.HfssEMSetup'>)\n"
     ]
    }
   ],
   "source": [
    "MINI_STUDY_BRANCH = 1\n",
    "MINI_STUDY = ms.get_mini_study_scattering_analysis(group=MINI_STUDY_BRANCH)\n",
    "opt_targets = ot.get_opt_target_scattering_analysis(group=MINI_STUDY_BRANCH)\n",
    "\n",
    "RENDER_QISKIT_METAL = lambda design: render_qiskit_metal_design(design, gui)\n",
    "# %matplotlib inline\n",
    "design_analysis_state = DesignAnalysisState(\n",
    "    \n",
    "    design, RENDER_QISKIT_METAL, pt.PARAM_TARGETS\n",
    ")\n",
    "design_analysis = DesignAnalysis(\n",
    "    design_analysis_state,\n",
    "    mini_study=MINI_STUDY,\n",
    "    opt_targets=opt_targets,\n",
    "    save_path=\"out/\" + CHIP_NAME + \"_\" + time.strftime(\"%Y%m%d-%H%M%S\"),\n",
    "    update_design_variables=False,\n",
    "    plot_settings=ps.PLOT_SETTINGS_SCATTERING,\n",
    "    \n",
    ")"
   ]
  },
  {
   "cell_type": "code",
   "execution_count": null,
   "metadata": {},
   "outputs": [
    {
     "name": "stderr",
     "output_type": "stream",
     "text": [
      "\u001b[38;20m[INFO|2025-03-07 16:10:14]: Updated_design_vars\n",
      "{\n",
      "    \"cpw_width\": \"10 um\",\n",
      "    \"cpw_gap\": \"6 um\",\n",
      "    \"design_var_width_qubit_1\": \"400um\",\n",
      "    \"design_var_width_qubit_2\": \"400um\",\n",
      "    \"design_var_cl_pos_x_qubit_1\": \"-2600um\",\n",
      "    \"design_var_cl_pos_y_qubit_1\": \"-1800um\",\n",
      "    \"design_var_cl_pos_x_qubit_2\": \"-2600um\",\n",
      "    \"design_var_cl_pos_y_qubit_2\": \"1800um\",\n",
      "    \"design_var_length_resonator_1_capacitance\": \"20um\",\n",
      "    \"design_var_length_resonator_2_capacitance\": \"20um\",\n",
      "    \"design_var_lj_qubit_1\": \"12.1nH\",\n",
      "    \"design_var_lj_qubit_2\": \"9.1nH\",\n",
      "    \"design_var_cj_qubit_1\": \"0fF\",\n",
      "    \"design_var_cj_qubit_2\": \"0fF\",\n",
      "    \"design_var_length_resonator_1\": \"7500um\",\n",
      "    \"design_var_length_resonator_2\": \"6500um\",\n",
      "    \"design_var_length_coupler_1to2\": \"4000um\",\n",
      "    \"design_var_coupl_length_qubit_1_resonator_1\": \"100um\",\n",
      "    \"design_var_coupl_length_qubit_2_resonator_2\": \"100um\",\n",
      "    \"design_var_coupl_length_resonator_1_tee\": \"170um\",\n",
      "    \"design_var_coupl_length_resonator_2_tee\": \"160um\"\n",
      "}\u001b[0m\n"
     ]
    },
    {
     "name": "stdout",
     "output_type": "stream",
     "text": [
      "pyaedt ERROR: Error in :   File \"c:\\Users\\nirpit\\AppData\\Local\\anaconda3\\envs\\qdesign-env\\lib\\site-packages\\pyaedt\\application\\Design.py\", line 2851, in delete_design\n",
      "pyaedt ERROR: (-2147352567, 'Exception occurred.', (0, None, None, None, 0, -2147024371), None) - delete_design -  GENERAL OR AEDT ERROR.\n",
      "pyaedt ERROR: Project: Project173, Design: ('get_mini_study_scattering_analysis',) (Eigenmode), [error] Script macro error: Unable to locate Design: ('get_mini_study_scattering_analysis',)_drivenmodal (4:10:14 pm  Mar 07, 2025)\n",
      "\n",
      "pyaedt ERROR: Arguments with values: \n",
      "pyaedt ERROR:     name = ('get_mini_study_scattering_analysis',)_drivenmodal \n",
      "pyaedt ERROR:     fallback_design = None \n",
      "pyaedt ERROR: Check Online documentation on: https://aedt.docs.pyansys.com/search.html?q=delete_design\n",
      "pyaedt INFO: Project Project173 Saved correctly\n"
     ]
    },
    {
     "name": "stderr",
     "output_type": "stream",
     "text": [
      "\u001b[38;20m[INFO|2025-03-07 16:10:17]: self.eig_solver.sim.setup \n",
      "{\n",
      "    \"name\": \"Resonator_setup\",\n",
      "    \"reuse_selected_design\": true,\n",
      "    \"reuse_setup\": true,\n",
      "    \"min_freq_ghz\": 1,\n",
      "    \"n_modes\": 1,\n",
      "    \"max_delta_f\": 0.5,\n",
      "    \"max_passes\": 10,\n",
      "    \"min_passes\": 1,\n",
      "    \"min_converged\": 1,\n",
      "    \"pct_refinement\": 30,\n",
      "    \"basis_order\": 1,\n",
      "    \"vars\": {\n",
      "        \"Lj\": \"10 nH\",\n",
      "        \"Cj\": \"0 fF\"\n",
      "    }\n",
      "}\u001b[0m\n",
      "INFO 04:10PM [connect_project]: Connecting to Ansys Desktop API...\n",
      "INFO 04:10PM [load_ansys_project]: \tOpened Ansys App\n",
      "INFO 04:10PM [load_ansys_project]: \tOpened Ansys Desktop v2021.2.0\n",
      "INFO 04:10PM [load_ansys_project]: \tOpened Ansys Project\n",
      "\tFolder:    C:/Users/nirpit/Documents/Ansoft/\n",
      "\tProject:   Project173\n",
      "INFO 04:10PM [connect_design]: \tOpened active design\n",
      "\tDesign:    HFSS_5HS [Solution type: DrivenModal]\n",
      "INFO 04:10PM [get_setup]: \tOpened setup `Setup`  (<class 'pyEPR.ansys.HfssDMSetup'>)\n",
      "INFO 04:10PM [connect]: \tConnected to project \"Project173\" and design \"HFSS_5HS\" 😀 \n",
      "\n",
      "04:10PM 17s WARNING [activate_ansys_design]: The design_name=('get_mini_study_scattering_analysis',) was not in active project.  Designs in active project are: \n",
      "['HFSS_5HS'].  A new design will be added to the project.  \n",
      "INFO 04:10PM [connect_design]: \tOpened active design\n",
      "\tDesign:    ('get_mini_study_scattering_analysis',) [Solution type: Eigenmode]\n",
      "WARNING 04:10PM [connect_setup]: \tNo design setup detected.\n",
      "WARNING 04:10PM [connect_setup]: \tCreating eigenmode default setup.\n",
      "INFO 04:10PM [get_setup]: \tOpened setup `Setup`  (<class 'pyEPR.ansys.HfssEMSetup'>)\n",
      "INFO 04:10PM [__del__]: Disconnected from Ansys HFSS\n",
      "\u001b[38;20m[INFO|2025-03-07 16:10:20]: No fine mesh map was found for name_resonator_1\u001b[0m\n",
      "\u001b[38;20m[INFO|2025-03-07 16:10:20]: No fine mesh map was found for name_tee1\u001b[0m\n",
      "INFO 04:10PM [analyze]: Analyzing setup Setup\n",
      "\u001b[33;20m[WARNING|2025-03-07 16:12:55]: No junctions found, skipping EPR analysis.\u001b[0m\n",
      "INFO 04:12PM [connect_project]: Connecting to Ansys Desktop API...\n",
      "INFO 04:12PM [load_ansys_project]: \tOpened Ansys App\n",
      "INFO 04:12PM [load_ansys_project]: \tOpened Ansys Desktop v2021.2.0\n",
      "INFO 04:12PM [load_ansys_project]: \tOpened Ansys Project\n",
      "\tFolder:    C:/Users/nirpit/Documents/Ansoft/\n",
      "\tProject:   Project173\n",
      "INFO 04:12PM [connect_design]: \tOpened active design\n",
      "\tDesign:    ('get_mini_study_scattering_analysis',) [Solution type: Eigenmode]\n",
      "INFO 04:12PM [get_setup]: \tOpened setup `Setup`  (<class 'pyEPR.ansys.HfssEMSetup'>)\n",
      "INFO 04:12PM [connect]: \tConnected to project \"Project173\" and design \"('get_mini_study_scattering_analysis',)\" 😀 \n",
      "\n",
      "04:12PM 55s WARNING [activate_ansys_design]: The design_name=('get_mini_study_scattering_analysis',)_drivenmodal was not in active project.  Designs in active project are: \n",
      "['HFSS_5HS', \"('get_mini_study_scattering_analysis',)\"].  A new design will be added to the project.  \n"
     ]
    },
    {
     "name": "stdout",
     "output_type": "stream",
     "text": [
      "Design \"('get_mini_study_scattering_analysis',)\" info:\n",
      "\t# eigenmodes    1\n",
      "\t# variations    1\n",
      "Design \"('get_mini_study_scattering_analysis',)\" info:\n",
      "\t# eigenmodes    1\n",
      "\t# variations    1\n"
     ]
    },
    {
     "name": "stderr",
     "output_type": "stream",
     "text": [
      "INFO 04:12PM [connect_design]: \tOpened active design\n",
      "\tDesign:    ('get_mini_study_scattering_analysis',)_drivenmodal [Solution type: DrivenModal]\n",
      "WARNING 04:12PM [connect_setup]: \tNo design setup detected.\n",
      "WARNING 04:12PM [connect_setup]: \tCreating driven modal default setup.\n",
      "INFO 04:12PM [get_setup]: \tOpened setup `Setup`  (<class 'pyEPR.ansys.HfssDMSetup'>)\n",
      "INFO 04:13PM [get_setup]: \tOpened setup `Setup`  (<class 'pyEPR.ansys.HfssDMSetup'>)\n",
      "INFO 04:13PM [get_setup]: \tOpened setup `Setup`  (<class 'pyEPR.ansys.HfssDMSetup'>)\n",
      "INFO 04:13PM [analyze]: Analyzing setup Setup : Sweep\n"
     ]
    },
    {
     "name": "stdout",
     "output_type": "stream",
     "text": [
      "====================================\n",
      "Running scattering analysis for resonator_1\n",
      "====================================\n",
      "2.87458583058 4.87458583058 25000\n",
      "pinfo_setup\n",
      "solution_freq default 3.87458583058GHz\n"
     ]
    },
    {
     "name": "stderr",
     "output_type": "stream",
     "text": [
      "INFO 04:13PM [get_setup]: \tOpened setup `Setup`  (<class 'pyEPR.ansys.HfssDMSetup'>)\n"
     ]
    },
    {
     "name": "stdout",
     "output_type": "stream",
     "text": [
      "Peak direction is -1\n",
      "Peak at 4.08015422272891 GHz\n",
      "4.07515422272891 4.08515422272891 25000\n",
      "pinfo_setup\n",
      "solution_freq default 3.87458583058GHz\n"
     ]
    },
    {
     "name": "stderr",
     "output_type": "stream",
     "text": [
      "INFO 04:13PM [get_setup]: \tOpened setup `Setup`  (<class 'pyEPR.ansys.HfssDMSetup'>)\n",
      "INFO 04:13PM [analyze]: Analyzing setup Setup : Sweep1\n"
     ]
    },
    {
     "name": "stdout",
     "output_type": "stream",
     "text": [
      "Kappa simualted is 2105.879688048219\n"
     ]
    },
    {
     "name": "stderr",
     "output_type": "stream",
     "text": [
      "\u001b[38;20m[INFO|2025-03-07 16:13:48]: Updated_design_vars\n",
      "{\n",
      "    \"design_var_coupl_length_resonator_1_tee\": \"500.0 um\",\n",
      "    \"design_var_length_resonator_1\": \"5640.262608878444 um\"\n",
      "}\u001b[0m\n"
     ]
    },
    {
     "name": "stdout",
     "output_type": "stream",
     "text": [
      "pyaedt INFO: Project Project173 Saved correctly\n"
     ]
    },
    {
     "name": "stderr",
     "output_type": "stream",
     "text": [
      "\u001b[38;20m[INFO|2025-03-07 16:13:51]: self.eig_solver.sim.setup \n",
      "{\n",
      "    \"name\": \"Resonator_setup\",\n",
      "    \"reuse_selected_design\": true,\n",
      "    \"reuse_setup\": true,\n",
      "    \"min_freq_ghz\": 1,\n",
      "    \"n_modes\": 1,\n",
      "    \"max_delta_f\": 0.5,\n",
      "    \"max_passes\": 10,\n",
      "    \"min_passes\": 1,\n",
      "    \"min_converged\": 1,\n",
      "    \"pct_refinement\": 30,\n",
      "    \"basis_order\": 1,\n",
      "    \"vars\": {\n",
      "        \"Lj\": \"10 nH\",\n",
      "        \"Cj\": \"0 fF\"\n",
      "    }\n",
      "}\u001b[0m\n",
      "INFO 04:13PM [connect_project]: Connecting to Ansys Desktop API...\n",
      "INFO 04:13PM [load_ansys_project]: \tOpened Ansys App\n",
      "INFO 04:13PM [load_ansys_project]: \tOpened Ansys Desktop v2021.2.0\n",
      "INFO 04:13PM [load_ansys_project]: \tOpened Ansys Project\n",
      "\tFolder:    C:/Users/nirpit/Documents/Ansoft/\n",
      "\tProject:   Project173\n",
      "INFO 04:13PM [connect_design]: \tOpened active design\n",
      "\tDesign:    HFSS_5HS [Solution type: DrivenModal]\n",
      "INFO 04:13PM [get_setup]: \tOpened setup `Setup`  (<class 'pyEPR.ansys.HfssDMSetup'>)\n",
      "INFO 04:13PM [connect]: \tConnected to project \"Project173\" and design \"HFSS_5HS\" 😀 \n",
      "\n",
      "04:13PM 51s WARNING [activate_ansys_design]: The design_name=('get_mini_study_scattering_analysis',) was not in active project.  Designs in active project are: \n",
      "['HFSS_5HS'].  A new design will be added to the project.  \n",
      "INFO 04:13PM [connect_design]: \tOpened active design\n",
      "\tDesign:    ('get_mini_study_scattering_analysis',) [Solution type: Eigenmode]\n",
      "WARNING 04:13PM [connect_setup]: \tNo design setup detected.\n",
      "WARNING 04:13PM [connect_setup]: \tCreating eigenmode default setup.\n",
      "INFO 04:13PM [get_setup]: \tOpened setup `Setup`  (<class 'pyEPR.ansys.HfssEMSetup'>)\n",
      "\u001b[38;20m[INFO|2025-03-07 16:13:57]: No fine mesh map was found for name_resonator_1\u001b[0m\n",
      "\u001b[38;20m[INFO|2025-03-07 16:13:57]: No fine mesh map was found for name_tee1\u001b[0m\n",
      "INFO 04:13PM [analyze]: Analyzing setup Setup\n",
      "\u001b[33;20m[WARNING|2025-03-07 16:16:33]: No junctions found, skipping EPR analysis.\u001b[0m\n",
      "INFO 04:16PM [connect_project]: Connecting to Ansys Desktop API...\n",
      "INFO 04:16PM [load_ansys_project]: \tOpened Ansys App\n",
      "INFO 04:16PM [load_ansys_project]: \tOpened Ansys Desktop v2021.2.0\n",
      "INFO 04:16PM [load_ansys_project]: \tOpened Ansys Project\n",
      "\tFolder:    C:/Users/nirpit/Documents/Ansoft/\n",
      "\tProject:   Project173\n",
      "INFO 04:16PM [connect_design]: \tOpened active design\n",
      "\tDesign:    ('get_mini_study_scattering_analysis',) [Solution type: Eigenmode]\n",
      "INFO 04:16PM [get_setup]: \tOpened setup `Setup`  (<class 'pyEPR.ansys.HfssEMSetup'>)\n",
      "INFO 04:16PM [connect]: \tConnected to project \"Project173\" and design \"('get_mini_study_scattering_analysis',)\" 😀 \n",
      "\n",
      "04:16PM 33s WARNING [activate_ansys_design]: The design_name=('get_mini_study_scattering_analysis',)_drivenmodal was not in active project.  Designs in active project are: \n",
      "['HFSS_5HS', \"('get_mini_study_scattering_analysis',)\"].  A new design will be added to the project.  \n"
     ]
    },
    {
     "name": "stdout",
     "output_type": "stream",
     "text": [
      "Design \"('get_mini_study_scattering_analysis',)\" info:\n",
      "\t# eigenmodes    1\n",
      "\t# variations    1\n",
      "Design \"('get_mini_study_scattering_analysis',)\" info:\n",
      "\t# eigenmodes    1\n",
      "\t# variations    1\n"
     ]
    },
    {
     "name": "stderr",
     "output_type": "stream",
     "text": [
      "INFO 04:16PM [connect_design]: \tOpened active design\n",
      "\tDesign:    ('get_mini_study_scattering_analysis',)_drivenmodal [Solution type: DrivenModal]\n",
      "WARNING 04:16PM [connect_setup]: \tNo design setup detected.\n",
      "WARNING 04:16PM [connect_setup]: \tCreating driven modal default setup.\n",
      "INFO 04:16PM [get_setup]: \tOpened setup `Setup`  (<class 'pyEPR.ansys.HfssDMSetup'>)\n",
      "INFO 04:16PM [get_setup]: \tOpened setup `Setup`  (<class 'pyEPR.ansys.HfssDMSetup'>)\n",
      "INFO 04:16PM [get_setup]: \tOpened setup `Setup`  (<class 'pyEPR.ansys.HfssDMSetup'>)\n",
      "INFO 04:16PM [analyze]: Analyzing setup Setup : Sweep\n"
     ]
    },
    {
     "name": "stdout",
     "output_type": "stream",
     "text": [
      "====================================\n",
      "Running scattering analysis for resonator_1\n",
      "====================================\n",
      "3.82475597204 5.82475597204 25000\n",
      "pinfo_setup\n",
      "solution_freq default 4.82475597204GHz\n"
     ]
    },
    {
     "name": "stderr",
     "output_type": "stream",
     "text": [
      "INFO 04:19PM [get_setup]: \tOpened setup `Setup`  (<class 'pyEPR.ansys.HfssDMSetup'>)\n"
     ]
    },
    {
     "name": "stdout",
     "output_type": "stream",
     "text": [
      "Peak direction is 1\n",
      "Peak at 4.29237470474819 GHz\n",
      "4.28737470474819 4.29737470474819 25000\n"
     ]
    },
    {
     "name": "stderr",
     "output_type": "stream",
     "text": [
      "INFO 04:19PM [get_setup]: \tOpened setup `Setup`  (<class 'pyEPR.ansys.HfssDMSetup'>)\n",
      "INFO 04:19PM [analyze]: Analyzing setup Setup : Sweep1\n"
     ]
    },
    {
     "name": "stdout",
     "output_type": "stream",
     "text": [
      "pinfo_setup\n",
      "solution_freq default 4.82475597204GHz\n"
     ]
    },
    {
     "name": "stderr",
     "output_type": "stream",
     "text": [
      "INFO 04:20PM [__del__]: Disconnected from Ansys HFSS\n",
      "INFO 04:20PM [__del__]: Disconnected from Ansys HFSS\n"
     ]
    },
    {
     "name": "stdout",
     "output_type": "stream",
     "text": [
      "Kappa simualted is 16202.245787009031\n"
     ]
    },
    {
     "name": "stderr",
     "output_type": "stream",
     "text": [
      "\u001b[38;20m[INFO|2025-03-07 16:20:29]: Updated_design_vars\n",
      "{\n",
      "    \"design_var_coupl_length_resonator_1_tee\": \"500.0 um\",\n",
      "    \"design_var_length_resonator_1\": \"4866.916031764217 um\"\n",
      "}\u001b[0m\n"
     ]
    },
    {
     "name": "stdout",
     "output_type": "stream",
     "text": [
      "pyaedt INFO: Project Project173 Saved correctly\n"
     ]
    },
    {
     "name": "stderr",
     "output_type": "stream",
     "text": [
      "\u001b[38;20m[INFO|2025-03-07 16:20:32]: self.eig_solver.sim.setup \n",
      "{\n",
      "    \"name\": \"Resonator_setup\",\n",
      "    \"reuse_selected_design\": true,\n",
      "    \"reuse_setup\": true,\n",
      "    \"min_freq_ghz\": 1,\n",
      "    \"n_modes\": 1,\n",
      "    \"max_delta_f\": 0.5,\n",
      "    \"max_passes\": 10,\n",
      "    \"min_passes\": 1,\n",
      "    \"min_converged\": 1,\n",
      "    \"pct_refinement\": 30,\n",
      "    \"basis_order\": 1,\n",
      "    \"vars\": {\n",
      "        \"Lj\": \"10 nH\",\n",
      "        \"Cj\": \"0 fF\"\n",
      "    }\n",
      "}\u001b[0m\n",
      "INFO 04:20PM [connect_project]: Connecting to Ansys Desktop API...\n",
      "INFO 04:20PM [load_ansys_project]: \tOpened Ansys App\n",
      "INFO 04:20PM [load_ansys_project]: \tOpened Ansys Desktop v2021.2.0\n",
      "INFO 04:20PM [load_ansys_project]: \tOpened Ansys Project\n",
      "\tFolder:    C:/Users/nirpit/Documents/Ansoft/\n",
      "\tProject:   Project173\n",
      "INFO 04:20PM [connect_design]: \tOpened active design\n",
      "\tDesign:    HFSS_5HS [Solution type: DrivenModal]\n",
      "INFO 04:20PM [get_setup]: \tOpened setup `Setup`  (<class 'pyEPR.ansys.HfssDMSetup'>)\n",
      "INFO 04:20PM [connect]: \tConnected to project \"Project173\" and design \"HFSS_5HS\" 😀 \n",
      "\n",
      "04:20PM 33s WARNING [activate_ansys_design]: The design_name=('get_mini_study_scattering_analysis',) was not in active project.  Designs in active project are: \n",
      "['HFSS_5HS'].  A new design will be added to the project.  \n",
      "INFO 04:20PM [connect_design]: \tOpened active design\n",
      "\tDesign:    ('get_mini_study_scattering_analysis',) [Solution type: Eigenmode]\n",
      "WARNING 04:20PM [connect_setup]: \tNo design setup detected.\n",
      "WARNING 04:20PM [connect_setup]: \tCreating eigenmode default setup.\n",
      "INFO 04:20PM [get_setup]: \tOpened setup `Setup`  (<class 'pyEPR.ansys.HfssEMSetup'>)\n",
      "\u001b[38;20m[INFO|2025-03-07 16:20:38]: No fine mesh map was found for name_resonator_1\u001b[0m\n",
      "\u001b[38;20m[INFO|2025-03-07 16:20:38]: No fine mesh map was found for name_tee1\u001b[0m\n",
      "INFO 04:20PM [analyze]: Analyzing setup Setup\n",
      "\u001b[33;20m[WARNING|2025-03-07 16:23:13]: No junctions found, skipping EPR analysis.\u001b[0m\n",
      "INFO 04:23PM [connect_project]: Connecting to Ansys Desktop API...\n",
      "INFO 04:23PM [load_ansys_project]: \tOpened Ansys App\n",
      "INFO 04:23PM [load_ansys_project]: \tOpened Ansys Desktop v2021.2.0\n",
      "INFO 04:23PM [load_ansys_project]: \tOpened Ansys Project\n",
      "\tFolder:    C:/Users/nirpit/Documents/Ansoft/\n",
      "\tProject:   Project173\n",
      "INFO 04:23PM [connect_design]: \tOpened active design\n",
      "\tDesign:    ('get_mini_study_scattering_analysis',) [Solution type: Eigenmode]\n",
      "INFO 04:23PM [get_setup]: \tOpened setup `Setup`  (<class 'pyEPR.ansys.HfssEMSetup'>)\n",
      "INFO 04:23PM [connect]: \tConnected to project \"Project173\" and design \"('get_mini_study_scattering_analysis',)\" 😀 \n",
      "\n"
     ]
    },
    {
     "name": "stdout",
     "output_type": "stream",
     "text": [
      "Design \"('get_mini_study_scattering_analysis',)\" info:\n",
      "\t# eigenmodes    1\n",
      "\t# variations    1\n",
      "Design \"('get_mini_study_scattering_analysis',)\" info:\n",
      "\t# eigenmodes    1\n",
      "\t# variations    1\n"
     ]
    },
    {
     "name": "stderr",
     "output_type": "stream",
     "text": [
      "04:23PM 13s WARNING [activate_ansys_design]: The design_name=('get_mini_study_scattering_analysis',)_drivenmodal was not in active project.  Designs in active project are: \n",
      "['HFSS_5HS', \"('get_mini_study_scattering_analysis',)\"].  A new design will be added to the project.  \n",
      "INFO 04:23PM [connect_design]: \tOpened active design\n",
      "\tDesign:    ('get_mini_study_scattering_analysis',)_drivenmodal [Solution type: DrivenModal]\n",
      "WARNING 04:23PM [connect_setup]: \tNo design setup detected.\n",
      "WARNING 04:23PM [connect_setup]: \tCreating driven modal default setup.\n",
      "INFO 04:23PM [get_setup]: \tOpened setup `Setup`  (<class 'pyEPR.ansys.HfssDMSetup'>)\n",
      "INFO 04:23PM [get_setup]: \tOpened setup `Setup`  (<class 'pyEPR.ansys.HfssDMSetup'>)\n",
      "INFO 04:23PM [get_setup]: \tOpened setup `Setup`  (<class 'pyEPR.ansys.HfssDMSetup'>)\n",
      "INFO 04:23PM [analyze]: Analyzing setup Setup : Sweep\n"
     ]
    },
    {
     "name": "stdout",
     "output_type": "stream",
     "text": [
      "====================================\n",
      "Running scattering analysis for resonator_1\n",
      "====================================\n",
      "4.50823293226 6.50823293226 25000\n",
      "pinfo_setup\n",
      "solution_freq default 5.50823293226GHz\n"
     ]
    },
    {
     "name": "stderr",
     "output_type": "stream",
     "text": [
      "INFO 04:25PM [get_setup]: \tOpened setup `Setup`  (<class 'pyEPR.ansys.HfssDMSetup'>)\n"
     ]
    },
    {
     "name": "stdout",
     "output_type": "stream",
     "text": [
      "Peak direction is -1\n",
      "Peak at 6.13437804580183 GHz\n",
      "6.129378045801829 6.13937804580183 25000\n"
     ]
    },
    {
     "name": "stderr",
     "output_type": "stream",
     "text": [
      "INFO 04:25PM [get_setup]: \tOpened setup `Setup`  (<class 'pyEPR.ansys.HfssDMSetup'>)\n",
      "INFO 04:25PM [analyze]: Analyzing setup Setup : Sweep1\n"
     ]
    },
    {
     "name": "stdout",
     "output_type": "stream",
     "text": [
      "pinfo_setup\n",
      "solution_freq default 5.50823293226GHz\n",
      "Kappa simualted is 37093.09254357863\n"
     ]
    },
    {
     "name": "stderr",
     "output_type": "stream",
     "text": [
      "\u001b[38;20m[INFO|2025-03-07 16:27:06]: Updated_design_vars\n",
      "{\n",
      "    \"design_var_coupl_length_resonator_1_tee\": \"500.0 um\",\n",
      "    \"design_var_length_resonator_1\": \"4587.687313162237 um\"\n",
      "}\u001b[0m\n"
     ]
    },
    {
     "name": "stdout",
     "output_type": "stream",
     "text": [
      "pyaedt INFO: Project Project173 Saved correctly\n"
     ]
    },
    {
     "name": "stderr",
     "output_type": "stream",
     "text": [
      "\u001b[38;20m[INFO|2025-03-07 16:27:09]: self.eig_solver.sim.setup \n",
      "{\n",
      "    \"name\": \"Resonator_setup\",\n",
      "    \"reuse_selected_design\": true,\n",
      "    \"reuse_setup\": true,\n",
      "    \"min_freq_ghz\": 1,\n",
      "    \"n_modes\": 1,\n",
      "    \"max_delta_f\": 0.5,\n",
      "    \"max_passes\": 10,\n",
      "    \"min_passes\": 1,\n",
      "    \"min_converged\": 1,\n",
      "    \"pct_refinement\": 30,\n",
      "    \"basis_order\": 1,\n",
      "    \"vars\": {\n",
      "        \"Lj\": \"10 nH\",\n",
      "        \"Cj\": \"0 fF\"\n",
      "    }\n",
      "}\u001b[0m\n",
      "INFO 04:27PM [connect_project]: Connecting to Ansys Desktop API...\n",
      "INFO 04:27PM [load_ansys_project]: \tOpened Ansys App\n",
      "INFO 04:27PM [load_ansys_project]: \tOpened Ansys Desktop v2021.2.0\n",
      "INFO 04:27PM [load_ansys_project]: \tOpened Ansys Project\n",
      "\tFolder:    C:/Users/nirpit/Documents/Ansoft/\n",
      "\tProject:   Project173\n",
      "INFO 04:27PM [connect_design]: \tOpened active design\n",
      "\tDesign:    HFSS_5HS [Solution type: DrivenModal]\n",
      "INFO 04:27PM [get_setup]: \tOpened setup `Setup`  (<class 'pyEPR.ansys.HfssDMSetup'>)\n",
      "INFO 04:27PM [connect]: \tConnected to project \"Project173\" and design \"HFSS_5HS\" 😀 \n",
      "\n",
      "04:27PM 09s WARNING [activate_ansys_design]: The design_name=('get_mini_study_scattering_analysis',) was not in active project.  Designs in active project are: \n",
      "['HFSS_5HS'].  A new design will be added to the project.  \n",
      "INFO 04:27PM [connect_design]: \tOpened active design\n",
      "\tDesign:    ('get_mini_study_scattering_analysis',) [Solution type: Eigenmode]\n",
      "WARNING 04:27PM [connect_setup]: \tNo design setup detected.\n",
      "WARNING 04:27PM [connect_setup]: \tCreating eigenmode default setup.\n",
      "INFO 04:27PM [get_setup]: \tOpened setup `Setup`  (<class 'pyEPR.ansys.HfssEMSetup'>)\n",
      "\u001b[38;20m[INFO|2025-03-07 16:27:15]: No fine mesh map was found for name_resonator_1\u001b[0m\n",
      "\u001b[38;20m[INFO|2025-03-07 16:27:15]: No fine mesh map was found for name_tee1\u001b[0m\n",
      "INFO 04:27PM [analyze]: Analyzing setup Setup\n",
      "\u001b[33;20m[WARNING|2025-03-07 16:29:40]: No junctions found, skipping EPR analysis.\u001b[0m\n",
      "INFO 04:29PM [connect_project]: Connecting to Ansys Desktop API...\n",
      "INFO 04:29PM [load_ansys_project]: \tOpened Ansys App\n",
      "INFO 04:29PM [load_ansys_project]: \tOpened Ansys Desktop v2021.2.0\n",
      "INFO 04:29PM [load_ansys_project]: \tOpened Ansys Project\n",
      "\tFolder:    C:/Users/nirpit/Documents/Ansoft/\n",
      "\tProject:   Project173\n"
     ]
    },
    {
     "name": "stdout",
     "output_type": "stream",
     "text": [
      "Design \"('get_mini_study_scattering_analysis',)\" info:\n",
      "\t# eigenmodes    1\n",
      "\t# variations    1\n",
      "Design \"('get_mini_study_scattering_analysis',)\" info:\n",
      "\t# eigenmodes    1\n",
      "\t# variations    1\n"
     ]
    },
    {
     "name": "stderr",
     "output_type": "stream",
     "text": [
      "INFO 04:29PM [connect_design]: \tOpened active design\n",
      "\tDesign:    ('get_mini_study_scattering_analysis',) [Solution type: Eigenmode]\n",
      "INFO 04:29PM [get_setup]: \tOpened setup `Setup`  (<class 'pyEPR.ansys.HfssEMSetup'>)\n",
      "INFO 04:29PM [connect]: \tConnected to project \"Project173\" and design \"('get_mini_study_scattering_analysis',)\" 😀 \n",
      "\n",
      "04:29PM 40s WARNING [activate_ansys_design]: The design_name=('get_mini_study_scattering_analysis',)_drivenmodal was not in active project.  Designs in active project are: \n",
      "['HFSS_5HS', \"('get_mini_study_scattering_analysis',)\"].  A new design will be added to the project.  \n",
      "INFO 04:29PM [connect_design]: \tOpened active design\n",
      "\tDesign:    ('get_mini_study_scattering_analysis',)_drivenmodal [Solution type: DrivenModal]\n",
      "WARNING 04:29PM [connect_setup]: \tNo design setup detected.\n",
      "WARNING 04:29PM [connect_setup]: \tCreating driven modal default setup.\n",
      "INFO 04:29PM [get_setup]: \tOpened setup `Setup`  (<class 'pyEPR.ansys.HfssDMSetup'>)\n",
      "INFO 04:29PM [get_setup]: \tOpened setup `Setup`  (<class 'pyEPR.ansys.HfssDMSetup'>)\n",
      "INFO 04:29PM [get_setup]: \tOpened setup `Setup`  (<class 'pyEPR.ansys.HfssDMSetup'>)\n",
      "INFO 04:29PM [analyze]: Analyzing setup Setup : Sweep\n"
     ]
    },
    {
     "name": "stdout",
     "output_type": "stream",
     "text": [
      "====================================\n",
      "Running scattering analysis for resonator_1\n",
      "====================================\n",
      "4.80747343437 6.80747343437 25000\n",
      "pinfo_setup\n",
      "solution_freq default 5.80747343437GHz\n"
     ]
    },
    {
     "name": "stderr",
     "output_type": "stream",
     "text": [
      "INFO 04:32PM [__del__]: Disconnected from Ansys HFSS\n",
      "INFO 04:32PM [__del__]: Disconnected from Ansys HFSS\n",
      "INFO 04:32PM [__del__]: Disconnected from Ansys HFSS\n",
      "INFO 04:32PM [__del__]: Disconnected from Ansys HFSS\n",
      "INFO 04:32PM [get_setup]: \tOpened setup `Setup`  (<class 'pyEPR.ansys.HfssDMSetup'>)\n"
     ]
    },
    {
     "name": "stdout",
     "output_type": "stream",
     "text": [
      "Peak direction is -1\n",
      "Peak at 4.88163596651866 GHz\n",
      "4.876635966518659 4.88663596651866 25000\n"
     ]
    },
    {
     "name": "stderr",
     "output_type": "stream",
     "text": [
      "INFO 04:32PM [get_setup]: \tOpened setup `Setup`  (<class 'pyEPR.ansys.HfssDMSetup'>)\n",
      "INFO 04:32PM [analyze]: Analyzing setup Setup : Sweep1\n"
     ]
    },
    {
     "name": "stdout",
     "output_type": "stream",
     "text": [
      "pinfo_setup\n",
      "solution_freq default 5.80747343437GHz\n",
      "Kappa simualted is 28230.828720690177\n"
     ]
    },
    {
     "name": "stderr",
     "output_type": "stream",
     "text": [
      "\u001b[38;20m[INFO|2025-03-07 16:34:12]: Updated_design_vars\n",
      "{\n",
      "    \"design_var_coupl_length_resonator_1_tee\": \"500.0 um\",\n",
      "    \"design_var_length_resonator_1\": \"4484.641282915516 um\"\n",
      "}\u001b[0m\n"
     ]
    },
    {
     "name": "stdout",
     "output_type": "stream",
     "text": [
      "pyaedt INFO: Project Project173 Saved correctly\n"
     ]
    },
    {
     "name": "stderr",
     "output_type": "stream",
     "text": [
      "\u001b[38;20m[INFO|2025-03-07 16:34:16]: self.eig_solver.sim.setup \n",
      "{\n",
      "    \"name\": \"Resonator_setup\",\n",
      "    \"reuse_selected_design\": true,\n",
      "    \"reuse_setup\": true,\n",
      "    \"min_freq_ghz\": 1,\n",
      "    \"n_modes\": 1,\n",
      "    \"max_delta_f\": 0.5,\n",
      "    \"max_passes\": 10,\n",
      "    \"min_passes\": 1,\n",
      "    \"min_converged\": 1,\n",
      "    \"pct_refinement\": 30,\n",
      "    \"basis_order\": 1,\n",
      "    \"vars\": {\n",
      "        \"Lj\": \"10 nH\",\n",
      "        \"Cj\": \"0 fF\"\n",
      "    }\n",
      "}\u001b[0m\n",
      "INFO 04:34PM [connect_project]: Connecting to Ansys Desktop API...\n",
      "INFO 04:34PM [load_ansys_project]: \tOpened Ansys App\n",
      "INFO 04:34PM [load_ansys_project]: \tOpened Ansys Desktop v2021.2.0\n",
      "INFO 04:34PM [load_ansys_project]: \tOpened Ansys Project\n",
      "\tFolder:    C:/Users/nirpit/Documents/Ansoft/\n",
      "\tProject:   Project173\n",
      "INFO 04:34PM [connect_design]: \tOpened active design\n",
      "\tDesign:    HFSS_5HS [Solution type: DrivenModal]\n",
      "INFO 04:34PM [get_setup]: \tOpened setup `Setup`  (<class 'pyEPR.ansys.HfssDMSetup'>)\n",
      "INFO 04:34PM [connect]: \tConnected to project \"Project173\" and design \"HFSS_5HS\" 😀 \n",
      "\n",
      "04:34PM 16s WARNING [activate_ansys_design]: The design_name=('get_mini_study_scattering_analysis',) was not in active project.  Designs in active project are: \n",
      "['HFSS_5HS'].  A new design will be added to the project.  \n",
      "INFO 04:34PM [connect_design]: \tOpened active design\n",
      "\tDesign:    ('get_mini_study_scattering_analysis',) [Solution type: Eigenmode]\n",
      "WARNING 04:34PM [connect_setup]: \tNo design setup detected.\n",
      "WARNING 04:34PM [connect_setup]: \tCreating eigenmode default setup.\n",
      "INFO 04:34PM [get_setup]: \tOpened setup `Setup`  (<class 'pyEPR.ansys.HfssEMSetup'>)\n",
      "\u001b[38;20m[INFO|2025-03-07 16:34:22]: No fine mesh map was found for name_resonator_1\u001b[0m\n",
      "\u001b[38;20m[INFO|2025-03-07 16:34:22]: No fine mesh map was found for name_tee1\u001b[0m\n",
      "INFO 04:34PM [analyze]: Analyzing setup Setup\n",
      "\u001b[33;20m[WARNING|2025-03-07 16:36:55]: No junctions found, skipping EPR analysis.\u001b[0m\n",
      "INFO 04:36PM [connect_project]: Connecting to Ansys Desktop API...\n",
      "INFO 04:36PM [load_ansys_project]: \tOpened Ansys App\n",
      "INFO 04:36PM [load_ansys_project]: \tOpened Ansys Desktop v2021.2.0\n",
      "INFO 04:36PM [load_ansys_project]: \tOpened Ansys Project\n",
      "\tFolder:    C:/Users/nirpit/Documents/Ansoft/\n",
      "\tProject:   Project173\n"
     ]
    },
    {
     "name": "stdout",
     "output_type": "stream",
     "text": [
      "Design \"('get_mini_study_scattering_analysis',)\" info:\n",
      "\t# eigenmodes    1\n",
      "\t# variations    1\n",
      "Design \"('get_mini_study_scattering_analysis',)\" info:\n",
      "\t# eigenmodes    1\n",
      "\t# variations    1\n"
     ]
    },
    {
     "name": "stderr",
     "output_type": "stream",
     "text": [
      "INFO 04:36PM [connect_design]: \tOpened active design\n",
      "\tDesign:    ('get_mini_study_scattering_analysis',) [Solution type: Eigenmode]\n",
      "INFO 04:36PM [get_setup]: \tOpened setup `Setup`  (<class 'pyEPR.ansys.HfssEMSetup'>)\n",
      "INFO 04:36PM [connect]: \tConnected to project \"Project173\" and design \"('get_mini_study_scattering_analysis',)\" 😀 \n",
      "\n",
      "04:36PM 55s WARNING [activate_ansys_design]: The design_name=('get_mini_study_scattering_analysis',)_drivenmodal was not in active project.  Designs in active project are: \n",
      "['HFSS_5HS', \"('get_mini_study_scattering_analysis',)\"].  A new design will be added to the project.  \n",
      "INFO 04:36PM [connect_design]: \tOpened active design\n",
      "\tDesign:    ('get_mini_study_scattering_analysis',)_drivenmodal [Solution type: DrivenModal]\n",
      "WARNING 04:36PM [connect_setup]: \tNo design setup detected.\n",
      "WARNING 04:36PM [connect_setup]: \tCreating driven modal default setup.\n",
      "INFO 04:36PM [get_setup]: \tOpened setup `Setup`  (<class 'pyEPR.ansys.HfssDMSetup'>)\n",
      "INFO 04:37PM [get_setup]: \tOpened setup `Setup`  (<class 'pyEPR.ansys.HfssDMSetup'>)\n",
      "INFO 04:37PM [get_setup]: \tOpened setup `Setup`  (<class 'pyEPR.ansys.HfssDMSetup'>)\n",
      "INFO 04:37PM [analyze]: Analyzing setup Setup : Sweep\n"
     ]
    },
    {
     "name": "stdout",
     "output_type": "stream",
     "text": [
      "====================================\n",
      "Running scattering analysis for resonator_1\n",
      "====================================\n",
      "4.9239244645 6.9239244645 25000\n",
      "pinfo_setup\n",
      "solution_freq default 5.9239244645GHz\n"
     ]
    },
    {
     "name": "stderr",
     "output_type": "stream",
     "text": [
      "INFO 04:40PM [get_setup]: \tOpened setup `Setup`  (<class 'pyEPR.ansys.HfssDMSetup'>)\n"
     ]
    },
    {
     "name": "stdout",
     "output_type": "stream",
     "text": [
      "Peak direction is -1\n",
      "Peak at 6.66463362838514 GHz\n",
      "6.65963362838514 6.66963362838514 25000\n"
     ]
    },
    {
     "name": "stderr",
     "output_type": "stream",
     "text": [
      "INFO 04:40PM [get_setup]: \tOpened setup `Setup`  (<class 'pyEPR.ansys.HfssDMSetup'>)\n",
      "INFO 04:40PM [analyze]: Analyzing setup Setup : Sweep1\n"
     ]
    },
    {
     "name": "stdout",
     "output_type": "stream",
     "text": [
      "pinfo_setup\n",
      "solution_freq default 5.9239244645GHz\n",
      "Kappa simualted is 56130.4887894596\n"
     ]
    },
    {
     "name": "stderr",
     "output_type": "stream",
     "text": [
      "\u001b[38;20m[INFO|2025-03-07 16:41:26]: Updated_design_vars\n",
      "{\n",
      "    \"design_var_coupl_length_resonator_1_tee\": \"500.0 um\",\n",
      "    \"design_var_length_resonator_1\": \"4444.83794275589 um\"\n",
      "}\u001b[0m\n"
     ]
    },
    {
     "name": "stdout",
     "output_type": "stream",
     "text": [
      "pyaedt INFO: Project Project173 Saved correctly\n"
     ]
    },
    {
     "name": "stderr",
     "output_type": "stream",
     "text": [
      "\u001b[38;20m[INFO|2025-03-07 16:41:29]: self.eig_solver.sim.setup \n",
      "{\n",
      "    \"name\": \"Resonator_setup\",\n",
      "    \"reuse_selected_design\": true,\n",
      "    \"reuse_setup\": true,\n",
      "    \"min_freq_ghz\": 1,\n",
      "    \"n_modes\": 1,\n",
      "    \"max_delta_f\": 0.5,\n",
      "    \"max_passes\": 10,\n",
      "    \"min_passes\": 1,\n",
      "    \"min_converged\": 1,\n",
      "    \"pct_refinement\": 30,\n",
      "    \"basis_order\": 1,\n",
      "    \"vars\": {\n",
      "        \"Lj\": \"10 nH\",\n",
      "        \"Cj\": \"0 fF\"\n",
      "    }\n",
      "}\u001b[0m\n",
      "INFO 04:41PM [connect_project]: Connecting to Ansys Desktop API...\n",
      "INFO 04:41PM [load_ansys_project]: \tOpened Ansys App\n",
      "INFO 04:41PM [load_ansys_project]: \tOpened Ansys Desktop v2021.2.0\n",
      "INFO 04:41PM [load_ansys_project]: \tOpened Ansys Project\n",
      "\tFolder:    C:/Users/nirpit/Documents/Ansoft/\n",
      "\tProject:   Project173\n",
      "INFO 04:41PM [connect_design]: \tOpened active design\n",
      "\tDesign:    HFSS_5HS [Solution type: DrivenModal]\n",
      "INFO 04:41PM [get_setup]: \tOpened setup `Setup`  (<class 'pyEPR.ansys.HfssDMSetup'>)\n",
      "INFO 04:41PM [connect]: \tConnected to project \"Project173\" and design \"HFSS_5HS\" 😀 \n",
      "\n",
      "04:41PM 30s WARNING [activate_ansys_design]: The design_name=('get_mini_study_scattering_analysis',) was not in active project.  Designs in active project are: \n",
      "['HFSS_5HS'].  A new design will be added to the project.  \n",
      "INFO 04:41PM [connect_design]: \tOpened active design\n",
      "\tDesign:    ('get_mini_study_scattering_analysis',) [Solution type: Eigenmode]\n",
      "WARNING 04:41PM [connect_setup]: \tNo design setup detected.\n",
      "WARNING 04:41PM [connect_setup]: \tCreating eigenmode default setup.\n",
      "INFO 04:41PM [get_setup]: \tOpened setup `Setup`  (<class 'pyEPR.ansys.HfssEMSetup'>)\n",
      "\u001b[38;20m[INFO|2025-03-07 16:41:36]: No fine mesh map was found for name_resonator_1\u001b[0m\n",
      "\u001b[38;20m[INFO|2025-03-07 16:41:36]: No fine mesh map was found for name_tee1\u001b[0m\n",
      "INFO 04:41PM [analyze]: Analyzing setup Setup\n"
     ]
    }
   ],
   "source": [
    "group_runs = 7\n",
    "group_passes = 10\n",
    "delta_f = 0.001\n",
    "for i in range(group_runs):\n",
    "    design_analysis.update_nbr_passes(group_passes)\n",
    "    design_analysis.update_delta_f(delta_f)\n",
    "    design_analysis.optimize_target({}, {})\n",
    "    design_analysis.screenshot(gui=gui, run=i)"
   ]
  },
  {
   "cell_type": "markdown",
   "metadata": {},
   "source": [
    "## View Optimization results"
   ]
  },
  {
   "cell_type": "code",
   "execution_count": null,
   "metadata": {},
   "outputs": [],
   "source": [
    "design_analysis.get_cross_kerr_matrix(iteration=-1)"
   ]
  },
  {
   "cell_type": "code",
   "execution_count": 14,
   "metadata": {},
   "outputs": [
    {
     "ename": "IndexError",
     "evalue": "list index out of range",
     "output_type": "error",
     "traceback": [
      "\u001b[1;31m---------------------------------------------------------------------------\u001b[0m",
      "\u001b[1;31mIndexError\u001b[0m                                Traceback (most recent call last)",
      "Cell \u001b[1;32mIn[14], line 1\u001b[0m\n\u001b[1;32m----> 1\u001b[0m \u001b[43mdesign_analysis\u001b[49m\u001b[38;5;241;43m.\u001b[39;49m\u001b[43mget_eigenmode_results\u001b[49m\u001b[43m(\u001b[49m\u001b[43m)\u001b[49m\n",
      "File \u001b[1;32mD:\\PhD_All_Code\\QDesignOptimizer\\src\\qdesignoptimizer\\design_analysis.py:1126\u001b[0m, in \u001b[0;36mDesignAnalysis.get_eigenmode_results\u001b[1;34m(self, iteration)\u001b[0m\n\u001b[0;32m   1117\u001b[0m \u001b[38;5;28;01mdef\u001b[39;00m \u001b[38;5;21mget_eigenmode_results\u001b[39m(\u001b[38;5;28mself\u001b[39m, iteration: \u001b[38;5;28mint\u001b[39m \u001b[38;5;241m=\u001b[39m \u001b[38;5;241m-\u001b[39m\u001b[38;5;241m1\u001b[39m) \u001b[38;5;241m-\u001b[39m\u001b[38;5;241m>\u001b[39m pd\u001b[38;5;241m.\u001b[39mDataFrame:\n\u001b[0;32m   1118\u001b[0m \u001b[38;5;250m    \u001b[39m\u001b[38;5;124;03m\"\"\"Get eigenmode results.\u001b[39;00m\n\u001b[0;32m   1119\u001b[0m \n\u001b[0;32m   1120\u001b[0m \u001b[38;5;124;03m    Args:\u001b[39;00m\n\u001b[1;32m   (...)\u001b[0m\n\u001b[0;32m   1124\u001b[0m \u001b[38;5;124;03m        pd.DataFrame: eigenmode results\u001b[39;00m\n\u001b[0;32m   1125\u001b[0m \u001b[38;5;124;03m    \"\"\"\u001b[39;00m\n\u001b[1;32m-> 1126\u001b[0m     \u001b[38;5;28;01mif\u001b[39;00m \u001b[38;5;124m\"\u001b[39m\u001b[38;5;124meig_results\u001b[39m\u001b[38;5;124m\"\u001b[39m \u001b[38;5;129;01min\u001b[39;00m \u001b[38;5;28;43mself\u001b[39;49m\u001b[38;5;241;43m.\u001b[39;49m\u001b[43moptimization_results\u001b[49m\u001b[43m[\u001b[49m\u001b[43miteration\u001b[49m\u001b[43m]\u001b[49m:\n\u001b[0;32m   1127\u001b[0m         \u001b[38;5;28;01mreturn\u001b[39;00m \u001b[38;5;28mself\u001b[39m\u001b[38;5;241m.\u001b[39moptimization_results[iteration][\u001b[38;5;124m\"\u001b[39m\u001b[38;5;124meig_results\u001b[39m\u001b[38;5;124m\"\u001b[39m]\n",
      "\u001b[1;31mIndexError\u001b[0m: list index out of range"
     ]
    }
   ],
   "source": [
    "design_analysis.get_eigenmode_results()"
   ]
  },
  {
   "cell_type": "code",
   "execution_count": null,
   "metadata": {},
   "outputs": [],
   "source": [
    "close_ansys()"
   ]
  },
  {
   "cell_type": "code",
   "execution_count": null,
   "metadata": {},
   "outputs": [],
   "source": []
  },
  {
   "cell_type": "code",
   "execution_count": null,
   "metadata": {},
   "outputs": [],
   "source": []
  },
  {
   "cell_type": "code",
   "execution_count": null,
   "metadata": {},
   "outputs": [],
   "source": []
  },
  {
   "cell_type": "code",
   "execution_count": null,
   "metadata": {},
   "outputs": [],
   "source": []
  }
 ],
 "metadata": {
  "kernelspec": {
   "display_name": "qdesign-env",
   "language": "python",
   "name": "python3"
  },
  "language_info": {
   "codemirror_mode": {
    "name": "ipython",
    "version": 3
   },
   "file_extension": ".py",
   "mimetype": "text/x-python",
   "name": "python",
   "nbconvert_exporter": "python",
   "pygments_lexer": "ipython3",
   "version": "3.10.0"
  }
 },
 "nbformat": 4,
 "nbformat_minor": 2
}
