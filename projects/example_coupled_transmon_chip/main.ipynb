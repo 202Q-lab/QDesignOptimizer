{
 "cells": [
  {
   "cell_type": "markdown",
   "metadata": {},
   "source": [
    "# Example 2: Coupled Transmon Qubits"
   ]
  },
  {
   "cell_type": "code",
   "execution_count": 1,
   "metadata": {},
   "outputs": [],
   "source": [
    "%load_ext autoreload\n",
    "%autoreload 2\n",
    "import time"
   ]
  },
  {
   "cell_type": "code",
   "execution_count": 2,
   "metadata": {},
   "outputs": [],
   "source": [
    "import json\n",
    "import design as d\n",
    "import names as n\n",
    "\n",
    "with open(\"design_variables.json\") as in_file:\n",
    "    initial_design_variables = json.load(in_file)\n",
    "\n",
    "from qdesignoptimizer.utils.chip_generation import create_chip_base, ChipType\n",
    "from qdesignoptimizer.utils.utils import close_ansys\n"
   ]
  },
  {
   "cell_type": "markdown",
   "metadata": {},
   "source": [
    "## Design assembly"
   ]
  },
  {
   "cell_type": "code",
   "execution_count": 3,
   "metadata": {},
   "outputs": [],
   "source": [
    "CHIP_NAME = \"multi_transmon_chip\"\n",
    "OPEN_GUI = True\n",
    "chip_type = ChipType(size_x=\"10mm\", size_y=\"10mm\", size_z=\"-300um\")\n",
    "design, gui = create_chip_base(\n",
    "    chip_name=CHIP_NAME, chip_type=chip_type, open_gui=OPEN_GUI\n",
    ")\n",
    "\n",
    "n.add_design_variables_to_design(design, initial_design_variables)"
   ]
  },
  {
   "cell_type": "code",
   "execution_count": 4,
   "metadata": {},
   "outputs": [],
   "source": [
    "def render_qiskit_metal_design(design, gui):\n",
    "    d.add_transmon_plus_resonator(design, group=n.GROUP_1)\n",
    "    d.add_transmon_plus_resonator(design, group=n.GROUP_2)\n",
    "\n",
    "    d.add_coupler(design)\n",
    "\n",
    "    d.add_route_interconnects(design)\n",
    "\n",
    "    d.add_launch_pads(design)\n",
    "\n",
    "    d.add_chargeline(design, group=n.GROUP_1)\n",
    "    d.add_chargeline(design, group=n.GROUP_2)\n",
    "\n",
    "    gui.rebuild()\n",
    "    gui.autoscale()\n",
    "\n",
    "\n",
    "render_qiskit_metal_design(design, gui)"
   ]
  },
  {
   "cell_type": "markdown",
   "metadata": {},
   "source": [
    "## MiniStudies"
   ]
  },
  {
   "cell_type": "code",
   "execution_count": 5,
   "metadata": {},
   "outputs": [],
   "source": [
    "import mini_studies as ms\n",
    "import optimization_targets as ot\n",
    "import parameter_targets as pt\n",
    "import plot_settings as ps\n",
    "\n",
    "from qdesignoptimizer.design_analysis import DesignAnalysis, DesignAnalysisState"
   ]
  },
  {
   "cell_type": "markdown",
   "metadata": {},
   "source": [
    "### Single resonator-qubit system\n",
    "Useful when first tuning up subsystems"
   ]
  },
  {
   "cell_type": "code",
   "execution_count": 6,
   "metadata": {},
   "outputs": [],
   "source": [
    "MINI_STUDY_GROUP = n.GROUP_1\n",
    "MINI_STUDY = ms.get_mini_study_qb_res(group=MINI_STUDY_GROUP)\n",
    "RENDER_QISKIT_METAL = lambda design: render_qiskit_metal_design(design, gui)\n",
    "\n",
    "opt_targets = ot.get_opt_targets_2qubits_resonator_coupler(\n",
    "    groups=[MINI_STUDY_GROUP],\n",
    "    opt_target_qubit_freq=True,\n",
    "    opt_target_qubit_anharm=True,\n",
    "    opt_target_resonator_freq=True,\n",
    "    opt_target_resonator_kappa=False,\n",
    "    opt_target_resonator_qubit_chi=True,\n",
    ")"
   ]
  },
  {
   "cell_type": "code",
   "execution_count": null,
   "metadata": {},
   "outputs": [
    {
     "name": "stderr",
     "output_type": "stream",
     "text": [
      "\u001b[38;20m[INFO|2025-02-26 15:11:20]: self.eig_solver.sim.setup \n",
      "{\n",
      "    \"name\": \"Resonator_setup\",\n",
      "    \"reuse_selected_design\": true,\n",
      "    \"reuse_setup\": true,\n",
      "    \"min_freq_ghz\": 1,\n",
      "    \"n_modes\": 1,\n",
      "    \"max_delta_f\": 0.5,\n",
      "    \"max_passes\": 10,\n",
      "    \"min_passes\": 1,\n",
      "    \"min_converged\": 1,\n",
      "    \"pct_refinement\": 30,\n",
      "    \"basis_order\": 1,\n",
      "    \"vars\": {\n",
      "        \"Lj\": \"10 nH\",\n",
      "        \"Cj\": \"0 fF\"\n",
      "    }\n",
      "}\u001b[0m\n",
      "INFO 03:11PM [connect_project]: Connecting to Ansys Desktop API...\n",
      "INFO 03:11PM [load_ansys_project]: \tOpened Ansys App\n",
      "INFO 03:11PM [load_ansys_project]: \tOpened Ansys Desktop v2021.2.0\n",
      "INFO 03:11PM [load_ansys_project]: \tOpened Ansys Project\n",
      "\tFolder:    C:/Users/lukassp/Documents/Ansoft/\n",
      "\tProject:   Project161\n",
      "INFO 03:11PM [connect_design]: \tOpened active design\n",
      "\tDesign:    get_mini_study_qb_res [Solution type: Eigenmode]\n",
      "INFO 03:11PM [get_setup]: \tOpened setup `Setup`  (<class 'pyEPR.ansys.HfssEMSetup'>)\n",
      "INFO 03:11PM [connect]: \tConnected to project \"Project161\" and design \"get_mini_study_qb_res\" 😀 \n",
      "\n",
      "INFO 03:11PM [connect_design]: \tOpened active design\n",
      "\tDesign:    get_mini_study_qb_res [Solution type: Eigenmode]\n",
      "\u001b[38;20m[INFO|2025-02-26 15:11:21]: Updated_design_vars\n",
      "{\n",
      "    \"cpw_width\": \"10 um\",\n",
      "    \"cpw_gap\": \"6 um\",\n",
      "    \"design_var_width_qubit_1\": \"376.70099561653865 um\",\n",
      "    \"design_var_width_qubit_2\": \"400um\",\n",
      "    \"design_var_cl_pos_x_qubit_1\": \"200um\",\n",
      "    \"design_var_cl_pos_y_qubit_1\": \"200um\",\n",
      "    \"design_var_cl_pos_x_qubit_2\": \"200um\",\n",
      "    \"design_var_cl_pos_y_qubit_2\": \"200um\",\n",
      "    \"design_var_lj_qubit_1\": \"10.1nH\",\n",
      "    \"design_var_lj_qubit_2\": \"9.1nH\",\n",
      "    \"design_var_cj_qubit_1\": \"0fF\",\n",
      "    \"design_var_cj_qubit_2\": \"0fF\",\n",
      "    \"design_var_length_resonator_1\": \"7500um\",\n",
      "    \"design_var_length_resonator_2\": \"6500um\",\n",
      "    \"design_var_length_coupler_1to2\": \"4000um\",\n",
      "    \"design_var_coupl_length_qubit_1_resonator_1\": \"100um\",\n",
      "    \"design_var_coupl_length_qubit_2_resonator_2\": \"100um\",\n",
      "    \"design_var_coupl_length_resonator_1_tee\": \"170um\",\n",
      "    \"design_var_coupl_length_resonator_2_tee\": \"160um\"\n",
      "}\u001b[0m\n"
     ]
    },
    {
     "name": "stdout",
     "output_type": "stream",
     "text": [
      "pyaedt INFO: using existing logger.\n",
      "pyaedt INFO: Launching PyAEDT outside AEDT with CPython and PythonNET.\n",
      "pyaedt INFO: AEDT installation Path C:\\Program Files\\AnsysEM\\AnsysEM21.2\\Win64.\n",
      "pyaedt INFO: Launching AEDT with module PythonNET.\n",
      "pyaedt INFO: Ansoft.ElectronicsDesktop.2021.2 Started with process ID 15008.\n",
      "pyaedt INFO: pyaedt v0.6.46\n",
      "pyaedt INFO: Python version 3.10.15 | packaged by Anaconda, Inc. | (main, Oct  3 2024, 07:22:19) [MSC v.1929 64 bit (AMD64)]\n",
      "pyaedt INFO: No project is defined. Project Project161 exists and has been read.\n",
      "pyaedt INFO: Active Design set to get_mini_study_qb_res\n",
      "pyaedt INFO: Aedt Objects initialized\n",
      "pyaedt INFO: Variable Manager initialized\n",
      "pyaedt INFO: Design Loaded\n",
      "pyaedt INFO: Successfully loaded project materials !\n",
      "pyaedt INFO: Materials Loaded\n"
     ]
    },
    {
     "name": "stderr",
     "output_type": "stream",
     "text": [
      "\u001b[38;20m[INFO|2025-02-26 15:11:36]: No fine mesh map was found for name_qubit_1\u001b[0m\n",
      "\u001b[38;20m[INFO|2025-02-26 15:11:36]: No fine mesh map was found for name_resonator_1\u001b[0m\n",
      "\u001b[38;20m[INFO|2025-02-26 15:11:36]: No fine mesh map was found for name_tee1\u001b[0m\n",
      "INFO 03:11PM [analyze]: Analyzing setup Setup\n"
     ]
    },
    {
     "name": "stdout",
     "output_type": "stream",
     "text": [
      "Design \"get_mini_study_qb_res\" info:\n",
      "\t# eigenmodes    2\n",
      "\t# variations    1\n",
      "Design \"get_mini_study_qb_res\" info:\n",
      "\t# eigenmodes    2\n",
      "\t# variations    1\n",
      "Design \"get_mini_study_qb_res\" info:\n",
      "\t# eigenmodes    2\n",
      "\t# variations    1\n",
      "Design \"get_mini_study_qb_res\" info:\n",
      "\t# eigenmodes    2\n",
      "\t# variations    1\n",
      "Design \"get_mini_study_qb_res\" info:\n",
      "\t# eigenmodes    2\n",
      "\t# variations    1\n",
      "\n",
      "        energy_elec_all       = 6.37386658521156e-23\n",
      "        energy_elec_substrate = 5.89822760899604e-23\n",
      "        EPR of substrate = 92.5%\n",
      "\n",
      "        energy_mag    = 6.3645203878594e-23\n",
      "        energy_mag % of energy_elec_all  = 99.9%\n",
      "        \n",
      "\n",
      "Variation 0  [1/1]\n",
      "\n",
      "  \u001b[1mMode 0 at 4.74 GHz   [1/2]\u001b[0m\n",
      "    Calculating ℰ_magnetic,ℰ_electric\n",
      "       (ℰ_E-ℰ_H)/ℰ_E       ℰ_E       ℰ_H\n",
      "               98.6%  4.312e-24 5.839e-26\n",
      "\n",
      "    Calculating junction energy participation ration (EPR)\n",
      "\tmethod=`line_voltage`. First estimates:\n",
      "\tjunction        EPR p_0j   sign s_0j    (p_capacitive)\n",
      "\t\tEnergy fraction (Lj over Lj&Cj)= 98.24%\n",
      "\tjj_name_qubit_1 0.984534  (+)        0.0176155\n",
      "\t\t(U_tot_cap-U_tot_ind)/mean=0.97%\n",
      "Calculating Qdielectric_main for mode 0 (0/1)\n",
      "p_dielectric_main_0 = 0.9061318952843879\n",
      "\n",
      "  \u001b[1mMode 1 at 6.82 GHz   [2/2]\u001b[0m\n",
      "    Calculating ℰ_magnetic,ℰ_electric\n",
      "       (ℰ_E-ℰ_H)/ℰ_E       ℰ_E       ℰ_H\n",
      "                0.1%  3.187e-23 3.182e-23\n",
      "\n",
      "    Calculating junction energy participation ration (EPR)\n",
      "\tmethod=`line_voltage`. First estimates:\n",
      "\tjunction        EPR p_1j   sign s_1j    (p_capacitive)\n",
      "\t\tEnergy fraction (Lj over Lj&Cj)= 96.42%\n",
      "\tjj_name_qubit_1 0.00144533  (+)        5.359e-05\n",
      "\t\t(U_tot_cap-U_tot_ind)/mean=0.00%\n",
      "Calculating Qdielectric_main for mode 1 (1/1)\n",
      "p_dielectric_main_1 = 0.9253766971967875\n"
     ]
    },
    {
     "name": "stderr",
     "output_type": "stream",
     "text": [
      "WARNING 03:11PM [__init__]: <p>Error: <class 'IndexError'></p>\n"
     ]
    },
    {
     "name": "stdout",
     "output_type": "stream",
     "text": [
      "\n",
      "ANALYSIS DONE. Data saved to:\n",
      "\n",
      "C:\\data-pyEPR\\Project161\\get_mini_study_qb_res\\2025-02-26 15-11-52.npz\n",
      "\n",
      "\n",
      "\t Differences in variations:\n",
      "\n",
      "\n",
      "\n",
      " . . . . . . . . . . . . . . . . . . . . . . . . . . . . . . . . . . . . . . . . \n",
      "Variation 0\n",
      "\n",
      "Starting the diagonalization\n",
      "Finished the diagonalization\n",
      "Pm_norm=\n",
      "modes\n",
      "0    1.019714\n",
      "1    1.025842\n",
      "dtype: float64\n",
      "\n",
      "Pm_norm idx =\n",
      "   jj_name_qubit_1\n",
      "0             True\n",
      "1            False\n",
      "*** P (participation matrix, not normlz.)\n",
      "   jj_name_qubit_1\n",
      "0         0.967491\n",
      "1         0.001445\n",
      "\n",
      "*** S (sign-bit matrix)\n",
      "   s_jj_name_qubit_1\n",
      "0                 -1\n",
      "1                 -1\n",
      "*** P (participation matrix, normalized.)\n",
      "      0.99\n",
      "    0.0014\n",
      "\n",
      "*** Chi matrix O1 PT (MHz)\n",
      "    Diag is anharmonicity, off diag is full cross-Kerr.\n",
      "       169    0.711\n",
      "     0.711  0.00075\n",
      "\n",
      "*** Chi matrix ND (MHz) \n",
      "       183    0.609\n",
      "     0.609 0.000563\n",
      "\n",
      "*** Frequencies O1 PT (MHz)\n",
      "0    4567.692936\n",
      "1    6818.359162\n",
      "dtype: float64\n",
      "\n",
      "*** Frequencies ND (MHz)\n",
      "0    4561.152878\n",
      "1    6818.373980\n",
      "dtype: float64\n",
      "\n",
      "*** Q_coupling\n",
      "Empty DataFrame\n",
      "Columns: []\n",
      "Index: [0, 1]\n"
     ]
    },
    {
     "name": "stderr",
     "output_type": "stream",
     "text": [
      "\u001b[38;20m[INFO|2025-02-26 15:11:55]: freq_ND_results\n",
      "{\n",
      "    \"0\": {\n",
      "        \"0\": 4561.152878010365,\n",
      "        \"1\": 6818.373979996422\n",
      "    }\n",
      "}\u001b[0m\n"
     ]
    },
    {
     "name": "stdout",
     "output_type": "stream",
     "text": [
      "0 <qdesignoptimizer.sim_plot_progress.OptPltSet object at 0x000002CB8A51AB60> [1] [6818373979.996423]\n",
      "0 <qdesignoptimizer.sim_plot_progress.OptPltSet object at 0x000002CB8A51AB60> [1] [6818373979.996423]\n",
      "1 <qdesignoptimizer.sim_plot_progress.OptPltSet object at 0x000002CC0831FFA0> [1] [90620.7943802]\n",
      "2 <qdesignoptimizer.sim_plot_progress.OptPltSet object at 0x000002CC0831C220> [1] [None]\n",
      "0 <qdesignoptimizer.sim_plot_progress.OptPltSet object at 0x000002CC0831C280> [1] [4561152878.0103655]\n",
      "1 <qdesignoptimizer.sim_plot_progress.OptPltSet object at 0x000002CC0831C2E0> [1] [182829410.9785595]\n",
      "0 <qdesignoptimizer.sim_plot_progress.OptPltSet object at 0x000002CC0831C340> [1] [609490.586265564]\n"
     ]
    },
    {
     "name": "stderr",
     "output_type": "stream",
     "text": [
      "\u001b[38;20m[INFO|2025-02-26 15:11:57]: Updated_design_vars\n",
      "{\n",
      "    \"design_var_lj_qubit_1\": \"14.365957731218003 nH\",\n",
      "    \"design_var_width_qubit_1\": \"344.3601057232733 um\",\n",
      "    \"design_var_length_resonator_1\": \"8522.967474982343 um\",\n",
      "    \"design_var_coupl_length_qubit_1_resonator_1\": \"135.22996201202216 um\"\n",
      "}\u001b[0m\n"
     ]
    },
    {
     "name": "stdout",
     "output_type": "stream",
     "text": [
      "pyaedt INFO: No project is defined. Project Project161 exists and has been read.\n",
      "pyaedt INFO: Active Design set to get_mini_study_qb_res\n",
      "pyaedt INFO: Aedt Objects initialized\n",
      "pyaedt INFO: Variable Manager initialized\n",
      "pyaedt INFO: Design Loaded\n",
      "pyaedt INFO: Successfully loaded project materials !\n",
      "pyaedt INFO: Materials Loaded\n"
     ]
    },
    {
     "name": "stderr",
     "output_type": "stream",
     "text": [
      "\u001b[38;20m[INFO|2025-02-26 15:12:10]: No fine mesh map was found for name_qubit_1\u001b[0m\n",
      "\u001b[38;20m[INFO|2025-02-26 15:12:10]: No fine mesh map was found for name_resonator_1\u001b[0m\n",
      "\u001b[38;20m[INFO|2025-02-26 15:12:10]: No fine mesh map was found for name_tee1\u001b[0m\n",
      "INFO 03:12PM [analyze]: Analyzing setup Setup\n"
     ]
    },
    {
     "name": "stdout",
     "output_type": "stream",
     "text": [
      "Design \"get_mini_study_qb_res\" info:\n",
      "\t# eigenmodes    2\n",
      "\t# variations    1\n",
      "Design \"get_mini_study_qb_res\" info:\n",
      "\t# eigenmodes    2\n",
      "\t# variations    1\n",
      "Design \"get_mini_study_qb_res\" info:\n",
      "\t# eigenmodes    2\n",
      "\t# variations    1\n",
      "Design \"get_mini_study_qb_res\" info:\n",
      "\t# eigenmodes    2\n",
      "\t# variations    1\n",
      "Design \"get_mini_study_qb_res\" info:\n",
      "\t# eigenmodes    2\n",
      "\t# variations    1\n",
      "\n",
      "        energy_elec_all       = 7.75772199315758e-23\n",
      "        energy_elec_substrate = 7.15759011763071e-23\n",
      "        EPR of substrate = 92.3%\n",
      "\n",
      "        energy_mag    = 7.74700167040488e-23\n",
      "        energy_mag % of energy_elec_all  = 99.9%\n",
      "        \n",
      "\n",
      "Variation 0  [1/1]\n",
      "\n",
      "  \u001b[1mMode 0 at 3.75 GHz   [1/2]\u001b[0m\n",
      "    Calculating ℰ_magnetic,ℰ_electric\n",
      "       (ℰ_E-ℰ_H)/ℰ_E       ℰ_E       ℰ_H\n",
      "               99.0%  1.914e-24 1.951e-26\n",
      "\n",
      "    Calculating junction energy participation ration (EPR)\n",
      "\tmethod=`line_voltage`. First estimates:\n",
      "\tjunction        EPR p_0j   sign s_0j    (p_capacitive)\n",
      "\t\tEnergy fraction (Lj over Lj&Cj)= 98.43%\n",
      "\tjj_name_qubit_1 0.988156  (+)        0.0157349\n",
      "\t\t(U_tot_cap-U_tot_ind)/mean=0.86%\n",
      "Calculating Qdielectric_main for mode 0 (0/1)\n",
      "p_dielectric_main_0 = 0.9181337492593226\n",
      "\n",
      "  \u001b[1mMode 1 at 5.88 GHz   [2/2]\u001b[0m\n",
      "    Calculating ℰ_magnetic,ℰ_electric\n",
      "       (ℰ_E-ℰ_H)/ℰ_E       ℰ_E       ℰ_H\n",
      "                0.1%  3.879e-23 3.874e-23\n",
      "\n",
      "    Calculating junction energy participation ration (EPR)\n",
      "\tmethod=`line_voltage`. First estimates:\n",
      "\tjunction        EPR p_1j   sign s_1j    (p_capacitive)\n",
      "\t\tEnergy fraction (Lj over Lj&Cj)= 96.23%\n",
      "\tjj_name_qubit_1 0.00142409  (+)        5.58578e-05\n",
      "\t\t(U_tot_cap-U_tot_ind)/mean=0.00%\n",
      "Calculating Qdielectric_main for mode 1 (1/1)\n",
      "p_dielectric_main_1 = 0.9226407086956462\n"
     ]
    },
    {
     "name": "stderr",
     "output_type": "stream",
     "text": [
      "WARNING 03:12PM [__init__]: <p>Error: <class 'IndexError'></p>\n"
     ]
    },
    {
     "name": "stdout",
     "output_type": "stream",
     "text": [
      "\n",
      "ANALYSIS DONE. Data saved to:\n",
      "\n",
      "C:\\data-pyEPR\\Project161\\get_mini_study_qb_res\\2025-02-26 15-12-26.npz\n",
      "\n",
      "\n",
      "\t Differences in variations:\n",
      "\n",
      "\n",
      "\n",
      " . . . . . . . . . . . . . . . . . . . . . . . . . . . . . . . . . . . . . . . . \n",
      "Variation 0\n",
      "\n",
      "Starting the diagonalization\n",
      "Finished the diagonalization\n",
      "Pm_norm=\n",
      "modes\n",
      "0    1.017503\n",
      "1    1.004803\n",
      "dtype: float64\n",
      "\n",
      "Pm_norm idx =\n",
      "   jj_name_qubit_1\n",
      "0             True\n",
      "1            False\n",
      "*** P (participation matrix, not normlz.)\n",
      "   jj_name_qubit_1\n",
      "0         0.972849\n",
      "1         0.001424\n",
      "\n",
      "*** S (sign-bit matrix)\n",
      "   s_jj_name_qubit_1\n",
      "0                  1\n",
      "1                 -1\n",
      "*** P (participation matrix, normalized.)\n",
      "      0.99\n",
      "    0.0014\n",
      "\n",
      "*** Chi matrix O1 PT (MHz)\n",
      "    Diag is anharmonicity, off diag is full cross-Kerr.\n",
      "       151    0.682\n",
      "     0.682  0.00077\n",
      "\n",
      "*** Chi matrix ND (MHz) \n",
      "       166    0.609\n",
      "     0.609 0.000611\n",
      "\n",
      "*** Frequencies O1 PT (MHz)\n",
      "0    3595.308903\n",
      "1    5880.119478\n",
      "dtype: float64\n",
      "\n",
      "*** Frequencies ND (MHz)\n",
      "0    3588.571718\n",
      "1    5880.128245\n",
      "dtype: float64\n",
      "\n",
      "*** Q_coupling\n",
      "Empty DataFrame\n",
      "Columns: []\n",
      "Index: [0, 1]\n"
     ]
    },
    {
     "name": "stderr",
     "output_type": "stream",
     "text": [
      "\u001b[38;20m[INFO|2025-02-26 15:12:30]: freq_ND_results\n",
      "{\n",
      "    \"0\": {\n",
      "        \"0\": 3588.57171825484,\n",
      "        \"1\": 5880.128245272245\n",
      "    }\n",
      "}\u001b[0m\n"
     ]
    },
    {
     "name": "stdout",
     "output_type": "stream",
     "text": [
      "0 <qdesignoptimizer.sim_plot_progress.OptPltSet object at 0x000002CB8A51AB60> [1, 2] [6818373979.996423, 5880128245.272245]\n",
      "0 <qdesignoptimizer.sim_plot_progress.OptPltSet object at 0x000002CB8A51AB60> [1, 2] [6818373979.996423, 5880128245.272245]\n",
      "1 <qdesignoptimizer.sim_plot_progress.OptPltSet object at 0x000002CC0831FFA0> [1, 2] [90620.7943802, 101993.1761386]\n",
      "2 <qdesignoptimizer.sim_plot_progress.OptPltSet object at 0x000002CC0831C220> [1, 2] [None, None]\n",
      "0 <qdesignoptimizer.sim_plot_progress.OptPltSet object at 0x000002CC0831C280> [1, 2] [4561152878.0103655, 3588571718.25484]\n",
      "1 <qdesignoptimizer.sim_plot_progress.OptPltSet object at 0x000002CC0831C2E0> [1, 2] [182829410.9785595, 165552199.28866482]\n",
      "0 <qdesignoptimizer.sim_plot_progress.OptPltSet object at 0x000002CC0831C340> [1, 2] [609490.586265564, 609358.3860549926]\n"
     ]
    }
   ],
   "source": [
    "design_analysis_state = DesignAnalysisState(\n",
    "    design, RENDER_QISKIT_METAL, pt.PARAM_TARGETS\n",
    ")\n",
    "design_analysis = DesignAnalysis(\n",
    "    design_analysis_state,\n",
    "    mini_study=MINI_STUDY,\n",
    "    opt_targets=opt_targets,\n",
    "    save_path='out/' + CHIP_NAME + \"_\" + time.strftime(\"%Y%m%d-%H%M%S\"),\n",
    "    update_design_variables=False,\n",
    "    plot_settings=ps.PLOT_SETTINGS,\n",
    ")\n",
    "\n",
    "group_runs = 2  # 10\n",
    "group_passes = 2  # 6\n",
    "delta_f = 0.001\n",
    "for i in range(group_runs):\n",
    "    design_analysis.update_nbr_passes(group_passes)\n",
    "    design_analysis.update_delta_f(delta_f)\n",
    "    design_analysis.optimize_target({}, {})\n",
    "    design_analysis.screenshot(gui=gui, run=i)"
   ]
  },
  {
   "cell_type": "code",
   "execution_count": null,
   "metadata": {},
   "outputs": [],
   "source": [
    "design_analysis.overwrite_parameters()"
   ]
  },
  {
   "cell_type": "markdown",
   "metadata": {},
   "source": [
    "### Two qubit-resonator system"
   ]
  },
  {
   "cell_type": "code",
   "execution_count": null,
   "metadata": {},
   "outputs": [],
   "source": [
    "MINI_STUDY = ms.get_mini_study_2qb_resonator_coupler()\n",
    "RENDER_QISKIT_METAL = lambda design: render_qiskit_metal_design(design, gui)\n",
    "\n",
    "opt_targets = ot.get_opt_targets_2qubits_resonator_coupler(\n",
    "    groups=[n.GROUP_1, n.GROUP_2],\n",
    "    opt_target_qubit_freq=True,\n",
    "    opt_target_qubit_anharm=True,\n",
    "    opt_target_resonator_freq=True,\n",
    "    opt_target_resonator_kappa=False,\n",
    "    opt_target_resonator_qubit_chi=True,\n",
    "    opt_target_coupler_freq=True,\n",
    ")"
   ]
  },
  {
   "cell_type": "code",
   "execution_count": null,
   "metadata": {},
   "outputs": [],
   "source": [
    "design_analysis_state = DesignAnalysisState(\n",
    "    design, RENDER_QISKIT_METAL, pt.PARAM_TARGETS\n",
    ")\n",
    "design_analysis = DesignAnalysis(\n",
    "    design_analysis_state,\n",
    "    mini_study=MINI_STUDY,\n",
    "    opt_targets=opt_targets,\n",
    "    save_path=CHIP_NAME + \"_\" + time.strftime(\"%Y%m%d-%H%M%S\"),\n",
    "    update_design_variables=False,\n",
    "    plot_settings=ps.PLOT_SETTINGS,\n",
    ")\n",
    "\n",
    "group_runs = 2\n",
    "group_passes = 3\n",
    "delta_f = 0.001\n",
    "for i in range(group_runs):\n",
    "    design_analysis.update_group_passes(group_passes)\n",
    "    design_analysis.update_delta_f(delta_f)\n",
    "    design_analysis.optimize_target({}, {})\n",
    "    design_analysis.screenshot(gui=gui, run=i)"
   ]
  },
  {
   "cell_type": "code",
   "execution_count": null,
   "metadata": {},
   "outputs": [],
   "source": [
    "design_analysis.overwrite_parameters()"
   ]
  },
  {
   "cell_type": "markdown",
   "metadata": {},
   "source": [
    "### Purcell decay into charge line"
   ]
  },
  {
   "cell_type": "markdown",
   "metadata": {},
   "source": [
    "The T1 of the qubit is limited by its decay into the charge line. This ministudy will change the distance of the charge line from the transmon pocket to optimize a T1 limit of 1 ms. This value is computed with simple capacitance matrix simulations and a classical model, assuming that the qubit frequency has already been optimized."
   ]
  },
  {
   "cell_type": "code",
   "execution_count": null,
   "metadata": {},
   "outputs": [],
   "source": [
    "MINI_STUDY_BRANCH = 1\n",
    "MINI_STUDY = ms.get_mini_study_qb_charge_line(group=MINI_STUDY_BRANCH)\n",
    "opt_targets = ot.get_opt_targets_qb_charge_line(group=MINI_STUDY_BRANCH)\n",
    "RENDER_QISKIT_METAL = lambda design: render_qiskit_metal_design(design, gui)"
   ]
  },
  {
   "cell_type": "code",
   "execution_count": null,
   "metadata": {},
   "outputs": [],
   "source": [
    "# %matplotlib inline\n",
    "design_analysis_state = DesignAnalysisState(\n",
    "    design, RENDER_QISKIT_METAL, pt.PARAM_TARGETS\n",
    ")\n",
    "design_analysis = DesignAnalysis(\n",
    "    design_analysis_state,\n",
    "    mini_study=MINI_STUDY,\n",
    "    opt_targets=opt_targets,\n",
    "    save_path=CHIP_NAME + \"_\" + time.strftime(\"%Y%m%d-%H%M%S\"),\n",
    "    update_design_variables=False,\n",
    "    plot_settings=ps.PLOT_SETTINGS_CHARGE_LINE_DECAY,\n",
    ")"
   ]
  },
  {
   "cell_type": "code",
   "execution_count": null,
   "metadata": {},
   "outputs": [],
   "source": [
    "group_runs = 3\n",
    "group_passes_cap = 2\n",
    "\n",
    "for i in range(group_runs):\n",
    "    design_analysis.update_group_passes_capacitance_ministudies(group_passes_cap)\n",
    "    design_analysis.optimize_target({}, {})\n",
    "    design_analysis.screenshot(gui=gui, run=i)"
   ]
  },
  {
   "cell_type": "markdown",
   "metadata": {},
   "source": [
    "## View Optimization results"
   ]
  },
  {
   "cell_type": "code",
   "execution_count": null,
   "metadata": {},
   "outputs": [],
   "source": [
    "design_analysis.get_cross_kerr_matrix(iteration=-1)"
   ]
  },
  {
   "cell_type": "code",
   "execution_count": null,
   "metadata": {},
   "outputs": [],
   "source": [
    "close_ansys()"
   ]
  },
  {
   "cell_type": "code",
   "execution_count": null,
   "metadata": {},
   "outputs": [],
   "source": []
  }
 ],
 "metadata": {
  "kernelspec": {
   "display_name": "qdo",
   "language": "python",
   "name": "python3"
  },
  "language_info": {
   "codemirror_mode": {
    "name": "ipython",
    "version": 3
   },
   "file_extension": ".py",
   "mimetype": "text/x-python",
   "name": "python",
   "nbconvert_exporter": "python",
   "pygments_lexer": "ipython3",
   "version": "3.10.15"
  }
 },
 "nbformat": 4,
 "nbformat_minor": 2
}
