{
 "cells": [
  {
   "cell_type": "markdown",
   "metadata": {},
   "source": [
    "# Example 2: Coupled Transmon Qubits"
   ]
  },
  {
   "cell_type": "code",
   "execution_count": 2,
   "metadata": {},
   "outputs": [],
   "source": [
    "%load_ext autoreload\n",
    "%autoreload 2\n",
    "import time"
   ]
  },
  {
   "cell_type": "code",
   "execution_count": 3,
   "metadata": {},
   "outputs": [],
   "source": [
    "import json\n",
    "import design as d\n",
    "import names as n\n",
    "\n",
    "with open(\"design_variables.json\") as in_file:\n",
    "    initial_design_variables = json.load(in_file)\n",
    "\n",
    "from qdesignoptimizer.utils.chip_generation import create_chip_base, ChipType\n",
    "from qdesignoptimizer.utils.utils import close_ansys"
   ]
  },
  {
   "cell_type": "code",
   "execution_count": 4,
   "metadata": {},
   "outputs": [],
   "source": [
    "# for this example to store the data in the right place\n",
    "import os\n",
    "\n",
    "os.makedirs(os.path.dirname(\"out/\"), exist_ok=True)"
   ]
  },
  {
   "cell_type": "markdown",
   "metadata": {},
   "source": [
    "## Design assembly"
   ]
  },
  {
   "cell_type": "code",
   "execution_count": 5,
   "metadata": {},
   "outputs": [],
   "source": [
    "CHIP_NAME = \"multi_transmon_chip\"\n",
    "OPEN_GUI = False\n",
    "chip_type = ChipType(size_x=\"10mm\", size_y=\"10mm\", size_z=\"-300um\")\n",
    "design, gui = create_chip_base(\n",
    "    chip_name=CHIP_NAME, chip_type=chip_type, open_gui=OPEN_GUI\n",
    ")\n",
    "\n",
    "n.add_design_variables_to_design(design, initial_design_variables)"
   ]
  },
  {
   "cell_type": "code",
   "execution_count": 6,
   "metadata": {},
   "outputs": [],
   "source": [
    "def render_qiskit_metal_design(design, gui):\n",
    "    d.add_transmon_plus_resonator(design, group=n.NBR_1)\n",
    "    d.add_transmon_plus_resonator(design, group=n.NBR_2)\n",
    "\n",
    "    d.add_coupler(design)\n",
    "\n",
    "    d.add_route_interconnects(design)\n",
    "\n",
    "    d.add_launch_pads(design)\n",
    "\n",
    "    d.add_chargeline(design, group=n.NBR_1)\n",
    "    d.add_chargeline(design, group=n.NBR_2)\n",
    "    if gui:\n",
    "        gui.rebuild()\n",
    "        gui.autoscale()\n",
    "\n",
    "\n",
    "render_qiskit_metal_design(design, gui)"
   ]
  },
  {
   "cell_type": "markdown",
   "metadata": {},
   "source": [
    "## MiniStudies"
   ]
  },
  {
   "cell_type": "code",
   "execution_count": 7,
   "metadata": {},
   "outputs": [],
   "source": [
    "import mini_studies as ms\n",
    "import optimization_targets as ot\n",
    "import parameter_targets as pt\n",
    "import plot_settings as ps\n",
    "\n",
    "from qdesignoptimizer.design_analysis import DesignAnalysis, DesignAnalysisState\n",
    "from qiskit_metal.qlibrary.couplers.coupled_line_tee import CoupledLineTee\n",
    "from qdesignoptimizer.design_analysis_types import MeshingMap"
   ]
  },
  {
   "cell_type": "markdown",
   "metadata": {},
   "source": [
    "### Single resonator-qubit system\n",
    "Useful when first tuning up subsystems"
   ]
  },
  {
   "cell_type": "code",
   "execution_count": null,
   "metadata": {},
   "outputs": [],
   "source": [
    "def CoupledLineTee_mesh_names(comp_names):\n",
    "    all_names_to_mesh = [f\"prime_cpw_{comp_names}\", f\"second_cpw_{comp_names}\"]\n",
    "    return all_names_to_mesh"
   ]
  },
  {
   "cell_type": "code",
   "execution_count": null,
   "metadata": {},
   "outputs": [],
   "source": [
    "MINI_STUDY_GROUP = n.NBR_1\n",
    "MINI_STUDY = ms.get_mini_study_qb_res(group=MINI_STUDY_GROUP)\n",
    "RENDER_QISKIT_METAL = lambda design: render_qiskit_metal_design(design, gui)\n",
    "\n",
    "opt_targets = ot.get_opt_targets_2qubits_resonator_coupler(\n",
    "    groups=[MINI_STUDY_GROUP],\n",
    "    opt_target_qubit_freq=True,\n",
    "    opt_target_qubit_anharm=True,\n",
    "    opt_target_resonator_freq=True,\n",
    "    opt_target_resonator_kappa=True,\n",
    "    opt_target_resonator_qubit_chi=True,\n",
    ")"
   ]
  },
  {
   "cell_type": "code",
   "execution_count": null,
   "metadata": {},
   "outputs": [],
   "source": [
    "design_analysis_state = DesignAnalysisState(\n",
    "    design, RENDER_QISKIT_METAL, pt.PARAM_TARGETS\n",
    ")\n",
    "design_analysis = DesignAnalysis(\n",
    "    design_analysis_state,\n",
    "    mini_study=MINI_STUDY,\n",
    "    opt_targets=opt_targets,\n",
    "    save_path=\"out/\" + CHIP_NAME + \"_\" + time.strftime(\"%Y%m%d-%H%M%S\"),\n",
    "    update_design_variables=False,\n",
    "    plot_settings=ps.PLOT_SETTINGS,\n",
    "    meshing_map=[\n",
    "        MeshingMap(component_class=CoupledLineTee, mesh_names=CoupledLineTee_mesh_names)\n",
    "    ],\n",
    ")\n",
    "\n",
    "group_runs = 2  # 10\n",
    "group_passes = 8  # 6\n",
    "delta_f = 0.001\n",
    "for i in range(group_runs):\n",
    "    design_analysis.update_nbr_passes(group_passes)\n",
    "    design_analysis.update_delta_f(delta_f)\n",
    "    design_analysis.optimize_target({}, {})\n",
    "    design_analysis.screenshot(gui=gui, run=i)"
   ]
  },
  {
   "cell_type": "code",
   "execution_count": null,
   "metadata": {},
   "outputs": [],
   "source": [
    "design_analysis.overwrite_parameters()"
   ]
  },
  {
   "cell_type": "markdown",
   "metadata": {},
   "source": [
    "### Two qubit-resonator system"
   ]
  },
  {
   "cell_type": "code",
   "execution_count": null,
   "metadata": {},
   "outputs": [],
   "source": [
    "MINI_STUDY = ms.get_mini_study_2qb_resonator_coupler()\n",
    "RENDER_QISKIT_METAL = lambda design: render_qiskit_metal_design(design, gui)\n",
    "\n",
    "opt_targets = ot.get_opt_targets_2qubits_resonator_coupler(\n",
    "    groups=[n.NBR_1, n.NBR_2],\n",
    "    opt_target_qubit_freq=True,\n",
    "    opt_target_qubit_anharm=True,\n",
    "    opt_target_resonator_freq=True,\n",
    "    opt_target_resonator_kappa=False,\n",
    "    opt_target_resonator_qubit_chi=True,\n",
    "    opt_target_coupler_freq=True,\n",
    ")"
   ]
  },
  {
   "cell_type": "code",
   "execution_count": null,
   "metadata": {},
   "outputs": [],
   "source": [
    "design_analysis_state = DesignAnalysisState(\n",
    "    design, RENDER_QISKIT_METAL, pt.PARAM_TARGETS\n",
    ")\n",
    "design_analysis = DesignAnalysis(\n",
    "    design_analysis_state,\n",
    "    mini_study=MINI_STUDY,\n",
    "    opt_targets=opt_targets,\n",
    "    save_path=\"out/\" + CHIP_NAME + \"_\" + time.strftime(\"%Y%m%d-%H%M%S\"),\n",
    "    update_design_variables=False,\n",
    "    plot_settings=ps.PLOT_SETTINGS_TWO_QB,\n",
    ")\n",
    "\n",
    "group_runs = 2\n",
    "group_passes = 6\n",
    "delta_f = 0.001\n",
    "for i in range(group_runs):\n",
    "    design_analysis.update_nbr_passes(group_passes)\n",
    "    design_analysis.update_delta_f(delta_f)\n",
    "    design_analysis.optimize_target({}, {})\n",
    "    design_analysis.screenshot(gui=gui, run=i)"
   ]
  },
  {
   "cell_type": "code",
   "execution_count": null,
   "metadata": {},
   "outputs": [],
   "source": [
    "design_analysis.overwrite_parameters()"
   ]
  },
  {
   "cell_type": "markdown",
   "metadata": {},
   "source": [
    "### Purcell decay into charge line"
   ]
  },
  {
   "cell_type": "markdown",
   "metadata": {},
   "source": [
    "The T1 of the qubit is limited by its decay into the charge line. This ministudy will change the distance of the charge line from the transmon pocket to optimize a T1 limit of 1 ms. This value is computed with simple capacitance matrix simulations and a classical model, assuming that the qubit frequency has already been optimized."
   ]
  },
  {
   "cell_type": "code",
   "execution_count": null,
   "metadata": {},
   "outputs": [],
   "source": [
    "close_ansys()"
   ]
  },
  {
   "cell_type": "code",
   "execution_count": null,
   "metadata": {},
   "outputs": [],
   "source": [
    "MINI_STUDY_GROUP = 1\n",
    "MINI_STUDY = ms.get_mini_study_qb_charge_line(group=MINI_STUDY_GROUP)\n",
    "opt_targets = ot.get_opt_targets_qb_charge_line(group=MINI_STUDY_GROUP)\n",
    "RENDER_QISKIT_METAL = lambda design: render_qiskit_metal_design(design, gui)"
   ]
  },
  {
   "cell_type": "code",
   "execution_count": null,
   "metadata": {},
   "outputs": [],
   "source": [
    "# %matplotlib inline\n",
    "design_analysis_state = DesignAnalysisState(\n",
    "    design, RENDER_QISKIT_METAL, pt.PARAM_TARGETS\n",
    ")\n",
    "design_analysis = DesignAnalysis(\n",
    "    design_analysis_state,\n",
    "    mini_study=MINI_STUDY,\n",
    "    opt_targets=opt_targets,\n",
    "    save_path=\"out/\" + CHIP_NAME + \"_\" + time.strftime(\"%Y%m%d-%H%M%S\"),\n",
    "    update_design_variables=False,\n",
    "    plot_settings=ps.PLOT_SETTINGS_CHARGE_LINE_DECAY,\n",
    ")"
   ]
  },
  {
   "cell_type": "code",
   "execution_count": null,
   "metadata": {},
   "outputs": [],
   "source": [
    "group_runs = 5\n",
    "group_passes_cap = 5\n",
    "\n",
    "for i in range(group_runs):\n",
    "    design_analysis.update_nbr_passes_capacitance_ministudies(group_passes_cap)\n",
    "    design_analysis.optimize_target({}, {})\n",
    "    design_analysis.screenshot(gui=gui, run=i)"
   ]
  },
  {
   "cell_type": "markdown",
   "metadata": {},
   "source": [
    "### Optimize capacitance target"
   ]
  },
  {
   "cell_type": "code",
   "execution_count": null,
   "metadata": {},
   "outputs": [],
   "source": [
    "MINI_STUDY_BRANCH = 1\n",
    "MINI_STUDY = ms.get_mini_study_resonator_capacitance(group=MINI_STUDY_BRANCH)\n",
    "opt_targets = ot.get_opt_target_capacitance(group=MINI_STUDY_BRANCH)\n",
    "\n",
    "RENDER_QISKIT_METAL = lambda design: render_qiskit_metal_design(design, gui)\n",
    "# %matplotlib inline\n",
    "design_analysis_state = DesignAnalysisState(\n",
    "    design, RENDER_QISKIT_METAL, pt.PARAM_TARGETS\n",
    ")\n",
    "design_analysis = DesignAnalysis(\n",
    "    design_analysis_state,\n",
    "    mini_study=MINI_STUDY,\n",
    "    opt_targets=opt_targets,\n",
    "    save_path=\"out/\" + CHIP_NAME + \"_\" + time.strftime(\"%Y%m%d-%H%M%S\"),\n",
    "    update_design_variables=False,\n",
    "    plot_settings=ps.PLOT_SETTINGS_CAPACITANCE,\n",
    ")"
   ]
  },
  {
   "cell_type": "code",
   "execution_count": null,
   "metadata": {},
   "outputs": [],
   "source": [
    "group_runs = 1\n",
    "group_passes_cap = 10\n",
    "\n",
    "for i in range(group_runs):\n",
    "    design_analysis.update_nbr_passes_capacitance_ministudies(group_passes_cap)\n",
    "    design_analysis.optimize_target({}, {})\n",
    "    design_analysis.screenshot(gui=gui, run=i)"
   ]
  },
  {
   "cell_type": "markdown",
   "metadata": {},
   "source": [
    "### optimise scattering analysis and eigenmode"
   ]
  },
  {
   "cell_type": "code",
   "execution_count": 8,
   "metadata": {},
   "outputs": [
    {
     "name": "stderr",
     "output_type": "stream",
     "text": [
      "\u001b[38;20m[INFO|2025-03-11 06:58:48]: self.eig_solver.sim.setup \n",
      "{\n",
      "    \"name\": \"Resonator_setup\",\n",
      "    \"reuse_selected_design\": true,\n",
      "    \"reuse_setup\": true,\n",
      "    \"min_freq_ghz\": 1,\n",
      "    \"n_modes\": 1,\n",
      "    \"max_delta_f\": 0.5,\n",
      "    \"max_passes\": 10,\n",
      "    \"min_passes\": 1,\n",
      "    \"min_converged\": 1,\n",
      "    \"pct_refinement\": 30,\n",
      "    \"basis_order\": 1,\n",
      "    \"vars\": {\n",
      "        \"Lj\": \"10 nH\",\n",
      "        \"Cj\": \"0 fF\"\n",
      "    }\n",
      "}\u001b[0m\n"
     ]
    },
    {
     "name": "stdout",
     "output_type": "stream",
     "text": [
      "pyaedt INFO: using existing logger.\n",
      "pyaedt INFO: Launching PyAEDT outside AEDT with CPython and PythonNET.\n",
      "pyaedt INFO: AEDT installation Path C:\\Program Files\\AnsysEM\\AnsysEM21.2\\Win64.\n",
      "pyaedt INFO: Launching AEDT with module PythonNET.\n",
      "pyaedt INFO: Ansoft.ElectronicsDesktop.2021.2 Started with process ID 21888.\n",
      "pyaedt INFO: pyaedt v0.6.46\n",
      "pyaedt INFO: Python version 3.10.0 | packaged by conda-forge | (default, Nov 20 2021, 02:18:13) [MSC v.1916 64 bit (AMD64)]\n",
      "pyaedt INFO: Project Project196 has been created.\n",
      "pyaedt INFO: No design is present. Inserting a new design.\n",
      "pyaedt INFO: Added design 'HFSS_LJH' of type HFSS.\n",
      "pyaedt INFO: Aedt Objects initialized\n",
      "pyaedt INFO: Variable Manager initialized\n",
      "pyaedt INFO: Design Loaded\n",
      "pyaedt INFO: Successfully loaded project materials !\n",
      "pyaedt INFO: Materials Loaded\n"
     ]
    },
    {
     "name": "stderr",
     "output_type": "stream",
     "text": [
      "\u001b[38;20m[INFO|2025-03-11 06:59:06]: self.eig_solver.sim.setup \n",
      "{\n",
      "    \"name\": \"Resonator_setup\",\n",
      "    \"reuse_selected_design\": true,\n",
      "    \"reuse_setup\": true,\n",
      "    \"min_freq_ghz\": 1,\n",
      "    \"n_modes\": 1,\n",
      "    \"max_delta_f\": 0.5,\n",
      "    \"max_passes\": 10,\n",
      "    \"min_passes\": 1,\n",
      "    \"min_converged\": 1,\n",
      "    \"pct_refinement\": 30,\n",
      "    \"basis_order\": 1,\n",
      "    \"vars\": {\n",
      "        \"Lj\": \"10 nH\",\n",
      "        \"Cj\": \"0 fF\"\n",
      "    }\n",
      "}\u001b[0m\n",
      "INFO 06:59AM [connect_project]: Connecting to Ansys Desktop API...\n",
      "INFO 06:59AM [load_ansys_project]: \tOpened Ansys App\n",
      "INFO 06:59AM [load_ansys_project]: \tOpened Ansys Desktop v2021.2.0\n",
      "INFO 06:59AM [load_ansys_project]: \tOpened Ansys Project\n",
      "\tFolder:    C:/Users/nirpit/Documents/Ansoft/\n",
      "\tProject:   Project196\n",
      "INFO 06:59AM [connect_design]: \tOpened active design\n",
      "\tDesign:    HFSS_LJH [Solution type: DrivenModal]\n",
      "WARNING 06:59AM [connect_setup]: \tNo design setup detected.\n",
      "WARNING 06:59AM [connect_setup]: \tCreating driven modal default setup.\n",
      "INFO 06:59AM [get_setup]: \tOpened setup `Setup`  (<class 'pyEPR.ansys.HfssDMSetup'>)\n",
      "INFO 06:59AM [connect]: \tConnected to project \"Project196\" and design \"HFSS_LJH\" 😀 \n",
      "\n",
      "06:59AM 06s WARNING [activate_ansys_design]: The design_name=('get_mini_study_scattering_analysis',) was not in active project.  Designs in active project are: \n",
      "['HFSS_LJH'].  A new design will be added to the project.  \n",
      "INFO 06:59AM [connect_design]: \tOpened active design\n",
      "\tDesign:    ('get_mini_study_scattering_analysis',) [Solution type: Eigenmode]\n",
      "WARNING 06:59AM [connect_setup]: \tNo design setup detected.\n",
      "WARNING 06:59AM [connect_setup]: \tCreating eigenmode default setup.\n",
      "INFO 06:59AM [get_setup]: \tOpened setup `Setup`  (<class 'pyEPR.ansys.HfssEMSetup'>)\n"
     ]
    }
   ],
   "source": [
    "MINI_STUDY_BRANCH = 1\n",
    "MINI_STUDY = ms.get_mini_study_scattering_analysis(group=MINI_STUDY_BRANCH)\n",
    "opt_targets = ot.get_opt_target_scattering_analysis(group=MINI_STUDY_BRANCH)\n",
    "\n",
    "RENDER_QISKIT_METAL = lambda design: render_qiskit_metal_design(design, gui)\n",
    "# %matplotlib inline\n",
    "design_analysis_state = DesignAnalysisState(\n",
    "    \n",
    "    design, RENDER_QISKIT_METAL, pt.PARAM_TARGETS\n",
    ")\n",
    "design_analysis = DesignAnalysis(\n",
    "    design_analysis_state,\n",
    "    mini_study=MINI_STUDY,\n",
    "    opt_targets=opt_targets,\n",
    "    save_path=\"out/\" + CHIP_NAME + \"_\" + time.strftime(\"%Y%m%d-%H%M%S\"),\n",
    "    update_design_variables=False,\n",
    "    plot_settings=None,\n",
    "    \n",
    ")"
   ]
  },
  {
   "cell_type": "code",
   "execution_count": 9,
   "metadata": {},
   "outputs": [
    {
     "name": "stderr",
     "output_type": "stream",
     "text": [
      "\u001b[38;20m[INFO|2025-03-11 06:59:08]: Updated_design_vars\n",
      "{\n",
      "    \"cpw_width\": \"10 um\",\n",
      "    \"cpw_gap\": \"6 um\",\n",
      "    \"design_var_width_qubit_1\": \"400um\",\n",
      "    \"design_var_width_qubit_2\": \"400um\",\n",
      "    \"design_var_cl_pos_x_qubit_1\": \"-2600um\",\n",
      "    \"design_var_cl_pos_y_qubit_1\": \"-1800um\",\n",
      "    \"design_var_cl_pos_x_qubit_2\": \"-2600um\",\n",
      "    \"design_var_cl_pos_y_qubit_2\": \"1800um\",\n",
      "    \"design_var_length_resonator_1_capacitance\": \"20um\",\n",
      "    \"design_var_length_resonator_2_capacitance\": \"20um\",\n",
      "    \"design_var_lj_qubit_1\": \"12.1nH\",\n",
      "    \"design_var_lj_qubit_2\": \"9.1nH\",\n",
      "    \"design_var_cj_qubit_1\": \"0fF\",\n",
      "    \"design_var_cj_qubit_2\": \"0fF\",\n",
      "    \"design_var_length_resonator_1\": \"7500um\",\n",
      "    \"design_var_length_resonator_2\": \"6500um\",\n",
      "    \"design_var_length_coupler_1to2\": \"4000um\",\n",
      "    \"design_var_coupl_length_qubit_1_resonator_1\": \"100um\",\n",
      "    \"design_var_coupl_length_qubit_2_resonator_2\": \"100um\",\n",
      "    \"design_var_coupl_length_resonator_1_tee\": \"170um\",\n",
      "    \"design_var_coupl_length_resonator_2_tee\": \"160um\"\n",
      "}\u001b[0m\n"
     ]
    },
    {
     "name": "stdout",
     "output_type": "stream",
     "text": [
      "pyaedt ERROR: Error in :   File \"c:\\Users\\nirpit\\AppData\\Local\\anaconda3\\envs\\qdesign-env\\lib\\site-packages\\pyaedt\\application\\Design.py\", line 2851, in delete_design\n",
      "pyaedt ERROR: (-2147352567, 'Exception occurred.', (0, None, None, None, 0, -2147024371), None) - delete_design -  GENERAL OR AEDT ERROR.\n",
      "pyaedt ERROR: Project: Project196, Design: ('get_mini_study_scattering_analysis',) (Eigenmode), [error] Script macro error: Unable to locate Design: ('get_mini_study_scattering_analysis',)_drivenmodal (6:59:09 am  Mar 11, 2025)\n",
      "\n",
      "pyaedt ERROR: Arguments with values: \n",
      "pyaedt ERROR:     name = ('get_mini_study_scattering_analysis',)_drivenmodal \n",
      "pyaedt ERROR:     fallback_design = None \n",
      "pyaedt ERROR: Check Online documentation on: https://aedt.docs.pyansys.com/search.html?q=delete_design\n",
      "pyaedt INFO: Project Project196 Saved correctly\n"
     ]
    },
    {
     "name": "stderr",
     "output_type": "stream",
     "text": [
      "\u001b[38;20m[INFO|2025-03-11 06:59:11]: self.eig_solver.sim.setup \n",
      "{\n",
      "    \"name\": \"Resonator_setup\",\n",
      "    \"reuse_selected_design\": true,\n",
      "    \"reuse_setup\": true,\n",
      "    \"min_freq_ghz\": 1,\n",
      "    \"n_modes\": 1,\n",
      "    \"max_delta_f\": 0.5,\n",
      "    \"max_passes\": 10,\n",
      "    \"min_passes\": 1,\n",
      "    \"min_converged\": 1,\n",
      "    \"pct_refinement\": 30,\n",
      "    \"basis_order\": 1,\n",
      "    \"vars\": {\n",
      "        \"Lj\": \"10 nH\",\n",
      "        \"Cj\": \"0 fF\"\n",
      "    }\n",
      "}\u001b[0m\n",
      "INFO 06:59AM [connect_project]: Connecting to Ansys Desktop API...\n",
      "INFO 06:59AM [load_ansys_project]: \tOpened Ansys App\n",
      "INFO 06:59AM [load_ansys_project]: \tOpened Ansys Desktop v2021.2.0\n",
      "INFO 06:59AM [load_ansys_project]: \tOpened Ansys Project\n",
      "\tFolder:    C:/Users/nirpit/Documents/Ansoft/\n",
      "\tProject:   Project196\n",
      "INFO 06:59AM [connect_design]: \tOpened active design\n",
      "\tDesign:    HFSS_LJH [Solution type: DrivenModal]\n",
      "INFO 06:59AM [get_setup]: \tOpened setup `Setup`  (<class 'pyEPR.ansys.HfssDMSetup'>)\n",
      "INFO 06:59AM [connect]: \tConnected to project \"Project196\" and design \"HFSS_LJH\" 😀 \n",
      "\n",
      "06:59AM 12s WARNING [activate_ansys_design]: The design_name=('get_mini_study_scattering_analysis',) was not in active project.  Designs in active project are: \n",
      "['HFSS_LJH'].  A new design will be added to the project.  \n",
      "INFO 06:59AM [connect_design]: \tOpened active design\n",
      "\tDesign:    ('get_mini_study_scattering_analysis',) [Solution type: Eigenmode]\n",
      "WARNING 06:59AM [connect_setup]: \tNo design setup detected.\n",
      "WARNING 06:59AM [connect_setup]: \tCreating eigenmode default setup.\n",
      "INFO 06:59AM [get_setup]: \tOpened setup `Setup`  (<class 'pyEPR.ansys.HfssEMSetup'>)\n",
      "INFO 06:59AM [__del__]: Disconnected from Ansys HFSS\n",
      "\u001b[38;20m[INFO|2025-03-11 06:59:18]: No fine mesh map was found for name_resonator_1\u001b[0m\n",
      "\u001b[38;20m[INFO|2025-03-11 06:59:18]: No fine mesh map was found for name_tee1\u001b[0m\n",
      "INFO 06:59AM [analyze]: Analyzing setup Setup\n",
      "\u001b[33;20m[WARNING|2025-03-11 07:02:24]: No junctions found, skipping EPR analysis.\u001b[0m\n"
     ]
    },
    {
     "name": "stdout",
     "output_type": "stream",
     "text": [
      "Design \"('get_mini_study_scattering_analysis',)\" info:\n",
      "\t# eigenmodes    1\n",
      "\t# variations    1\n",
      "Design \"('get_mini_study_scattering_analysis',)\" info:\n",
      "\t# eigenmodes    1\n",
      "\t# variations    1\n"
     ]
    },
    {
     "data": {
      "text/plain": [
       "{'qubit_1_freq': None,\n",
       " 'qubit_1_purcell_limit_T1': None,\n",
       " 'resonator_1_freq': 7665930840.849999,\n",
       " 'resonator_1_kappa': 131734.6740694,\n",
       " 'qubit_2_freq': None,\n",
       " 'resonator_2_freq': None,\n",
       " 'resonator_2_kappa': None,\n",
       " 'coupler_1to2_freq': None,\n",
       " 'qubit_1_to_qubit_1_nonlin': None,\n",
       " 'qubit_1_to_resonator_1_nonlin': None,\n",
       " 'qubit_2_to_qubit_2_nonlin': None,\n",
       " 'qubit_2_to_resonator_2_nonlin': None,\n",
       " 'prime_cpw_name_tee1_to_second_cpw_name_tee1_capacitance': None}"
      ]
     },
     "execution_count": 9,
     "metadata": {},
     "output_type": "execute_result"
    }
   ],
   "source": [
    "group_runs = 1\n",
    "group_passes = 10\n",
    "delta_f = 0.001\n",
    "for i in range(group_runs):\n",
    "    design_analysis.update_nbr_passes(group_passes)\n",
    "    design_analysis.update_delta_f(delta_f)\n",
    "    design_analysis.optimize_target({}, {})\n",
    "    design_analysis.screenshot(gui=gui, run=i)\n",
    "\n",
    "design_analysis.system_optimized_params"
   ]
  },
  {
   "cell_type": "markdown",
   "metadata": {},
   "source": []
  },
  {
   "cell_type": "code",
   "execution_count": 19,
   "metadata": {},
   "outputs": [],
   "source": [
    "from qdesignoptimizer.design_analysis_types import MiniStudy, ScatteringStudy\n",
    "group = 1\n",
    "resonator = [n.RESONATOR_1, n.RESONATOR_2][group - 1]\n",
    "qiskit_component_names = [n.name_mode(resonator), n.name_tee(group)]\n",
    "Scatterstudy = ScatteringStudy(nbr_passes = 40,\n",
    "                max_delta_s =0.005,\n",
    "                basis_order = 1,\n",
    "                solution_type = \"fast\",\n",
    "                qiskit_component_names=qiskit_component_names,\n",
    "                port_list=[\n",
    "                    (n.name_tee(group), \"prime_end\", 50),\n",
    "                    (n.name_tee(group), \"prime_start\", 50),\n",
    "                ],\n",
    "                open_pins=[(n.name_mode(resonator), \"start\")],\n",
    "                mode=[resonator],\n",
    "                freq_span_ghz = 100e6/1e9,)"
   ]
  },
  {
   "cell_type": "code",
   "execution_count": 20,
   "metadata": {},
   "outputs": [
    {
     "name": "stderr",
     "output_type": "stream",
     "text": [
      "INFO 11:17AM [connect_project]: Connecting to Ansys Desktop API...\n",
      "INFO 11:17AM [load_ansys_project]: \tOpened Ansys App\n",
      "INFO 11:17AM [load_ansys_project]: \tOpened Ansys Desktop v2021.2.0\n",
      "INFO 11:17AM [load_ansys_project]: \tOpened Ansys Project\n",
      "\tFolder:    C:/Users/nirpit/Documents/Ansoft/\n",
      "\tProject:   Project196\n",
      "INFO 11:17AM [connect_design]: \tOpened active design\n",
      "\tDesign:    ('get_mini_study_scattering_analysis',)_drivenmodal [Solution type: DrivenModal]\n",
      "INFO 11:17AM [get_setup]: \tOpened setup `Setup`  (<class 'pyEPR.ansys.HfssDMSetup'>)\n",
      "INFO 11:17AM [connect]: \tConnected to project \"Project196\" and design \"('get_mini_study_scattering_analysis',)_drivenmodal\" 😀 \n",
      "\n",
      "INFO 11:17AM [connect_design]: \tOpened active design\n",
      "\tDesign:    ('get_mini_study_scattering_analysis',)_drivenmodal [Solution type: DrivenModal]\n",
      "INFO 11:17AM [get_setup]: \tOpened setup `Setup`  (<class 'pyEPR.ansys.HfssDMSetup'>)\n"
     ]
    },
    {
     "name": "stdout",
     "output_type": "stream",
     "text": [
      "=============================================\n",
      "Running scattering analysis for resonator_1\n",
      "=============================================\n",
      "step_size KHz 1000.0000000000052\n",
      "7.615930840849999 7.71593084085 100\n"
     ]
    },
    {
     "name": "stderr",
     "output_type": "stream",
     "text": [
      "INFO 11:17AM [get_setup]: \tOpened setup `Setup`  (<class 'pyEPR.ansys.HfssDMSetup'>)\n",
      "INFO 11:17AM [analyze]: Analyzing setup Setup : Sweep4\n"
     ]
    },
    {
     "name": "stdout",
     "output_type": "stream",
     "text": [
      "pinfo_setup\n",
      "solution_freq default 7.66593084085GHz\n"
     ]
    },
    {
     "ename": "LinAlgError",
     "evalue": "SVD did not converge",
     "output_type": "error",
     "traceback": [
      "\u001b[1;31m---------------------------------------------------------------------------\u001b[0m",
      "\u001b[1;31mLinAlgError\u001b[0m                               Traceback (most recent call last)",
      "Cell \u001b[1;32mIn[20], line 1\u001b[0m\n\u001b[1;32m----> 1\u001b[0m probe_freq, Sij \u001b[38;5;241m=\u001b[39m \u001b[43mdesign_analysis\u001b[49m\u001b[38;5;241;43m.\u001b[39;49m\u001b[43mrun_decay\u001b[49m\u001b[43m(\u001b[49m\u001b[43mScatterstudy\u001b[49m\u001b[43m)\u001b[49m\n",
      "File \u001b[1;32mD:\\PhD_All_Code\\QDesignOptimizer\\src\\qdesignoptimizer\\design_analysis.py:680\u001b[0m, in \u001b[0;36mDesignAnalysis.run_decay\u001b[1;34m(self, scatter_study, return_sij)\u001b[0m\n\u001b[0;32m    678\u001b[0m Sij \u001b[38;5;241m=\u001b[39m \u001b[38;5;241m20\u001b[39m\u001b[38;5;241m*\u001b[39mnp\u001b[38;5;241m.\u001b[39mlog10(np\u001b[38;5;241m.\u001b[39mabsolute(Sij_raw))\n\u001b[0;32m    679\u001b[0m port\u001b[38;5;241m.\u001b[39madd_data(probe_freq, Sij_raw)\n\u001b[1;32m--> 680\u001b[0m \u001b[43mport\u001b[49m\u001b[38;5;241;43m.\u001b[39;49m\u001b[43mautofit\u001b[49m\u001b[43m(\u001b[49m\u001b[43m)\u001b[49m\n\u001b[0;32m    681\u001b[0m kappa_target \u001b[38;5;241m=\u001b[39m port\u001b[38;5;241m.\u001b[39mfitresults[\u001b[38;5;124m'\u001b[39m\u001b[38;5;124mfr\u001b[39m\u001b[38;5;124m'\u001b[39m]\u001b[38;5;241m/\u001b[39mport\u001b[38;5;241m.\u001b[39mfitresults[\u001b[38;5;124m'\u001b[39m\u001b[38;5;124mabsQc\u001b[39m\u001b[38;5;124m'\u001b[39m]\n\u001b[0;32m    682\u001b[0m \u001b[38;5;28mprint\u001b[39m(\u001b[38;5;124mf\u001b[39m\u001b[38;5;124m'\u001b[39m\u001b[38;5;124mKappa simualted is \u001b[39m\u001b[38;5;132;01m{\u001b[39;00mkappa_target\u001b[38;5;132;01m}\u001b[39;00m\u001b[38;5;124m'\u001b[39m)\n",
      "File \u001b[1;32mc:\\Users\\nirpit\\AppData\\Local\\anaconda3\\envs\\qdesign-env\\lib\\site-packages\\resonator_tools-0.1-py3.10.egg\\resonator_tools\\circuit.py:436\u001b[0m, in \u001b[0;36mnotch_port.autofit\u001b[1;34m(self, electric_delay, fcrop, Ql_guess, fr_guess)\u001b[0m\n\u001b[0;32m    433\u001b[0m delay, amp_norm, alpha, fr, Ql, A2, frcal \u001b[38;5;241m=\u001b[39m\\\n\u001b[0;32m    434\u001b[0m \t\t\u001b[38;5;28mself\u001b[39m\u001b[38;5;241m.\u001b[39mdo_calibration(\u001b[38;5;28mself\u001b[39m\u001b[38;5;241m.\u001b[39mf_data[\u001b[38;5;28mself\u001b[39m\u001b[38;5;241m.\u001b[39m_fid],\u001b[38;5;28mself\u001b[39m\u001b[38;5;241m.\u001b[39mz_data_raw[\u001b[38;5;28mself\u001b[39m\u001b[38;5;241m.\u001b[39m_fid],ignoreslope\u001b[38;5;241m=\u001b[39m\u001b[38;5;28;01mTrue\u001b[39;00m,guessdelay\u001b[38;5;241m=\u001b[39m\u001b[38;5;28;01mTrue\u001b[39;00m,fixed_delay\u001b[38;5;241m=\u001b[39melectric_delay,Ql_guess\u001b[38;5;241m=\u001b[39mQl_guess, fr_guess\u001b[38;5;241m=\u001b[39mfr_guess)\n\u001b[0;32m    435\u001b[0m \u001b[38;5;28mself\u001b[39m\u001b[38;5;241m.\u001b[39mz_data \u001b[38;5;241m=\u001b[39m \u001b[38;5;28mself\u001b[39m\u001b[38;5;241m.\u001b[39mdo_normalization(\u001b[38;5;28mself\u001b[39m\u001b[38;5;241m.\u001b[39mf_data,\u001b[38;5;28mself\u001b[39m\u001b[38;5;241m.\u001b[39mz_data_raw,delay,amp_norm,alpha,A2,frcal)\n\u001b[1;32m--> 436\u001b[0m \u001b[38;5;28mself\u001b[39m\u001b[38;5;241m.\u001b[39mfitresults \u001b[38;5;241m=\u001b[39m \u001b[38;5;28;43mself\u001b[39;49m\u001b[38;5;241;43m.\u001b[39;49m\u001b[43mcirclefit\u001b[49m\u001b[43m(\u001b[49m\u001b[38;5;28;43mself\u001b[39;49m\u001b[38;5;241;43m.\u001b[39;49m\u001b[43mf_data\u001b[49m\u001b[43m[\u001b[49m\u001b[38;5;28;43mself\u001b[39;49m\u001b[38;5;241;43m.\u001b[39;49m\u001b[43m_fid\u001b[49m\u001b[43m]\u001b[49m\u001b[43m,\u001b[49m\u001b[38;5;28;43mself\u001b[39;49m\u001b[38;5;241;43m.\u001b[39;49m\u001b[43mz_data\u001b[49m\u001b[43m[\u001b[49m\u001b[38;5;28;43mself\u001b[39;49m\u001b[38;5;241;43m.\u001b[39;49m\u001b[43m_fid\u001b[49m\u001b[43m]\u001b[49m\u001b[43m,\u001b[49m\u001b[43mfr\u001b[49m\u001b[43m,\u001b[49m\u001b[43mQl\u001b[49m\u001b[43m,\u001b[49m\u001b[43mrefine_results\u001b[49m\u001b[38;5;241;43m=\u001b[39;49m\u001b[38;5;28;43;01mFalse\u001b[39;49;00m\u001b[43m,\u001b[49m\u001b[43mcalc_errors\u001b[49m\u001b[38;5;241;43m=\u001b[39;49m\u001b[38;5;28;43;01mTrue\u001b[39;49;00m\u001b[43m)\u001b[49m\n\u001b[0;32m    437\u001b[0m \u001b[38;5;28mself\u001b[39m\u001b[38;5;241m.\u001b[39mz_data_sim \u001b[38;5;241m=\u001b[39m A2\u001b[38;5;241m*\u001b[39m(\u001b[38;5;28mself\u001b[39m\u001b[38;5;241m.\u001b[39mf_data\u001b[38;5;241m-\u001b[39mfrcal)\u001b[38;5;241m+\u001b[39m\u001b[38;5;28mself\u001b[39m\u001b[38;5;241m.\u001b[39m_S21_notch(\u001b[38;5;28mself\u001b[39m\u001b[38;5;241m.\u001b[39mf_data,fr\u001b[38;5;241m=\u001b[39m\u001b[38;5;28mself\u001b[39m\u001b[38;5;241m.\u001b[39mfitresults[\u001b[38;5;124m\"\u001b[39m\u001b[38;5;124mfr\u001b[39m\u001b[38;5;124m\"\u001b[39m],Ql\u001b[38;5;241m=\u001b[39m\u001b[38;5;28mself\u001b[39m\u001b[38;5;241m.\u001b[39mfitresults[\u001b[38;5;124m\"\u001b[39m\u001b[38;5;124mQl\u001b[39m\u001b[38;5;124m\"\u001b[39m],Qc\u001b[38;5;241m=\u001b[39m\u001b[38;5;28mself\u001b[39m\u001b[38;5;241m.\u001b[39mfitresults[\u001b[38;5;124m\"\u001b[39m\u001b[38;5;124mabsQc\u001b[39m\u001b[38;5;124m\"\u001b[39m],phi\u001b[38;5;241m=\u001b[39m\u001b[38;5;28mself\u001b[39m\u001b[38;5;241m.\u001b[39mfitresults[\u001b[38;5;124m\"\u001b[39m\u001b[38;5;124mphi0\u001b[39m\u001b[38;5;124m\"\u001b[39m],a\u001b[38;5;241m=\u001b[39mamp_norm,alpha\u001b[38;5;241m=\u001b[39malpha,delay\u001b[38;5;241m=\u001b[39mdelay)\n\u001b[0;32m    438\u001b[0m \u001b[38;5;28mself\u001b[39m\u001b[38;5;241m.\u001b[39mz_data_sim_norm \u001b[38;5;241m=\u001b[39m \u001b[38;5;28mself\u001b[39m\u001b[38;5;241m.\u001b[39m_S21_notch(\u001b[38;5;28mself\u001b[39m\u001b[38;5;241m.\u001b[39mf_data,fr\u001b[38;5;241m=\u001b[39m\u001b[38;5;28mself\u001b[39m\u001b[38;5;241m.\u001b[39mfitresults[\u001b[38;5;124m\"\u001b[39m\u001b[38;5;124mfr\u001b[39m\u001b[38;5;124m\"\u001b[39m],Ql\u001b[38;5;241m=\u001b[39m\u001b[38;5;28mself\u001b[39m\u001b[38;5;241m.\u001b[39mfitresults[\u001b[38;5;124m\"\u001b[39m\u001b[38;5;124mQl\u001b[39m\u001b[38;5;124m\"\u001b[39m],Qc\u001b[38;5;241m=\u001b[39m\u001b[38;5;28mself\u001b[39m\u001b[38;5;241m.\u001b[39mfitresults[\u001b[38;5;124m\"\u001b[39m\u001b[38;5;124mabsQc\u001b[39m\u001b[38;5;124m\"\u001b[39m],phi\u001b[38;5;241m=\u001b[39m\u001b[38;5;28mself\u001b[39m\u001b[38;5;241m.\u001b[39mfitresults[\u001b[38;5;124m\"\u001b[39m\u001b[38;5;124mphi0\u001b[39m\u001b[38;5;124m\"\u001b[39m],a\u001b[38;5;241m=\u001b[39m\u001b[38;5;241m1.0\u001b[39m,alpha\u001b[38;5;241m=\u001b[39m\u001b[38;5;241m0.\u001b[39m,delay\u001b[38;5;241m=\u001b[39m\u001b[38;5;241m0.\u001b[39m)\n",
      "File \u001b[1;32mc:\\Users\\nirpit\\AppData\\Local\\anaconda3\\envs\\qdesign-env\\lib\\site-packages\\resonator_tools-0.1-py3.10.egg\\resonator_tools\\circuit.py:373\u001b[0m, in \u001b[0;36mnotch_port.circlefit\u001b[1;34m(self, f_data, z_data, fr, Ql, refine_results, calc_errors)\u001b[0m\n\u001b[0;32m    371\u001b[0m \u001b[38;5;28;01mif\u001b[39;00m fr \u001b[38;5;129;01mis\u001b[39;00m \u001b[38;5;28;01mNone\u001b[39;00m: fr\u001b[38;5;241m=\u001b[39mf_data[np\u001b[38;5;241m.\u001b[39margmin(np\u001b[38;5;241m.\u001b[39mabsolute(z_data))]\n\u001b[0;32m    372\u001b[0m \u001b[38;5;28;01mif\u001b[39;00m Ql \u001b[38;5;129;01mis\u001b[39;00m \u001b[38;5;28;01mNone\u001b[39;00m: Ql\u001b[38;5;241m=\u001b[39m\u001b[38;5;241m1e6\u001b[39m\n\u001b[1;32m--> 373\u001b[0m xc, yc, r0 \u001b[38;5;241m=\u001b[39m \u001b[38;5;28;43mself\u001b[39;49m\u001b[38;5;241;43m.\u001b[39;49m\u001b[43m_fit_circle\u001b[49m\u001b[43m(\u001b[49m\u001b[43mz_data\u001b[49m\u001b[43m,\u001b[49m\u001b[43mrefine_results\u001b[49m\u001b[38;5;241;43m=\u001b[39;49m\u001b[43mrefine_results\u001b[49m\u001b[43m)\u001b[49m\n\u001b[0;32m    374\u001b[0m phi0 \u001b[38;5;241m=\u001b[39m \u001b[38;5;241m-\u001b[39mnp\u001b[38;5;241m.\u001b[39marcsin(yc\u001b[38;5;241m/\u001b[39mr0)\n\u001b[0;32m    375\u001b[0m theta0 \u001b[38;5;241m=\u001b[39m \u001b[38;5;28mself\u001b[39m\u001b[38;5;241m.\u001b[39m_periodic_boundary(phi0\u001b[38;5;241m+\u001b[39mnp\u001b[38;5;241m.\u001b[39mpi,np\u001b[38;5;241m.\u001b[39mpi)\n",
      "File \u001b[1;32mc:\\Users\\nirpit\\AppData\\Local\\anaconda3\\envs\\qdesign-env\\lib\\site-packages\\resonator_tools-0.1-py3.10.egg\\resonator_tools\\circlefit.py:158\u001b[0m, in \u001b[0;36mcirclefit._fit_circle\u001b[1;34m(self, z_data, refine_results)\u001b[0m\n\u001b[0;32m    155\u001b[0m     M[\u001b[38;5;241m2\u001b[39m][\u001b[38;5;241m2\u001b[39m] \u001b[38;5;241m=\u001b[39m M[\u001b[38;5;241m2\u001b[39m][\u001b[38;5;241m2\u001b[39m]\u001b[38;5;241m-\u001b[39mval\n\u001b[0;32m    156\u001b[0m     \u001b[38;5;28;01mreturn\u001b[39;00m np\u001b[38;5;241m.\u001b[39mlinalg\u001b[38;5;241m.\u001b[39msvd(M)\n\u001b[1;32m--> 158\u001b[0m U,s,Vt \u001b[38;5;241m=\u001b[39m \u001b[43msolve_eq_sys\u001b[49m\u001b[43m(\u001b[49m\u001b[43mx0\u001b[49m\u001b[43m[\u001b[49m\u001b[38;5;241;43m0\u001b[39;49m\u001b[43m]\u001b[49m\u001b[43m,\u001b[49m\u001b[43mM\u001b[49m\u001b[43m)\u001b[49m\n\u001b[0;32m    160\u001b[0m A_vec \u001b[38;5;241m=\u001b[39m Vt[np\u001b[38;5;241m.\u001b[39margmin(s),:]\n\u001b[0;32m    162\u001b[0m xc \u001b[38;5;241m=\u001b[39m \u001b[38;5;241m-\u001b[39mA_vec[\u001b[38;5;241m1\u001b[39m]\u001b[38;5;241m/\u001b[39m(\u001b[38;5;241m2.\u001b[39m\u001b[38;5;241m*\u001b[39mA_vec[\u001b[38;5;241m0\u001b[39m])\n",
      "File \u001b[1;32mc:\\Users\\nirpit\\AppData\\Local\\anaconda3\\envs\\qdesign-env\\lib\\site-packages\\resonator_tools-0.1-py3.10.egg\\resonator_tools\\circlefit.py:156\u001b[0m, in \u001b[0;36mcirclefit._fit_circle.<locals>.solve_eq_sys\u001b[1;34m(val, M)\u001b[0m\n\u001b[0;32m    154\u001b[0m M[\u001b[38;5;241m1\u001b[39m][\u001b[38;5;241m1\u001b[39m] \u001b[38;5;241m=\u001b[39m M[\u001b[38;5;241m1\u001b[39m][\u001b[38;5;241m1\u001b[39m]\u001b[38;5;241m-\u001b[39mval\n\u001b[0;32m    155\u001b[0m M[\u001b[38;5;241m2\u001b[39m][\u001b[38;5;241m2\u001b[39m] \u001b[38;5;241m=\u001b[39m M[\u001b[38;5;241m2\u001b[39m][\u001b[38;5;241m2\u001b[39m]\u001b[38;5;241m-\u001b[39mval\n\u001b[1;32m--> 156\u001b[0m \u001b[38;5;28;01mreturn\u001b[39;00m \u001b[43mnp\u001b[49m\u001b[38;5;241;43m.\u001b[39;49m\u001b[43mlinalg\u001b[49m\u001b[38;5;241;43m.\u001b[39;49m\u001b[43msvd\u001b[49m\u001b[43m(\u001b[49m\u001b[43mM\u001b[49m\u001b[43m)\u001b[49m\n",
      "File \u001b[1;32mc:\\Users\\nirpit\\AppData\\Local\\anaconda3\\envs\\qdesign-env\\lib\\site-packages\\numpy\\linalg\\linalg.py:1681\u001b[0m, in \u001b[0;36msvd\u001b[1;34m(a, full_matrices, compute_uv, hermitian)\u001b[0m\n\u001b[0;32m   1678\u001b[0m         gufunc \u001b[38;5;241m=\u001b[39m _umath_linalg\u001b[38;5;241m.\u001b[39msvd_n_s\n\u001b[0;32m   1680\u001b[0m signature \u001b[38;5;241m=\u001b[39m \u001b[38;5;124m'\u001b[39m\u001b[38;5;124mD->DdD\u001b[39m\u001b[38;5;124m'\u001b[39m \u001b[38;5;28;01mif\u001b[39;00m isComplexType(t) \u001b[38;5;28;01melse\u001b[39;00m \u001b[38;5;124m'\u001b[39m\u001b[38;5;124md->ddd\u001b[39m\u001b[38;5;124m'\u001b[39m\n\u001b[1;32m-> 1681\u001b[0m u, s, vh \u001b[38;5;241m=\u001b[39m \u001b[43mgufunc\u001b[49m\u001b[43m(\u001b[49m\u001b[43ma\u001b[49m\u001b[43m,\u001b[49m\u001b[43m \u001b[49m\u001b[43msignature\u001b[49m\u001b[38;5;241;43m=\u001b[39;49m\u001b[43msignature\u001b[49m\u001b[43m,\u001b[49m\u001b[43m \u001b[49m\u001b[43mextobj\u001b[49m\u001b[38;5;241;43m=\u001b[39;49m\u001b[43mextobj\u001b[49m\u001b[43m)\u001b[49m\n\u001b[0;32m   1682\u001b[0m u \u001b[38;5;241m=\u001b[39m u\u001b[38;5;241m.\u001b[39mastype(result_t, copy\u001b[38;5;241m=\u001b[39m\u001b[38;5;28;01mFalse\u001b[39;00m)\n\u001b[0;32m   1683\u001b[0m s \u001b[38;5;241m=\u001b[39m s\u001b[38;5;241m.\u001b[39mastype(_realType(result_t), copy\u001b[38;5;241m=\u001b[39m\u001b[38;5;28;01mFalse\u001b[39;00m)\n",
      "File \u001b[1;32mc:\\Users\\nirpit\\AppData\\Local\\anaconda3\\envs\\qdesign-env\\lib\\site-packages\\numpy\\linalg\\linalg.py:121\u001b[0m, in \u001b[0;36m_raise_linalgerror_svd_nonconvergence\u001b[1;34m(err, flag)\u001b[0m\n\u001b[0;32m    120\u001b[0m \u001b[38;5;28;01mdef\u001b[39;00m \u001b[38;5;21m_raise_linalgerror_svd_nonconvergence\u001b[39m(err, flag):\n\u001b[1;32m--> 121\u001b[0m     \u001b[38;5;28;01mraise\u001b[39;00m LinAlgError(\u001b[38;5;124m\"\u001b[39m\u001b[38;5;124mSVD did not converge\u001b[39m\u001b[38;5;124m\"\u001b[39m)\n",
      "\u001b[1;31mLinAlgError\u001b[0m: SVD did not converge"
     ]
    }
   ],
   "source": [
    "probe_freq, Sij = design_analysis.run_decay(Scatterstudy)"
   ]
  },
  {
   "cell_type": "code",
   "execution_count": 13,
   "metadata": {},
   "outputs": [
    {
     "data": {
      "text/plain": [
       "1000000.0"
      ]
     },
     "execution_count": 13,
     "metadata": {},
     "output_type": "execute_result"
    }
   ],
   "source": [
    "design_analysis.kappa_target"
   ]
  },
  {
   "cell_type": "code",
   "execution_count": null,
   "metadata": {},
   "outputs": [],
   "source": [
    "import matplotlib.pyplot as plt\n",
    "import numpy as np\n",
    "\n",
    "def plot(probe_freq,Sij):\n",
    "    real = Sij.real\n",
    "    imag = Sij.imag\n",
    "    # Setting a clean style\n",
    "    plt.style.use('ggplot')\n",
    "\n",
    "    # Creating subplots with a better layout\n",
    "    fig, axs = plt.subplots(1,3, figsize=(10,5), constrained_layout=True)\n",
    "\n",
    "    # Subplot 1: Complex plane (Re vs Im)\n",
    "    axs[0].plot(real, imag, label='Raw Data', color='blue', linestyle='-', marker='o', markersize=4)\n",
    "\n",
    "    axs[0].set_xlabel('Re(S21)', fontsize=12)\n",
    "    axs[0].set_ylabel('Im(S21)', fontsize=12)\n",
    "    axs[0].legend(fontsize=10)\n",
    "    axs[0].set_title('Complex Plane', fontsize=14)\n",
    "\n",
    "    # Subplot 2: Magnitude vs Frequency\n",
    "    axs[1].plot(probe_freq * 1e-9, np.abs(Sij), label='Raw Data', color='green', linewidth=1.5)\n",
    "\n",
    "    axs[1].set_xlabel('f (GHz)', fontsize=12)\n",
    "    axs[1].set_ylabel('|S21|', fontsize=12)\n",
    "    axs[1].legend(fontsize=10)\n",
    "    axs[1].set_title('Magnitude vs Frequency', fontsize=14)\n",
    "\n",
    "    # Subplot 3: Phase vs Frequency\n",
    "    axs[2].plot(probe_freq * 1e-9, np.angle(Sij), label='Raw Data', color='purple', linewidth=1.5)\n",
    "\n",
    "    axs[2].set_xlabel('f (GHz)', fontsize=12)\n",
    "    axs[2].set_ylabel('arg(|S21|)', fontsize=12)\n",
    "    axs[2].legend(fontsize=10)\n",
    "    axs[2].set_title('Phase vs Frequency', fontsize=14)\n",
    "\n",
    "\n",
    "    # Adding a global title\n",
    "    fig.suptitle('Improved Visualization of S21 Data', fontsize=16)\n",
    "\n",
    "    # Displaying the plot\n",
    "    plt.show()"
   ]
  },
  {
   "cell_type": "code",
   "execution_count": null,
   "metadata": {},
   "outputs": [],
   "source": [
    "\n",
    "# plot(probe_freq,Sij)\n",
    " \n",
    "# clip frequency between 7.175 to 7.177 GHz using numpy\n",
    "\n",
    "clip_freq = probe_freq[np.logical_and(probe_freq >= 7.416e9, probe_freq <= 7.417e9)]\n",
    "clip_signal = Sij[np.logical_and(probe_freq >= 7.416e9, probe_freq <= 7.417e9)]\n",
    "\n",
    "plot(clip_freq,clip_signal)\n",
    "\n"
   ]
  },
  {
   "cell_type": "code",
   "execution_count": null,
   "metadata": {},
   "outputs": [],
   "source": [
    "from resonator_tools import circuit\n",
    "\n",
    "port = circuit.notch_port()\n",
    "\n",
    "port.add_data(clip_freq, clip_signal)\n",
    "port.autofit()\n",
    "port.plotall()\n",
    "port.fitresults['fr']/port.fitresults['Ql']"
   ]
  },
  {
   "cell_type": "code",
   "execution_count": null,
   "metadata": {},
   "outputs": [],
   "source": [
    "port.\n"
   ]
  },
  {
   "cell_type": "code",
   "execution_count": null,
   "metadata": {},
   "outputs": [],
   "source": [
    "port.fitresults['fr']/4965"
   ]
  },
  {
   "cell_type": "markdown",
   "metadata": {},
   "source": [
    "## View Optimization results"
   ]
  },
  {
   "cell_type": "code",
   "execution_count": null,
   "metadata": {},
   "outputs": [],
   "source": [
    "design_analysis.get_cross_kerr_matrix(iteration=-1)"
   ]
  },
  {
   "cell_type": "code",
   "execution_count": null,
   "metadata": {},
   "outputs": [],
   "source": [
    "design_analysis.get_eigenmode_results()"
   ]
  },
  {
   "cell_type": "code",
   "execution_count": null,
   "metadata": {},
   "outputs": [],
   "source": [
    "close_ansys()"
   ]
  },
  {
   "cell_type": "code",
   "execution_count": null,
   "metadata": {},
   "outputs": [],
   "source": [
    "from resonator_tools import circuit"
   ]
  },
  {
   "cell_type": "code",
   "execution_count": null,
   "metadata": {},
   "outputs": [],
   "source": [
    "port = circuit.notch_port()\n"
   ]
  },
  {
   "cell_type": "code",
   "execution_count": null,
   "metadata": {},
   "outputs": [],
   "source": []
  },
  {
   "cell_type": "code",
   "execution_count": null,
   "metadata": {},
   "outputs": [],
   "source": []
  }
 ],
 "metadata": {
  "kernelspec": {
   "display_name": "qdesign-env",
   "language": "python",
   "name": "python3"
  },
  "language_info": {
   "codemirror_mode": {
    "name": "ipython",
    "version": 3
   },
   "file_extension": ".py",
   "mimetype": "text/x-python",
   "name": "python",
   "nbconvert_exporter": "python",
   "pygments_lexer": "ipython3",
   "version": "3.10.0"
  }
 },
 "nbformat": 4,
 "nbformat_minor": 2
}
