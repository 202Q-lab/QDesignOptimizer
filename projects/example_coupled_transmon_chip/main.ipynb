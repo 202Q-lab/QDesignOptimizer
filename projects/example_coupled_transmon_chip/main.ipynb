{
 "cells": [
  {
   "cell_type": "markdown",
   "metadata": {},
   "source": [
    "# Example 2: Coupled Transmon Qubits"
   ]
  },
  {
   "cell_type": "code",
   "execution_count": 1,
   "metadata": {},
   "outputs": [],
   "source": [
    "%load_ext autoreload\n",
    "%autoreload 2\n",
    "import time"
   ]
  },
  {
   "cell_type": "code",
   "execution_count": 2,
   "metadata": {},
   "outputs": [],
   "source": [
    "import json\n",
    "import design as d\n",
    "import names as n\n",
    "\n",
    "with open(\"design_variables.json\") as in_file:\n",
    "    initial_design_variables = json.load(in_file)\n",
    "\n",
    "from qdesignoptimizer.utils.chip_generation import create_chip_base, ChipType\n",
    "from qdesignoptimizer.utils.utils import close_ansys"
   ]
  },
  {
   "cell_type": "markdown",
   "metadata": {},
   "source": [
    "## Design assembly"
   ]
  },
  {
   "cell_type": "code",
   "execution_count": 3,
   "metadata": {},
   "outputs": [],
   "source": [
    "CHIP_NAME = \"multi_transmon_chip\"\n",
    "OPEN_GUI = True\n",
    "chip_type = ChipType(size_x=\"10mm\", size_y=\"10mm\", size_z=\"-300um\")\n",
    "design, gui = create_chip_base(\n",
    "    chip_name=CHIP_NAME, chip_type=chip_type, open_gui=OPEN_GUI\n",
    ")\n",
    "\n",
    "n.add_design_variables_to_design(design, initial_design_variables)"
   ]
  },
  {
   "cell_type": "code",
   "execution_count": 4,
   "metadata": {},
   "outputs": [],
   "source": [
    "def render_qiskit_metal_design(design, gui):\n",
    "    d.add_transmon_plus_resonator(design, group=n.GROUP_1)\n",
    "    d.add_transmon_plus_resonator(design, group=n.GROUP_2)\n",
    "\n",
    "    d.add_coupler(design)\n",
    "\n",
    "    d.add_route_interconnects(design)\n",
    "\n",
    "    d.add_launch_pads(design)\n",
    "\n",
    "    d.add_chargeline(design, group=n.GROUP_1)\n",
    "    d.add_chargeline(design, group=n.GROUP_2)\n",
    "\n",
    "    gui.rebuild()\n",
    "    gui.autoscale()\n",
    "\n",
    "\n",
    "render_qiskit_metal_design(design, gui)"
   ]
  },
  {
   "cell_type": "markdown",
   "metadata": {},
   "source": [
    "## MiniStudies"
   ]
  },
  {
   "cell_type": "code",
   "execution_count": 5,
   "metadata": {},
   "outputs": [],
   "source": [
    "import mini_studies as ms\n",
    "import optimization_targets as ot\n",
    "import parameter_targets as pt\n",
    "import plot_settings as ps\n",
    "\n",
    "from qdesignoptimizer.design_analysis import DesignAnalysis, DesignAnalysisState\n",
    "from qiskit_metal.qlibrary.couplers.coupled_line_tee import CoupledLineTee\n",
    "from qdesignoptimizer.design_analysis_types import MeshingMap"
   ]
  },
  {
   "cell_type": "markdown",
   "metadata": {},
   "source": [
    "### Single resonator-qubit system\n",
    "Useful when first tuning up subsystems"
   ]
  },
  {
   "cell_type": "code",
   "execution_count": null,
   "metadata": {},
   "outputs": [],
   "source": [
    "def CoupledLineTee_mesh_names(comp_names):\n",
    "    all_names_to_mesh = [f\"prime_cpw_{comp_names}\", f\"second_cpw_{comp_names}\"]\n",
    "    return all_names_to_mesh"
   ]
  },
  {
   "cell_type": "code",
   "execution_count": null,
   "metadata": {},
   "outputs": [],
   "source": [
    "MINI_STUDY_GROUP = n.GROUP_1\n",
    "MINI_STUDY = ms.get_mini_study_qb_res(group=MINI_STUDY_GROUP)\n",
    "RENDER_QISKIT_METAL = lambda design: render_qiskit_metal_design(design, gui)\n",
    "\n",
    "opt_targets = ot.get_opt_targets_2qubits_resonator_coupler(\n",
    "    groups=[MINI_STUDY_GROUP],\n",
    "    opt_target_qubit_freq=True,\n",
    "    opt_target_qubit_anharm=True,\n",
    "    opt_target_resonator_freq=True,\n",
    "    opt_target_resonator_kappa=False,\n",
    "    opt_target_resonator_qubit_chi=True,\n",
    ")"
   ]
  },
  {
   "cell_type": "code",
   "execution_count": null,
   "metadata": {},
   "outputs": [],
   "source": [
    "design_analysis_state = DesignAnalysisState(\n",
    "    design, RENDER_QISKIT_METAL, pt.PARAM_TARGETS\n",
    ")\n",
    "design_analysis = DesignAnalysis(\n",
    "    design_analysis_state,\n",
    "    mini_study=MINI_STUDY,\n",
    "    opt_targets=opt_targets,\n",
    "    save_path=\"out/\" + CHIP_NAME + \"_\" + time.strftime(\"%Y%m%d-%H%M%S\"),\n",
    "    update_design_variables=False,\n",
    "    plot_settings=ps.PLOT_SETTINGS,\n",
    "    meshing_map=[\n",
    "        MeshingMap(component_class=CoupledLineTee, mesh_names=CoupledLineTee_mesh_names)\n",
    "    ],\n",
    ")\n",
    "\n",
    "group_runs = 2  # 10\n",
    "group_passes = 2  # 6\n",
    "delta_f = 0.001\n",
    "for i in range(group_runs):\n",
    "    design_analysis.update_nbr_passes(group_passes)\n",
    "    design_analysis.update_delta_f(delta_f)\n",
    "    design_analysis.optimize_target({}, {})\n",
    "    design_analysis.screenshot(gui=gui, run=i)"
   ]
  },
  {
   "cell_type": "code",
   "execution_count": null,
   "metadata": {},
   "outputs": [],
   "source": [
    "design_analysis.overwrite_parameters()"
   ]
  },
  {
   "cell_type": "markdown",
   "metadata": {},
   "source": [
    "### Two qubit-resonator system"
   ]
  },
  {
   "cell_type": "code",
   "execution_count": null,
   "metadata": {},
   "outputs": [],
   "source": [
    "MINI_STUDY = ms.get_mini_study_2qb_resonator_coupler()\n",
    "RENDER_QISKIT_METAL = lambda design: render_qiskit_metal_design(design, gui)\n",
    "\n",
    "opt_targets = ot.get_opt_targets_2qubits_resonator_coupler(\n",
    "    groups=[n.GROUP_1, n.GROUP_2],\n",
    "    opt_target_qubit_freq=True,\n",
    "    opt_target_qubit_anharm=True,\n",
    "    opt_target_resonator_freq=True,\n",
    "    opt_target_resonator_kappa=False,\n",
    "    opt_target_resonator_qubit_chi=True,\n",
    "    opt_target_coupler_freq=True,\n",
    ")"
   ]
  },
  {
   "cell_type": "code",
   "execution_count": null,
   "metadata": {},
   "outputs": [],
   "source": [
    "design_analysis_state = DesignAnalysisState(\n",
    "    design, RENDER_QISKIT_METAL, pt.PARAM_TARGETS\n",
    ")\n",
    "design_analysis = DesignAnalysis(\n",
    "    design_analysis_state,\n",
    "    mini_study=MINI_STUDY,\n",
    "    opt_targets=opt_targets,\n",
    "    save_path=\"out/\" + CHIP_NAME + \"_\" + time.strftime(\"%Y%m%d-%H%M%S\"),\n",
    "    update_design_variables=False,\n",
    "    plot_settings=ps.PLOT_SETTINGS_TWO_QB,\n",
    ")\n",
    "\n",
    "group_runs = 2\n",
    "group_passes = 6\n",
    "delta_f = 0.001\n",
    "for i in range(group_runs):\n",
    "    design_analysis.update_nbr_passes(group_passes)\n",
    "    design_analysis.update_delta_f(delta_f)\n",
    "    design_analysis.optimize_target({}, {})\n",
    "    design_analysis.screenshot(gui=gui, run=i)"
   ]
  },
  {
   "cell_type": "code",
   "execution_count": null,
   "metadata": {},
   "outputs": [],
   "source": [
    "design_analysis.overwrite_parameters()"
   ]
  },
  {
   "cell_type": "markdown",
   "metadata": {},
   "source": [
    "### Purcell decay into charge line"
   ]
  },
  {
   "cell_type": "markdown",
   "metadata": {},
   "source": [
    "The T1 of the qubit is limited by its decay into the charge line. This ministudy will change the distance of the charge line from the transmon pocket to optimize a T1 limit of 1 ms. This value is computed with simple capacitance matrix simulations and a classical model, assuming that the qubit frequency has already been optimized."
   ]
  },
  {
   "cell_type": "code",
   "execution_count": 6,
   "metadata": {},
   "outputs": [],
   "source": [
    "close_ansys()"
   ]
  },
  {
   "cell_type": "code",
   "execution_count": 7,
   "metadata": {},
   "outputs": [],
   "source": [
    "MINI_STUDY_GROUP = 1\n",
    "MINI_STUDY = ms.get_mini_study_qb_charge_line(group=MINI_STUDY_GROUP)\n",
    "opt_targets = ot.get_opt_targets_qb_charge_line(group=MINI_STUDY_GROUP)\n",
    "RENDER_QISKIT_METAL = lambda design: render_qiskit_metal_design(design, gui)"
   ]
  },
  {
   "cell_type": "code",
   "execution_count": 8,
   "metadata": {},
   "outputs": [
    {
     "name": "stderr",
     "output_type": "stream",
     "text": [
      "\u001b[38;20m[INFO|2025-03-03 15:22:53]: self.eig_solver.sim.setup \n",
      "{\n",
      "    \"name\": \"Resonator_setup\",\n",
      "    \"reuse_selected_design\": true,\n",
      "    \"reuse_setup\": true,\n",
      "    \"min_freq_ghz\": 1,\n",
      "    \"n_modes\": 1,\n",
      "    \"max_delta_f\": 0.5,\n",
      "    \"max_passes\": 10,\n",
      "    \"min_passes\": 1,\n",
      "    \"min_converged\": 1,\n",
      "    \"pct_refinement\": 30,\n",
      "    \"basis_order\": 1,\n",
      "    \"vars\": {\n",
      "        \"Lj\": \"10 nH\",\n",
      "        \"Cj\": \"0 fF\"\n",
      "    }\n",
      "}\u001b[0m\n",
      "INFO 03:23PM [connect_project]: Connecting to Ansys Desktop API...\n",
      "INFO 03:23PM [load_ansys_project]: \tOpened Ansys App\n",
      "INFO 03:23PM [load_ansys_project]: \tOpened Ansys Desktop v2021.2.0\n",
      "INFO 03:23PM [load_ansys_project]: \tOpened Ansys Project\n",
      "\tFolder:    C:/Users/lukassp/Documents/Ansoft/\n",
      "\tProject:   Project198\n",
      "INFO 03:23PM [connect_design]: No active design found (or error getting active design).\n",
      "INFO 03:23PM [connect]: \t Connected to project \"Project198\". No design detected\n",
      "03:23PM 00s WARNING [activate_ansys_design]: The design_name=get_mini_study_qb_charge_line was not in active project.  Designs in active project are: \n",
      "[].  A new design will be added to the project.  \n",
      "INFO 03:23PM [connect_design]: \tOpened active design\n",
      "\tDesign:    get_mini_study_qb_charge_line [Solution type: Eigenmode]\n",
      "WARNING 03:23PM [connect_setup]: \tNo design setup detected.\n",
      "WARNING 03:23PM [connect_setup]: \tCreating eigenmode default setup.\n",
      "INFO 03:23PM [get_setup]: \tOpened setup `Setup`  (<class 'pyEPR.ansys.HfssEMSetup'>)\n"
     ]
    }
   ],
   "source": [
    "# %matplotlib inline\n",
    "design_analysis_state = DesignAnalysisState(\n",
    "    design, RENDER_QISKIT_METAL, pt.PARAM_TARGETS\n",
    ")\n",
    "design_analysis = DesignAnalysis(\n",
    "    design_analysis_state,\n",
    "    mini_study=MINI_STUDY,\n",
    "    opt_targets=opt_targets,\n",
    "    save_path=\"out/\" + CHIP_NAME + \"_\" + time.strftime(\"%Y%m%d-%H%M%S\"),\n",
    "    update_design_variables=False,\n",
    "    plot_settings=ps.PLOT_SETTINGS_CHARGE_LINE_DECAY,\n",
    ")"
   ]
  },
  {
   "cell_type": "code",
   "execution_count": 9,
   "metadata": {},
   "outputs": [
    {
     "name": "stderr",
     "output_type": "stream",
     "text": [
      "\u001b[38;20m[INFO|2025-03-03 15:23:02]: Updated_design_vars\n",
      "{\n",
      "    \"cpw_width\": \"10 um\",\n",
      "    \"cpw_gap\": \"6 um\",\n",
      "    \"design_var_width_qubit_1\": \"400um\",\n",
      "    \"design_var_width_qubit_2\": \"400um\",\n",
      "    \"design_var_cl_pos_x_qubit_1\": \"-2600um\",\n",
      "    \"design_var_cl_pos_y_qubit_1\": \"-1800um\",\n",
      "    \"design_var_cl_pos_x_qubit_2\": \"-2600um\",\n",
      "    \"design_var_cl_pos_y_qubit_2\": \"1800um\",\n",
      "    \"design_var_length_resonator_1_capacitance\": \"20um\",\n",
      "    \"design_var_length_resonator_2_capacitance\": \"20um\",\n",
      "    \"design_var_lj_qubit_1\": \"12.1nH\",\n",
      "    \"design_var_lj_qubit_2\": \"9.1nH\",\n",
      "    \"design_var_cj_qubit_1\": \"0fF\",\n",
      "    \"design_var_cj_qubit_2\": \"0fF\",\n",
      "    \"design_var_length_resonator_1\": \"7500um\",\n",
      "    \"design_var_length_resonator_2\": \"6500um\",\n",
      "    \"design_var_length_coupler_1to2\": \"4000um\",\n",
      "    \"design_var_coupl_length_qubit_1_resonator_1\": \"100um\",\n",
      "    \"design_var_coupl_length_qubit_2_resonator_2\": \"100um\",\n",
      "    \"design_var_coupl_length_resonator_1_tee\": \"170um\",\n",
      "    \"design_var_coupl_length_resonator_2_tee\": \"160um\"\n",
      "}\u001b[0m\n",
      "\u001b[38;20m[INFO|2025-03-03 15:23:02]: Simulating capacitance matrix study.\u001b[0m\n",
      "INFO 03:23PM [connect_project]: Connecting to Ansys Desktop API...\n",
      "INFO 03:23PM [load_ansys_project]: \tOpened Ansys App\n",
      "INFO 03:23PM [load_ansys_project]: \tOpened Ansys Desktop v2021.2.0\n",
      "INFO 03:23PM [load_ansys_project]: \tOpened Ansys Project\n",
      "\tFolder:    C:/Users/lukassp/Documents/Ansoft/\n",
      "\tProject:   Project198\n",
      "INFO 03:23PM [connect_design]: \tOpened active design\n",
      "\tDesign:    get_mini_study_qb_charge_line [Solution type: Eigenmode]\n",
      "INFO 03:23PM [get_setup]: \tOpened setup `Setup`  (<class 'pyEPR.ansys.HfssEMSetup'>)\n",
      "INFO 03:23PM [connect]: \tConnected to project \"Project198\" and design \"get_mini_study_qb_charge_line\" 😀 \n",
      "\n",
      "INFO 03:23PM [connect_design]: \tOpened active design\n",
      "\tDesign:    Design_q3d [Solution type: Q3D]\n",
      "WARNING 03:23PM [connect_setup]: \tNo design setup detected.\n",
      "WARNING 03:23PM [connect_setup]: \tCreating Q3D default setup.\n",
      "INFO 03:23PM [get_setup]: \tOpened setup `Setup`  (<class 'pyEPR.ansys.AnsysQ3DSetup'>)\n",
      "INFO 03:23PM [get_setup]: \tOpened setup `Setup`  (<class 'pyEPR.ansys.AnsysQ3DSetup'>)\n",
      "INFO 03:23PM [analyze]: Analyzing setup Setup\n",
      "INFO 03:23PM [get_matrix]: Exporting matrix data to (C:\\Users\\lukassp\\AppData\\Local\\Temp\\tmpbar7b_37.txt, C, , Setup:LastAdaptive, \"Original\", \"ohm\", \"nH\", \"fF\", \"mSie\", 5000000000, Maxwell, 1, False\n",
      "INFO 03:23PM [get_matrix]: Exporting matrix data to (C:\\Users\\lukassp\\AppData\\Local\\Temp\\tmpbuxywhmh.txt, C, , Setup:AdaptivePass, \"Original\", \"ohm\", \"nH\", \"fF\", \"mSie\", 5000000000, Maxwell, 1, False\n",
      "INFO 03:23PM [get_matrix]: Exporting matrix data to (C:\\Users\\lukassp\\AppData\\Local\\Temp\\tmphh3dlvnp.txt, C, , Setup:AdaptivePass, \"Original\", \"ohm\", \"nH\", \"fF\", \"mSie\", 5000000000, Maxwell, 2, False\n",
      "INFO 03:23PM [get_matrix]: Exporting matrix data to (C:\\Users\\lukassp\\AppData\\Local\\Temp\\tmp5xsi_3a7.txt, C, , Setup:AdaptivePass, \"Original\", \"ohm\", \"nH\", \"fF\", \"mSie\", 5000000000, Maxwell, 3, False\n",
      "INFO 03:23PM [get_matrix]: Exporting matrix data to (C:\\Users\\lukassp\\AppData\\Local\\Temp\\tmpexc2ukgd.txt, C, , Setup:AdaptivePass, \"Original\", \"ohm\", \"nH\", \"fF\", \"mSie\", 5000000000, Maxwell, 4, False\n",
      "INFO 03:23PM [get_matrix]: Exporting matrix data to (C:\\Users\\lukassp\\AppData\\Local\\Temp\\tmp3ayqgdq8.txt, C, , Setup:AdaptivePass, \"Original\", \"ohm\", \"nH\", \"fF\", \"mSie\", 5000000000, Maxwell, 5, False\n",
      "INFO 03:23PM [get_matrix]: Exporting matrix data to (C:\\Users\\lukassp\\AppData\\Local\\Temp\\tmpekaho_fk.txt, C, , Setup:AdaptivePass, \"Original\", \"ohm\", \"nH\", \"fF\", \"mSie\", 5000000000, Maxwell, 6, False\n",
      "\u001b[38;20m[INFO|2025-03-03 15:23:25]: CAPACITANCE MATRIX\n",
      "                                    coupler_connector_pad_name_qubit_1  ground_main_plane  pad_bot_name_qubit_1  pad_top_name_qubit_1  readout_connector_pad_name_qubit_1  trace_name_charge_line1\n",
      "coupler_connector_pad_name_qubit_1                            38.79406          -28.25573              -8.18160              -1.86053                            -0.23626                 -0.01102\n",
      "ground_main_plane                                            -28.25573          715.76846             -47.07652             -47.39241                           -28.46807               -287.06448\n",
      "pad_bot_name_qubit_1                                          -8.18160          -47.07652              83.15849             -25.25589                            -1.84577                 -0.06931\n",
      "pad_top_name_qubit_1                                          -1.86053          -47.39241             -25.25589              83.92510                            -8.57627                 -0.10816\n",
      "readout_connector_pad_name_qubit_1                            -0.23626          -28.46807              -1.84577              -8.57627                            39.40854                 -0.03243\n",
      "trace_name_charge_line1                                       -0.01102         -287.06448              -0.06931              -0.10816                            -0.03243                287.50126\u001b[0m\n",
      "\u001b[38;20m[INFO|2025-03-03 15:23:25]: Computing T1 limit from decay in charge line.\u001b[0m\n",
      "\u001b[38;20m[INFO|2025-03-03 15:23:26]: Updated_design_vars\n",
      "{\n",
      "    \"design_var_cl_pos_x_qubit_1\": \"-2904.0836281988427 um\"\n",
      "}\u001b[0m\n",
      "\u001b[38;20m[INFO|2025-03-03 15:23:26]: Simulating capacitance matrix study.\u001b[0m\n",
      "INFO 03:23PM [connect_design]: \tOpened active design\n",
      "\tDesign:    Design_q3d [Solution type: Q3D]\n",
      "INFO 03:23PM [get_setup]: \tOpened setup `Setup`  (<class 'pyEPR.ansys.AnsysQ3DSetup'>)\n",
      "INFO 03:23PM [analyze]: Analyzing setup Setup\n",
      "INFO 03:23PM [get_matrix]: Exporting matrix data to (C:\\Users\\lukassp\\AppData\\Local\\Temp\\tmpv8xoh7u6.txt, C, , Setup:LastAdaptive, \"Original\", \"ohm\", \"nH\", \"fF\", \"mSie\", 5000000000, Maxwell, 1, False\n",
      "INFO 03:23PM [get_matrix]: Exporting matrix data to (C:\\Users\\lukassp\\AppData\\Local\\Temp\\tmppimf_sd6.txt, C, , Setup:AdaptivePass, \"Original\", \"ohm\", \"nH\", \"fF\", \"mSie\", 5000000000, Maxwell, 1, False\n",
      "INFO 03:23PM [get_matrix]: Exporting matrix data to (C:\\Users\\lukassp\\AppData\\Local\\Temp\\tmp14u69zek.txt, C, , Setup:AdaptivePass, \"Original\", \"ohm\", \"nH\", \"fF\", \"mSie\", 5000000000, Maxwell, 2, False\n",
      "INFO 03:23PM [get_matrix]: Exporting matrix data to (C:\\Users\\lukassp\\AppData\\Local\\Temp\\tmpgyo3en7h.txt, C, , Setup:AdaptivePass, \"Original\", \"ohm\", \"nH\", \"fF\", \"mSie\", 5000000000, Maxwell, 3, False\n",
      "INFO 03:23PM [get_matrix]: Exporting matrix data to (C:\\Users\\lukassp\\AppData\\Local\\Temp\\tmpk8l9tbvi.txt, C, , Setup:AdaptivePass, \"Original\", \"ohm\", \"nH\", \"fF\", \"mSie\", 5000000000, Maxwell, 4, False\n",
      "INFO 03:23PM [get_matrix]: Exporting matrix data to (C:\\Users\\lukassp\\AppData\\Local\\Temp\\tmpb1w5h08y.txt, C, , Setup:AdaptivePass, \"Original\", \"ohm\", \"nH\", \"fF\", \"mSie\", 5000000000, Maxwell, 5, False\n",
      "INFO 03:23PM [get_matrix]: Exporting matrix data to (C:\\Users\\lukassp\\AppData\\Local\\Temp\\tmpoxths48w.txt, C, , Setup:AdaptivePass, \"Original\", \"ohm\", \"nH\", \"fF\", \"mSie\", 5000000000, Maxwell, 6, False\n",
      "\u001b[38;20m[INFO|2025-03-03 15:23:48]: CAPACITANCE MATRIX\n",
      "                                    coupler_connector_pad_name_qubit_1  ground_main_plane  pad_bot_name_qubit_1  pad_top_name_qubit_1  readout_connector_pad_name_qubit_1  trace_name_charge_line1\n",
      "coupler_connector_pad_name_qubit_1                            38.71506          -28.31131              -8.15221              -1.79216                            -0.22904                 -0.00238\n",
      "ground_main_plane                                            -28.31131          676.77080             -47.51129             -47.66183                           -28.48875               -247.64170\n",
      "pad_bot_name_qubit_1                                          -8.15221          -47.51129              83.41187             -25.17390                            -1.84485                 -0.01438\n",
      "pad_top_name_qubit_1                                          -1.79216          -47.66183             -25.17390              83.92390                            -8.57527                 -0.02065\n",
      "readout_connector_pad_name_qubit_1                            -0.22904          -28.48875              -1.84485              -8.57527                            39.39249                 -0.00599\n",
      "trace_name_charge_line1                                       -0.00238         -247.64170              -0.01438              -0.02065                            -0.00599                247.83551\u001b[0m\n",
      "\u001b[38;20m[INFO|2025-03-03 15:23:48]: Computing T1 limit from decay in charge line.\u001b[0m\n",
      "\u001b[38;20m[INFO|2025-03-03 15:23:48]: Updated_design_vars\n",
      "{\n",
      "    \"design_var_cl_pos_x_qubit_1\": \"-2716.1178777395426 um\"\n",
      "}\u001b[0m\n",
      "\u001b[38;20m[INFO|2025-03-03 15:23:48]: Simulating capacitance matrix study.\u001b[0m\n",
      "INFO 03:23PM [connect_design]: \tOpened active design\n",
      "\tDesign:    Design_q3d [Solution type: Q3D]\n",
      "INFO 03:23PM [get_setup]: \tOpened setup `Setup`  (<class 'pyEPR.ansys.AnsysQ3DSetup'>)\n",
      "INFO 03:23PM [analyze]: Analyzing setup Setup\n",
      "INFO 03:24PM [get_matrix]: Exporting matrix data to (C:\\Users\\lukassp\\AppData\\Local\\Temp\\tmp5r7d4cnw.txt, C, , Setup:LastAdaptive, \"Original\", \"ohm\", \"nH\", \"fF\", \"mSie\", 5000000000, Maxwell, 1, False\n",
      "INFO 03:24PM [get_matrix]: Exporting matrix data to (C:\\Users\\lukassp\\AppData\\Local\\Temp\\tmpgvcrisvx.txt, C, , Setup:AdaptivePass, \"Original\", \"ohm\", \"nH\", \"fF\", \"mSie\", 5000000000, Maxwell, 1, False\n",
      "INFO 03:24PM [get_matrix]: Exporting matrix data to (C:\\Users\\lukassp\\AppData\\Local\\Temp\\tmp1ir9yptw.txt, C, , Setup:AdaptivePass, \"Original\", \"ohm\", \"nH\", \"fF\", \"mSie\", 5000000000, Maxwell, 2, False\n",
      "INFO 03:24PM [get_matrix]: Exporting matrix data to (C:\\Users\\lukassp\\AppData\\Local\\Temp\\tmpi8_f8seu.txt, C, , Setup:AdaptivePass, \"Original\", \"ohm\", \"nH\", \"fF\", \"mSie\", 5000000000, Maxwell, 3, False\n",
      "INFO 03:24PM [get_matrix]: Exporting matrix data to (C:\\Users\\lukassp\\AppData\\Local\\Temp\\tmpq4qkicv2.txt, C, , Setup:AdaptivePass, \"Original\", \"ohm\", \"nH\", \"fF\", \"mSie\", 5000000000, Maxwell, 4, False\n",
      "INFO 03:24PM [get_matrix]: Exporting matrix data to (C:\\Users\\lukassp\\AppData\\Local\\Temp\\tmp1g879vh6.txt, C, , Setup:AdaptivePass, \"Original\", \"ohm\", \"nH\", \"fF\", \"mSie\", 5000000000, Maxwell, 5, False\n",
      "INFO 03:24PM [get_matrix]: Exporting matrix data to (C:\\Users\\lukassp\\AppData\\Local\\Temp\\tmp_opvzsgj.txt, C, , Setup:AdaptivePass, \"Original\", \"ohm\", \"nH\", \"fF\", \"mSie\", 5000000000, Maxwell, 6, False\n",
      "\u001b[38;20m[INFO|2025-03-03 15:24:11]: CAPACITANCE MATRIX\n",
      "                                    coupler_connector_pad_name_qubit_1  ground_main_plane  pad_bot_name_qubit_1  pad_top_name_qubit_1  readout_connector_pad_name_qubit_1  trace_name_charge_line1\n",
      "coupler_connector_pad_name_qubit_1                            38.71460          -28.30434              -8.15318              -1.79267                            -0.22900                 -0.00569\n",
      "ground_main_plane                                            -28.30434          702.33892             -47.48565             -47.63843                           -28.48963               -273.42768\n",
      "pad_bot_name_qubit_1                                          -8.15318          -47.48565              83.40962             -25.17162                            -1.84338                 -0.03825\n",
      "pad_top_name_qubit_1                                          -1.79267          -47.63843             -25.17162              83.93218                            -8.57195                 -0.05647\n",
      "readout_connector_pad_name_qubit_1                            -0.22900          -28.48963              -1.84338              -8.57195                            39.39560                 -0.01427\n",
      "trace_name_charge_line1                                       -0.00569         -273.42768              -0.03825              -0.05647                            -0.01427                273.74809\u001b[0m\n",
      "\u001b[38;20m[INFO|2025-03-03 15:24:11]: Computing T1 limit from decay in charge line.\u001b[0m\n",
      "\u001b[38;20m[INFO|2025-03-03 15:24:11]: Updated_design_vars\n",
      "{\n",
      "    \"design_var_cl_pos_x_qubit_1\": \"-2722.8876358305715 um\"\n",
      "}\u001b[0m\n",
      "\u001b[38;20m[INFO|2025-03-03 15:24:11]: Simulating capacitance matrix study.\u001b[0m\n",
      "INFO 03:24PM [connect_design]: \tOpened active design\n",
      "\tDesign:    Design_q3d [Solution type: Q3D]\n",
      "INFO 03:24PM [get_setup]: \tOpened setup `Setup`  (<class 'pyEPR.ansys.AnsysQ3DSetup'>)\n",
      "INFO 03:24PM [analyze]: Analyzing setup Setup\n",
      "INFO 03:24PM [get_matrix]: Exporting matrix data to (C:\\Users\\lukassp\\AppData\\Local\\Temp\\tmpwcg4_qaf.txt, C, , Setup:LastAdaptive, \"Original\", \"ohm\", \"nH\", \"fF\", \"mSie\", 5000000000, Maxwell, 1, False\n",
      "INFO 03:24PM [get_matrix]: Exporting matrix data to (C:\\Users\\lukassp\\AppData\\Local\\Temp\\tmpev6j7z0m.txt, C, , Setup:AdaptivePass, \"Original\", \"ohm\", \"nH\", \"fF\", \"mSie\", 5000000000, Maxwell, 1, False\n",
      "INFO 03:24PM [get_matrix]: Exporting matrix data to (C:\\Users\\lukassp\\AppData\\Local\\Temp\\tmps7jk1v3w.txt, C, , Setup:AdaptivePass, \"Original\", \"ohm\", \"nH\", \"fF\", \"mSie\", 5000000000, Maxwell, 2, False\n",
      "INFO 03:24PM [get_matrix]: Exporting matrix data to (C:\\Users\\lukassp\\AppData\\Local\\Temp\\tmpmp62b2jj.txt, C, , Setup:AdaptivePass, \"Original\", \"ohm\", \"nH\", \"fF\", \"mSie\", 5000000000, Maxwell, 3, False\n",
      "INFO 03:24PM [get_matrix]: Exporting matrix data to (C:\\Users\\lukassp\\AppData\\Local\\Temp\\tmp2hg65bh0.txt, C, , Setup:AdaptivePass, \"Original\", \"ohm\", \"nH\", \"fF\", \"mSie\", 5000000000, Maxwell, 4, False\n",
      "INFO 03:24PM [get_matrix]: Exporting matrix data to (C:\\Users\\lukassp\\AppData\\Local\\Temp\\tmpzf5ezmzx.txt, C, , Setup:AdaptivePass, \"Original\", \"ohm\", \"nH\", \"fF\", \"mSie\", 5000000000, Maxwell, 5, False\n",
      "INFO 03:24PM [get_matrix]: Exporting matrix data to (C:\\Users\\lukassp\\AppData\\Local\\Temp\\tmpaghawac6.txt, C, , Setup:AdaptivePass, \"Original\", \"ohm\", \"nH\", \"fF\", \"mSie\", 5000000000, Maxwell, 6, False\n",
      "\u001b[38;20m[INFO|2025-03-03 15:24:33]: CAPACITANCE MATRIX\n",
      "                                    coupler_connector_pad_name_qubit_1  ground_main_plane  pad_bot_name_qubit_1  pad_top_name_qubit_1  readout_connector_pad_name_qubit_1  trace_name_charge_line1\n",
      "coupler_connector_pad_name_qubit_1                            38.71460          -28.30566              -8.15316              -1.79264                            -0.22921                 -0.00545\n",
      "ground_main_plane                                            -28.30566          700.12527             -47.48220             -47.62218                           -28.46875               -271.13588\n",
      "pad_bot_name_qubit_1                                          -8.15316          -47.48220              83.40968             -25.17323                            -1.84569                 -0.03703\n",
      "pad_top_name_qubit_1                                          -1.79264          -47.62218             -25.17323              83.92391                            -8.57857                 -0.05470\n",
      "readout_connector_pad_name_qubit_1                            -0.22921          -28.46875              -1.84569              -8.57857                            39.38582                 -0.01381\n",
      "trace_name_charge_line1                                       -0.00545         -271.13588              -0.03703              -0.05470                            -0.01381                271.44918\u001b[0m\n",
      "\u001b[38;20m[INFO|2025-03-03 15:24:33]: Computing T1 limit from decay in charge line.\u001b[0m\n",
      "\u001b[38;20m[INFO|2025-03-03 15:24:34]: Updated_design_vars\n",
      "{\n",
      "    \"design_var_cl_pos_x_qubit_1\": \"-2721.4630458856936 um\"\n",
      "}\u001b[0m\n",
      "\u001b[38;20m[INFO|2025-03-03 15:24:34]: Simulating capacitance matrix study.\u001b[0m\n",
      "INFO 03:24PM [connect_design]: \tOpened active design\n",
      "\tDesign:    Design_q3d [Solution type: Q3D]\n",
      "INFO 03:24PM [get_setup]: \tOpened setup `Setup`  (<class 'pyEPR.ansys.AnsysQ3DSetup'>)\n",
      "INFO 03:24PM [analyze]: Analyzing setup Setup\n",
      "INFO 03:24PM [get_matrix]: Exporting matrix data to (C:\\Users\\lukassp\\AppData\\Local\\Temp\\tmpg_xerqhn.txt, C, , Setup:LastAdaptive, \"Original\", \"ohm\", \"nH\", \"fF\", \"mSie\", 5000000000, Maxwell, 1, False\n",
      "INFO 03:24PM [get_matrix]: Exporting matrix data to (C:\\Users\\lukassp\\AppData\\Local\\Temp\\tmp6rnhh2b5.txt, C, , Setup:AdaptivePass, \"Original\", \"ohm\", \"nH\", \"fF\", \"mSie\", 5000000000, Maxwell, 1, False\n",
      "INFO 03:24PM [get_matrix]: Exporting matrix data to (C:\\Users\\lukassp\\AppData\\Local\\Temp\\tmp4eiqg508.txt, C, , Setup:AdaptivePass, \"Original\", \"ohm\", \"nH\", \"fF\", \"mSie\", 5000000000, Maxwell, 2, False\n",
      "INFO 03:24PM [get_matrix]: Exporting matrix data to (C:\\Users\\lukassp\\AppData\\Local\\Temp\\tmp8mbtabtj.txt, C, , Setup:AdaptivePass, \"Original\", \"ohm\", \"nH\", \"fF\", \"mSie\", 5000000000, Maxwell, 3, False\n",
      "INFO 03:24PM [get_matrix]: Exporting matrix data to (C:\\Users\\lukassp\\AppData\\Local\\Temp\\tmp_6uvwvuu.txt, C, , Setup:AdaptivePass, \"Original\", \"ohm\", \"nH\", \"fF\", \"mSie\", 5000000000, Maxwell, 4, False\n",
      "INFO 03:24PM [get_matrix]: Exporting matrix data to (C:\\Users\\lukassp\\AppData\\Local\\Temp\\tmp3c87wl3o.txt, C, , Setup:AdaptivePass, \"Original\", \"ohm\", \"nH\", \"fF\", \"mSie\", 5000000000, Maxwell, 5, False\n",
      "INFO 03:24PM [get_matrix]: Exporting matrix data to (C:\\Users\\lukassp\\AppData\\Local\\Temp\\tmp2zsow_o5.txt, C, , Setup:AdaptivePass, \"Original\", \"ohm\", \"nH\", \"fF\", \"mSie\", 5000000000, Maxwell, 6, False\n",
      "\u001b[38;20m[INFO|2025-03-03 15:24:56]: CAPACITANCE MATRIX\n",
      "                                    coupler_connector_pad_name_qubit_1  ground_main_plane  pad_bot_name_qubit_1  pad_top_name_qubit_1  readout_connector_pad_name_qubit_1  trace_name_charge_line1\n",
      "coupler_connector_pad_name_qubit_1                            38.71460          -28.30503              -8.15311              -1.79233                            -0.22892                 -0.00539\n",
      "ground_main_plane                                            -28.30503          702.09370             -47.49067             -47.64722                           -28.48666               -273.17431\n",
      "pad_bot_name_qubit_1                                          -8.15311          -47.49067              83.41079             -25.16958                            -1.84296                 -0.03701\n",
      "pad_top_name_qubit_1                                          -1.79233          -47.64722             -25.16958              83.93494                            -8.57139                 -0.05451\n",
      "readout_connector_pad_name_qubit_1                            -0.22892          -28.48666              -1.84296              -8.57139                            39.39096                 -0.01366\n",
      "trace_name_charge_line1                                       -0.00539         -273.17431              -0.03701              -0.05451                            -0.01366                273.48840\u001b[0m\n",
      "\u001b[38;20m[INFO|2025-03-03 15:24:56]: Computing T1 limit from decay in charge line.\u001b[0m\n"
     ]
    }
   ],
   "source": [
    "group_runs = 5\n",
    "group_passes_cap = 5\n",
    "\n",
    "for i in range(group_runs):\n",
    "    design_analysis.update_nbr_passes_capacitance_ministudies(group_passes_cap)\n",
    "    design_analysis.optimize_target({}, {})\n",
    "    design_analysis.screenshot(gui=gui, run=i)"
   ]
  },
  {
   "cell_type": "markdown",
   "metadata": {},
   "source": [
    "### Optimize capacitance target"
   ]
  },
  {
   "cell_type": "code",
   "execution_count": null,
   "metadata": {},
   "outputs": [],
   "source": [
    "MINI_STUDY_BRANCH = 1\n",
    "MINI_STUDY = ms.get_mini_study_resonator_capacitance(group=MINI_STUDY_BRANCH)\n",
    "opt_targets = ot.get_opt_target_capacitance(group=MINI_STUDY_BRANCH)\n",
    "\n",
    "RENDER_QISKIT_METAL = lambda design: render_qiskit_metal_design(design, gui)\n",
    "# %matplotlib inline\n",
    "design_analysis_state = DesignAnalysisState(\n",
    "    design, RENDER_QISKIT_METAL, pt.PARAM_TARGETS\n",
    ")\n",
    "design_analysis = DesignAnalysis(\n",
    "    design_analysis_state,\n",
    "    mini_study=MINI_STUDY,\n",
    "    opt_targets=opt_targets,\n",
    "    save_path=\"out/\" + CHIP_NAME + \"_\" + time.strftime(\"%Y%m%d-%H%M%S\"),\n",
    "    update_design_variables=False,\n",
    "    plot_settings=ps.PLOT_SETTINGS_CAPACITANCE,\n",
    ")"
   ]
  },
  {
   "cell_type": "code",
   "execution_count": null,
   "metadata": {},
   "outputs": [],
   "source": [
    "group_runs = 10\n",
    "group_passes_cap = 2\n",
    "\n",
    "for i in range(group_runs):\n",
    "    design_analysis.update_nbr_passes_capacitance_ministudies(group_passes_cap)\n",
    "    design_analysis.optimize_target({}, {})\n",
    "    design_analysis.screenshot(gui=gui, run=i)"
   ]
  },
  {
   "cell_type": "markdown",
   "metadata": {},
   "source": [
    "## View Optimization results"
   ]
  },
  {
   "cell_type": "code",
   "execution_count": null,
   "metadata": {},
   "outputs": [],
   "source": [
    "design_analysis.get_cross_kerr_matrix(iteration=-1)"
   ]
  },
  {
   "cell_type": "code",
   "execution_count": null,
   "metadata": {},
   "outputs": [],
   "source": [
    "close_ansys()"
   ]
  },
  {
   "cell_type": "code",
   "execution_count": null,
   "metadata": {},
   "outputs": [],
   "source": []
  }
 ],
 "metadata": {
  "kernelspec": {
   "display_name": "qdesignenv",
   "language": "python",
   "name": "python3"
  },
  "language_info": {
   "codemirror_mode": {
    "name": "ipython",
    "version": 3
   },
   "file_extension": ".py",
   "mimetype": "text/x-python",
   "name": "python",
   "nbconvert_exporter": "python",
   "pygments_lexer": "ipython3",
   "version": "3.10.16"
  }
 },
 "nbformat": 4,
 "nbformat_minor": 2
}
