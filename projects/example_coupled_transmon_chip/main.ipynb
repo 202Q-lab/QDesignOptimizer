{
 "cells": [
  {
   "cell_type": "markdown",
   "metadata": {},
   "source": [
    "# Example 2: Coupled Transmon Qubits"
   ]
  },
  {
   "cell_type": "code",
   "execution_count": 1,
   "metadata": {},
   "outputs": [],
   "source": [
    "%load_ext autoreload\n",
    "%autoreload 2\n",
    "import time"
   ]
  },
  {
   "cell_type": "code",
   "execution_count": 2,
   "metadata": {},
   "outputs": [],
   "source": [
    "import design as d\n",
    "import json\n",
    "\n",
    "with open(\"design_variables.json\") as in_file:\n",
    "    initial_design_variables = json.load(in_file)\n",
    "\n",
    "\n",
    "import qdesignoptimizer.utils.names_design_variables as u\n",
    "from qdesignoptimizer.utils.chip_generation import create_chip_base, ChipType\n",
    "from qdesignoptimizer.utils.utils import close_ansys\n",
    "import names as n"
   ]
  },
  {
   "cell_type": "markdown",
   "metadata": {},
   "source": [
    "## Design assembly"
   ]
  },
  {
   "cell_type": "code",
   "execution_count": 4,
   "metadata": {},
   "outputs": [],
   "source": [
    "CHIP_NAME = \"multi_transmon_chip\"\n",
    "OPEN_GUI = True\n",
    "chip_type = ChipType(size_x=\"10mm\", size_y=\"10mm\", size_z=\"-300um\")\n",
    "design, gui = create_chip_base(\n",
    "    chip_name=CHIP_NAME, chip_type=chip_type, open_gui=OPEN_GUI\n",
    ")\n",
    "\n",
    "u.add_design_variables_to_design(design, initial_design_variables)"
   ]
  },
  {
   "cell_type": "code",
   "execution_count": 5,
   "metadata": {},
   "outputs": [],
   "source": [
    "def render_qiskit_metal_design(design, gui):\n",
    "    d.add_transmon_plus_resonator(design, nbr=n.NBR_1)\n",
    "    d.add_transmon_plus_resonator(design, nbr=n.NBR_2)\n",
    "\n",
    "    d.add_coupler(design)\n",
    "\n",
    "    d.add_route_interconnects(design)\n",
    "\n",
    "    d.add_launch_pads(design)\n",
    "\n",
    "    d.add_chargeline(design, nbr=n.NBR_1)\n",
    "    d.add_chargeline(design, nbr=n.NBR_2)\n",
    "\n",
    "    gui.rebuild()\n",
    "    gui.autoscale()\n",
    "\n",
    "\n",
    "render_qiskit_metal_design(design, gui)"
   ]
  },
  {
   "cell_type": "markdown",
   "metadata": {},
   "source": [
    "## MiniStudies"
   ]
  },
  {
   "cell_type": "code",
   "execution_count": 7,
   "metadata": {},
   "outputs": [],
   "source": [
    "import mini_studies as ms\n",
    "import optimization_targets as ot\n",
    "import parameter_targets as pt\n",
    "import plot_settings as ps\n",
    "\n",
    "from qdesignoptimizer.design_analysis import DesignAnalysis, DesignAnalysisState"
   ]
  },
  {
   "cell_type": "markdown",
   "metadata": {},
   "source": [
    "### Single resonator-qubit system\n",
    "Useful when first tuning up subsystems"
   ]
  },
  {
   "cell_type": "code",
   "execution_count": 8,
   "metadata": {},
   "outputs": [
    {
     "data": {
      "text/plain": [
       "[<qdesignoptimizer.design_analysis_types.OptTarget at 0x27301857a90>,\n",
       " <qdesignoptimizer.design_analysis_types.OptTarget at 0x273018dc370>,\n",
       " <qdesignoptimizer.design_analysis_types.OptTarget at 0x273018dc400>,\n",
       " <qdesignoptimizer.design_analysis_types.OptTarget at 0x273018dd1b0>]"
      ]
     },
     "execution_count": 8,
     "metadata": {},
     "output_type": "execute_result"
    }
   ],
   "source": [
    "MINI_STUDY_NBR = n.NBR_1\n",
    "MINI_STUDY = ms.get_mini_study_qb_res(nbr=MINI_STUDY_NBR)\n",
    "RENDER_QISKIT_METAL = lambda design: render_qiskit_metal_design(design, gui)\n",
    "\n",
    "opt_targets = ot.get_opt_targets_2qubits_resonator_coupler(\n",
    "    nbrs=[MINI_STUDY_NBR],\n",
    "    opt_target_qubit_freq=True,\n",
    "    opt_target_qubit_anharm=True,\n",
    "    opt_target_resonator_freq=True,\n",
    "    opt_target_resonator_kappa=False,\n",
    "    opt_target_resonator_qubit_chi=True,\n",
    ")\n",
    "opt_targets"
   ]
  },
  {
   "cell_type": "code",
   "execution_count": 9,
   "metadata": {},
   "outputs": [
    {
     "name": "stderr",
     "output_type": "stream",
     "text": [
      "\u001b[38;20m[INFO|2025-02-26 11:06:11]: self.eig_solver.sim.setup \n",
      "{\n",
      "    \"name\": \"Resonator_setup\",\n",
      "    \"reuse_selected_design\": true,\n",
      "    \"reuse_setup\": true,\n",
      "    \"min_freq_ghz\": 1,\n",
      "    \"n_modes\": 1,\n",
      "    \"max_delta_f\": 0.5,\n",
      "    \"max_passes\": 10,\n",
      "    \"min_passes\": 1,\n",
      "    \"min_converged\": 1,\n",
      "    \"pct_refinement\": 30,\n",
      "    \"basis_order\": 1,\n",
      "    \"vars\": {\n",
      "        \"Lj\": \"10 nH\",\n",
      "        \"Cj\": \"0 fF\"\n",
      "    }\n",
      "}\u001b[0m\n",
      "INFO 11:06AM [connect_project]: Connecting to Ansys Desktop API...\n",
      "INFO 11:06AM [load_ansys_project]: \tOpened Ansys App\n",
      "INFO 11:06AM [load_ansys_project]: \tOpened Ansys Desktop v2021.2.0\n",
      "INFO 11:06AM [load_ansys_project]: \tOpened Ansys Project\n",
      "\tFolder:    C:/Users/lukassp/Documents/Ansoft/\n",
      "\tProject:   Project160\n",
      "INFO 11:06AM [connect_design]: No active design found (or error getting active design).\n",
      "INFO 11:06AM [connect]: \t Connected to project \"Project160\". No design detected\n",
      "11:06AM 29s WARNING [activate_ansys_design]: The design_name=get_mini_study_qb_res was not in active project.  Designs in active project are: \n",
      "[].  A new design will be added to the project.  \n",
      "INFO 11:06AM [connect_design]: \tOpened active design\n",
      "\tDesign:    get_mini_study_qb_res [Solution type: Eigenmode]\n",
      "WARNING 11:06AM [connect_setup]: \tNo design setup detected.\n",
      "WARNING 11:06AM [connect_setup]: \tCreating eigenmode default setup.\n",
      "INFO 11:06AM [get_setup]: \tOpened setup `Setup`  (<class 'pyEPR.ansys.HfssEMSetup'>)\n",
      "\u001b[38;20m[INFO|2025-02-26 11:06:31]: Updated_design_vars\n",
      "{\n",
      "    \"cpw_width\": \"10 um\",\n",
      "    \"cpw_gap\": \"6 um\",\n",
      "    \"design_var_width_qubit_1\": \"376.70099561653865 um\",\n",
      "    \"design_var_width_qubit_2\": \"400um\",\n",
      "    \"design_var_cl_pos_x_qubit_1\": \"200um\",\n",
      "    \"design_var_cl_pos_y_qubit_1\": \"200um\",\n",
      "    \"design_var_cl_pos_x_qubit_2\": \"200um\",\n",
      "    \"design_var_cl_pos_y_qubit_2\": \"200um\",\n",
      "    \"design_var_lj_qubit_1\": \"10.1nH\",\n",
      "    \"design_var_lj_qubit_2\": \"9.1nH\",\n",
      "    \"design_var_cj_qubit_1\": \"0fF\",\n",
      "    \"design_var_cj_qubit_2\": \"0fF\",\n",
      "    \"design_var_length_resonator_1\": \"7500um\",\n",
      "    \"design_var_length_resonator_2\": \"6500um\",\n",
      "    \"design_var_length_coupler_1to2\": \"4000um\",\n",
      "    \"design_var_coupl_length_qubit_1_resonator_1\": \"100um\",\n",
      "    \"design_var_coupl_length_qubit_2_resonator_2\": \"100um\",\n",
      "    \"design_var_coupl_length_resonator_1_tee\": \"170um\",\n",
      "    \"design_var_coupl_length_resonator_2_tee\": \"160um\"\n",
      "}\u001b[0m\n"
     ]
    },
    {
     "name": "stdout",
     "output_type": "stream",
     "text": [
      "pyaedt INFO: using existing logger.\n",
      "pyaedt INFO: Launching PyAEDT outside AEDT with CPython and PythonNET.\n",
      "pyaedt INFO: AEDT installation Path C:\\Program Files\\AnsysEM\\AnsysEM21.2\\Win64.\n",
      "pyaedt INFO: Launching AEDT with module PythonNET.\n",
      "pyaedt INFO: Ansoft.ElectronicsDesktop.2021.2 Started with process ID 26464.\n",
      "pyaedt INFO: pyaedt v0.6.46\n",
      "pyaedt INFO: Python version 3.10.15 | packaged by Anaconda, Inc. | (main, Oct  3 2024, 07:22:19) [MSC v.1929 64 bit (AMD64)]\n",
      "pyaedt INFO: No project is defined. Project Project160 exists and has been read.\n",
      "pyaedt INFO: Active Design set to get_mini_study_qb_res\n",
      "pyaedt INFO: Aedt Objects initialized\n",
      "pyaedt INFO: Variable Manager initialized\n",
      "pyaedt INFO: Design Loaded\n",
      "pyaedt INFO: Successfully loaded project materials !\n",
      "pyaedt INFO: Materials Loaded\n"
     ]
    },
    {
     "name": "stderr",
     "output_type": "stream",
     "text": [
      "\u001b[38;20m[INFO|2025-02-26 11:06:42]: No fine mesh map was found for name_qubit_1\u001b[0m\n",
      "\u001b[38;20m[INFO|2025-02-26 11:06:42]: No fine mesh map was found for name_resonator_1\u001b[0m\n",
      "\u001b[38;20m[INFO|2025-02-26 11:06:42]: No fine mesh map was found for name_tee1\u001b[0m\n",
      "INFO 11:06AM [analyze]: Analyzing setup Setup\n"
     ]
    },
    {
     "name": "stdout",
     "output_type": "stream",
     "text": [
      "Design \"get_mini_study_qb_res\" info:\n",
      "\t# eigenmodes    2\n",
      "\t# variations    1\n",
      "Design \"get_mini_study_qb_res\" info:\n",
      "\t# eigenmodes    2\n",
      "\t# variations    1\n",
      "Design \"get_mini_study_qb_res\" info:\n",
      "\t# eigenmodes    2\n",
      "\t# variations    1\n",
      "Design \"get_mini_study_qb_res\" info:\n",
      "\t# eigenmodes    2\n",
      "\t# variations    1\n",
      "Design \"get_mini_study_qb_res\" info:\n",
      "\t# eigenmodes    2\n",
      "\t# variations    1\n",
      "\n",
      "        energy_elec_all       = 8.42027652519007e-25\n",
      "        energy_elec_substrate = 7.37924146200782e-25\n",
      "        EPR of substrate = 87.6%\n",
      "\n",
      "        energy_mag    = 1.14874006852569e-26\n",
      "        energy_mag % of energy_elec_all  = 1.4%\n",
      "        \n",
      "\n",
      "Variation 0  [1/1]\n",
      "\n",
      "  \u001b[1mMode 0 at 4.90 GHz   [1/2]\u001b[0m\n",
      "    Calculating ℰ_magnetic,ℰ_electric\n",
      "       (ℰ_E-ℰ_H)/ℰ_E       ℰ_E       ℰ_H\n",
      "               98.6%   4.21e-25 5.744e-27\n",
      "\n",
      "    Calculating junction energy participation ration (EPR)\n",
      "\tmethod=`line_voltage`. First estimates:\n",
      "\tjunction        EPR p_0j   sign s_0j    (p_capacitive)\n",
      "\t\tEnergy fraction (Lj over Lj&Cj)= 98.12%\n",
      "\tjj_name_qubit_1 0.984441  (+)        0.0188408\n",
      "\t\t(U_tot_cap-U_tot_ind)/mean=1.03%\n",
      "Calculating Qdielectric_main for mode 0 (0/1)\n",
      "p_dielectric_main_0 = 0.8763656917836496\n",
      "\n",
      "  \u001b[1mMode 1 at 6.66 GHz   [2/2]\u001b[0m\n",
      "    Calculating ℰ_magnetic,ℰ_electric\n",
      "       (ℰ_E-ℰ_H)/ℰ_E       ℰ_E       ℰ_H\n",
      "                0.1%  2.544e-23 2.541e-23\n",
      "\n",
      "    Calculating junction energy participation ration (EPR)\n",
      "\tmethod=`line_voltage`. First estimates:\n",
      "\tjunction        EPR p_1j   sign s_1j    (p_capacitive)\n",
      "\t\tEnergy fraction (Lj over Lj&Cj)= 96.58%\n",
      "\tjj_name_qubit_1 0.00148061  (+)        5.24487e-05\n",
      "\t\t(U_tot_cap-U_tot_ind)/mean=0.00%\n",
      "Calculating Qdielectric_main for mode 1 (1/1)\n",
      "p_dielectric_main_1 = 0.9250904269516715\n"
     ]
    },
    {
     "name": "stderr",
     "output_type": "stream",
     "text": [
      "WARNING 11:07AM [__init__]: <p>Error: <class 'IndexError'></p>\n"
     ]
    },
    {
     "name": "stdout",
     "output_type": "stream",
     "text": [
      "\n",
      "ANALYSIS DONE. Data saved to:\n",
      "\n",
      "C:\\data-pyEPR\\Project160\\get_mini_study_qb_res\\2025-02-26 11-06-59.npz\n",
      "\n",
      "\n",
      "\t Differences in variations:\n",
      "\n",
      "\n",
      "\n",
      " . . . . . . . . . . . . . . . . . . . . . . . . . . . . . . . . . . . . . . . . \n",
      "Variation 0\n",
      "\n",
      "Starting the diagonalization\n",
      "Finished the diagonalization\n",
      "Pm_norm=\n",
      "modes\n",
      "0    1.020942\n",
      "1    1.023952\n",
      "dtype: float64\n",
      "\n",
      "Pm_norm idx =\n",
      "   jj_name_qubit_1\n",
      "0             True\n",
      "1            False\n",
      "*** P (participation matrix, not normlz.)\n",
      "   jj_name_qubit_1\n",
      "0         0.966237\n",
      "1         0.001481\n",
      "\n",
      "*** S (sign-bit matrix)\n",
      "   s_jj_name_qubit_1\n",
      "0                  1\n",
      "1                 -1\n",
      "*** P (participation matrix, normalized.)\n",
      "      0.99\n",
      "    0.0015\n",
      "\n",
      "*** Chi matrix O1 PT (MHz)\n",
      "    Diag is anharmonicity, off diag is full cross-Kerr.\n",
      "       180    0.737\n",
      "     0.737 0.000752\n",
      "\n",
      "*** Chi matrix ND (MHz) \n",
      "       196    0.597\n",
      "     0.597 0.000518\n",
      "\n",
      "*** Frequencies O1 PT (MHz)\n",
      "0    4718.164714\n",
      "1    6664.505563\n",
      "dtype: float64\n",
      "\n",
      "*** Frequencies ND (MHz)\n",
      "0    4710.906199\n",
      "1    6664.527609\n",
      "dtype: float64\n",
      "\n",
      "*** Q_coupling\n",
      "Empty DataFrame\n",
      "Columns: []\n",
      "Index: [0, 1]\n"
     ]
    },
    {
     "name": "stderr",
     "output_type": "stream",
     "text": [
      "\u001b[38;20m[INFO|2025-02-26 11:07:03]: freq_ND_results\n",
      "{\n",
      "    \"0\": {\n",
      "        \"0\": 4710.906199265342,\n",
      "        \"1\": 6664.52760947263\n",
      "    }\n",
      "}\u001b[0m\n"
     ]
    },
    {
     "name": "stdout",
     "output_type": "stream",
     "text": [
      "0 <qdesignoptimizer.sim_plot_progress.OptPltSet object at 0x00000273018A4070> [1] [6664527609.47263]\n",
      "1 <qdesignoptimizer.sim_plot_progress.OptPltSet object at 0x00000273018A7EE0> [1] [53057.339439]\n",
      "2 <qdesignoptimizer.sim_plot_progress.OptPltSet object at 0x00000273018A7E80> [1] [None]\n",
      "0 <qdesignoptimizer.sim_plot_progress.OptPltSet object at 0x00000273018A7E20> [1] [4710906199.265343]\n",
      "1 <qdesignoptimizer.sim_plot_progress.OptPltSet object at 0x00000273018A7DC0> [1] [196077045.3236351]\n",
      "0 <qdesignoptimizer.sim_plot_progress.OptPltSet object at 0x00000273018A7D60> [1] [597453.020784378]\n"
     ]
    },
    {
     "name": "stderr",
     "output_type": "stream",
     "text": [
      "\u001b[38;20m[INFO|2025-02-26 11:07:04]: Updated_design_vars\n",
      "{\n",
      "    \"design_var_lj_qubit_1\": \"14.28938529078618 nH\",\n",
      "    \"design_var_width_qubit_1\": \"369.3120909598248 um\",\n",
      "    \"design_var_length_resonator_1\": \"8330.659511847865 um\",\n",
      "    \"design_var_coupl_length_qubit_1_resonator_1\": \"167.93380698731204 um\"\n",
      "}\u001b[0m\n"
     ]
    },
    {
     "name": "stdout",
     "output_type": "stream",
     "text": [
      "pyaedt INFO: No project is defined. Project Project160 exists and has been read.\n",
      "pyaedt INFO: Active Design set to get_mini_study_qb_res\n",
      "pyaedt INFO: Aedt Objects initialized\n",
      "pyaedt INFO: Variable Manager initialized\n",
      "pyaedt INFO: Design Loaded\n",
      "pyaedt INFO: Successfully loaded project materials !\n",
      "pyaedt INFO: Materials Loaded\n"
     ]
    },
    {
     "name": "stderr",
     "output_type": "stream",
     "text": [
      "\u001b[38;20m[INFO|2025-02-26 11:07:15]: No fine mesh map was found for name_qubit_1\u001b[0m\n",
      "\u001b[38;20m[INFO|2025-02-26 11:07:15]: No fine mesh map was found for name_resonator_1\u001b[0m\n",
      "\u001b[38;20m[INFO|2025-02-26 11:07:15]: No fine mesh map was found for name_tee1\u001b[0m\n",
      "INFO 11:07AM [analyze]: Analyzing setup Setup\n"
     ]
    },
    {
     "name": "stdout",
     "output_type": "stream",
     "text": [
      "Design \"get_mini_study_qb_res\" info:\n",
      "\t# eigenmodes    2\n",
      "\t# variations    1\n",
      "Design \"get_mini_study_qb_res\" info:\n",
      "\t# eigenmodes    2\n",
      "\t# variations    1\n",
      "Design \"get_mini_study_qb_res\" info:\n",
      "\t# eigenmodes    2\n",
      "\t# variations    1\n",
      "Design \"get_mini_study_qb_res\" info:\n",
      "\t# eigenmodes    2\n",
      "\t# variations    1\n",
      "Design \"get_mini_study_qb_res\" info:\n",
      "\t# eigenmodes    2\n",
      "\t# variations    1\n",
      "\n",
      "        energy_elec_all       = 1.51528945610287e-23\n",
      "        energy_elec_substrate = 1.40300515614229e-23\n",
      "        EPR of substrate = 92.6%\n",
      "\n",
      "        energy_mag    = 1.51259833557992e-23\n",
      "        energy_mag % of energy_elec_all  = 99.8%\n",
      "        \n",
      "\n",
      "Variation 0  [1/1]\n",
      "\n",
      "  \u001b[1mMode 0 at 4.09 GHz   [1/2]\u001b[0m\n",
      "    Calculating ℰ_magnetic,ℰ_electric\n",
      "       (ℰ_E-ℰ_H)/ℰ_E       ℰ_E       ℰ_H\n",
      "               98.9%  5.855e-23 6.383e-25\n",
      "\n",
      "    Calculating junction energy participation ration (EPR)\n",
      "\tmethod=`line_voltage`. First estimates:\n",
      "\tjunction        EPR p_0j   sign s_0j    (p_capacitive)\n",
      "\t\tEnergy fraction (Lj over Lj&Cj)= 98.15%\n",
      "\tjj_name_qubit_1 0.987448  (+)        0.0186289\n",
      "\t\t(U_tot_cap-U_tot_ind)/mean=1.01%\n",
      "Calculating Qdielectric_main for mode 0 (0/1)\n",
      "p_dielectric_main_0 = 0.8938085104338196\n",
      "\n",
      "  \u001b[1mMode 1 at 6.21 GHz   [2/2]\u001b[0m\n",
      "    Calculating ℰ_magnetic,ℰ_electric\n",
      "       (ℰ_E-ℰ_H)/ℰ_E       ℰ_E       ℰ_H\n",
      "                0.2%  7.576e-24 7.563e-24\n",
      "\n",
      "    Calculating junction energy participation ration (EPR)\n",
      "\tmethod=`line_voltage`. First estimates:\n",
      "\tjunction        EPR p_1j   sign s_1j    (p_capacitive)\n",
      "\t\tEnergy fraction (Lj over Lj&Cj)= 95.83%\n",
      "\tjj_name_qubit_1 0.0017718  (+)        7.71484e-05\n",
      "\t\t(U_tot_cap-U_tot_ind)/mean=0.00%\n",
      "Calculating Qdielectric_main for mode 1 (1/1)\n",
      "p_dielectric_main_1 = 0.9258991082473702\n"
     ]
    },
    {
     "name": "stderr",
     "output_type": "stream",
     "text": [
      "WARNING 11:07AM [__init__]: <p>Error: <class 'IndexError'></p>\n"
     ]
    },
    {
     "name": "stdout",
     "output_type": "stream",
     "text": [
      "\n",
      "ANALYSIS DONE. Data saved to:\n",
      "\n",
      "C:\\data-pyEPR\\Project160\\get_mini_study_qb_res\\2025-02-26 11-07-31.npz\n",
      "\n",
      "\n",
      "\t Differences in variations:\n",
      "\n",
      "\n",
      "\n",
      " . . . . . . . . . . . . . . . . . . . . . . . . . . . . . . . . . . . . . . . . \n",
      "Variation 0\n",
      "\n",
      "Starting the diagonalization\n",
      "Finished the diagonalization\n",
      "Pm_norm=\n",
      "modes\n",
      "0    1.020425\n",
      "1    1.022991\n",
      "dtype: float64\n",
      "\n",
      "Pm_norm idx =\n",
      "   jj_name_qubit_1\n",
      "0             True\n",
      "1            False\n",
      "*** P (participation matrix, not normlz.)\n",
      "   jj_name_qubit_1\n",
      "0         0.969389\n",
      "1         0.001772\n",
      "\n",
      "*** S (sign-bit matrix)\n",
      "   s_jj_name_qubit_1\n",
      "0                 -1\n",
      "1                 -1\n",
      "*** P (participation matrix, normalized.)\n",
      "      0.99\n",
      "    0.0018\n",
      "\n",
      "*** Chi matrix O1 PT (MHz)\n",
      "    Diag is anharmonicity, off diag is full cross-Kerr.\n",
      "       179    0.973\n",
      "     0.973  0.00132\n",
      "\n",
      "*** Chi matrix ND (MHz) \n",
      "       197    0.844\n",
      "     0.844 0.000999\n",
      "\n",
      "*** Frequencies O1 PT (MHz)\n",
      "0    3909.891734\n",
      "1    6211.837098\n",
      "dtype: float64\n",
      "\n",
      "*** Frequencies ND (MHz)\n",
      "0    3901.158854\n",
      "1    6211.854086\n",
      "dtype: float64\n",
      "\n",
      "*** Q_coupling\n",
      "Empty DataFrame\n",
      "Columns: []\n",
      "Index: [0, 1]\n"
     ]
    },
    {
     "name": "stderr",
     "output_type": "stream",
     "text": [
      "\u001b[38;20m[INFO|2025-02-26 11:07:35]: freq_ND_results\n",
      "{\n",
      "    \"0\": {\n",
      "        \"0\": 3901.1588535862916,\n",
      "        \"1\": 6211.854086107633\n",
      "    }\n",
      "}\u001b[0m\n"
     ]
    },
    {
     "name": "stdout",
     "output_type": "stream",
     "text": [
      "0 <qdesignoptimizer.sim_plot_progress.OptPltSet object at 0x00000273018A4070> [1, 2] [6664527609.47263, 6211854086.107633]\n",
      "1 <qdesignoptimizer.sim_plot_progress.OptPltSet object at 0x00000273018A7EE0> [1, 2] [53057.339439, 109053.1355476]\n",
      "2 <qdesignoptimizer.sim_plot_progress.OptPltSet object at 0x00000273018A7E80> [1, 2] [None, None]\n",
      "0 <qdesignoptimizer.sim_plot_progress.OptPltSet object at 0x00000273018A7E20> [1, 2] [4710906199.265343, 3901158853.586292]\n",
      "1 <qdesignoptimizer.sim_plot_progress.OptPltSet object at 0x00000273018A7DC0> [1, 2] [196077045.3236351, 197389371.22040272]\n",
      "0 <qdesignoptimizer.sim_plot_progress.OptPltSet object at 0x00000273018A7D60> [1, 2] [597453.020784378, 843659.9167690276]\n"
     ]
    }
   ],
   "source": [
    "design_analysis_state = DesignAnalysisState(\n",
    "    design, RENDER_QISKIT_METAL, pt.PARAM_TARGETS\n",
    ")\n",
    "design_analysis = DesignAnalysis(\n",
    "    design_analysis_state,\n",
    "    mini_study=MINI_STUDY,\n",
    "    opt_targets=opt_targets,\n",
    "    save_path=CHIP_NAME + \"_\" + time.strftime(\"%Y%m%d-%H%M%S\"),\n",
    "    update_parameters=False,\n",
    "    plot_settings=ps.PLOT_SETTINGS,\n",
    "    plot_branches_separately=False,\n",
    ")\n",
    "\n",
    "nbr_runs = 2  # 10\n",
    "nbr_passes = 2  # 6\n",
    "delta_f = 0.001\n",
    "for i in range(nbr_runs):\n",
    "    design_analysis.update_nbr_passes(nbr_passes)\n",
    "    design_analysis.update_delta_f(delta_f)\n",
    "    design_analysis.optimize_target({}, {})\n",
    "    design_analysis.screenshot(gui=gui, run=i)"
   ]
  },
  {
   "cell_type": "code",
   "execution_count": null,
   "metadata": {},
   "outputs": [],
   "source": [
    "design_analysis.overwrite_parameters()"
   ]
  },
  {
   "cell_type": "markdown",
   "metadata": {},
   "source": [
    "### Two qubit-resonator system"
   ]
  },
  {
   "cell_type": "code",
   "execution_count": null,
   "metadata": {},
   "outputs": [],
   "source": [
    "MINI_STUDY = ms.get_mini_study_2qb_resonator_coupler()\n",
    "RENDER_QISKIT_METAL = lambda design: render_qiskit_metal_design(design, gui)\n",
    "\n",
    "opt_targets = ot.get_opt_targets_2qubits_resonator_coupler(\n",
    "    nbrs=[n.NBR_1, n.NBR_2],\n",
    "    opt_target_qubit_freq=True,\n",
    "    opt_target_qubit_anharm=True,\n",
    "    opt_target_resonator_freq=True,\n",
    "    opt_target_resonator_kappa=False,\n",
    "    opt_target_resonator_qubit_chi=True,\n",
    "    opt_target_coupler_freq=True,\n",
    ")"
   ]
  },
  {
   "cell_type": "code",
   "execution_count": null,
   "metadata": {},
   "outputs": [],
   "source": [
    "design_analysis_state = DesignAnalysisState(\n",
    "    design, RENDER_QISKIT_METAL, pt.PARAM_TARGETS\n",
    ")\n",
    "design_analysis = DesignAnalysis(\n",
    "    design_analysis_state,\n",
    "    mini_study=MINI_STUDY,\n",
    "    opt_targets=opt_targets,\n",
    "    save_path=CHIP_NAME + \"_\" + time.strftime(\"%Y%m%d-%H%M%S\"),\n",
    "    update_parameters=False,\n",
    "    plot_settings=ps.PLOT_SETTINGS,\n",
    "    plot_branches_separately=False,\n",
    ")\n",
    "\n",
    "nbr_runs = 2\n",
    "nbr_passes = 3\n",
    "delta_f = 0.001\n",
    "for i in range(nbr_runs):\n",
    "    design_analysis.update_nbr_passes(nbr_passes)\n",
    "    design_analysis.update_delta_f(delta_f)\n",
    "    design_analysis.optimize_target({}, {})\n",
    "    design_analysis.screenshot(gui=gui, run=i)"
   ]
  },
  {
   "cell_type": "code",
   "execution_count": null,
   "metadata": {},
   "outputs": [],
   "source": [
    "design_analysis.overwrite_parameters()"
   ]
  },
  {
   "cell_type": "markdown",
   "metadata": {},
   "source": [
    "### Purcell decay into charge line"
   ]
  },
  {
   "cell_type": "markdown",
   "metadata": {},
   "source": [
    "The T1 of the qubit is limited by its decay into the charge line. This ministudy will change the distance of the charge line from the transmon pocket to optimize a T1 limit of 1 ms. This value is computed with simple capacitance matrix simulations and a classical model, assuming that the qubit frequency has already been optimized."
   ]
  },
  {
   "cell_type": "code",
   "execution_count": null,
   "metadata": {},
   "outputs": [],
   "source": [
    "MINI_STUDY_BRANCH = 0\n",
    "MINI_STUDY = ms.get_mini_study_qb_charge_line(branch=MINI_STUDY_BRANCH)\n",
    "opt_targets = ot.get_opt_targets_qb_charge_line(branch=MINI_STUDY_BRANCH)\n",
    "RENDER_QISKIT_METAL = lambda design: render_qiskit_metal_design(design, gui)"
   ]
  },
  {
   "cell_type": "code",
   "execution_count": null,
   "metadata": {},
   "outputs": [],
   "source": [
    "# %matplotlib inline\n",
    "design_analysis_state = DesignAnalysisState(\n",
    "    design, RENDER_QISKIT_METAL, pt.TARGET_PARAMS_CHARGE_LINE_DECAY\n",
    ")\n",
    "design_analysis = DesignAnalysis(\n",
    "    design_analysis_state,\n",
    "    mini_study=MINI_STUDY,\n",
    "    opt_targets=opt_targets,\n",
    "    save_path=CHIP_NAME + \"_\" + time.strftime(\"%Y%m%d-%H%M%S\"),\n",
    "    update_parameters=False,\n",
    "    plot_settings=ps.PLOT_SETTINGS_CHARGE_LINE_DECAY,\n",
    "    plot_branches_separately=False,\n",
    ")"
   ]
  },
  {
   "cell_type": "code",
   "execution_count": null,
   "metadata": {},
   "outputs": [],
   "source": [
    "nbr_runs = 3\n",
    "nbr_passes_cap = 2\n",
    "\n",
    "for i in range(nbr_runs):\n",
    "    design_analysis.update_nbr_passes_capacitance_ministudies(nbr_passes_cap)\n",
    "    design_analysis.optimize_target({}, {})\n",
    "    design_analysis.screenshot(gui=gui, run=i)"
   ]
  },
  {
   "cell_type": "markdown",
   "metadata": {},
   "source": [
    "## View Optimization results"
   ]
  },
  {
   "cell_type": "code",
   "execution_count": null,
   "metadata": {},
   "outputs": [],
   "source": [
    "design_analysis.get_cross_kerr_matrix(iteration=-1)"
   ]
  },
  {
   "cell_type": "code",
   "execution_count": null,
   "metadata": {},
   "outputs": [],
   "source": [
    "close_ansys()"
   ]
  },
  {
   "cell_type": "code",
   "execution_count": null,
   "metadata": {},
   "outputs": [],
   "source": []
  }
 ],
 "metadata": {
  "kernelspec": {
   "display_name": "qdo",
   "language": "python",
   "name": "python3"
  },
  "language_info": {
   "codemirror_mode": {
    "name": "ipython",
    "version": 3
   },
   "file_extension": ".py",
   "mimetype": "text/x-python",
   "name": "python",
   "nbconvert_exporter": "python",
   "pygments_lexer": "ipython3",
   "version": "3.10.15"
  }
 },
 "nbformat": 4,
 "nbformat_minor": 2
}
