{
 "cells": [
  {
   "cell_type": "markdown",
   "metadata": {},
   "source": [
    "# Example 2: Coupled Transmon Qubits"
   ]
  },
  {
   "cell_type": "code",
   "execution_count": 10,
   "metadata": {},
   "outputs": [],
   "source": [
    "%load_ext autoreload\n",
    "%autoreload 2\n",
    "import time"
   ]
  },
  {
   "cell_type": "code",
   "execution_count": 2,
   "metadata": {},
   "outputs": [],
   "source": [
    "import json\n",
    "import design as d\n",
    "import names as n\n",
    "\n",
    "with open(\"design_variables.json\") as in_file:\n",
    "    initial_design_variables = json.load(in_file)\n",
    "\n",
    "from qdesignoptimizer.utils.chip_generation import create_chip_base, ChipType\n",
    "from qdesignoptimizer.utils.utils import close_ansys\n"
   ]
  },
  {
   "cell_type": "markdown",
   "metadata": {},
   "source": [
    "## Design assembly"
   ]
  },
  {
   "cell_type": "code",
   "execution_count": 3,
   "metadata": {},
   "outputs": [],
   "source": [
    "close_ansys()"
   ]
  },
  {
   "cell_type": "code",
   "execution_count": 4,
   "metadata": {},
   "outputs": [],
   "source": [
    "CHIP_NAME = \"multi_transmon_chip\"\n",
    "OPEN_GUI = True\n",
    "chip_type = ChipType(size_x=\"10mm\", size_y=\"10mm\", size_z=\"-300um\")\n",
    "design, gui = create_chip_base(\n",
    "    chip_name=CHIP_NAME, chip_type=chip_type, open_gui=OPEN_GUI\n",
    ")\n",
    "\n",
    "n.add_design_variables_to_design(design, initial_design_variables)"
   ]
  },
  {
   "cell_type": "code",
   "execution_count": 7,
   "metadata": {},
   "outputs": [],
   "source": [
    "def render_qiskit_metal_design(design, gui):\n",
    "    d.add_transmon_plus_resonator(design, group=n.NBR_1)\n",
    "    d.add_transmon_plus_resonator(design, group=n.NBR_2)\n",
    "\n",
    "    d.add_coupler(design)\n",
    "\n",
    "    d.add_route_interconnects(design)\n",
    "\n",
    "    d.add_launch_pads(design)\n",
    "\n",
    "    d.add_chargeline(design, group=n.NBR_1)\n",
    "    d.add_chargeline(design, group=n.NBR_2)\n",
    "\n",
    "    gui.rebuild()\n",
    "    gui.autoscale()\n",
    "\n",
    "\n",
    "render_qiskit_metal_design(design, gui)"
   ]
  },
  {
   "cell_type": "markdown",
   "metadata": {},
   "source": [
    "## MiniStudies"
   ]
  },
  {
   "cell_type": "code",
   "execution_count": 8,
   "metadata": {},
   "outputs": [],
   "source": [
    "import mini_studies as ms\n",
    "import optimization_targets as ot\n",
    "import parameter_targets as pt\n",
    "import plot_settings as ps\n",
    "\n",
    "from qdesignoptimizer.design_analysis import DesignAnalysis, DesignAnalysisState\n",
    "from qiskit_metal.qlibrary.couplers.coupled_line_tee import CoupledLineTee\n",
    "from qdesignoptimizer.design_analysis_types import MeshingMap"
   ]
  },
  {
   "cell_type": "markdown",
   "metadata": {},
   "source": [
    "# Single resonator"
   ]
  },
  {
   "cell_type": "code",
   "execution_count": 18,
   "metadata": {},
   "outputs": [
    {
     "data": {
      "text/plain": [
       "'\\nHere we want to study the following permutations:\\n- fine mesh conductor\\n- no fine mesh\\n\\nsingle run\\n14 passes\\nlook at convergence of imaginary part\\n'"
      ]
     },
     "execution_count": 18,
     "metadata": {},
     "output_type": "execute_result"
    }
   ],
   "source": [
    "\"\"\"\n",
    "Here we want to study the following permutations:\n",
    "- fine mesh conductor\n",
    "- no fine mesh\n",
    "\n",
    "single run\n",
    "14 passes\n",
    "look at convergence of imaginary part\n",
    "\"\"\""
   ]
  },
  {
   "cell_type": "code",
   "execution_count": 19,
   "metadata": {},
   "outputs": [],
   "source": [
    "def CoupledLineTee_mesh_names(comp_names):\n",
    "    all_names_to_mesh = [\n",
    "                        f\"prime_cpw_{comp_names}\", f\"second_cpw_{comp_names}\", \n",
    "                         ]\n",
    "    return all_names_to_mesh"
   ]
  },
  {
   "cell_type": "code",
   "execution_count": 21,
   "metadata": {},
   "outputs": [],
   "source": [
    "MINI_STUDY_GROUP = n.NBR_1\n",
    "MINI_STUDY = ms.get_mini_study_res(group=MINI_STUDY_GROUP)\n",
    "RENDER_QISKIT_METAL = lambda design: render_qiskit_metal_design(design, gui)\n",
    "\n",
    "opt_targets = ot.get_opt_targets_2qubits_resonator_coupler(\n",
    "    groups=[MINI_STUDY_GROUP],\n",
    "    opt_target_qubit_freq=False,\n",
    "    opt_target_qubit_anharm=False,\n",
    "    opt_target_resonator_freq=True,\n",
    "    opt_target_resonator_kappa=True,\n",
    "    opt_target_resonator_qubit_chi=False,\n",
    ")"
   ]
  },
  {
   "cell_type": "code",
   "execution_count": 22,
   "metadata": {},
   "outputs": [
    {
     "name": "stderr",
     "output_type": "stream",
     "text": [
      "\u001b[38;20m[INFO|2025-03-07 10:55:24]: self.eig_solver.sim.setup \n",
      "{\n",
      "    \"name\": \"Resonator_setup\",\n",
      "    \"reuse_selected_design\": true,\n",
      "    \"reuse_setup\": true,\n",
      "    \"min_freq_ghz\": 1,\n",
      "    \"n_modes\": 1,\n",
      "    \"max_delta_f\": 0.5,\n",
      "    \"max_passes\": 10,\n",
      "    \"min_passes\": 1,\n",
      "    \"min_converged\": 1,\n",
      "    \"pct_refinement\": 30,\n",
      "    \"basis_order\": 1,\n",
      "    \"vars\": {\n",
      "        \"Lj\": \"10 nH\",\n",
      "        \"Cj\": \"0 fF\"\n",
      "    }\n",
      "}\u001b[0m\n",
      "INFO 10:55AM [connect_project]: Connecting to Ansys Desktop API...\n",
      "INFO 10:55AM [load_ansys_project]: \tOpened Ansys App\n",
      "INFO 10:55AM [load_ansys_project]: \tOpened Ansys Desktop v2021.2.0\n",
      "INFO 10:55AM [load_ansys_project]: \tOpened Ansys Project\n",
      "\tFolder:    C:/Users/lukassp/Documents/Ansoft/\n",
      "\tProject:   Project8\n",
      "INFO 10:55AM [connect_design]: \tOpened active design\n",
      "\tDesign:    Design_q3d [Solution type: Q3D]\n",
      "INFO 10:55AM [get_setup]: \tOpened setup `Setup`  (<class 'pyEPR.ansys.AnsysQ3DSetup'>)\n",
      "INFO 10:55AM [connect]: \tConnected to project \"Project8\" and design \"Design_q3d\" 😀 \n",
      "\n",
      "10:55AM 24s WARNING [activate_ansys_design]: The design_name=get_mini_study_res was not in active project.  Designs in active project are: \n",
      "['get_mini_study_capacitance', 'Design_q3d'].  A new design will be added to the project.  \n",
      "INFO 10:55AM [connect_design]: \tOpened active design\n",
      "\tDesign:    get_mini_study_res [Solution type: Eigenmode]\n",
      "WARNING 10:55AM [connect_setup]: \tNo design setup detected.\n",
      "WARNING 10:55AM [connect_setup]: \tCreating eigenmode default setup.\n",
      "INFO 10:55AM [get_setup]: \tOpened setup `Setup`  (<class 'pyEPR.ansys.HfssEMSetup'>)\n",
      "\u001b[38;20m[INFO|2025-03-07 10:55:25]: Updated_design_vars\n",
      "{\n",
      "    \"cpw_width\": \"10 um\",\n",
      "    \"cpw_gap\": \"6 um\",\n",
      "    \"design_var_width_qubit_1\": \"400um\",\n",
      "    \"design_var_width_qubit_2\": \"400um\",\n",
      "    \"design_var_cl_pos_x_qubit_1\": \"-2600um\",\n",
      "    \"design_var_cl_pos_y_qubit_1\": \"-1800um\",\n",
      "    \"design_var_cl_pos_x_qubit_2\": \"-2600um\",\n",
      "    \"design_var_cl_pos_y_qubit_2\": \"1800um\",\n",
      "    \"design_var_length_resonator_1_capacitance\": \"20um\",\n",
      "    \"design_var_length_resonator_2_capacitance\": \"20um\",\n",
      "    \"design_var_lj_qubit_1\": \"12.1nH\",\n",
      "    \"design_var_lj_qubit_2\": \"9.1nH\",\n",
      "    \"design_var_cj_qubit_1\": \"0fF\",\n",
      "    \"design_var_cj_qubit_2\": \"0fF\",\n",
      "    \"design_var_length_resonator_1\": \"7500um\",\n",
      "    \"design_var_length_resonator_2\": \"6500um\",\n",
      "    \"design_var_length_coupler_1to2\": \"4000um\",\n",
      "    \"design_var_coupl_length_qubit_1_resonator_1\": \"100um\",\n",
      "    \"design_var_coupl_length_qubit_2_resonator_2\": \"100um\",\n",
      "    \"design_var_coupl_length_resonator_1_tee\": \"170um\",\n",
      "    \"design_var_coupl_length_resonator_2_tee\": \"160um\"\n",
      "}\u001b[0m\n",
      "INFO 10:55AM [__del__]: Disconnected from Ansys HFSS\n"
     ]
    },
    {
     "name": "stdout",
     "output_type": "stream",
     "text": [
      "pyaedt INFO: using existing logger.\n",
      "pyaedt INFO: Launching PyAEDT outside AEDT with CPython and PythonNET.\n",
      "pyaedt INFO: AEDT installation Path C:\\Program Files\\AnsysEM\\AnsysEM21.2\\Win64.\n",
      "pyaedt INFO: Launching AEDT with module PythonNET.\n",
      "pyaedt INFO: Ansoft.ElectronicsDesktop.2021.2 Started with process ID 10436.\n",
      "pyaedt INFO: pyaedt v0.6.46\n",
      "pyaedt INFO: Python version 3.10.15 | packaged by Anaconda, Inc. | (main, Oct  3 2024, 07:22:19) [MSC v.1929 64 bit (AMD64)]\n",
      "pyaedt INFO: No project is defined. Project Project8 exists and has been read.\n",
      "pyaedt INFO: No consistent unique design is present. Inserting a new design.\n",
      "pyaedt INFO: Added design 'HFSS_GMQ' of type HFSS.\n",
      "pyaedt INFO: Aedt Objects initialized\n",
      "pyaedt INFO: Variable Manager initialized\n",
      "pyaedt INFO: Design Loaded\n",
      "pyaedt INFO: Successfully loaded project materials !\n",
      "pyaedt INFO: Materials Loaded\n"
     ]
    },
    {
     "name": "stderr",
     "output_type": "stream",
     "text": [
      "INFO 10:55AM [analyze]: Analyzing setup Setup\n",
      "\u001b[33;20m[WARNING|2025-03-07 12:56:28]: No junctions found, skipping EPR analysis.\u001b[0m\n"
     ]
    },
    {
     "name": "stdout",
     "output_type": "stream",
     "text": [
      "Design \"get_mini_study_res\" info:\n",
      "\t# eigenmodes    1\n",
      "\t# variations    1\n",
      "Design \"get_mini_study_res\" info:\n",
      "\t# eigenmodes    1\n",
      "\t# variations    1\n"
     ]
    },
    {
     "name": "stderr",
     "output_type": "stream",
     "text": [
      "12:56PM 29s CRITICAL [_qt_message_handler]: line: 0, func: None(), file: None  CRITICAL: QEventDispatcherWin32::wakeUp: Failed to post a message (Not enough quota is available to process this command.)\n",
      "\n"
     ]
    }
   ],
   "source": [
    "design_analysis_state = DesignAnalysisState(\n",
    "    design, RENDER_QISKIT_METAL, pt.PARAM_TARGETS\n",
    ")\n",
    "design_analysis = DesignAnalysis(\n",
    "    design_analysis_state,\n",
    "    mini_study=MINI_STUDY,\n",
    "    opt_targets=opt_targets,\n",
    "    save_path='out/' + CHIP_NAME + \"_\" + time.strftime(\"%Y%m%d-%H%M%S\"),\n",
    "    update_design_variables=False,\n",
    "    plot_settings=ps.PLOT_SETTINGS,\n",
    "    meshing_map=[MeshingMap(component_class = CoupledLineTee, mesh_names = CoupledLineTee_mesh_names)]\n",
    "    \n",
    ")\n",
    "\n",
    "group_runs = 1\n",
    "group_passes = 14\n",
    "delta_f = 0.001\n",
    "for i in range(group_runs):\n",
    "    design_analysis.update_nbr_passes(group_passes)\n",
    "    design_analysis.update_delta_f(delta_f)\n",
    "    design_analysis.optimize_target({}, {})\n",
    "    design_analysis.screenshot(gui=gui, run=i)"
   ]
  },
  {
   "cell_type": "markdown",
   "metadata": {},
   "source": [
    "### Optimize capacitance target"
   ]
  },
  {
   "cell_type": "code",
   "execution_count": 11,
   "metadata": {},
   "outputs": [
    {
     "name": "stderr",
     "output_type": "stream",
     "text": [
      "\u001b[38;20m[INFO|2025-03-07 10:47:04]: self.eig_solver.sim.setup \n",
      "{\n",
      "    \"name\": \"Resonator_setup\",\n",
      "    \"reuse_selected_design\": true,\n",
      "    \"reuse_setup\": true,\n",
      "    \"min_freq_ghz\": 1,\n",
      "    \"n_modes\": 1,\n",
      "    \"max_delta_f\": 0.5,\n",
      "    \"max_passes\": 10,\n",
      "    \"min_passes\": 1,\n",
      "    \"min_converged\": 1,\n",
      "    \"pct_refinement\": 30,\n",
      "    \"basis_order\": 1,\n",
      "    \"vars\": {\n",
      "        \"Lj\": \"10 nH\",\n",
      "        \"Cj\": \"0 fF\"\n",
      "    }\n",
      "}\u001b[0m\n",
      "INFO 10:47AM [connect_project]: Connecting to Ansys Desktop API...\n",
      "INFO 10:47AM [load_ansys_project]: \tOpened Ansys App\n",
      "INFO 10:47AM [load_ansys_project]: \tOpened Ansys Desktop v2021.2.0\n",
      "INFO 10:47AM [load_ansys_project]: \tOpened Ansys Project\n",
      "\tFolder:    C:/Users/lukassp/Documents/Ansoft/\n",
      "\tProject:   Project8\n",
      "INFO 10:47AM [connect_design]: No active design found (or error getting active design).\n",
      "INFO 10:47AM [connect]: \t Connected to project \"Project8\". No design detected\n",
      "10:47AM 22s WARNING [activate_ansys_design]: The design_name=get_mini_study_capacitance was not in active project.  Designs in active project are: \n",
      "[].  A new design will be added to the project.  \n",
      "INFO 10:47AM [connect_design]: \tOpened active design\n",
      "\tDesign:    get_mini_study_capacitance [Solution type: Eigenmode]\n",
      "WARNING 10:47AM [connect_setup]: \tNo design setup detected.\n",
      "WARNING 10:47AM [connect_setup]: \tCreating eigenmode default setup.\n",
      "INFO 10:47AM [get_setup]: \tOpened setup `Setup`  (<class 'pyEPR.ansys.HfssEMSetup'>)\n"
     ]
    },
    {
     "name": "stderr",
     "output_type": "stream",
     "text": [
      "ocuments\fonda_envs\\qdo\\qiskit-metal\\qiskit_metal\\_gui\\styles\\metal_dark\\rc\\transparent.pnguld not create pixmap from c:\\users\\lukassp\n",
      "\n"
     ]
    }
   ],
   "source": [
    "MINI_STUDY_BRANCH = 1\n",
    "MINI_STUDY = ms.get_mini_study_resonator_capacitance(group=MINI_STUDY_BRANCH)\n",
    "opt_targets = ot.get_opt_target_capacitance(group=MINI_STUDY_BRANCH)\n",
    "\n",
    "RENDER_QISKIT_METAL = lambda design: render_qiskit_metal_design(design, gui)\n",
    "# %matplotlib inline\n",
    "design_analysis_state = DesignAnalysisState(\n",
    "    design, RENDER_QISKIT_METAL, pt.PARAM_TARGETS\n",
    ")\n",
    "design_analysis = DesignAnalysis(\n",
    "    design_analysis_state,\n",
    "    mini_study=MINI_STUDY,\n",
    "    opt_targets=opt_targets,\n",
    "    save_path=\"out/\" + CHIP_NAME + \"_\" + time.strftime(\"%Y%m%d-%H%M%S\"),\n",
    "    update_design_variables=False,\n",
    "    plot_settings=ps.PLOT_SETTINGS_CAPACITANCE,\n",
    ")"
   ]
  },
  {
   "cell_type": "code",
   "execution_count": 12,
   "metadata": {},
   "outputs": [
    {
     "name": "stderr",
     "output_type": "stream",
     "text": [
      "\u001b[38;20m[INFO|2025-03-07 10:48:19]: Updated_design_vars\n",
      "{\n",
      "    \"cpw_width\": \"10 um\",\n",
      "    \"cpw_gap\": \"6 um\",\n",
      "    \"design_var_width_qubit_1\": \"400um\",\n",
      "    \"design_var_width_qubit_2\": \"400um\",\n",
      "    \"design_var_cl_pos_x_qubit_1\": \"-2600um\",\n",
      "    \"design_var_cl_pos_y_qubit_1\": \"-1800um\",\n",
      "    \"design_var_cl_pos_x_qubit_2\": \"-2600um\",\n",
      "    \"design_var_cl_pos_y_qubit_2\": \"1800um\",\n",
      "    \"design_var_length_resonator_1_capacitance\": \"20um\",\n",
      "    \"design_var_length_resonator_2_capacitance\": \"20um\",\n",
      "    \"design_var_lj_qubit_1\": \"12.1nH\",\n",
      "    \"design_var_lj_qubit_2\": \"9.1nH\",\n",
      "    \"design_var_cj_qubit_1\": \"0fF\",\n",
      "    \"design_var_cj_qubit_2\": \"0fF\",\n",
      "    \"design_var_length_resonator_1\": \"7500um\",\n",
      "    \"design_var_length_resonator_2\": \"6500um\",\n",
      "    \"design_var_length_coupler_1to2\": \"4000um\",\n",
      "    \"design_var_coupl_length_qubit_1_resonator_1\": \"100um\",\n",
      "    \"design_var_coupl_length_qubit_2_resonator_2\": \"100um\",\n",
      "    \"design_var_coupl_length_resonator_1_tee\": \"170um\",\n",
      "    \"design_var_coupl_length_resonator_2_tee\": \"160um\"\n",
      "}\u001b[0m\n",
      "\u001b[38;20m[INFO|2025-03-07 10:48:20]: Simulating capacitance matrix study.\u001b[0m\n",
      "INFO 10:48AM [connect_project]: Connecting to Ansys Desktop API...\n",
      "INFO 10:48AM [load_ansys_project]: \tOpened Ansys App\n",
      "INFO 10:48AM [load_ansys_project]: \tOpened Ansys Desktop v2021.2.0\n",
      "INFO 10:48AM [load_ansys_project]: \tOpened Ansys Project\n",
      "\tFolder:    C:/Users/lukassp/Documents/Ansoft/\n",
      "\tProject:   Project8\n",
      "INFO 10:48AM [connect_design]: \tOpened active design\n",
      "\tDesign:    get_mini_study_capacitance [Solution type: Eigenmode]\n",
      "INFO 10:48AM [get_setup]: \tOpened setup `Setup`  (<class 'pyEPR.ansys.HfssEMSetup'>)\n",
      "INFO 10:48AM [connect]: \tConnected to project \"Project8\" and design \"get_mini_study_capacitance\" 😀 \n",
      "\n",
      "INFO 10:48AM [connect_design]: \tOpened active design\n",
      "\tDesign:    Design_q3d [Solution type: Q3D]\n",
      "WARNING 10:48AM [connect_setup]: \tNo design setup detected.\n",
      "WARNING 10:48AM [connect_setup]: \tCreating Q3D default setup.\n",
      "INFO 10:48AM [get_setup]: \tOpened setup `Setup`  (<class 'pyEPR.ansys.AnsysQ3DSetup'>)\n",
      "INFO 10:48AM [get_setup]: \tOpened setup `Setup`  (<class 'pyEPR.ansys.AnsysQ3DSetup'>)\n",
      "INFO 10:48AM [analyze]: Analyzing setup Setup\n",
      "INFO 10:49AM [get_matrix]: Exporting matrix data to (C:\\Users\\lukassp\\AppData\\Local\\Temp\\tmp92jhmk5q.txt, C, , Setup:LastAdaptive, \"Original\", \"ohm\", \"nH\", \"fF\", \"mSie\", 5000000000, Maxwell, 1, False\n",
      "INFO 10:49AM [get_matrix]: Exporting matrix data to (C:\\Users\\lukassp\\AppData\\Local\\Temp\\tmpyl69s_8n.txt, C, , Setup:AdaptivePass, \"Original\", \"ohm\", \"nH\", \"fF\", \"mSie\", 5000000000, Maxwell, 1, False\n",
      "INFO 10:49AM [get_matrix]: Exporting matrix data to (C:\\Users\\lukassp\\AppData\\Local\\Temp\\tmpxl_15chg.txt, C, , Setup:AdaptivePass, \"Original\", \"ohm\", \"nH\", \"fF\", \"mSie\", 5000000000, Maxwell, 2, False\n",
      "INFO 10:49AM [get_matrix]: Exporting matrix data to (C:\\Users\\lukassp\\AppData\\Local\\Temp\\tmp1mm9kgph.txt, C, , Setup:AdaptivePass, \"Original\", \"ohm\", \"nH\", \"fF\", \"mSie\", 5000000000, Maxwell, 3, False\n",
      "INFO 10:49AM [get_matrix]: Exporting matrix data to (C:\\Users\\lukassp\\AppData\\Local\\Temp\\tmpqy2ydwyy.txt, C, , Setup:AdaptivePass, \"Original\", \"ohm\", \"nH\", \"fF\", \"mSie\", 5000000000, Maxwell, 4, False\n",
      "INFO 10:49AM [get_matrix]: Exporting matrix data to (C:\\Users\\lukassp\\AppData\\Local\\Temp\\tmp5buq484t.txt, C, , Setup:AdaptivePass, \"Original\", \"ohm\", \"nH\", \"fF\", \"mSie\", 5000000000, Maxwell, 5, False\n",
      "INFO 10:49AM [get_matrix]: Exporting matrix data to (C:\\Users\\lukassp\\AppData\\Local\\Temp\\tmp6mmel4e1.txt, C, , Setup:AdaptivePass, \"Original\", \"ohm\", \"nH\", \"fF\", \"mSie\", 5000000000, Maxwell, 6, False\n",
      "INFO 10:49AM [get_matrix]: Exporting matrix data to (C:\\Users\\lukassp\\AppData\\Local\\Temp\\tmpgz6am7nu.txt, C, , Setup:AdaptivePass, \"Original\", \"ohm\", \"nH\", \"fF\", \"mSie\", 5000000000, Maxwell, 7, False\n",
      "INFO 10:49AM [get_matrix]: Exporting matrix data to (C:\\Users\\lukassp\\AppData\\Local\\Temp\\tmpkcthvriu.txt, C, , Setup:AdaptivePass, \"Original\", \"ohm\", \"nH\", \"fF\", \"mSie\", 5000000000, Maxwell, 8, False\n",
      "INFO 10:49AM [get_matrix]: Exporting matrix data to (C:\\Users\\lukassp\\AppData\\Local\\Temp\\tmpk0jw8iso.txt, C, , Setup:AdaptivePass, \"Original\", \"ohm\", \"nH\", \"fF\", \"mSie\", 5000000000, Maxwell, 9, False\n",
      "INFO 10:49AM [get_matrix]: Exporting matrix data to (C:\\Users\\lukassp\\AppData\\Local\\Temp\\tmpjcvb36d8.txt, C, , Setup:AdaptivePass, \"Original\", \"ohm\", \"nH\", \"fF\", \"mSie\", 5000000000, Maxwell, 10, False\n",
      "INFO 10:49AM [get_matrix]: Exporting matrix data to (C:\\Users\\lukassp\\AppData\\Local\\Temp\\tmpoj9p_102.txt, C, , Setup:AdaptivePass, \"Original\", \"ohm\", \"nH\", \"fF\", \"mSie\", 5000000000, Maxwell, 11, False\n",
      "\u001b[38;20m[INFO|2025-03-07 10:49:16]: CAPACITANCE MATRIX\n",
      "                      ground_main_plane  prime_cpw_name_tee1  second_cpw_name_tee1\n",
      "ground_main_plane            2697.83505          -1138.38029           -1206.82207\n",
      "prime_cpw_name_tee1         -1138.38029           1140.65341              -1.47947\n",
      "second_cpw_name_tee1        -1206.82207             -1.47947            1208.84068\u001b[0m\n",
      "\u001b[38;20m[INFO|2025-03-07 10:49:16]: Computing T1 limit from decay in charge line.\u001b[0m\n"
     ]
    }
   ],
   "source": [
    "group_runs = 1\n",
    "group_passes_cap = 10\n",
    "\n",
    "for i in range(group_runs):\n",
    "    design_analysis.update_nbr_passes_capacitance_ministudies(group_passes_cap)\n",
    "    design_analysis.optimize_target({}, {})\n",
    "    design_analysis.screenshot(gui=gui, run=i)"
   ]
  },
  {
   "cell_type": "markdown",
   "metadata": {},
   "source": [
    "## View Optimization results"
   ]
  },
  {
   "cell_type": "code",
   "execution_count": null,
   "metadata": {},
   "outputs": [],
   "source": [
    "design_analysis.get_cross_kerr_matrix(iteration=-1)"
   ]
  },
  {
   "cell_type": "code",
   "execution_count": null,
   "metadata": {},
   "outputs": [],
   "source": [
    "design_analysis.get_eigenmode_results()"
   ]
  },
  {
   "cell_type": "code",
   "execution_count": null,
   "metadata": {},
   "outputs": [],
   "source": [
    "close_ansys()"
   ]
  },
  {
   "cell_type": "markdown",
   "metadata": {},
   "source": [
    "# Analytical formula for coupling Q"
   ]
  },
  {
   "cell_type": "code",
   "execution_count": 13,
   "metadata": {},
   "outputs": [],
   "source": [
    "import numpy as np"
   ]
  },
  {
   "cell_type": "code",
   "execution_count": 14,
   "metadata": {},
   "outputs": [],
   "source": [
    "def qc(imp, cap, omega):\n",
    "    return np.pi / (imp**2 * omega**2 * cap**2)"
   ]
  },
  {
   "cell_type": "code",
   "execution_count": 15,
   "metadata": {},
   "outputs": [
    {
     "data": {
      "text/plain": [
       "31.185642685922744"
      ]
     },
     "execution_count": 15,
     "metadata": {},
     "output_type": "execute_result"
    }
   ],
   "source": [
    "freq= 7.683e9\n",
    "freq/qc(50, 1.47947e-15, 2*np.pi*freq)/1e3"
   ]
  },
  {
   "cell_type": "code",
   "execution_count": 16,
   "metadata": {},
   "outputs": [
    {
     "data": {
      "text/plain": [
       "0.2260000000000002"
      ]
     },
     "execution_count": 16,
     "metadata": {},
     "output_type": "execute_result"
    }
   ],
   "source": [
    "1.479-1.253"
   ]
  },
  {
   "cell_type": "code",
   "execution_count": 17,
   "metadata": {},
   "outputs": [
    {
     "data": {
      "text/plain": [
       "0.18036711891460497"
      ]
     },
     "execution_count": 17,
     "metadata": {},
     "output_type": "execute_result"
    }
   ],
   "source": [
    "0.226/1.253\n"
   ]
  },
  {
   "cell_type": "code",
   "execution_count": null,
   "metadata": {},
   "outputs": [],
   "source": []
  }
 ],
 "metadata": {
  "kernelspec": {
   "display_name": "qdo",
   "language": "python",
   "name": "python3"
  },
  "language_info": {
   "codemirror_mode": {
    "name": "ipython",
    "version": 3
   },
   "file_extension": ".py",
   "mimetype": "text/x-python",
   "name": "python",
   "nbconvert_exporter": "python",
   "pygments_lexer": "ipython3",
   "version": "3.10.15"
  }
 },
 "nbformat": 4,
 "nbformat_minor": 2
}
