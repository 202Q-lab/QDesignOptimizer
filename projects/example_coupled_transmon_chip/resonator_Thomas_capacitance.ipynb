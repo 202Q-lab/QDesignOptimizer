{
 "cells": [
  {
   "cell_type": "code",
   "execution_count": 1,
   "metadata": {},
   "outputs": [],
   "source": [
    "#%%\n",
    "import numpy as np\n",
    "import qiskit_metal as metal\n",
    "from qiskit_metal import designs\n",
    "from qiskit_metal import MetalGUI, Dict, open_docs\n",
    "from qiskit_metal.qlibrary.terminations.short_to_ground import ShortToGround\n",
    "from qiskit_metal.qlibrary.tlines.meandered import RouteMeander\n",
    "from qiskit_metal.qlibrary.tlines.straight_path import RouteStraight\n",
    "from qiskit_metal.qlibrary.tlines.framed_path import RouteFramed\n",
    "from qiskit_metal.qlibrary.terminations.launchpad_wb import LaunchpadWirebond\n",
    "from qiskit_metal.qlibrary.couplers.coupled_line_tee import CoupledLineTee\n",
    "\n",
    "\n",
    "from qiskit_metal.analyses import EPRanalysis\n",
    "\n",
    "design = designs.DesignPlanar()\n",
    "design.overwrite_enabled = True\n",
    "\n",
    "design.chips.main.size['size_x'] = '7mm'\n",
    "design.chips.main.size['size_y'] = '7mm'\n",
    "design.chips.main.size['size_z'] = '-280um'\n",
    "\n",
    "gui = MetalGUI(design)\n",
    "\n",
    "RES_WIDTH = '20um'\n",
    "RES_GAP = '20um'\n",
    "LINE_50_OHM_WIDTH = '15um'\n",
    "LINE_50_OHM_GAP = '10um'"
   ]
  },
  {
   "cell_type": "code",
   "execution_count": 2,
   "metadata": {},
   "outputs": [
    {
     "name": "stdout",
     "output_type": "stream",
     "text": [
      "5910\n",
      "5000700547\n"
     ]
    }
   ],
   "source": [
    "\"\"\"ESTIMATE LENGTH\"\"\"\n",
    "eps_eff = 6.44 # assuming eps_r = 11.9\n",
    "vp = 3e8/np.sqrt(eps_eff)\n",
    "\n",
    "def freq2length(f, vp=vp):\n",
    "    return int(vp/f*1e6/4) #length of lbda/4 resonator\n",
    "\n",
    "def length2freq(l, vp=vp):\n",
    "    return int(vp/4/(l*1e-6))\n",
    "\n",
    "l = freq2length(5e9)\n",
    "print(l)\n",
    "f = print(length2freq(l))"
   ]
  },
  {
   "cell_type": "code",
   "execution_count": 3,
   "metadata": {},
   "outputs": [],
   "source": [
    "\"\"\"CREATE RESONATORS\"\"\"\n",
    "\n",
    "def resonator(ID, f, tee_pos, coupling_length, prime_length, coupling_space, short_pos, res_gap, down_length = 100, fillet = 60,  right = False, orientation = '90'):\n",
    "    \n",
    "    if right:\n",
    "        mirror = False\n",
    "    else:\n",
    "        mirror = True\n",
    "    tee_options = Dict(prime_width=LINE_50_OHM_WIDTH, prime_gap=LINE_50_OHM_GAP, prime_length_1=str(prime_length)+'um', prime_length_2=str(prime_length)+'um',\n",
    "                    second_width=RES_WIDTH, second_gap=res_gap, coupling_space=str(coupling_space)+'um', coupling_length=str(coupling_length)+'um', \n",
    "                    down_length=str(down_length)+'um', fillet=str(fillet)+'um', mirror=mirror, open_termination=True,\n",
    "                    pos_x=str(tee_pos[0])+'um', pos_y=str(tee_pos[1])+'um', orientation=orientation)\n",
    "    tee1 = CoupledLineTee(design, 'tee'+ID, options=tee_options)\n",
    "\n",
    "    spacing = 200\n",
    "    L = int(freq2length(f)) - coupling_length - down_length\n",
    "\n",
    "    short1_options = Dict(pos_x=str(short_pos[0])+'um', pos_y=str(short_pos[1])+'um', orientation='-90', termination_gap='10um')\n",
    "    short1 = ShortToGround(design,'short'+ID,options=short1_options)\n",
    "\n",
    "    #f = 5e9\n",
    "    res1_options = Dict(total_length=str(L)+'um', fillet=str(-5+spacing/2)+'um', lead = dict(start_straight='100um', end_straight='0um'),\n",
    "                        pin_inputs=Dict(start_pin=Dict(component='tee'+ID, pin='second_end'),\n",
    "                                        end_pin=Dict(component='short'+ID, pin='short')),\n",
    "                        meander=Dict(spacing=str(spacing)+'um', asymmetry='0um'),\n",
    "                        trace_width=RES_WIDTH, trace_gap=res_gap)\n",
    "    res1 = RouteMeander(design, 'res'+ID,  options=res1_options)"
   ]
  },
  {
   "cell_type": "code",
   "execution_count": 4,
   "metadata": {},
   "outputs": [],
   "source": [
    "def render_qiskit_metal_design():\n",
    "    simulation = False\n",
    "    ### 7.25 GHz ###\n",
    "    ID = '1'\n",
    "    f = 7.25e9-0.175e9\n",
    "    coupling_length = 300\n",
    "    if simulation:\n",
    "        prime_length = coupling_length+700\n",
    "    else:\n",
    "        prime_length = 0\n",
    "    down_length = 200\n",
    "    coupling_space = 70\n",
    "    tee_pos = [-2500, 500]\n",
    "    tee_fillet = 80\n",
    "    right = True\n",
    "    orientation = '90'\n",
    "    res_gap = '30um'\n",
    "    short_pos = [-1000, tee_pos[1]-coupling_length+200]\n",
    "\n",
    "    resonator(ID, f, tee_pos, coupling_length, prime_length, coupling_space, short_pos, res_gap=res_gap, down_length = down_length, fillet = tee_fillet, right = right, orientation=orientation)\n",
    "\n",
    "    gui.rebuild()\n",
    "    gui.autoscale() "
   ]
  },
  {
   "cell_type": "code",
   "execution_count": 5,
   "metadata": {},
   "outputs": [],
   "source": [
    "render_qiskit_metal_design()"
   ]
  },
  {
   "cell_type": "code",
   "execution_count": 6,
   "metadata": {},
   "outputs": [],
   "source": [
    "import names as n\n",
    "import numpy as np\n",
    "import parameter_targets as pt\n",
    "\n",
    "from qdesignoptimizer.design_analysis_types import MiniStudy\n",
    "from qdesignoptimizer.sim_capacitance_matrix import (\n",
    "    CapacitanceMatrixStudy,\n",
    "    ModeDecayIntoChargeLineStudy,\n",
    ")\n",
    "from qdesignoptimizer.utils.names_design_variables import junction_setup\n",
    "from qdesignoptimizer.utils.names_parameters import FREQ, param"
   ]
  },
  {
   "cell_type": "code",
   "execution_count": 7,
   "metadata": {},
   "outputs": [],
   "source": [
    "import mini_studies as ms\n",
    "import optimization_targets as ot\n",
    "import parameter_targets as pt\n",
    "import plot_settings as ps\n",
    "\n",
    "from qdesignoptimizer.design_analysis import DesignAnalysis, DesignAnalysisState\n",
    "from qiskit_metal.qlibrary.couplers.coupled_line_tee import CoupledLineTee\n",
    "from qdesignoptimizer.design_analysis_types import MeshingMap"
   ]
  },
  {
   "cell_type": "code",
   "execution_count": 8,
   "metadata": {},
   "outputs": [],
   "source": [
    "from typing import List\n",
    "\n",
    "import names as n\n",
    "import numpy as np\n",
    "\n",
    "from qdesignoptimizer.design_analysis_types import OptTarget\n",
    "from qdesignoptimizer.utils.optimization_targets import (\n",
    "    get_opt_targets_qb_res_transmission,\n",
    ")"
   ]
  },
  {
   "cell_type": "code",
   "execution_count": null,
   "metadata": {},
   "outputs": [],
   "source": [
    "def get_mini_study_resonator_capacitance(group: int):\n",
    "    qiskit_component_names = ['res1', 'tee1']\n",
    "    cap_study = CapacitanceMatrixStudy(\n",
    "        qiskit_component_names=qiskit_component_names,\n",
    "        open_pins=[\n",
    "            ('tee1', \"start\"),\n",
    "            ('tee1', \"end\"),\n",
    "        ],\n",
    "        mode_freq_GHz=7.25 * 1e-9,\n",
    "        nbr_passes=8,\n",
    "    )\n",
    "    return MiniStudy(\n",
    "        qiskit_component_names=qiskit_component_names,\n",
    "        port_list=[],\n",
    "        open_pins=[],\n",
    "        modes=[],  # No mode frequencies to run only capacitance studies and not eigenmode/epr\n",
    "        jj_setup={},\n",
    "        design_name=\"get_mini_study_capacitance\",\n",
    "        adjustment_rate=1,\n",
    "    )"
   ]
  },
  {
   "cell_type": "code",
   "execution_count": null,
   "metadata": {},
   "outputs": [],
   "source": [
    "def get_opt_target_capacitance():\n",
    "\n",
    "    return [\n",
    "        OptTarget(\n",
    "            target_param_type=n.CAPACITANCE,\n",
    "            involved_modes=[\"prime_cpw_name_tee1\", \"second_cpw_name_tee1\"],\n",
    "            design_var=n.design_var_length(f\"{resonator}_capacitance\"),\n",
    "            design_var_constraint={\"larger_than\": \"1um\", \"smaller_than\": \"500um\"},\n",
    "            prop_to=lambda p, v: 1,\n",
    "            independent_target=True,\n",
    "        )\n",
    "    ]"
   ]
  },
  {
   "cell_type": "code",
   "execution_count": null,
   "metadata": {},
   "outputs": [],
   "source": [
    "MINI_STUDY_BRANCH = 1\n",
    "MINI_STUDY = get_mini_study_resonator_capacitance(group=MINI_STUDY_BRANCH)\n",
    "opt_targets = get_opt_target_capacitance()\n",
    "\n",
    "RENDER_QISKIT_METAL = lambda design: render_qiskit_metal_design(design, gui)\n",
    "# %matplotlib inline\n",
    "design_analysis_state = DesignAnalysisState(\n",
    "    design, RENDER_QISKIT_METAL, pt.PARAM_TARGETS\n",
    ")\n",
    "design_analysis = DesignAnalysis(\n",
    "    design_analysis_state,\n",
    "    mini_study=MINI_STUDY,\n",
    "    opt_targets=opt_targets,\n",
    "    save_path=\"out/\" + 'CHIP_NAME' + \"_\",\n",
    "    update_design_variables=False,\n",
    "    plot_settings=ps.PLOT_SETTINGS_CAPACITANCE,\n",
    ")"
   ]
  },
  {
   "cell_type": "code",
   "execution_count": null,
   "metadata": {},
   "outputs": [],
   "source": [
    "from qdesignoptimizer.utils.utils import close_ansys"
   ]
  },
  {
   "cell_type": "code",
   "execution_count": null,
   "metadata": {},
   "outputs": [],
   "source": [
    "close_ansys()"
   ]
  },
  {
   "cell_type": "code",
   "execution_count": 9,
   "metadata": {},
   "outputs": [],
   "source": [
    "cap_study = CapacitanceMatrixStudy(\n",
    "        qiskit_component_names=['res1', 'tee1'],\n",
    "        open_pins=[\n",
    "            ('res1', 'end'),\n",
    "            ('tee1', \"prime_start\"),\n",
    "            ('tee1', \"prime_end\"),\n",
    "        ],\n",
    "        mode_freq_GHz=7.25 * 1e-9,\n",
    "        nbr_passes=8,\n",
    "    )"
   ]
  },
  {
   "cell_type": "code",
   "execution_count": 10,
   "metadata": {},
   "outputs": [
    {
     "name": "stderr",
     "output_type": "stream",
     "text": [
      "INFO 03:13PM [connect_project]: Connecting to Ansys Desktop API...\n",
      "INFO 03:13PM [load_ansys_project]: \tOpened Ansys App\n",
      "INFO 03:13PM [load_ansys_project]: \tOpened Ansys Desktop v2021.2.0\n",
      "INFO 03:13PM [load_ansys_project]: \tOpened Ansys Project\n",
      "\tFolder:    C:/Users/lukassp/Documents/Ansoft/\n",
      "\tProject:   Project15\n",
      "INFO 03:13PM [connect_design]: No active design found (or error getting active design).\n",
      "INFO 03:13PM [connect]: \t Connected to project \"Project15\". No design detected\n",
      "INFO 03:13PM [connect_design]: \tOpened active design\n",
      "\tDesign:    Design_q3d [Solution type: Q3D]\n",
      "WARNING 03:13PM [connect_setup]: \tNo design setup detected.\n",
      "WARNING 03:13PM [connect_setup]: \tCreating Q3D default setup.\n",
      "INFO 03:13PM [get_setup]: \tOpened setup `Setup`  (<class 'pyEPR.ansys.AnsysQ3DSetup'>)\n",
      "INFO 03:13PM [get_setup]: \tOpened setup `Setup`  (<class 'pyEPR.ansys.AnsysQ3DSetup'>)\n",
      "INFO 03:13PM [analyze]: Analyzing setup Setup\n",
      "INFO 03:13PM [get_matrix]: Exporting matrix data to (C:\\Users\\lukassp\\AppData\\Local\\Temp\\tmppbrma074.txt, C, , Setup:LastAdaptive, \"Original\", \"ohm\", \"nH\", \"fF\", \"mSie\", 5000000000, Maxwell, 1, False\n",
      "INFO 03:13PM [get_matrix]: Exporting matrix data to (C:\\Users\\lukassp\\AppData\\Local\\Temp\\tmp0g4r4le3.txt, C, , Setup:AdaptivePass, \"Original\", \"ohm\", \"nH\", \"fF\", \"mSie\", 5000000000, Maxwell, 1, False\n",
      "INFO 03:13PM [get_matrix]: Exporting matrix data to (C:\\Users\\lukassp\\AppData\\Local\\Temp\\tmpaitok14c.txt, C, , Setup:AdaptivePass, \"Original\", \"ohm\", \"nH\", \"fF\", \"mSie\", 5000000000, Maxwell, 2, False\n",
      "INFO 03:13PM [get_matrix]: Exporting matrix data to (C:\\Users\\lukassp\\AppData\\Local\\Temp\\tmpxt0py2mp.txt, C, , Setup:AdaptivePass, \"Original\", \"ohm\", \"nH\", \"fF\", \"mSie\", 5000000000, Maxwell, 3, False\n",
      "INFO 03:13PM [get_matrix]: Exporting matrix data to (C:\\Users\\lukassp\\AppData\\Local\\Temp\\tmprqwlferv.txt, C, , Setup:AdaptivePass, \"Original\", \"ohm\", \"nH\", \"fF\", \"mSie\", 5000000000, Maxwell, 4, False\n",
      "INFO 03:13PM [get_matrix]: Exporting matrix data to (C:\\Users\\lukassp\\AppData\\Local\\Temp\\tmppqc186yh.txt, C, , Setup:AdaptivePass, \"Original\", \"ohm\", \"nH\", \"fF\", \"mSie\", 5000000000, Maxwell, 5, False\n",
      "INFO 03:13PM [get_matrix]: Exporting matrix data to (C:\\Users\\lukassp\\AppData\\Local\\Temp\\tmpszj7hcvh.txt, C, , Setup:AdaptivePass, \"Original\", \"ohm\", \"nH\", \"fF\", \"mSie\", 5000000000, Maxwell, 6, False\n",
      "INFO 03:13PM [get_matrix]: Exporting matrix data to (C:\\Users\\lukassp\\AppData\\Local\\Temp\\tmp2l9a4hfs.txt, C, , Setup:AdaptivePass, \"Original\", \"ohm\", \"nH\", \"fF\", \"mSie\", 5000000000, Maxwell, 7, False\n"
     ]
    },
    {
     "data": {
      "text/html": [
       "<div>\n",
       "<style scoped>\n",
       "    .dataframe tbody tr th:only-of-type {\n",
       "        vertical-align: middle;\n",
       "    }\n",
       "\n",
       "    .dataframe tbody tr th {\n",
       "        vertical-align: top;\n",
       "    }\n",
       "\n",
       "    .dataframe thead th {\n",
       "        text-align: right;\n",
       "    }\n",
       "</style>\n",
       "<table border=\"1\" class=\"dataframe\">\n",
       "  <thead>\n",
       "    <tr style=\"text-align: right;\">\n",
       "      <th></th>\n",
       "      <th>ground_main_plane</th>\n",
       "      <th>prime_cpw_tee1</th>\n",
       "      <th>second_cpw_tee1</th>\n",
       "    </tr>\n",
       "  </thead>\n",
       "  <tbody>\n",
       "    <tr>\n",
       "      <th>ground_main_plane</th>\n",
       "      <td>820.96983</td>\n",
       "      <td>-91.94068</td>\n",
       "      <td>-503.09355</td>\n",
       "    </tr>\n",
       "    <tr>\n",
       "      <th>prime_cpw_tee1</th>\n",
       "      <td>-91.94068</td>\n",
       "      <td>92.89104</td>\n",
       "      <td>-0.89915</td>\n",
       "    </tr>\n",
       "    <tr>\n",
       "      <th>second_cpw_tee1</th>\n",
       "      <td>-503.09355</td>\n",
       "      <td>-0.89915</td>\n",
       "      <td>504.63575</td>\n",
       "    </tr>\n",
       "  </tbody>\n",
       "</table>\n",
       "</div>"
      ],
      "text/plain": [
       "                   ground_main_plane  prime_cpw_tee1  second_cpw_tee1\n",
       "ground_main_plane          820.96983       -91.94068       -503.09355\n",
       "prime_cpw_tee1             -91.94068        92.89104         -0.89915\n",
       "second_cpw_tee1           -503.09355        -0.89915        504.63575"
      ]
     },
     "execution_count": 10,
     "metadata": {},
     "output_type": "execute_result"
    }
   ],
   "source": [
    "cap_study.simulate_capacitance_matrix(design)"
   ]
  },
  {
   "cell_type": "code",
   "execution_count": 11,
   "metadata": {},
   "outputs": [],
   "source": [
    "def qc(imp, cap, omega):\n",
    "    return np.pi / (imp**2 * omega**2 * cap**2)"
   ]
  },
  {
   "cell_type": "code",
   "execution_count": 14,
   "metadata": {},
   "outputs": [
    {
     "data": {
      "text/plain": [
       "27.87537235915567"
      ]
     },
     "execution_count": 14,
     "metadata": {},
     "output_type": "execute_result"
    }
   ],
   "source": [
    "freq= 7.25e9\n",
    "2*freq/qc(60, 0.89915e-15, 2*np.pi*freq)/1e3"
   ]
  },
  {
   "cell_type": "code",
   "execution_count": null,
   "metadata": {},
   "outputs": [],
   "source": []
  }
 ],
 "metadata": {
  "kernelspec": {
   "display_name": "qdo",
   "language": "python",
   "name": "python3"
  },
  "language_info": {
   "codemirror_mode": {
    "name": "ipython",
    "version": 3
   },
   "file_extension": ".py",
   "mimetype": "text/x-python",
   "name": "python",
   "nbconvert_exporter": "python",
   "pygments_lexer": "ipython3",
   "version": "3.10.15"
  }
 },
 "nbformat": 4,
 "nbformat_minor": 2
}
