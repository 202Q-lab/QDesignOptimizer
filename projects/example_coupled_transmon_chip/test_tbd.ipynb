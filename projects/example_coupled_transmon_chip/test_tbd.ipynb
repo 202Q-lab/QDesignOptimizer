{
 "cells": [
  {
   "cell_type": "markdown",
   "metadata": {},
   "source": [
    "# Example 2: Coupled Transmon Qubits"
   ]
  },
  {
   "cell_type": "code",
   "execution_count": 1,
   "metadata": {},
   "outputs": [],
   "source": [
    "%load_ext autoreload\n",
    "%autoreload 2\n",
    "import time"
   ]
  },
  {
   "cell_type": "code",
   "execution_count": 2,
   "metadata": {},
   "outputs": [],
   "source": [
    "import json\n",
    "import design as d\n",
    "import names as n\n",
    "\n",
    "with open(\"design_variables.json\") as in_file:\n",
    "    initial_design_variables = json.load(in_file)\n",
    "\n",
    "from qdesignoptimizer.utils.chip_generation import create_chip_base, ChipType\n",
    "from qdesignoptimizer.utils.utils import close_ansys\n",
    "close_ansys()"
   ]
  },
  {
   "cell_type": "code",
   "execution_count": 3,
   "metadata": {},
   "outputs": [],
   "source": [
    "# for this example to store the data in the right place\n",
    "import os\n",
    "\n",
    "os.makedirs(os.path.dirname(\"out/\"), exist_ok=True)"
   ]
  },
  {
   "cell_type": "markdown",
   "metadata": {},
   "source": [
    "## Design assembly"
   ]
  },
  {
   "cell_type": "code",
   "execution_count": 4,
   "metadata": {},
   "outputs": [],
   "source": [
    "CHIP_NAME = \"Lukas_multi_transmon_chip\"\n",
    "OPEN_GUI = True\n",
    "# chip_type = ChipType(size_x=\"10mm\", size_y=\"10mm\", size_z=\"-300um\")\n",
    "# design, gui = create_chip_base(\n",
    "#     chip_name=CHIP_NAME, chip_type=chip_type, open_gui=OPEN_GUI\n",
    "# )\n",
    "\n",
    "# n.add_design_variables_to_design(design, initial_design_variables)"
   ]
  },
  {
   "cell_type": "markdown",
   "metadata": {},
   "source": [
    "## MiniStudies"
   ]
  },
  {
   "cell_type": "code",
   "execution_count": 5,
   "metadata": {},
   "outputs": [],
   "source": [
    "import mini_studies as ms\n",
    "import optimization_targets as ot\n",
    "import parameter_targets as pt\n",
    "import plot_settings as ps\n",
    "\n",
    "from qdesignoptimizer.design_analysis import DesignAnalysis, DesignAnalysisState\n",
    "from qiskit_metal.qlibrary.couplers.coupled_line_tee import CoupledLineTee\n",
    "from qdesignoptimizer.design_analysis_types import MeshingMap"
   ]
  },
  {
   "cell_type": "markdown",
   "metadata": {},
   "source": [
    "### Single resonator-qubit system\n",
    "Useful when first tuning up subsystems"
   ]
  },
  {
   "cell_type": "code",
   "execution_count": 6,
   "metadata": {},
   "outputs": [],
   "source": [
    "def CoupledLineTee_mesh_names(comp_names):\n",
    "    all_names_to_mesh = [f\"prime_cpw_{comp_names}\", f\"second_cpw_{comp_names}\"]\n",
    "    return all_names_to_mesh"
   ]
  },
  {
   "cell_type": "code",
   "execution_count": 7,
   "metadata": {},
   "outputs": [],
   "source": [
    "MINI_STUDY_GROUP = n.NBR_1\n",
    "MINI_STUDY = ms.get_mini_study_qb_res(group=MINI_STUDY_GROUP)\n",
    "# RENDER_QISKIT_METAL = lambda design: render_qiskit_metal_design(design, gui)\n",
    "\n",
    "opt_targets = ot.get_opt_targets_2qubits_resonator_coupler(\n",
    "    groups=[MINI_STUDY_GROUP],\n",
    "    opt_target_qubit_freq=True,\n",
    "    opt_target_qubit_anharm=True,\n",
    "    opt_target_resonator_freq=True,\n",
    "    opt_target_resonator_kappa=True,\n",
    "    opt_target_resonator_qubit_chi=True,\n",
    ")"
   ]
  },
  {
   "cell_type": "code",
   "execution_count": 8,
   "metadata": {},
   "outputs": [],
   "source": [
    "from qdesignoptimizer.utils.plotting import load_data_by_date, plot_optimization_results"
   ]
  },
  {
   "cell_type": "code",
   "execution_count": 9,
   "metadata": {},
   "outputs": [],
   "source": [
    "files = load_data_by_date('out',CHIP_NAME,\"Lukas_multi_transmon_chip_20250310-170607\",\"Lukas_multi_transmon_chip_20250310-170607\")\n",
    "plot_optimization_results(files,opt_target_list=opt_targets,plot_design_variables=\"chronological\")"
   ]
  },
  {
   "cell_type": "code",
   "execution_count": null,
   "metadata": {},
   "outputs": [],
   "source": []
  }
 ],
 "metadata": {
  "kernelspec": {
   "display_name": "qdesignenv",
   "language": "python",
   "name": "python3"
  },
  "language_info": {
   "codemirror_mode": {
    "name": "ipython",
    "version": 3
   },
   "file_extension": ".py",
   "mimetype": "text/x-python",
   "name": "python",
   "nbconvert_exporter": "python",
   "pygments_lexer": "ipython3",
   "version": "3.10.16"
  }
 },
 "nbformat": 4,
 "nbformat_minor": 2
}
