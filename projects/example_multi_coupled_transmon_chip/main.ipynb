{
 "cells": [
  {
   "cell_type": "code",
   "execution_count": 2,
   "metadata": {},
   "outputs": [],
   "source": [
    "%load_ext autoreload\n",
    "%autoreload 2\n",
    "import time"
   ]
  },
  {
   "cell_type": "code",
   "execution_count": 3,
   "metadata": {},
   "outputs": [],
   "source": [
    "import design as d\n",
    "import design_variables as dv\n",
    "\n",
    "import src.utils.utils_design_variables as u\n",
    "from src.utils.utils_design import create_chip_base"
   ]
  },
  {
   "cell_type": "markdown",
   "metadata": {},
   "source": [
    "# Design assembly"
   ]
  },
  {
   "cell_type": "code",
   "execution_count": 4,
   "metadata": {},
   "outputs": [],
   "source": [
    "CHIP_NAME = \"multi_transmon_chip\"\n",
    "OPEN_GUI = True\n",
    "CHIP_TYPE = {\"size_x\": \"10mm\",\n",
    "             \"size_y\": \"10mm\",\n",
    "             \"size_z\": \"-300um\"}\n",
    "design, gui = create_chip_base(chip_name=CHIP_NAME, chip_type=CHIP_TYPE, open_gui=OPEN_GUI)\n",
    "\n",
    "u.add_design_variables_to_design(design, dv.DESIGN_VARS)"
   ]
  },
  {
   "cell_type": "code",
   "execution_count": 5,
   "metadata": {},
   "outputs": [],
   "source": [
    "def render_qiskit_metal_design(design, gui):\n",
    "    d.add_branch(design, 0)\n",
    "    d.add_branch(design, 1)\n",
    "    d.add_branch(design, 2)\n",
    "    d.add_branch(design, 3)\n",
    "\n",
    "    d.add_resonator_coupler(design, 5, 0, 2)\n",
    "    d.add_qubit_coupler(design, 6, 1,3)\n",
    "\n",
    "    d.add_route_interconnects(design, 0)\n",
    "    d.add_route_interconnects(design, 1)\n",
    "    d.add_route_interconnects(design, 2)    \n",
    "    d.add_launch_pads(design)\n",
    "\n",
    "    d.add_chargeline(design, 0)\n",
    "    d.add_chargeline(design, 1)\n",
    "    d.add_chargeline(design, 2)\n",
    "    d.add_chargeline(design, 3)\n",
    "\n",
    "    gui.rebuild()\n",
    "    gui.autoscale()\n",
    "\n",
    "render_qiskit_metal_design(design, gui)\n"
   ]
  },
  {
   "cell_type": "markdown",
   "metadata": {},
   "source": [
    "<!--  -->"
   ]
  },
  {
   "cell_type": "markdown",
   "metadata": {},
   "source": [
    "# MiniStudies"
   ]
  },
  {
   "cell_type": "code",
   "execution_count": 6,
   "metadata": {},
   "outputs": [],
   "source": [
    "import mini_studies as ms\n",
    "import optimization_targets as ot\n",
    "import target_parameters as tp\n",
    "import plot_settings as ps\n",
    "\n",
    "from src.qdesignoptimizer.design_analysis import DesignAnalysis, DesignAnalysisState"
   ]
  },
  {
   "cell_type": "markdown",
   "metadata": {},
   "source": [
    "## Single resonator-qubit system"
   ]
  },
  {
   "cell_type": "code",
   "execution_count": 7,
   "metadata": {},
   "outputs": [],
   "source": [
    "MINI_STUDY_BRANCH = 0\n",
    "MINI_STUDY = ms.get_mini_study_qb_res(branch=MINI_STUDY_BRANCH)\n",
    "RENDER_QISKIT_METAL = lambda design: render_qiskit_metal_design(design, gui)\n",
    "\n",
    "opt_targets = []\n",
    "for target in ot.get_opt_targets_qb_res(\n",
    "        branch=MINI_STUDY_BRANCH,\n",
    "    ):\n",
    "    opt_targets.append(target)"
   ]
  },
  {
   "cell_type": "code",
   "execution_count": 8,
   "metadata": {},
   "outputs": [
    {
     "name": "stdout",
     "output_type": "stream",
     "text": [
      "self.eig_solver.sim.setup\n",
      "{'name': 'Resonator_setup', 'reuse_selected_design': True, 'reuse_setup': True, 'min_freq_ghz': 1, 'n_modes': 1, 'max_delta_f': 0.5, 'max_passes': 10, 'min_passes': 1, 'min_converged': 1, 'pct_refinement': 30, 'basis_order': 1, 'vars': {'Lj': '10 nH', 'Cj': '0 fF'}}\n"
     ]
    },
    {
     "name": "stderr",
     "output_type": "stream",
     "text": [
      "INFO 02:19PM [connect_project]: Connecting to Ansys Desktop API...\n",
      "INFO 02:19PM [load_ansys_project]: \tOpened Ansys App\n",
      "INFO 02:19PM [load_ansys_project]: \tOpened Ansys Desktop v2021.2.0\n",
      "INFO 02:19PM [load_ansys_project]: \tOpened Ansys Project\n",
      "\tFolder:    C:/Users/lukassp/Documents/Ansoft/\n",
      "\tProject:   Project134\n",
      "INFO 02:19PM [connect_design]: No active design found (or error getting active design).\n",
      "INFO 02:19PM [connect]: \t Connected to project \"Project134\". No design detected\n",
      "02:19PM 57s WARNING [activate_ansys_design]: The design_name=get_mini_study_qb_res was not in active project.  Designs in active project are: \n",
      "[].  A new design will be added to the project.  \n",
      "INFO 02:19PM [connect_design]: \tOpened active design\n",
      "\tDesign:    get_mini_study_qb_res [Solution type: Eigenmode]\n",
      "WARNING 02:19PM [connect_setup]: \tNo design setup detected.\n",
      "WARNING 02:19PM [connect_setup]: \tCreating eigenmode default setup.\n",
      "INFO 02:19PM [get_setup]: \tOpened setup `Setup`  (<class 'pyEPR.ansys.HfssEMSetup'>)\n"
     ]
    },
    {
     "name": "stdout",
     "output_type": "stream",
     "text": [
      "WARNING, does not update passes in Scattering simulation not in Capacitance matrix simulation.\n",
      "updated_design_vars {'cpw_width': '10 um', 'cpw_gap': '6 um', 'design_var_lj_NAME_QB0': '14.074377200737976 nH', 'design_var_lj_NAME_QB1': '12nH', 'design_var_lj_NAME_QB2': '9.469791842945993 nH', 'design_var_lj_NAME_QB3': '12nH', 'design_var_cj_NAME_QB0': '0fF', 'design_var_cj_NAME_QB1': '0fF', 'design_var_cj_NAME_QB2': '0fF', 'design_var_cj_NAME_QB3': '0fF', 'design_var_res_length_0': '7.432076775195457 mm', 'design_var_res_length_1': '7.5mm', 'design_var_res_length_2': '6.643301157224769 mm', 'design_var_res_length_3': '7.5mm', 'design_var_res_coupl_length_0': '579.8134731520797um', 'design_var_res_coupl_length_1': '200um', 'design_var_res_coupl_length_2': '561.6630563898493 um', 'design_var_res_coupl_length_3': '200um', 'design_var_qb_pad_width_0': '747.6203104123206 um', 'design_var_qb_pad_width_1': '400um', 'design_var_qb_pad_width_2': '759.4518671253024 um', 'design_var_qb_pad_width_3': '400um', 'design_var_res_qb_coupl_length_0': '203.0766408416638 um', 'design_var_res_qb_coupl_length_1': '120um', 'design_var_res_qb_coupl_length_2': '136.41351496912102 um', 'design_var_res_qb_coupl_length_3': '120um', 'design_var_res_coupl_length_5': '4mm', 'design_var_qb_coupl_gap_6': '20um', 'design_var_cl_pos_x0': '200um', 'design_var_cl_pos_x1': '200um', 'design_var_cl_pos_x2': '200um', 'design_var_cl_pos_x3': '200um', 'design_var_cl_pos_y0': '1um', 'design_var_cl_pos_y1': '1um', 'design_var_cl_pos_y2': '1um', 'design_var_cl_pos_y3': '1um'}\n",
      "pyaedt INFO: using existing logger.\n"
     ]
    },
    {
     "name": "stderr",
     "output_type": "stream",
     "text": [
      "INFO:Global:using existing logger.\n"
     ]
    },
    {
     "name": "stdout",
     "output_type": "stream",
     "text": [
      "pyaedt INFO: Launching PyAEDT outside AEDT with CPython and PythonNET.\n"
     ]
    },
    {
     "name": "stderr",
     "output_type": "stream",
     "text": [
      "INFO:Global:Launching PyAEDT outside AEDT with CPython and PythonNET.\n"
     ]
    },
    {
     "name": "stdout",
     "output_type": "stream",
     "text": [
      "pyaedt INFO: AEDT installation Path C:\\Program Files\\AnsysEM\\AnsysEM21.2\\Win64.\n"
     ]
    },
    {
     "name": "stderr",
     "output_type": "stream",
     "text": [
      "INFO:Global:AEDT installation Path C:\\Program Files\\AnsysEM\\AnsysEM21.2\\Win64.\n"
     ]
    },
    {
     "name": "stdout",
     "output_type": "stream",
     "text": [
      "pyaedt INFO: Launching AEDT with module PythonNET.\n"
     ]
    },
    {
     "name": "stderr",
     "output_type": "stream",
     "text": [
      "INFO:Global:Launching AEDT with module PythonNET.\n"
     ]
    },
    {
     "name": "stdout",
     "output_type": "stream",
     "text": [
      "pyaedt INFO: Ansoft.ElectronicsDesktop.2021.2 Started with process ID 10396.\n"
     ]
    },
    {
     "name": "stderr",
     "output_type": "stream",
     "text": [
      "INFO:Global:Ansoft.ElectronicsDesktop.2021.2 Started with process ID 10396.\n"
     ]
    },
    {
     "name": "stdout",
     "output_type": "stream",
     "text": [
      "pyaedt INFO: pyaedt v0.6.46\n"
     ]
    },
    {
     "name": "stderr",
     "output_type": "stream",
     "text": [
      "INFO:Global:pyaedt v0.6.46\n"
     ]
    },
    {
     "name": "stdout",
     "output_type": "stream",
     "text": [
      "pyaedt INFO: Python version 3.10.15 | packaged by Anaconda, Inc. | (main, Oct  3 2024, 07:22:19) [MSC v.1929 64 bit (AMD64)]\n"
     ]
    },
    {
     "name": "stderr",
     "output_type": "stream",
     "text": [
      "INFO:Global:Python version 3.10.15 | packaged by Anaconda, Inc. | (main, Oct  3 2024, 07:22:19) [MSC v.1929 64 bit (AMD64)]\n"
     ]
    },
    {
     "name": "stdout",
     "output_type": "stream",
     "text": [
      "pyaedt INFO: No project is defined. Project Project134 exists and has been read.\n"
     ]
    },
    {
     "name": "stderr",
     "output_type": "stream",
     "text": [
      "INFO:Global:No project is defined. Project Project134 exists and has been read.\n"
     ]
    },
    {
     "name": "stdout",
     "output_type": "stream",
     "text": [
      "pyaedt INFO: Active Design set to get_mini_study_qb_res\n"
     ]
    },
    {
     "name": "stderr",
     "output_type": "stream",
     "text": [
      "INFO:Global:Active Design set to get_mini_study_qb_res\n"
     ]
    },
    {
     "name": "stdout",
     "output_type": "stream",
     "text": [
      "pyaedt INFO: Aedt Objects initialized\n"
     ]
    },
    {
     "name": "stderr",
     "output_type": "stream",
     "text": [
      "INFO:Global:Aedt Objects initialized\n"
     ]
    },
    {
     "name": "stdout",
     "output_type": "stream",
     "text": [
      "pyaedt INFO: Variable Manager initialized\n"
     ]
    },
    {
     "name": "stderr",
     "output_type": "stream",
     "text": [
      "INFO:Global:Variable Manager initialized\n"
     ]
    },
    {
     "name": "stdout",
     "output_type": "stream",
     "text": [
      "pyaedt INFO: Design Loaded\n"
     ]
    },
    {
     "name": "stderr",
     "output_type": "stream",
     "text": [
      "INFO:Global:Design Loaded\n"
     ]
    },
    {
     "name": "stdout",
     "output_type": "stream",
     "text": [
      "pyaedt INFO: Successfully loaded project materials !\n"
     ]
    },
    {
     "name": "stderr",
     "output_type": "stream",
     "text": [
      "INFO:Global:Successfully loaded project materials !\n"
     ]
    },
    {
     "name": "stdout",
     "output_type": "stream",
     "text": [
      "pyaedt INFO: Materials Loaded\n"
     ]
    },
    {
     "name": "stderr",
     "output_type": "stream",
     "text": [
      "INFO:Global:Materials Loaded\n",
      "INFO 02:20PM [analyze]: Analyzing setup Setup\n"
     ]
    },
    {
     "name": "stdout",
     "output_type": "stream",
     "text": [
      "Design \"get_mini_study_qb_res\" info:\n",
      "\t# eigenmodes    2\n",
      "\t# variations    1\n",
      "Design \"get_mini_study_qb_res\" info:\n",
      "\t# eigenmodes    2\n",
      "\t# variations    1\n",
      "Design \"get_mini_study_qb_res\" info:\n",
      "\t# eigenmodes    2\n",
      "\t# variations    1\n",
      "Design \"get_mini_study_qb_res\" info:\n",
      "\t# eigenmodes    2\n",
      "\t# variations    1\n",
      "Design \"get_mini_study_qb_res\" info:\n",
      "\t# eigenmodes    2\n",
      "\t# variations    1\n",
      "\n",
      "        energy_elec_all       = 2.61667571730665e-23\n",
      "        energy_elec_substrate = 2.37901906651341e-23\n",
      "        EPR of substrate = 90.9%\n",
      "\n",
      "        energy_mag    = 3.09780411304717e-25\n",
      "        energy_mag % of energy_elec_all  = 1.2%\n",
      "        \n",
      "\n",
      "Variation 0  [1/1]\n",
      "\n",
      "  \u001b[1mMode 0 at 4.12 GHz   [1/2]\u001b[0m\n",
      "    Calculating ℰ_magnetic,ℰ_electric\n",
      "       (ℰ_E-ℰ_H)/ℰ_E       ℰ_E       ℰ_H\n",
      "               98.8%  1.308e-23 1.549e-25\n",
      "\n",
      "    Calculating junction energy participation ration (EPR)\n",
      "\tmethod=`line_voltage`. First estimates:\n",
      "\tjunction        EPR p_0j   sign s_0j    (p_capacitive)\n",
      "\t\tEnergy fraction (Lj over Lj&Cj)= 98.15%\n",
      "\tjj_NAME_QB0     0.987136  (+)        0.0186078\n",
      "\t\t(U_tot_cap-U_tot_ind)/mean=0.97%\n",
      "Calculating Qdielectric_main for mode 0 (0/1)\n",
      "p_dielectric_main_0 = 0.9091761163902036\n",
      "\n",
      "  \u001b[1mMode 1 at 6.99 GHz   [2/2]\u001b[0m\n",
      "    Calculating ℰ_magnetic,ℰ_electric\n",
      "       (ℰ_E-ℰ_H)/ℰ_E       ℰ_E       ℰ_H\n",
      "                0.2%  7.736e-24 7.724e-24\n",
      "\n",
      "    Calculating junction energy participation ration (EPR)\n",
      "\tmethod=`line_voltage`. First estimates:\n",
      "\tjunction        EPR p_1j   sign s_1j    (p_capacitive)\n",
      "\t\tEnergy fraction (Lj over Lj&Cj)= 94.85%\n",
      "\tjj_NAME_QB0     0.00155365  (+)        8.4337e-05\n",
      "\t\t(U_tot_cap-U_tot_ind)/mean=0.00%\n",
      "Calculating Qdielectric_main for mode 1 (1/1)\n",
      "p_dielectric_main_1 = 0.9183156140691112\n"
     ]
    },
    {
     "name": "stderr",
     "output_type": "stream",
     "text": [
      "WARNING 02:22PM [__init__]: <p>Error: <class 'IndexError'></p>\n"
     ]
    },
    {
     "name": "stdout",
     "output_type": "stream",
     "text": [
      "\n",
      "ANALYSIS DONE. Data saved to:\n",
      "\n",
      "C:\\data-pyEPR\\Project134\\get_mini_study_qb_res\\2025-02-03 14-22-03.npz\n",
      "\n",
      "\n",
      "\t Differences in variations:\n",
      "\n",
      "\n",
      "\n",
      " . . . . . . . . . . . . . . . . . . . . . . . . . . . . . . . . . . . . . . . . \n",
      "Variation 0\n",
      "\n"
     ]
    },
    {
     "ename": "AttributeError",
     "evalue": "'DesignAnalysis' object has no attribute 'logger'",
     "output_type": "error",
     "traceback": [
      "\u001b[1;31m---------------------------------------------------------------------------\u001b[0m",
      "\u001b[1;31mAttributeError\u001b[0m                            Traceback (most recent call last)",
      "File \u001b[1;32m~\\Documents\\conda_envs\\qdo\\QDesignOptimizer\\src\\qdesignoptimizer\\design_analysis.py:271\u001b[0m, in \u001b[0;36mDesignAnalysis.run_epr\u001b[1;34m(self)\u001b[0m\n\u001b[0;32m    270\u001b[0m \u001b[38;5;28mself\u001b[39m\u001b[38;5;241m.\u001b[39mepra \u001b[38;5;241m=\u001b[39m epr\u001b[38;5;241m.\u001b[39mQuantumAnalysis(\u001b[38;5;28mself\u001b[39m\u001b[38;5;241m.\u001b[39meprd\u001b[38;5;241m.\u001b[39mdata_filename)\n\u001b[1;32m--> 271\u001b[0m \u001b[38;5;28;43mself\u001b[39;49m\u001b[38;5;241;43m.\u001b[39;49m\u001b[43mepra\u001b[49m\u001b[38;5;241;43m.\u001b[39;49m\u001b[43manalyze_all_variations\u001b[49m\u001b[43m(\u001b[49m\u001b[43mcos_trunc\u001b[49m\u001b[43m \u001b[49m\u001b[38;5;241;43m=\u001b[39;49m\u001b[43m \u001b[49m\u001b[38;5;241;43m8\u001b[39;49m\u001b[43m,\u001b[49m\u001b[43m \u001b[49m\u001b[43mfock_trunc\u001b[49m\u001b[43m \u001b[49m\u001b[38;5;241;43m=\u001b[39;49m\u001b[43m \u001b[49m\u001b[38;5;241;43m7\u001b[39;49m\u001b[43m)\u001b[49m\n\u001b[0;32m    272\u001b[0m \u001b[38;5;28mself\u001b[39m\u001b[38;5;241m.\u001b[39mepra\u001b[38;5;241m.\u001b[39mplot_hamiltonian_results()\n",
      "File \u001b[1;32mc:\\Users\\lukassp\\AppData\\Local\\anaconda3\\envs\\qdo\\lib\\site-packages\\pyEPR\\core_quantum_analysis.py:461\u001b[0m, in \u001b[0;36mQuantumAnalysis.analyze_all_variations\u001b[1;34m(self, variations, analyze_previous, **kwargs)\u001b[0m\n\u001b[0;32m    460\u001b[0m     \u001b[38;5;28;01melse\u001b[39;00m:\n\u001b[1;32m--> 461\u001b[0m         result[variation] \u001b[38;5;241m=\u001b[39m \u001b[38;5;28mself\u001b[39m\u001b[38;5;241m.\u001b[39manalyze_variation(variation, \u001b[38;5;241m*\u001b[39m\u001b[38;5;241m*\u001b[39mkwargs)\n\u001b[0;32m    464\u001b[0m \u001b[38;5;28mself\u001b[39m\u001b[38;5;241m.\u001b[39mresults\u001b[38;5;241m.\u001b[39msave()\n",
      "File \u001b[1;32mc:\\Users\\lukassp\\AppData\\Local\\anaconda3\\envs\\qdo\\lib\\site-packages\\pyEPR\\core_quantum_analysis.py:682\u001b[0m, in \u001b[0;36mQuantumAnalysis.analyze_variation\u001b[1;34m(self, variation, cos_trunc, fock_trunc, print_result, junctions, modes)\u001b[0m\n\u001b[0;32m    681\u001b[0m \u001b[38;5;28;01mif\u001b[39;00m cos_trunc \u001b[38;5;129;01mis\u001b[39;00m \u001b[38;5;129;01mnot\u001b[39;00m \u001b[38;5;28;01mNone\u001b[39;00m:\n\u001b[1;32m--> 682\u001b[0m     f1_ND, CHI_ND \u001b[38;5;241m=\u001b[39m \u001b[43mepr_numerical_diagonalization\u001b[49m\u001b[43m(\u001b[49m\u001b[43mfreqs_hfss\u001b[49m\u001b[43m,\u001b[49m\n\u001b[0;32m    683\u001b[0m \u001b[43m                                                  \u001b[49m\u001b[43mLjs\u001b[49m\u001b[43m,\u001b[49m\n\u001b[0;32m    684\u001b[0m \u001b[43m                                                  \u001b[49m\u001b[43mPHI_zpf\u001b[49m\u001b[43m,\u001b[49m\n\u001b[0;32m    685\u001b[0m \u001b[43m                                                  \u001b[49m\u001b[43mcos_trunc\u001b[49m\u001b[38;5;241;43m=\u001b[39;49m\u001b[43mcos_trunc\u001b[49m\u001b[43m,\u001b[49m\n\u001b[0;32m    686\u001b[0m \u001b[43m                                                  \u001b[49m\u001b[43mfock_trunc\u001b[49m\u001b[38;5;241;43m=\u001b[39;49m\u001b[43mfock_trunc\u001b[49m\u001b[43m)\u001b[49m\n\u001b[0;32m    687\u001b[0m \u001b[38;5;28;01melse\u001b[39;00m:\n",
      "File \u001b[1;32mc:\\Users\\lukassp\\AppData\\Local\\anaconda3\\envs\\qdo\\lib\\site-packages\\pyEPR\\calcs\\back_box_numeric.py:66\u001b[0m, in \u001b[0;36mepr_numerical_diagonalization\u001b[1;34m(freqs, Ljs, φzpf, cos_trunc, fock_trunc, use_1st_order, return_H, non_linear_potential)\u001b[0m\n\u001b[0;32m     63\u001b[0m \u001b[38;5;28;01massert\u001b[39;00m(\u001b[38;5;28mall\u001b[39m(Ljs \u001b[38;5;241m<\u001b[39m \u001b[38;5;241m1E-3\u001b[39m)\n\u001b[0;32m     64\u001b[0m        ), \u001b[38;5;124m\"\u001b[39m\u001b[38;5;124mPlease input the inductances in Henries. \u001b[39m\u001b[38;5;130;01m\\N{nauseated face}\u001b[39;00m\u001b[38;5;124m\"\u001b[39m\n\u001b[1;32m---> 66\u001b[0m Hs \u001b[38;5;241m=\u001b[39m black_box_hamiltonian(freqs \u001b[38;5;241m*\u001b[39m \u001b[38;5;241m1E9\u001b[39m, Ljs\u001b[38;5;241m.\u001b[39mastype(\u001b[43mnp\u001b[49m\u001b[38;5;241;43m.\u001b[39;49m\u001b[43mfloat\u001b[49m), fluxQ\u001b[38;5;241m*\u001b[39mϕzpf,\n\u001b[0;32m     67\u001b[0m                            cos_trunc, fock_trunc, individual\u001b[38;5;241m=\u001b[39muse_1st_order,\n\u001b[0;32m     68\u001b[0m                            non_linear_potential \u001b[38;5;241m=\u001b[39m non_linear_potential)\n\u001b[0;32m     69\u001b[0m f_ND, χ_ND, _, _ \u001b[38;5;241m=\u001b[39m make_dispersive(\n\u001b[0;32m     70\u001b[0m     Hs, fock_trunc, ϕzpf, freqs, use_1st_order\u001b[38;5;241m=\u001b[39muse_1st_order)\n",
      "File \u001b[1;32mc:\\Users\\lukassp\\AppData\\Local\\anaconda3\\envs\\qdo\\lib\\site-packages\\numpy\\__init__.py:305\u001b[0m, in \u001b[0;36m__getattr__\u001b[1;34m(attr)\u001b[0m\n\u001b[0;32m    304\u001b[0m \u001b[38;5;28;01mif\u001b[39;00m attr \u001b[38;5;129;01min\u001b[39;00m __former_attrs__:\n\u001b[1;32m--> 305\u001b[0m     \u001b[38;5;28;01mraise\u001b[39;00m \u001b[38;5;167;01mAttributeError\u001b[39;00m(__former_attrs__[attr])\n\u001b[0;32m    307\u001b[0m \u001b[38;5;66;03m# Importing Tester requires importing all of UnitTest which is not a\u001b[39;00m\n\u001b[0;32m    308\u001b[0m \u001b[38;5;66;03m# cheap import Since it is mainly used in test suits, we lazy import it\u001b[39;00m\n\u001b[0;32m    309\u001b[0m \u001b[38;5;66;03m# here to save on the order of 10 ms of import time for most users\u001b[39;00m\n\u001b[0;32m    310\u001b[0m \u001b[38;5;66;03m#\u001b[39;00m\n\u001b[0;32m    311\u001b[0m \u001b[38;5;66;03m# The previous way Tester was imported also had a side effect of adding\u001b[39;00m\n\u001b[0;32m    312\u001b[0m \u001b[38;5;66;03m# the full `numpy.testing` namespace\u001b[39;00m\n",
      "\u001b[1;31mAttributeError\u001b[0m: module 'numpy' has no attribute 'float'.\n`np.float` was a deprecated alias for the builtin `float`. To avoid this error in existing code, use `float` by itself. Doing this will not modify any behavior and is safe. If you specifically wanted the numpy scalar type, use `np.float64` here.\nThe aliases was originally deprecated in NumPy 1.20; for more details and guidance see the original release note at:\n    https://numpy.org/devdocs/release/1.20.0-notes.html#deprecations",
      "\nDuring handling of the above exception, another exception occurred:\n",
      "\u001b[1;31mAttributeError\u001b[0m                            Traceback (most recent call last)",
      "Cell \u001b[1;32mIn[8], line 18\u001b[0m\n\u001b[0;32m     16\u001b[0m design_analysis\u001b[38;5;241m.\u001b[39mupdate_nbr_passes(nbr_passes)\n\u001b[0;32m     17\u001b[0m design_analysis\u001b[38;5;241m.\u001b[39mupdate_delta_f(delta_f)\n\u001b[1;32m---> 18\u001b[0m \u001b[43mdesign_analysis\u001b[49m\u001b[38;5;241;43m.\u001b[39;49m\u001b[43moptimize_target\u001b[49m\u001b[43m(\u001b[49m\u001b[43m{\u001b[49m\u001b[43m}\u001b[49m\u001b[43m,\u001b[49m\u001b[43m \u001b[49m\u001b[43m{\u001b[49m\u001b[43m}\u001b[49m\u001b[43m)\u001b[49m\n",
      "File \u001b[1;32m~\\Documents\\conda_envs\\qdo\\QDesignOptimizer\\src\\qdesignoptimizer\\design_analysis.py:901\u001b[0m, in \u001b[0;36mDesignAnalysis.optimize_target\u001b[1;34m(self, updated_design_vars_input, system_optimized_params)\u001b[0m\n\u001b[0;32m    898\u001b[0m     iteration_result[\u001b[38;5;124m\"\u001b[39m\u001b[38;5;124meig_results\u001b[39m\u001b[38;5;124m\"\u001b[39m] \u001b[38;5;241m=\u001b[39m deepcopy(\u001b[38;5;28mself\u001b[39m\u001b[38;5;241m.\u001b[39meig_result)\n\u001b[0;32m    900\u001b[0m     \u001b[38;5;66;03m# EPR analysis for nonlinearities\u001b[39;00m\n\u001b[1;32m--> 901\u001b[0m     \u001b[38;5;28mself\u001b[39m\u001b[38;5;241m.\u001b[39mcross_kerrs \u001b[38;5;241m=\u001b[39m \u001b[38;5;28;43mself\u001b[39;49m\u001b[38;5;241;43m.\u001b[39;49m\u001b[43mrun_epr\u001b[49m\u001b[43m(\u001b[49m\u001b[43m)\u001b[49m\n\u001b[0;32m    902\u001b[0m     iteration_result[\u001b[38;5;124m\"\u001b[39m\u001b[38;5;124mcross_kerrs\u001b[39m\u001b[38;5;124m\"\u001b[39m] \u001b[38;5;241m=\u001b[39m deepcopy(\u001b[38;5;28mself\u001b[39m\u001b[38;5;241m.\u001b[39mcross_kerrs)\n\u001b[0;32m    904\u001b[0m \u001b[38;5;28;01mif\u001b[39;00m \u001b[38;5;28mself\u001b[39m\u001b[38;5;241m.\u001b[39mmini_study\u001b[38;5;241m.\u001b[39mcapacitance_matrix_studies \u001b[38;5;129;01mis\u001b[39;00m \u001b[38;5;129;01mnot\u001b[39;00m \u001b[38;5;28;01mNone\u001b[39;00m:\n",
      "File \u001b[1;32m~\\Documents\\conda_envs\\qdo\\QDesignOptimizer\\src\\qdesignoptimizer\\design_analysis.py:276\u001b[0m, in \u001b[0;36mDesignAnalysis.run_epr\u001b[1;34m(self)\u001b[0m\n\u001b[0;32m    274\u001b[0m         chis \u001b[38;5;241m=\u001b[39m \u001b[38;5;28mself\u001b[39m\u001b[38;5;241m.\u001b[39mepra\u001b[38;5;241m.\u001b[39mget_chis(numeric\u001b[38;5;241m=\u001b[39m\u001b[38;5;28;01mTrue\u001b[39;00m)\n\u001b[0;32m    275\u001b[0m     \u001b[38;5;28;01mexcept\u001b[39;00m \u001b[38;5;167;01mAttributeError\u001b[39;00m:\n\u001b[1;32m--> 276\u001b[0m         \u001b[38;5;28;43mself\u001b[39;49m\u001b[38;5;241;43m.\u001b[39;49m\u001b[43mlogger\u001b[49m\u001b[38;5;241m.\u001b[39merror(\n\u001b[0;32m    277\u001b[0m             \u001b[38;5;124m\"\u001b[39m\u001b[38;5;124mPlease install a more recent version of pyEPR (>=0.8.5.3)\u001b[39m\u001b[38;5;124m\"\u001b[39m)\n\u001b[0;32m    279\u001b[0m \u001b[38;5;28mself\u001b[39m\u001b[38;5;241m.\u001b[39meig_solver\u001b[38;5;241m.\u001b[39msetup\u001b[38;5;241m.\u001b[39mjunctions \u001b[38;5;241m=\u001b[39m \u001b[38;5;28mself\u001b[39m\u001b[38;5;241m.\u001b[39mmini_study\u001b[38;5;241m.\u001b[39mjj_setup  \u001b[38;5;66;03m# reset jj_setup for linear HFSS simulation\u001b[39;00m\n\u001b[0;32m    281\u001b[0m \u001b[38;5;28mself\u001b[39m\u001b[38;5;241m.\u001b[39m_update_optimized_params_epr(freqs, chis) \n",
      "\u001b[1;31mAttributeError\u001b[0m: 'DesignAnalysis' object has no attribute 'logger'"
     ]
    }
   ],
   "source": [
    "design_analysis_state = DesignAnalysisState(design, RENDER_QISKIT_METAL, tp.TARGET_PARAMS)\n",
    "design_analysis = DesignAnalysis(\n",
    "    design_analysis_state, \n",
    "    mini_study=MINI_STUDY, \n",
    "    opt_targets=opt_targets,\n",
    "    print_progress=True,\n",
    "    save_path=CHIP_NAME + \"_\" + time.strftime(\"%Y%m%d-%H%M%S\"),\n",
    "    plot_settings=ps.PLOT_SETTINGS,\n",
    "    plot_branches_separately=False\n",
    "    )\n",
    "\n",
    "nbr_runs = 1\n",
    "nbr_passes = 7\n",
    "delta_f = 0.001\n",
    "for i in range(nbr_runs):   \n",
    "    design_analysis.update_nbr_passes(nbr_passes)\n",
    "    design_analysis.update_delta_f(delta_f)\n",
    "    design_analysis.optimize_target({}, {})"
   ]
  },
  {
   "cell_type": "code",
   "execution_count": 9,
   "metadata": {},
   "outputs": [
    {
     "name": "stdout",
     "output_type": "stream",
     "text": [
      "Collecting pyEPR-quantum==0.9.0\n",
      "  Using cached pyEPR_quantum-0.9.0-py3-none-any.whl.metadata (21 kB)\n",
      "Requirement already satisfied: addict in c:\\users\\lukassp\\appdata\\local\\anaconda3\\envs\\qdo\\lib\\site-packages (from pyEPR-quantum==0.9.0) (2.4.0)\n",
      "Requirement already satisfied: numpy>=1.15.0 in c:\\users\\lukassp\\appdata\\local\\anaconda3\\envs\\qdo\\lib\\site-packages (from pyEPR-quantum==0.9.0) (1.24.2)\n",
      "Requirement already satisfied: pandas>=1.0.1 in c:\\users\\lukassp\\appdata\\local\\anaconda3\\envs\\qdo\\lib\\site-packages (from pyEPR-quantum==0.9.0) (1.5.3)\n",
      "Requirement already satisfied: matplotlib>=3.1.0 in c:\\users\\lukassp\\appdata\\local\\anaconda3\\envs\\qdo\\lib\\site-packages (from pyEPR-quantum==0.9.0) (3.7.0)\n",
      "Requirement already satisfied: scipy>=1.3.0 in c:\\users\\lukassp\\appdata\\local\\anaconda3\\envs\\qdo\\lib\\site-packages (from pyEPR-quantum==0.9.0) (1.10.0)\n",
      "Requirement already satisfied: xarray>=0.10.0 in c:\\users\\lukassp\\appdata\\local\\anaconda3\\envs\\qdo\\lib\\site-packages (from pyEPR-quantum==0.9.0) (2023.6.0)\n",
      "Requirement already satisfied: sympy>=1.3 in c:\\users\\lukassp\\appdata\\local\\anaconda3\\envs\\qdo\\lib\\site-packages (from pyEPR-quantum==0.9.0) (1.13.2)\n",
      "Requirement already satisfied: sphinx-rtd-theme>=0.4.0 in c:\\users\\lukassp\\appdata\\local\\anaconda3\\envs\\qdo\\lib\\site-packages (from pyEPR-quantum==0.9.0) (3.0.2)\n",
      "Requirement already satisfied: pint>=0.8 in c:\\users\\lukassp\\appdata\\local\\anaconda3\\envs\\qdo\\lib\\site-packages (from pyEPR-quantum==0.9.0) (0.20.1)\n",
      "Requirement already satisfied: qutip>=3.5.0 in c:\\users\\lukassp\\appdata\\local\\anaconda3\\envs\\qdo\\lib\\site-packages (from pyEPR-quantum==0.9.0) (4.7.1)\n",
      "Requirement already satisfied: ipython>=7.0.0 in c:\\users\\lukassp\\appdata\\local\\anaconda3\\envs\\qdo\\lib\\site-packages (from pyEPR-quantum==0.9.0) (8.10.0)\n",
      "Requirement already satisfied: seaborn>=0.10.0 in c:\\users\\lukassp\\appdata\\local\\anaconda3\\envs\\qdo\\lib\\site-packages (from pyEPR-quantum==0.9.0) (0.13.2)\n",
      "Requirement already satisfied: backcall in c:\\users\\lukassp\\appdata\\local\\anaconda3\\envs\\qdo\\lib\\site-packages (from ipython>=7.0.0->pyEPR-quantum==0.9.0) (0.2.0)\n",
      "Requirement already satisfied: decorator in c:\\users\\lukassp\\appdata\\local\\anaconda3\\envs\\qdo\\lib\\site-packages (from ipython>=7.0.0->pyEPR-quantum==0.9.0) (5.1.1)\n",
      "Requirement already satisfied: jedi>=0.16 in c:\\users\\lukassp\\appdata\\local\\anaconda3\\envs\\qdo\\lib\\site-packages (from ipython>=7.0.0->pyEPR-quantum==0.9.0) (0.19.1)\n",
      "Requirement already satisfied: matplotlib-inline in c:\\users\\lukassp\\appdata\\local\\anaconda3\\envs\\qdo\\lib\\site-packages (from ipython>=7.0.0->pyEPR-quantum==0.9.0) (0.1.6)\n",
      "Requirement already satisfied: pickleshare in c:\\users\\lukassp\\appdata\\local\\anaconda3\\envs\\qdo\\lib\\site-packages (from ipython>=7.0.0->pyEPR-quantum==0.9.0) (0.7.5)\n",
      "Requirement already satisfied: prompt-toolkit<3.1.0,>=3.0.30 in c:\\users\\lukassp\\appdata\\local\\anaconda3\\envs\\qdo\\lib\\site-packages (from ipython>=7.0.0->pyEPR-quantum==0.9.0) (3.0.43)\n",
      "Requirement already satisfied: pygments>=2.4.0 in c:\\users\\lukassp\\appdata\\local\\anaconda3\\envs\\qdo\\lib\\site-packages (from ipython>=7.0.0->pyEPR-quantum==0.9.0) (2.14.0)\n",
      "Requirement already satisfied: stack-data in c:\\users\\lukassp\\appdata\\local\\anaconda3\\envs\\qdo\\lib\\site-packages (from ipython>=7.0.0->pyEPR-quantum==0.9.0) (0.2.0)\n",
      "Requirement already satisfied: traitlets>=5 in c:\\users\\lukassp\\appdata\\local\\anaconda3\\envs\\qdo\\lib\\site-packages (from ipython>=7.0.0->pyEPR-quantum==0.9.0) (5.14.3)\n",
      "Requirement already satisfied: colorama in c:\\users\\lukassp\\appdata\\local\\anaconda3\\envs\\qdo\\lib\\site-packages (from ipython>=7.0.0->pyEPR-quantum==0.9.0) (0.4.6)\n",
      "Requirement already satisfied: contourpy>=1.0.1 in c:\\users\\lukassp\\appdata\\local\\anaconda3\\envs\\qdo\\lib\\site-packages (from matplotlib>=3.1.0->pyEPR-quantum==0.9.0) (1.2.0)\n",
      "Requirement already satisfied: cycler>=0.10 in c:\\users\\lukassp\\appdata\\local\\anaconda3\\envs\\qdo\\lib\\site-packages (from matplotlib>=3.1.0->pyEPR-quantum==0.9.0) (0.11.0)\n",
      "Requirement already satisfied: fonttools>=4.22.0 in c:\\users\\lukassp\\appdata\\local\\anaconda3\\envs\\qdo\\lib\\site-packages (from matplotlib>=3.1.0->pyEPR-quantum==0.9.0) (4.51.0)\n",
      "Requirement already satisfied: kiwisolver>=1.0.1 in c:\\users\\lukassp\\appdata\\local\\anaconda3\\envs\\qdo\\lib\\site-packages (from matplotlib>=3.1.0->pyEPR-quantum==0.9.0) (1.4.4)\n",
      "Requirement already satisfied: packaging>=20.0 in c:\\users\\lukassp\\appdata\\local\\anaconda3\\envs\\qdo\\lib\\site-packages (from matplotlib>=3.1.0->pyEPR-quantum==0.9.0) (24.1)\n",
      "Requirement already satisfied: pillow>=6.2.0 in c:\\users\\lukassp\\appdata\\local\\anaconda3\\envs\\qdo\\lib\\site-packages (from matplotlib>=3.1.0->pyEPR-quantum==0.9.0) (10.4.0)\n",
      "Requirement already satisfied: pyparsing>=2.3.1 in c:\\users\\lukassp\\appdata\\local\\anaconda3\\envs\\qdo\\lib\\site-packages (from matplotlib>=3.1.0->pyEPR-quantum==0.9.0) (3.1.2)\n",
      "Requirement already satisfied: python-dateutil>=2.7 in c:\\users\\lukassp\\appdata\\local\\anaconda3\\envs\\qdo\\lib\\site-packages (from matplotlib>=3.1.0->pyEPR-quantum==0.9.0) (2.9.0.post0)\n",
      "Requirement already satisfied: pytz>=2020.1 in c:\\users\\lukassp\\appdata\\local\\anaconda3\\envs\\qdo\\lib\\site-packages (from pandas>=1.0.1->pyEPR-quantum==0.9.0) (2024.1)\n",
      "Requirement already satisfied: sphinx<9,>=6 in c:\\users\\lukassp\\appdata\\local\\anaconda3\\envs\\qdo\\lib\\site-packages (from sphinx-rtd-theme>=0.4.0->pyEPR-quantum==0.9.0) (7.3.7)\n",
      "Requirement already satisfied: docutils<0.22,>0.18 in c:\\users\\lukassp\\appdata\\local\\anaconda3\\envs\\qdo\\lib\\site-packages (from sphinx-rtd-theme>=0.4.0->pyEPR-quantum==0.9.0) (0.18.1)\n",
      "Requirement already satisfied: sphinxcontrib-jquery<5,>=4 in c:\\users\\lukassp\\appdata\\local\\anaconda3\\envs\\qdo\\lib\\site-packages (from sphinx-rtd-theme>=0.4.0->pyEPR-quantum==0.9.0) (4.1)\n",
      "Requirement already satisfied: mpmath<1.4,>=1.1.0 in c:\\users\\lukassp\\appdata\\local\\anaconda3\\envs\\qdo\\lib\\site-packages (from sympy>=1.3->pyEPR-quantum==0.9.0) (1.3.0)\n",
      "Requirement already satisfied: parso<0.9.0,>=0.8.3 in c:\\users\\lukassp\\appdata\\local\\anaconda3\\envs\\qdo\\lib\\site-packages (from jedi>=0.16->ipython>=7.0.0->pyEPR-quantum==0.9.0) (0.8.3)\n",
      "Requirement already satisfied: wcwidth in c:\\users\\lukassp\\appdata\\local\\anaconda3\\envs\\qdo\\lib\\site-packages (from prompt-toolkit<3.1.0,>=3.0.30->ipython>=7.0.0->pyEPR-quantum==0.9.0) (0.2.5)\n",
      "Requirement already satisfied: six>=1.5 in c:\\users\\lukassp\\appdata\\local\\anaconda3\\envs\\qdo\\lib\\site-packages (from python-dateutil>=2.7->matplotlib>=3.1.0->pyEPR-quantum==0.9.0) (1.16.0)\n",
      "Requirement already satisfied: sphinxcontrib-applehelp in c:\\users\\lukassp\\appdata\\local\\anaconda3\\envs\\qdo\\lib\\site-packages (from sphinx<9,>=6->sphinx-rtd-theme>=0.4.0->pyEPR-quantum==0.9.0) (1.0.2)\n",
      "Requirement already satisfied: sphinxcontrib-devhelp in c:\\users\\lukassp\\appdata\\local\\anaconda3\\envs\\qdo\\lib\\site-packages (from sphinx<9,>=6->sphinx-rtd-theme>=0.4.0->pyEPR-quantum==0.9.0) (1.0.2)\n",
      "Requirement already satisfied: sphinxcontrib-jsmath in c:\\users\\lukassp\\appdata\\local\\anaconda3\\envs\\qdo\\lib\\site-packages (from sphinx<9,>=6->sphinx-rtd-theme>=0.4.0->pyEPR-quantum==0.9.0) (1.0.1)\n",
      "Requirement already satisfied: sphinxcontrib-htmlhelp>=2.0.0 in c:\\users\\lukassp\\appdata\\local\\anaconda3\\envs\\qdo\\lib\\site-packages (from sphinx<9,>=6->sphinx-rtd-theme>=0.4.0->pyEPR-quantum==0.9.0) (2.0.0)\n",
      "Requirement already satisfied: sphinxcontrib-serializinghtml>=1.1.9 in c:\\users\\lukassp\\appdata\\local\\anaconda3\\envs\\qdo\\lib\\site-packages (from sphinx<9,>=6->sphinx-rtd-theme>=0.4.0->pyEPR-quantum==0.9.0) (1.1.10)\n",
      "Requirement already satisfied: sphinxcontrib-qthelp in c:\\users\\lukassp\\appdata\\local\\anaconda3\\envs\\qdo\\lib\\site-packages (from sphinx<9,>=6->sphinx-rtd-theme>=0.4.0->pyEPR-quantum==0.9.0) (1.0.3)\n",
      "Requirement already satisfied: Jinja2>=3.0 in c:\\users\\lukassp\\appdata\\local\\anaconda3\\envs\\qdo\\lib\\site-packages (from sphinx<9,>=6->sphinx-rtd-theme>=0.4.0->pyEPR-quantum==0.9.0) (3.1.4)\n",
      "Requirement already satisfied: snowballstemmer>=2.0 in c:\\users\\lukassp\\appdata\\local\\anaconda3\\envs\\qdo\\lib\\site-packages (from sphinx<9,>=6->sphinx-rtd-theme>=0.4.0->pyEPR-quantum==0.9.0) (2.2.0)\n",
      "Requirement already satisfied: babel>=2.9 in c:\\users\\lukassp\\appdata\\local\\anaconda3\\envs\\qdo\\lib\\site-packages (from sphinx<9,>=6->sphinx-rtd-theme>=0.4.0->pyEPR-quantum==0.9.0) (2.11.0)\n",
      "Requirement already satisfied: alabaster~=0.7.14 in c:\\users\\lukassp\\appdata\\local\\anaconda3\\envs\\qdo\\lib\\site-packages (from sphinx<9,>=6->sphinx-rtd-theme>=0.4.0->pyEPR-quantum==0.9.0) (0.7.16)\n",
      "Requirement already satisfied: imagesize>=1.3 in c:\\users\\lukassp\\appdata\\local\\anaconda3\\envs\\qdo\\lib\\site-packages (from sphinx<9,>=6->sphinx-rtd-theme>=0.4.0->pyEPR-quantum==0.9.0) (1.4.1)\n",
      "Requirement already satisfied: requests>=2.25.0 in c:\\users\\lukassp\\appdata\\local\\anaconda3\\envs\\qdo\\lib\\site-packages (from sphinx<9,>=6->sphinx-rtd-theme>=0.4.0->pyEPR-quantum==0.9.0) (2.32.3)\n",
      "Requirement already satisfied: tomli>=2 in c:\\users\\lukassp\\appdata\\local\\anaconda3\\envs\\qdo\\lib\\site-packages (from sphinx<9,>=6->sphinx-rtd-theme>=0.4.0->pyEPR-quantum==0.9.0) (2.0.1)\n",
      "Requirement already satisfied: executing in c:\\users\\lukassp\\appdata\\local\\anaconda3\\envs\\qdo\\lib\\site-packages (from stack-data->ipython>=7.0.0->pyEPR-quantum==0.9.0) (0.8.3)\n",
      "Requirement already satisfied: asttokens in c:\\users\\lukassp\\appdata\\local\\anaconda3\\envs\\qdo\\lib\\site-packages (from stack-data->ipython>=7.0.0->pyEPR-quantum==0.9.0) (2.0.5)\n",
      "Requirement already satisfied: pure-eval in c:\\users\\lukassp\\appdata\\local\\anaconda3\\envs\\qdo\\lib\\site-packages (from stack-data->ipython>=7.0.0->pyEPR-quantum==0.9.0) (0.2.2)\n",
      "Requirement already satisfied: MarkupSafe>=2.0 in c:\\users\\lukassp\\appdata\\local\\anaconda3\\envs\\qdo\\lib\\site-packages (from Jinja2>=3.0->sphinx<9,>=6->sphinx-rtd-theme>=0.4.0->pyEPR-quantum==0.9.0) (2.1.3)\n",
      "Requirement already satisfied: charset-normalizer<4,>=2 in c:\\users\\lukassp\\appdata\\local\\anaconda3\\envs\\qdo\\lib\\site-packages (from requests>=2.25.0->sphinx<9,>=6->sphinx-rtd-theme>=0.4.0->pyEPR-quantum==0.9.0) (3.3.2)\n",
      "Requirement already satisfied: idna<4,>=2.5 in c:\\users\\lukassp\\appdata\\local\\anaconda3\\envs\\qdo\\lib\\site-packages (from requests>=2.25.0->sphinx<9,>=6->sphinx-rtd-theme>=0.4.0->pyEPR-quantum==0.9.0) (3.7)\n",
      "Requirement already satisfied: urllib3<3,>=1.21.1 in c:\\users\\lukassp\\appdata\\local\\anaconda3\\envs\\qdo\\lib\\site-packages (from requests>=2.25.0->sphinx<9,>=6->sphinx-rtd-theme>=0.4.0->pyEPR-quantum==0.9.0) (2.2.3)\n",
      "Requirement already satisfied: certifi>=2017.4.17 in c:\\users\\lukassp\\appdata\\local\\anaconda3\\envs\\qdo\\lib\\site-packages (from requests>=2.25.0->sphinx<9,>=6->sphinx-rtd-theme>=0.4.0->pyEPR-quantum==0.9.0) (2024.8.30)\n",
      "Using cached pyEPR_quantum-0.9.0-py3-none-any.whl (102 kB)\n",
      "Installing collected packages: pyEPR-quantum\n",
      "  Attempting uninstall: pyEPR-quantum\n",
      "    Found existing installation: pyEPR-quantum 0.8.5.7\n",
      "    Uninstalling pyEPR-quantum-0.8.5.7:\n",
      "      Successfully uninstalled pyEPR-quantum-0.8.5.7\n",
      "Successfully installed pyEPR-quantum-0.9.0\n",
      "Note: you may need to restart the kernel to use updated packages.\n"
     ]
    },
    {
     "name": "stderr",
     "output_type": "stream",
     "text": [
      "ERROR: pip's dependency resolver does not currently take into account all the packages that are installed. This behaviour is the source of the following dependency conflicts.\n",
      "qiskit-metal 0.1.5 requires pyEPR-quantum==0.8.5.7, but you have pyepr-quantum 0.9.0 which is incompatible.\n"
     ]
    }
   ],
   "source": [
    "# pip install pyEPR-quantum==0.9.0 \n",
    "# seems to be relevant "
   ]
  },
  {
   "cell_type": "code",
   "execution_count": 1,
   "metadata": {},
   "outputs": [],
   "source": [
    "from src.utils.utils import close_ansys\n",
    "close_ansys()"
   ]
  },
  {
   "cell_type": "markdown",
   "metadata": {},
   "source": [
    "## Two qubit-resonator system"
   ]
  },
  {
   "cell_type": "code",
   "execution_count": 8,
   "metadata": {},
   "outputs": [],
   "source": [
    "MINI_STUDY_BRANCH = [2,0]\n",
    "MINI_STUDY = ms.get_mini_study_2qb_resonator_coupler(branches=MINI_STUDY_BRANCH, coupler=5)\n",
    "RENDER_QISKIT_METAL = lambda design: render_qiskit_metal_design(design, gui)\n",
    "\n",
    "opt_targets = []\n",
    "for target in ot.get_opt_targets_2qb_resonator_coupler(\n",
    "        branches=MINI_STUDY_BRANCH,\n",
    "    ):\n",
    "    opt_targets.append(target)"
   ]
  },
  {
   "cell_type": "code",
   "execution_count": null,
   "metadata": {},
   "outputs": [],
   "source": [
    "design_analysis_state = DesignAnalysisState(design, RENDER_QISKIT_METAL, tp.TARGET_PARAMS)\n",
    "design_analysis = DesignAnalysis(\n",
    "    design_analysis_state, \n",
    "    mini_study=MINI_STUDY, \n",
    "    opt_targets=opt_targets,\n",
    "    print_progress=True,\n",
    "    save_path=CHIP_NAME + \"_\" + time.strftime(\"%Y%m%d-%H%M%S\"),\n",
    "    plot_settings=ps.PLOT_SETTINGS,\n",
    "    plot_branches_separately=False\n",
    "    )\n",
    "\n",
    "nbr_runs = 5\n",
    "nbr_passes = 10\n",
    "delta_f = 0.001\n",
    "for i in range(nbr_runs):   \n",
    "    design_analysis.update_nbr_passes(nbr_passes)\n",
    "    design_analysis.update_delta_f(delta_f)\n",
    "    design_analysis.optimize_target({}, {})"
   ]
  },
  {
   "cell_type": "markdown",
   "metadata": {},
   "source": [
    "# View OPtimization results"
   ]
  },
  {
   "cell_type": "code",
   "execution_count": null,
   "metadata": {},
   "outputs": [],
   "source": [
    "design_analysis.get_cross_kerr_matrix(iteration=-1)"
   ]
  }
 ],
 "metadata": {
  "kernelspec": {
   "display_name": "qdo",
   "language": "python",
   "name": "python3"
  },
  "language_info": {
   "codemirror_mode": {
    "name": "ipython",
    "version": 3
   },
   "file_extension": ".py",
   "mimetype": "text/x-python",
   "name": "python",
   "nbconvert_exporter": "python",
   "pygments_lexer": "ipython3",
   "version": "3.10.15"
  }
 },
 "nbformat": 4,
 "nbformat_minor": 2
}
