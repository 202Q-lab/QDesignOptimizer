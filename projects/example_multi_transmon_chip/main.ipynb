{
 "cells": [
  {
   "cell_type": "code",
   "execution_count": 1,
   "metadata": {},
   "outputs": [],
   "source": [
    "%load_ext autoreload\n",
    "%autoreload 2\n",
    "import time"
   ]
  },
  {
   "cell_type": "code",
   "execution_count": 2,
   "metadata": {},
   "outputs": [],
   "source": [
    "import design as d\n",
    "import design_variables as dv\n",
    "import src.utils.utils_design_variables as u\n",
    "from src.utils.utils_design import create_chip_base"
   ]
  },
  {
   "cell_type": "markdown",
   "metadata": {},
   "source": [
    "# Design assembly"
   ]
  },
  {
   "cell_type": "code",
   "execution_count": 3,
   "metadata": {},
   "outputs": [],
   "source": [
    "CHIP_NAME = \"multi_transmon_chip\"\n",
    "OPEN_GUI = True\n",
    "CHIP_TYPE = {\"size_x\": \"10mm\",\n",
    "             \"size_y\": \"10mm\",\n",
    "             \"size_z\": \"-300um\"}\n",
    "design, gui = create_chip_base(chip_name=CHIP_NAME, chip_type=CHIP_TYPE, open_gui=OPEN_GUI)\n",
    "\n",
    "u.add_design_variables_to_design(design, dv.DESIGN_VARS)"
   ]
  },
  {
   "cell_type": "code",
   "execution_count": 4,
   "metadata": {},
   "outputs": [],
   "source": [
    "def render_qiskit_metal_design(design, gui):\n",
    "    d.add_branch(design, 0, gui)\n",
    "    d.add_branch(design, 1, gui)\n",
    "    d.add_branch(design, 2, gui)\n",
    "    d.add_branch(design, 3, gui)\n",
    "    d.add_branch(design, 4, gui)\n",
    "\n",
    "    d.add_route_interconnects(design, 0, gui)\n",
    "    d.add_route_interconnects(design, 1, gui)\n",
    "    d.add_route_interconnects(design, 2, gui)\n",
    "    d.add_route_interconnects(design, 3, gui)\n",
    "    \n",
    "    d.add_launch_pads(design, gui)\n",
    "render_qiskit_metal_design(design, gui)"
   ]
  },
  {
   "cell_type": "markdown",
   "metadata": {},
   "source": [
    "# MiniStudies"
   ]
  },
  {
   "cell_type": "code",
   "execution_count": null,
   "metadata": {},
   "outputs": [],
   "source": [
    "import mini_studies as ms\n",
    "import optimization_targets as ot\n",
    "import target_parameters as tp\n",
    "import plot_settings as ps\n",
    "\n",
    "from src.qdesignoptimizer.design_analysis import DesignAnalysis, DesignAnalysisState"
   ]
  },
  {
   "cell_type": "code",
   "execution_count": null,
   "metadata": {},
   "outputs": [],
   "source": [
    "MINI_STUDY_BRANCH = 0\n",
    "MINI_STUDY = ms.get_mini_study_qb_res(branch=MINI_STUDY_BRANCH)\n",
    "RENDER_QISKIT_METAL = lambda design: render_qiskit_metal_design(design, gui)\n",
    "\n",
    "################# optimization targets ##############\n",
    "opt_targets = []\n",
    "for target in ot.get_opt_targets_qb_res(\n",
    "        branch=MINI_STUDY_BRANCH,\n",
    "    ):\n",
    "    opt_targets.append(target)"
   ]
  },
  {
   "cell_type": "code",
   "execution_count": null,
   "metadata": {},
   "outputs": [],
   "source": [
    "design_analysis_state = DesignAnalysisState(design, RENDER_QISKIT_METAL, tp.TARGET_PARAMS)\n",
    "design_analysis = DesignAnalysis(\n",
    "    design_analysis_state, \n",
    "    mini_study=MINI_STUDY, \n",
    "    opt_targets=opt_targets,\n",
    "    print_progress=True,\n",
    "    save_path=CHIP_NAME + \"_\" + time.strftime(\"%Y%m%d-%H%M%S\"),\n",
    "    plot_settings=ps.PLOT_SETTINGS,\n",
    "    plot_branches_separately=False\n",
    "    )\n",
    "\n",
    "nbr_runs = 10\n",
    "nbr_passes = 4\n",
    "delta_f = 0.001\n",
    "for i in range(nbr_runs):   \n",
    "    design_analysis.update_nbr_passes(nbr_passes)\n",
    "    design_analysis.update_delta_f(delta_f)\n",
    "    design_analysis.optimize_target({}, {})"
   ]
  },
  {
   "cell_type": "code",
   "execution_count": null,
   "metadata": {},
   "outputs": [],
   "source": [
    "from src.utils.utils import close_ansys\n",
    "close_ansys()"
   ]
  },
  {
   "cell_type": "code",
   "execution_count": null,
   "metadata": {},
   "outputs": [],
   "source": []
  }
 ],
 "metadata": {
  "kernelspec": {
   "display_name": "cvdesign",
   "language": "python",
   "name": "python3"
  },
  "language_info": {
   "codemirror_mode": {
    "name": "ipython",
    "version": 3
   },
   "file_extension": ".py",
   "mimetype": "text/x-python",
   "name": "python",
   "nbconvert_exporter": "python",
   "pygments_lexer": "ipython3",
   "version": "3.10.14"
  }
 },
 "nbformat": 4,
 "nbformat_minor": 2
}
