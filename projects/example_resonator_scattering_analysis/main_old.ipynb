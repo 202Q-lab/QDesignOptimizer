{
 "cells": [
  {
   "cell_type": "code",
   "execution_count": 1,
   "metadata": {},
   "outputs": [],
   "source": [
    "%load_ext autoreload\n",
    "%autoreload 2\n",
    "import time"
   ]
  },
  {
   "cell_type": "code",
   "execution_count": 2,
   "metadata": {},
   "outputs": [
    {
     "ename": "ModuleNotFoundError",
     "evalue": "No module named 'qdesignoptimizer.utils.utils_design_variables'",
     "output_type": "error",
     "traceback": [
      "\u001b[1;31m---------------------------------------------------------------------------\u001b[0m",
      "\u001b[1;31mModuleNotFoundError\u001b[0m                       Traceback (most recent call last)",
      "Cell \u001b[1;32mIn[2], line 1\u001b[0m\n\u001b[1;32m----> 1\u001b[0m \u001b[38;5;28;01mimport\u001b[39;00m \u001b[38;5;21;01mdesign\u001b[39;00m \u001b[38;5;28;01mas\u001b[39;00m \u001b[38;5;21;01md\u001b[39;00m\n\u001b[0;32m      2\u001b[0m \u001b[38;5;28;01mimport\u001b[39;00m \u001b[38;5;21;01mdesign_variables\u001b[39;00m \u001b[38;5;28;01mas\u001b[39;00m \u001b[38;5;21;01mdv\u001b[39;00m\n\u001b[0;32m      3\u001b[0m \u001b[38;5;28;01mimport\u001b[39;00m \u001b[38;5;21;01mqdesignoptimizer\u001b[39;00m\u001b[38;5;21;01m.\u001b[39;00m\u001b[38;5;21;01mutils\u001b[39;00m\u001b[38;5;21;01m.\u001b[39;00m\u001b[38;5;21;01mconstants\u001b[39;00m \u001b[38;5;28;01mas\u001b[39;00m \u001b[38;5;21;01mdc\u001b[39;00m\n",
      "File \u001b[1;32md:\\PhD_All_Code\\QDesignOptimizer\\projects\\example_resonator_scattering_analysis\\design.py:1\u001b[0m\n\u001b[1;32m----> 1\u001b[0m \u001b[38;5;28;01mimport\u001b[39;00m \u001b[38;5;21;01mdesign_variables\u001b[39;00m \u001b[38;5;28;01mas\u001b[39;00m \u001b[38;5;21;01mdv\u001b[39;00m\n\u001b[0;32m      2\u001b[0m \u001b[38;5;28;01mfrom\u001b[39;00m \u001b[38;5;21;01mqiskit_metal\u001b[39;00m \u001b[38;5;28;01mimport\u001b[39;00m MetalGUI\n\u001b[0;32m      3\u001b[0m \u001b[38;5;28;01mfrom\u001b[39;00m \u001b[38;5;21;01mqiskit_metal\u001b[39;00m\u001b[38;5;21;01m.\u001b[39;00m\u001b[38;5;21;01mdesigns\u001b[39;00m\u001b[38;5;21;01m.\u001b[39;00m\u001b[38;5;21;01mdesign_planar\u001b[39;00m \u001b[38;5;28;01mimport\u001b[39;00m DesignPlanar\n",
      "File \u001b[1;32md:\\PhD_All_Code\\QDesignOptimizer\\projects\\example_resonator_scattering_analysis\\design_variables.py:1\u001b[0m\n\u001b[1;32m----> 1\u001b[0m \u001b[38;5;28;01mimport\u001b[39;00m \u001b[38;5;21;01mqdesignoptimizer\u001b[39;00m\u001b[38;5;21;01m.\u001b[39;00m\u001b[38;5;21;01mutils\u001b[39;00m\u001b[38;5;21;01m.\u001b[39;00m\u001b[38;5;21;01mutils_design_variables\u001b[39;00m \u001b[38;5;28;01mas\u001b[39;00m \u001b[38;5;21;01mu\u001b[39;00m\n\u001b[0;32m      2\u001b[0m \u001b[38;5;28;01mfrom\u001b[39;00m \u001b[38;5;21;01mqdesignoptimizer\u001b[39;00m\u001b[38;5;21;01m.\u001b[39;00m\u001b[38;5;21;01mutils\u001b[39;00m\u001b[38;5;21;01m.\u001b[39;00m\u001b[38;5;21;01mutils_design_variables\u001b[39;00m \u001b[38;5;28;01mimport\u001b[39;00m design_var_cj, design_var_lj\n\u001b[0;32m      4\u001b[0m \u001b[38;5;66;03m# Fixed design constants\u001b[39;00m\n",
      "\u001b[1;31mModuleNotFoundError\u001b[0m: No module named 'qdesignoptimizer.utils.utils_design_variables'"
     ]
    }
   ],
   "source": [
    "import design as d\n",
    "import design_variables as dv\n",
    "import qdesignoptimizer.utils.constants as dc\n",
    "import qdesignoptimizer.utils.utils_design_variables as u\n",
    "from qdesignoptimizer.utils.utils_design import create_chip_base\n",
    "import matplotlib.pyplot as plt\n",
    "import numpy as np\n",
    "from resonator_tools import circuit"
   ]
  },
  {
   "cell_type": "markdown",
   "metadata": {},
   "source": [
    "# Design assembly"
   ]
  },
  {
   "cell_type": "code",
   "execution_count": null,
   "metadata": {},
   "outputs": [],
   "source": [
    "CHIP_NAME = \"multi_transmon_chip\"\n",
    "OPEN_GUI = False\n",
    "CHIP_TYPE = {\"size_x\": \"10mm\",\n",
    "             \"size_y\": \"10mm\",\n",
    "             \"size_z\": \"-300um\"}\n",
    "design, gui = create_chip_base(chip_name=CHIP_NAME, chip_type=CHIP_TYPE, open_gui=OPEN_GUI)\n",
    "\n",
    "u.add_design_variables_to_design(design, dv.DESIGN_VARS)"
   ]
  },
  {
   "cell_type": "code",
   "execution_count": null,
   "metadata": {},
   "outputs": [],
   "source": [
    "def render_qiskit_metal_design(design, gui):\n",
    "    d.add_branch(design, 0, gui)\n",
    "    d.add_branch(design, 1, gui)\n",
    "    d.add_branch(design, 2, gui)\n",
    "    d.add_branch(design, 3, gui)\n",
    "    d.add_branch(design, 4, gui)\n",
    "\n",
    "    d.add_route_interconnects(design, 0, gui)\n",
    "    d.add_route_interconnects(design, 1, gui)\n",
    "    d.add_route_interconnects(design, 2, gui)\n",
    "    d.add_route_interconnects(design, 3, gui)\n",
    "    \n",
    "    d.add_launch_pads(design, gui)\n",
    "render_qiskit_metal_design(design, gui)"
   ]
  },
  {
   "cell_type": "code",
   "execution_count": null,
   "metadata": {},
   "outputs": [],
   "source": [
    "import mini_studies as ms\n",
    "import optimization_targets as ot\n",
    "import target_parameters as tp\n",
    "import plot_settings as ps\n",
    "\n",
    "from qdesignoptimizer.design_analysis import DesignAnalysis, DesignAnalysisState"
   ]
  },
  {
   "cell_type": "markdown",
   "metadata": {},
   "source": [
    "# Eigemode simulation along with scattering analysis for kappa"
   ]
  },
  {
   "cell_type": "code",
   "execution_count": null,
   "metadata": {},
   "outputs": [],
   "source": [
    "MINI_STUDY_BRANCH = 2\n",
    "MINI_STUDY = ms.get_mini_study_scattering_analysis(branch=MINI_STUDY_BRANCH)\n",
    "RENDER_QISKIT_METAL = lambda design: render_qiskit_metal_design(design, gui)\n",
    "\n",
    "################# optimization targets ##############\n",
    "opt_targets = [ot.get_opt_target_res_kappa_via_coupl_length(\n",
    "    branch = MINI_STUDY_BRANCH,\n",
    ")]"
   ]
  },
  {
   "cell_type": "code",
   "execution_count": null,
   "metadata": {},
   "outputs": [
    {
     "name": "stdout",
     "output_type": "stream",
     "text": [
      "pyaedt INFO: using existing logger.\n"
     ]
    },
    {
     "name": "stderr",
     "output_type": "stream",
     "text": [
      "INFO:Global:using existing logger.\n"
     ]
    },
    {
     "name": "stdout",
     "output_type": "stream",
     "text": [
      "pyaedt INFO: Launching PyAEDT outside AEDT with CPython and PythonNET.\n"
     ]
    },
    {
     "name": "stderr",
     "output_type": "stream",
     "text": [
      "INFO:Global:Launching PyAEDT outside AEDT with CPython and PythonNET.\n"
     ]
    },
    {
     "name": "stdout",
     "output_type": "stream",
     "text": [
      "pyaedt INFO: AEDT installation Path C:\\Program Files\\AnsysEM\\AnsysEM21.2\\Win64.\n"
     ]
    },
    {
     "name": "stderr",
     "output_type": "stream",
     "text": [
      "INFO:Global:AEDT installation Path C:\\Program Files\\AnsysEM\\AnsysEM21.2\\Win64.\n"
     ]
    },
    {
     "name": "stdout",
     "output_type": "stream",
     "text": [
      "pyaedt INFO: Launching AEDT with module PythonNET.\n"
     ]
    },
    {
     "name": "stderr",
     "output_type": "stream",
     "text": [
      "INFO:Global:Launching AEDT with module PythonNET.\n"
     ]
    },
    {
     "name": "stdout",
     "output_type": "stream",
     "text": [
      "pyaedt INFO: Ansoft.ElectronicsDesktop.2021.2 Started with process ID 23044.\n"
     ]
    },
    {
     "name": "stderr",
     "output_type": "stream",
     "text": [
      "INFO:Global:Ansoft.ElectronicsDesktop.2021.2 Started with process ID 23044.\n"
     ]
    },
    {
     "name": "stdout",
     "output_type": "stream",
     "text": [
      "pyaedt INFO: pyaedt v0.6.46\n"
     ]
    },
    {
     "name": "stderr",
     "output_type": "stream",
     "text": [
      "INFO:Global:pyaedt v0.6.46\n"
     ]
    },
    {
     "name": "stdout",
     "output_type": "stream",
     "text": [
      "pyaedt INFO: Python version 3.10.0 | packaged by conda-forge | (default, Nov 20 2021, 02:18:13) [MSC v.1916 64 bit (AMD64)]\n"
     ]
    },
    {
     "name": "stderr",
     "output_type": "stream",
     "text": [
      "INFO:Global:Python version 3.10.0 | packaged by conda-forge | (default, Nov 20 2021, 02:18:13) [MSC v.1916 64 bit (AMD64)]\n"
     ]
    },
    {
     "name": "stdout",
     "output_type": "stream",
     "text": [
      "pyaedt INFO: Project Project155 has been created.\n"
     ]
    },
    {
     "name": "stderr",
     "output_type": "stream",
     "text": [
      "INFO:Global:Project Project155 has been created.\n"
     ]
    },
    {
     "name": "stdout",
     "output_type": "stream",
     "text": [
      "pyaedt INFO: No design is present. Inserting a new design.\n"
     ]
    },
    {
     "name": "stderr",
     "output_type": "stream",
     "text": [
      "INFO:Global:No design is present. Inserting a new design.\n"
     ]
    },
    {
     "name": "stdout",
     "output_type": "stream",
     "text": [
      "pyaedt INFO: Added design 'HFSS_NMY' of type HFSS.\n"
     ]
    },
    {
     "name": "stderr",
     "output_type": "stream",
     "text": [
      "INFO:Global:Added design 'HFSS_NMY' of type HFSS.\n"
     ]
    },
    {
     "name": "stdout",
     "output_type": "stream",
     "text": [
      "pyaedt INFO: Aedt Objects initialized\n"
     ]
    },
    {
     "name": "stderr",
     "output_type": "stream",
     "text": [
      "INFO:Global:Aedt Objects initialized\n"
     ]
    },
    {
     "name": "stdout",
     "output_type": "stream",
     "text": [
      "pyaedt INFO: Variable Manager initialized\n"
     ]
    },
    {
     "name": "stderr",
     "output_type": "stream",
     "text": [
      "INFO:Global:Variable Manager initialized\n"
     ]
    },
    {
     "name": "stdout",
     "output_type": "stream",
     "text": [
      "pyaedt INFO: Design Loaded\n"
     ]
    },
    {
     "name": "stderr",
     "output_type": "stream",
     "text": [
      "INFO:Global:Design Loaded\n"
     ]
    },
    {
     "name": "stdout",
     "output_type": "stream",
     "text": [
      "pyaedt INFO: Successfully loaded project materials !\n"
     ]
    },
    {
     "name": "stderr",
     "output_type": "stream",
     "text": [
      "INFO:Global:Successfully loaded project materials !\n"
     ]
    },
    {
     "name": "stdout",
     "output_type": "stream",
     "text": [
      "pyaedt INFO: Materials Loaded\n"
     ]
    },
    {
     "name": "stderr",
     "output_type": "stream",
     "text": [
      "INFO:Global:Materials Loaded\n",
      "INFO 09:23AM [connect_project]: Connecting to Ansys Desktop API...\n",
      "INFO 09:23AM [load_ansys_project]: \tOpened Ansys App\n",
      "INFO 09:23AM [load_ansys_project]: \tOpened Ansys Desktop v2021.2.0\n",
      "INFO 09:23AM [load_ansys_project]: \tOpened Ansys Project\n",
      "\tFolder:    C:/Users/nirpit/Documents/Ansoft/\n",
      "\tProject:   Project155\n"
     ]
    },
    {
     "name": "stdout",
     "output_type": "stream",
     "text": [
      "self.eig_solver.sim.setup\n",
      "{'name': 'Resonator_setup', 'reuse_selected_design': True, 'reuse_setup': True, 'min_freq_ghz': 1, 'n_modes': 1, 'max_delta_f': 0.5, 'max_passes': 10, 'min_passes': 1, 'min_converged': 1, 'pct_refinement': 30, 'basis_order': 1, 'vars': {'Lj': '10 nH', 'Cj': '0 fF'}}\n"
     ]
    },
    {
     "name": "stderr",
     "output_type": "stream",
     "text": [
      "INFO 09:23AM [connect_design]: \tOpened active design\n",
      "\tDesign:    HFSS_NMY [Solution type: DrivenModal]\n",
      "WARNING 09:23AM [connect_setup]: \tNo design setup detected.\n",
      "WARNING 09:23AM [connect_setup]: \tCreating driven modal default setup.\n",
      "INFO 09:23AM [get_setup]: \tOpened setup `Setup`  (<class 'pyEPR.ansys.HfssDMSetup'>)\n",
      "INFO 09:23AM [connect]: \tConnected to project \"Project155\" and design \"HFSS_NMY\" 😀 \n",
      "\n",
      "09:23AM 13s WARNING [activate_ansys_design]: The design_name=get_mini_study_scattering_analysis was not in active project.  Designs in active project are: \n",
      "['HFSS_NMY'].  A new design will be added to the project.  \n",
      "INFO 09:23AM [connect_design]: \tOpened active design\n",
      "\tDesign:    get_mini_study_scattering_analysis [Solution type: Eigenmode]\n",
      "WARNING 09:23AM [connect_setup]: \tNo design setup detected.\n",
      "WARNING 09:23AM [connect_setup]: \tCreating eigenmode default setup.\n",
      "INFO 09:23AM [get_setup]: \tOpened setup `Setup`  (<class 'pyEPR.ansys.HfssEMSetup'>)\n"
     ]
    },
    {
     "name": "stdout",
     "output_type": "stream",
     "text": [
      "WARNING, does not update passes in Scattering simulation not in Capacitance matrix simulation.\n",
      "updated_design_vars {'cpw_width': '10 um', 'cpw_gap': '6 um', 'design_var_lj_NAME_QB0': '12nH', 'design_var_lj_NAME_QB1': '12nH', 'design_var_lj_NAME_QB2': '12nH', 'design_var_lj_NAME_QB3': '12nH', 'design_var_lj_NAME_QB4': '12nH', 'design_var_cj_NAME_QB0': '0fF', 'design_var_cj_NAME_QB1': '0fF', 'design_var_cj_NAME_QB2': '0fF', 'design_var_cj_NAME_QB3': '0fF', 'design_var_cj_NAME_QB4': '0fF', 'design_var_res_length_0': '5mm', 'design_var_res_length_1': '5mm', 'design_var_res_length_2': '5mm', 'design_var_res_length_3': '5mm', 'design_var_res_length_4': '5mm', 'design_var_ind_coupl_length_0': '577.0052335141787 um', 'design_var_ind_coupl_length_1': '200um', 'design_var_ind_coupl_length_2': '597.7427251031493 um', 'design_var_ind_coupl_length_3': '200um', 'design_var_ind_coupl_length_4': '200um', 'design_var_qb_pad_width_0': '400um', 'design_var_qb_pad_width_1': '400um', 'design_var_qb_pad_width_2': '400um', 'design_var_qb_pad_width_3': '400um', 'design_var_qb_pad_width_4': '400um', 'design_var_res_qb_coupl_length_0': '120um', 'design_var_res_qb_coupl_length_1': '120um', 'design_var_res_qb_coupl_length_2': '120um', 'design_var_res_qb_coupl_length_3': '120um', 'design_var_res_qb_coupl_length_4': '120um'}\n",
      "pyaedt ERROR: Error in :   File \"c:\\Users\\nirpit\\AppData\\Local\\anaconda3\\envs\\qdesign-env\\lib\\site-packages\\pyaedt\\application\\Design.py\", line 2851, in delete_design\n"
     ]
    },
    {
     "name": "stderr",
     "output_type": "stream",
     "text": [
      "ERROR:Global:Error in :   File \"c:\\Users\\nirpit\\AppData\\Local\\anaconda3\\envs\\qdesign-env\\lib\\site-packages\\pyaedt\\application\\Design.py\", line 2851, in delete_design\n"
     ]
    },
    {
     "name": "stdout",
     "output_type": "stream",
     "text": [
      "pyaedt ERROR: (-2147352567, 'Exception occurred.', (0, None, None, None, 0, -2147024371), None) - delete_design -  GENERAL OR AEDT ERROR.\n"
     ]
    },
    {
     "name": "stderr",
     "output_type": "stream",
     "text": [
      "ERROR:Global:(-2147352567, 'Exception occurred.', (0, None, None, None, 0, -2147024371), None) - delete_design -  GENERAL OR AEDT ERROR.\n"
     ]
    },
    {
     "name": "stdout",
     "output_type": "stream",
     "text": [
      "pyaedt ERROR: Project: Project155, Design: get_mini_study_scattering_analysis (Eigenmode), [error] Script macro error: Unable to locate Design: get_mini_study_scattering_analysis_drivenmodal (9:23:15 am  Mar 07, 2025)\n",
      "\n"
     ]
    },
    {
     "name": "stderr",
     "output_type": "stream",
     "text": [
      "ERROR:Global:Project: Project155, Design: get_mini_study_scattering_analysis (Eigenmode), [error] Script macro error: Unable to locate Design: get_mini_study_scattering_analysis_drivenmodal (9:23:15 am  Mar 07, 2025)\n",
      "\n"
     ]
    },
    {
     "name": "stdout",
     "output_type": "stream",
     "text": [
      "pyaedt ERROR: Arguments with values: \n"
     ]
    },
    {
     "name": "stderr",
     "output_type": "stream",
     "text": [
      "ERROR:Global:Arguments with values: \n"
     ]
    },
    {
     "name": "stdout",
     "output_type": "stream",
     "text": [
      "pyaedt ERROR:     name = get_mini_study_scattering_analysis_drivenmodal \n"
     ]
    },
    {
     "name": "stderr",
     "output_type": "stream",
     "text": [
      "ERROR:Global:    name = get_mini_study_scattering_analysis_drivenmodal \n"
     ]
    },
    {
     "name": "stdout",
     "output_type": "stream",
     "text": [
      "pyaedt ERROR:     fallback_design = None \n"
     ]
    },
    {
     "name": "stderr",
     "output_type": "stream",
     "text": [
      "ERROR:Global:    fallback_design = None \n"
     ]
    },
    {
     "name": "stdout",
     "output_type": "stream",
     "text": [
      "pyaedt ERROR: Check Online documentation on: https://aedt.docs.pyansys.com/search.html?q=delete_design\n"
     ]
    },
    {
     "name": "stderr",
     "output_type": "stream",
     "text": [
      "ERROR:Global:Check Online documentation on: https://aedt.docs.pyansys.com/search.html?q=delete_design\n"
     ]
    },
    {
     "name": "stdout",
     "output_type": "stream",
     "text": [
      "pyaedt INFO: Project Project155 Saved correctly\n"
     ]
    },
    {
     "name": "stderr",
     "output_type": "stream",
     "text": [
      "INFO:Global:Project Project155 Saved correctly\n",
      "INFO 09:23AM [connect_project]: Connecting to Ansys Desktop API...\n",
      "INFO 09:23AM [load_ansys_project]: \tOpened Ansys App\n",
      "INFO 09:23AM [load_ansys_project]: \tOpened Ansys Desktop v2021.2.0\n",
      "INFO 09:23AM [load_ansys_project]: \tOpened Ansys Project\n",
      "\tFolder:    C:/Users/nirpit/Documents/Ansoft/\n",
      "\tProject:   Project155\n",
      "INFO 09:23AM [connect_design]: \tOpened active design\n",
      "\tDesign:    HFSS_NMY [Solution type: DrivenModal]\n",
      "INFO 09:23AM [get_setup]: \tOpened setup `Setup`  (<class 'pyEPR.ansys.HfssDMSetup'>)\n",
      "INFO 09:23AM [connect]: \tConnected to project \"Project155\" and design \"HFSS_NMY\" 😀 \n",
      "\n",
      "09:23AM 18s WARNING [activate_ansys_design]: The design_name=get_mini_study_scattering_analysis was not in active project.  Designs in active project are: \n",
      "['HFSS_NMY'].  A new design will be added to the project.  \n"
     ]
    },
    {
     "name": "stdout",
     "output_type": "stream",
     "text": [
      "self.eig_solver.sim.setup\n",
      "{'name': 'Resonator_setup', 'reuse_selected_design': True, 'reuse_setup': True, 'min_freq_ghz': 1, 'n_modes': 1, 'max_delta_f': 0.5, 'max_passes': 10, 'min_passes': 1, 'min_converged': 1, 'pct_refinement': 30, 'basis_order': 1, 'vars': {'Lj': '10 nH', 'Cj': '0 fF'}}\n"
     ]
    },
    {
     "name": "stderr",
     "output_type": "stream",
     "text": [
      "INFO 09:23AM [connect_design]: \tOpened active design\n",
      "\tDesign:    get_mini_study_scattering_analysis [Solution type: Eigenmode]\n",
      "WARNING 09:23AM [connect_setup]: \tNo design setup detected.\n",
      "WARNING 09:23AM [connect_setup]: \tCreating eigenmode default setup.\n",
      "INFO 09:23AM [get_setup]: \tOpened setup `Setup`  (<class 'pyEPR.ansys.HfssEMSetup'>)\n",
      "INFO 09:23AM [__del__]: Disconnected from Ansys HFSS\n",
      "INFO 09:23AM [analyze]: Analyzing setup Setup\n",
      "INFO 09:25AM [connect_project]: Connecting to Ansys Desktop API...\n",
      "INFO 09:25AM [load_ansys_project]: \tOpened Ansys App\n",
      "INFO 09:25AM [load_ansys_project]: \tOpened Ansys Desktop v2021.2.0\n",
      "INFO 09:25AM [load_ansys_project]: \tOpened Ansys Project\n",
      "\tFolder:    C:/Users/nirpit/Documents/Ansoft/\n",
      "\tProject:   Project155\n",
      "INFO 09:25AM [connect_design]: \tOpened active design\n",
      "\tDesign:    get_mini_study_scattering_analysis [Solution type: Eigenmode]\n",
      "INFO 09:25AM [get_setup]: \tOpened setup `Setup`  (<class 'pyEPR.ansys.HfssEMSetup'>)\n",
      "INFO 09:25AM [connect]: \tConnected to project \"Project155\" and design \"get_mini_study_scattering_analysis\" 😀 \n",
      "\n",
      "09:25AM 48s WARNING [activate_ansys_design]: The design_name=get_mini_study_scattering_analysis_drivenmodal was not in active project.  Designs in active project are: \n",
      "['HFSS_NMY', 'get_mini_study_scattering_analysis'].  A new design will be added to the project.  \n"
     ]
    },
    {
     "name": "stdout",
     "output_type": "stream",
     "text": [
      "Design \"get_mini_study_scattering_analysis\" info:\n",
      "\t# eigenmodes    1\n",
      "\t# variations    1\n",
      "Design \"get_mini_study_scattering_analysis\" info:\n",
      "\t# eigenmodes    1\n",
      "\t# variations    1\n",
      "Warning: no junctions found, skipping EPR analysis.\n",
      "[]\n"
     ]
    },
    {
     "name": "stderr",
     "output_type": "stream",
     "text": [
      "INFO 09:25AM [connect_design]: \tOpened active design\n",
      "\tDesign:    get_mini_study_scattering_analysis_drivenmodal [Solution type: DrivenModal]\n",
      "WARNING 09:25AM [connect_setup]: \tNo design setup detected.\n",
      "WARNING 09:25AM [connect_setup]: \tCreating driven modal default setup.\n",
      "INFO 09:25AM [get_setup]: \tOpened setup `Setup`  (<class 'pyEPR.ansys.HfssDMSetup'>)\n",
      "INFO 09:25AM [get_setup]: \tOpened setup `Setup`  (<class 'pyEPR.ansys.HfssDMSetup'>)\n",
      "INFO 09:25AM [get_setup]: \tOpened setup `Setup`  (<class 'pyEPR.ansys.HfssDMSetup'>)\n",
      "INFO 09:25AM [analyze]: Analyzing setup Setup : Sweep\n"
     ]
    },
    {
     "name": "stdout",
     "output_type": "stream",
     "text": [
      "3.29533703188 7.29533703188 25000\n",
      "pinfo_setup\n",
      "solution_freq default 5.29533703188GHz\n"
     ]
    },
    {
     "name": "stderr",
     "output_type": "stream",
     "text": [
      "WARNING:py.warnings:c:\\Users\\nirpit\\AppData\\Local\\anaconda3\\envs\\qdesign-env\\lib\\site-packages\\scipy\\optimize\\_minpack_py.py:492: RuntimeWarning: Number of calls to function has reached maxfev = 200.\n",
      "  warnings.warn(errors[info][0], RuntimeWarning)\n",
      "\n",
      "INFO 09:26AM [get_setup]: \tOpened setup `Setup`  (<class 'pyEPR.ansys.HfssDMSetup'>)\n"
     ]
    },
    {
     "name": "stdout",
     "output_type": "stream",
     "text": [
      "4894652882.628904 4903191479.941494\n",
      "4.894652882628904 4.903191479941494 25000\n",
      "pinfo_setup\n"
     ]
    },
    {
     "name": "stderr",
     "output_type": "stream",
     "text": [
      "INFO 09:26AM [get_setup]: \tOpened setup `Setup`  (<class 'pyEPR.ansys.HfssDMSetup'>)\n",
      "INFO 09:26AM [analyze]: Analyzing setup Setup : Sweep1\n"
     ]
    },
    {
     "name": "stdout",
     "output_type": "stream",
     "text": [
      "solution_freq default 5.29533703188GHz\n"
     ]
    },
    {
     "name": "stderr",
     "output_type": "stream",
     "text": [
      "WARNING:py.warnings:c:\\Users\\nirpit\\AppData\\Local\\anaconda3\\envs\\qdesign-env\\lib\\site-packages\\scipy\\optimize\\_minpack_py.py:492: RuntimeWarning: Number of calls to function has reached maxfev = 200.\n",
      "  warnings.warn(errors[info][0], RuntimeWarning)\n",
      "\n"
     ]
    },
    {
     "name": "stdout",
     "output_type": "stream",
     "text": [
      "Kappa simualted is 142432.51926359264\n",
      "------------------ Design variables -----------------\n",
      "{'cpw_gap': '6 um',\n",
      " 'cpw_width': '10 um',\n",
      " 'design_var_cj_NAME_QB0': '0fF',\n",
      " 'design_var_cj_NAME_QB1': '0fF',\n",
      " 'design_var_cj_NAME_QB2': '0fF',\n",
      " 'design_var_cj_NAME_QB3': '0fF',\n",
      " 'design_var_cj_NAME_QB4': '0fF',\n",
      " 'design_var_ind_coupl_length_0': '577.0052335141787 um',\n",
      " 'design_var_ind_coupl_length_1': '200um',\n",
      " 'design_var_ind_coupl_length_2': '597.7427251031493 um',\n",
      " 'design_var_ind_coupl_length_3': '200um',\n",
      " 'design_var_ind_coupl_length_4': '200um',\n",
      " 'design_var_lj_NAME_QB0': '12nH',\n",
      " 'design_var_lj_NAME_QB1': '12nH',\n",
      " 'design_var_lj_NAME_QB2': '12nH',\n",
      " 'design_var_lj_NAME_QB3': '12nH',\n",
      " 'design_var_lj_NAME_QB4': '12nH',\n",
      " 'design_var_qb_pad_width_0': '400um',\n",
      " 'design_var_qb_pad_width_1': '400um',\n",
      " 'design_var_qb_pad_width_2': '400um',\n",
      " 'design_var_qb_pad_width_3': '400um',\n",
      " 'design_var_qb_pad_width_4': '400um',\n",
      " 'design_var_res_length_0': '5mm',\n",
      " 'design_var_res_length_1': '5mm',\n",
      " 'design_var_res_length_2': '5mm',\n",
      " 'design_var_res_length_3': '5mm',\n",
      " 'design_var_res_length_4': '5mm',\n",
      " 'design_var_res_qb_coupl_length_0': '120um',\n",
      " 'design_var_res_qb_coupl_length_1': '120um',\n",
      " 'design_var_res_qb_coupl_length_2': '120um',\n",
      " 'design_var_res_qb_coupl_length_3': '120um',\n",
      " 'design_var_res_qb_coupl_length_4': '120um'}\n",
      "-------------- System optimized params --------------\n",
      "2\n",
      "{'qubit_freq': None,\n",
      " 'res_freq': 5295337031.88,\n",
      " 'res_kappa': 142432.51926359264,\n",
      " 'res_qubit_chi': None}\n",
      "0 <qdesignoptimizer.utils.sim_plot_progress.OptPltSet object at 0x0000022FFD7C21D0> [1] [None]\n",
      "1 <qdesignoptimizer.utils.sim_plot_progress.OptPltSet object at 0x0000022FD540C190> [1] [None]\n",
      "0 <qdesignoptimizer.utils.sim_plot_progress.OptPltSet object at 0x0000022FFD7C21D0> [1] [None]\n",
      "1 <qdesignoptimizer.utils.sim_plot_progress.OptPltSet object at 0x0000022FD540C190> [1] [None]\n",
      "0 <qdesignoptimizer.utils.sim_plot_progress.OptPltSet object at 0x0000022FFD7C21D0> [1] [5295337031.88]\n",
      "1 <qdesignoptimizer.utils.sim_plot_progress.OptPltSet object at 0x0000022FD540C190> [1] [142432.51926359264]\n",
      "0 <qdesignoptimizer.utils.sim_plot_progress.OptPltSet object at 0x0000022FFD7C21D0> [1] [None]\n",
      "1 <qdesignoptimizer.utils.sim_plot_progress.OptPltSet object at 0x0000022FD540C190> [1] [None]\n",
      "0 <qdesignoptimizer.utils.sim_plot_progress.OptPltSet object at 0x0000022FFD7C21D0> [1] [None]\n",
      "1 <qdesignoptimizer.utils.sim_plot_progress.OptPltSet object at 0x0000022FD540C190> [1] [None]\n",
      "WARNING, does not update passes in Scattering simulation not in Capacitance matrix simulation.\n",
      "updated_design_vars {'design_var_ind_coupl_length_2': '1100.5682829180191 um'}\n",
      "pyaedt INFO: Project Project155 Saved correctly\n"
     ]
    },
    {
     "name": "stderr",
     "output_type": "stream",
     "text": [
      "INFO:Global:Project Project155 Saved correctly\n",
      "INFO 09:26AM [connect_project]: Connecting to Ansys Desktop API...\n",
      "INFO 09:26AM [load_ansys_project]: \tOpened Ansys App\n",
      "INFO 09:26AM [load_ansys_project]: \tOpened Ansys Desktop v2021.2.0\n",
      "INFO 09:26AM [load_ansys_project]: \tOpened Ansys Project\n",
      "\tFolder:    C:/Users/nirpit/Documents/Ansoft/\n",
      "\tProject:   Project155\n",
      "INFO 09:26AM [connect_design]: \tOpened active design\n",
      "\tDesign:    HFSS_NMY [Solution type: DrivenModal]\n",
      "INFO 09:26AM [get_setup]: \tOpened setup `Setup`  (<class 'pyEPR.ansys.HfssDMSetup'>)\n",
      "INFO 09:26AM [connect]: \tConnected to project \"Project155\" and design \"HFSS_NMY\" 😀 \n",
      "\n",
      "09:26AM 38s WARNING [activate_ansys_design]: The design_name=get_mini_study_scattering_analysis was not in active project.  Designs in active project are: \n",
      "['HFSS_NMY'].  A new design will be added to the project.  \n"
     ]
    },
    {
     "name": "stdout",
     "output_type": "stream",
     "text": [
      "self.eig_solver.sim.setup\n",
      "{'name': 'Resonator_setup', 'reuse_selected_design': True, 'reuse_setup': True, 'min_freq_ghz': 1, 'n_modes': 1, 'max_delta_f': 0.5, 'max_passes': 10, 'min_passes': 1, 'min_converged': 1, 'pct_refinement': 30, 'basis_order': 1, 'vars': {'Lj': '10 nH', 'Cj': '0 fF'}}\n"
     ]
    },
    {
     "name": "stderr",
     "output_type": "stream",
     "text": [
      "INFO 09:26AM [connect_design]: \tOpened active design\n",
      "\tDesign:    get_mini_study_scattering_analysis [Solution type: Eigenmode]\n",
      "WARNING 09:26AM [connect_setup]: \tNo design setup detected.\n",
      "WARNING 09:26AM [connect_setup]: \tCreating eigenmode default setup.\n",
      "INFO 09:26AM [get_setup]: \tOpened setup `Setup`  (<class 'pyEPR.ansys.HfssEMSetup'>)\n",
      "09:26AM 40s WARNING [check_lengths]: For path table, component=NAME_RES2, key=trace has short segments that could cause issues with fillet. Values in (1-2)  are index(es) in shapely geometry.\n",
      "09:26AM 40s WARNING [check_lengths]: For path table, component=NAME_RES2, key=cut has short segments that could cause issues with fillet. Values in (1-2)  are index(es) in shapely geometry.\n",
      "INFO 09:26AM [analyze]: Analyzing setup Setup\n",
      "INFO 09:29AM [connect_project]: Connecting to Ansys Desktop API...\n",
      "INFO 09:29AM [load_ansys_project]: \tOpened Ansys App\n",
      "INFO 09:29AM [load_ansys_project]: \tOpened Ansys Desktop v2021.2.0\n",
      "INFO 09:29AM [load_ansys_project]: \tOpened Ansys Project\n",
      "\tFolder:    C:/Users/nirpit/Documents/Ansoft/\n",
      "\tProject:   Project155\n",
      "INFO 09:29AM [connect_design]: \tOpened active design\n",
      "\tDesign:    get_mini_study_scattering_analysis [Solution type: Eigenmode]\n",
      "INFO 09:29AM [get_setup]: \tOpened setup `Setup`  (<class 'pyEPR.ansys.HfssEMSetup'>)\n",
      "INFO 09:29AM [connect]: \tConnected to project \"Project155\" and design \"get_mini_study_scattering_analysis\" 😀 \n",
      "\n",
      "09:29AM 19s WARNING [activate_ansys_design]: The design_name=get_mini_study_scattering_analysis_drivenmodal was not in active project.  Designs in active project are: \n",
      "['HFSS_NMY', 'get_mini_study_scattering_analysis'].  A new design will be added to the project.  \n"
     ]
    },
    {
     "name": "stdout",
     "output_type": "stream",
     "text": [
      "Design \"get_mini_study_scattering_analysis\" info:\n",
      "\t# eigenmodes    1\n",
      "\t# variations    1\n",
      "Design \"get_mini_study_scattering_analysis\" info:\n",
      "\t# eigenmodes    1\n",
      "\t# variations    1\n",
      "Warning: no junctions found, skipping EPR analysis.\n",
      "[]\n"
     ]
    },
    {
     "name": "stderr",
     "output_type": "stream",
     "text": [
      "INFO 09:29AM [connect_design]: \tOpened active design\n",
      "\tDesign:    get_mini_study_scattering_analysis_drivenmodal [Solution type: DrivenModal]\n",
      "WARNING 09:29AM [connect_setup]: \tNo design setup detected.\n",
      "WARNING 09:29AM [connect_setup]: \tCreating driven modal default setup.\n",
      "INFO 09:29AM [get_setup]: \tOpened setup `Setup`  (<class 'pyEPR.ansys.HfssDMSetup'>)\n",
      "INFO 09:29AM [get_setup]: \tOpened setup `Setup`  (<class 'pyEPR.ansys.HfssDMSetup'>)\n"
     ]
    },
    {
     "name": "stdout",
     "output_type": "stream",
     "text": [
      "2.7963730000299996 6.79637300003 25000\n"
     ]
    },
    {
     "name": "stderr",
     "output_type": "stream",
     "text": [
      "INFO 09:29AM [get_setup]: \tOpened setup `Setup`  (<class 'pyEPR.ansys.HfssDMSetup'>)\n",
      "INFO 09:29AM [analyze]: Analyzing setup Setup : Sweep\n"
     ]
    },
    {
     "name": "stdout",
     "output_type": "stream",
     "text": [
      "pinfo_setup\n",
      "solution_freq default 4.79637300003GHz\n"
     ]
    },
    {
     "name": "stderr",
     "output_type": "stream",
     "text": [
      "WARNING:py.warnings:c:\\Users\\nirpit\\AppData\\Local\\anaconda3\\envs\\qdesign-env\\lib\\site-packages\\scipy\\optimize\\_minpack_py.py:492: RuntimeWarning: Number of calls to function has reached maxfev = 200.\n",
      "  warnings.warn(errors[info][0], RuntimeWarning)\n",
      "\n",
      "INFO 09:29AM [get_setup]: \tOpened setup `Setup`  (<class 'pyEPR.ansys.HfssDMSetup'>)\n"
     ]
    },
    {
     "name": "stdout",
     "output_type": "stream",
     "text": [
      "5018363421.432119 5031542480.643164\n",
      "5.018363421432119 5.0315424806431635 25000\n"
     ]
    },
    {
     "name": "stderr",
     "output_type": "stream",
     "text": [
      "INFO 09:29AM [get_setup]: \tOpened setup `Setup`  (<class 'pyEPR.ansys.HfssDMSetup'>)\n",
      "INFO 09:29AM [analyze]: Analyzing setup Setup : Sweep1\n"
     ]
    },
    {
     "name": "stdout",
     "output_type": "stream",
     "text": [
      "pinfo_setup\n",
      "solution_freq default 4.79637300003GHz\n"
     ]
    },
    {
     "name": "stderr",
     "output_type": "stream",
     "text": [
      "INFO 09:30AM [__del__]: Disconnected from Ansys HFSS\n",
      "INFO 09:30AM [__del__]: Disconnected from Ansys HFSS\n",
      "WARNING:py.warnings:c:\\Users\\nirpit\\AppData\\Local\\anaconda3\\envs\\qdesign-env\\lib\\site-packages\\scipy\\optimize\\_minpack_py.py:178: RuntimeWarning: The iteration is not making good progress, as measured by the \n",
      "  improvement from the last ten iterations.\n",
      "  warnings.warn(msg, RuntimeWarning)\n",
      "\n",
      "WARNING:py.warnings:c:\\Users\\nirpit\\AppData\\Local\\anaconda3\\envs\\qdesign-env\\lib\\site-packages\\scipy\\optimize\\_minpack_py.py:492: RuntimeWarning: Number of calls to function has reached maxfev = 200.\n",
      "  warnings.warn(errors[info][0], RuntimeWarning)\n",
      "\n"
     ]
    },
    {
     "name": "stdout",
     "output_type": "stream",
     "text": [
      "Kappa simualted is 220570.97884762092\n",
      "------------------ Design variables -----------------\n",
      "{'cpw_gap': '6 um',\n",
      " 'cpw_width': '10 um',\n",
      " 'design_var_cj_NAME_QB0': '0fF',\n",
      " 'design_var_cj_NAME_QB1': '0fF',\n",
      " 'design_var_cj_NAME_QB2': '0fF',\n",
      " 'design_var_cj_NAME_QB3': '0fF',\n",
      " 'design_var_cj_NAME_QB4': '0fF',\n",
      " 'design_var_ind_coupl_length_0': '577.0052335141787 um',\n",
      " 'design_var_ind_coupl_length_1': '200um',\n",
      " 'design_var_ind_coupl_length_2': '1100.5682829180191 um',\n",
      " 'design_var_ind_coupl_length_3': '200um',\n",
      " 'design_var_ind_coupl_length_4': '200um',\n",
      " 'design_var_lj_NAME_QB0': '12nH',\n",
      " 'design_var_lj_NAME_QB1': '12nH',\n",
      " 'design_var_lj_NAME_QB2': '12nH',\n",
      " 'design_var_lj_NAME_QB3': '12nH',\n",
      " 'design_var_lj_NAME_QB4': '12nH',\n",
      " 'design_var_qb_pad_width_0': '400um',\n",
      " 'design_var_qb_pad_width_1': '400um',\n",
      " 'design_var_qb_pad_width_2': '400um',\n",
      " 'design_var_qb_pad_width_3': '400um',\n",
      " 'design_var_qb_pad_width_4': '400um',\n",
      " 'design_var_res_length_0': '5mm',\n",
      " 'design_var_res_length_1': '5mm',\n",
      " 'design_var_res_length_2': '5mm',\n",
      " 'design_var_res_length_3': '5mm',\n",
      " 'design_var_res_length_4': '5mm',\n",
      " 'design_var_res_qb_coupl_length_0': '120um',\n",
      " 'design_var_res_qb_coupl_length_1': '120um',\n",
      " 'design_var_res_qb_coupl_length_2': '120um',\n",
      " 'design_var_res_qb_coupl_length_3': '120um',\n",
      " 'design_var_res_qb_coupl_length_4': '120um'}\n",
      "-------------- System optimized params --------------\n",
      "2\n",
      "{'qubit_freq': None,\n",
      " 'res_freq': 4796373000.03,\n",
      " 'res_kappa': 220570.97884762092,\n",
      " 'res_qubit_chi': None}\n",
      "0 <qdesignoptimizer.utils.sim_plot_progress.OptPltSet object at 0x0000022FFD7C21D0> [1, 2] [None, None]\n",
      "1 <qdesignoptimizer.utils.sim_plot_progress.OptPltSet object at 0x0000022FD540C190> [1, 2] [None, None]\n",
      "0 <qdesignoptimizer.utils.sim_plot_progress.OptPltSet object at 0x0000022FFD7C21D0> [1, 2] [None, None]\n",
      "1 <qdesignoptimizer.utils.sim_plot_progress.OptPltSet object at 0x0000022FD540C190> [1, 2] [None, None]\n",
      "0 <qdesignoptimizer.utils.sim_plot_progress.OptPltSet object at 0x0000022FFD7C21D0> [1, 2] [5295337031.88, 4796373000.03]\n",
      "1 <qdesignoptimizer.utils.sim_plot_progress.OptPltSet object at 0x0000022FD540C190> [1, 2] [142432.51926359264, 220570.97884762092]\n",
      "0 <qdesignoptimizer.utils.sim_plot_progress.OptPltSet object at 0x0000022FFD7C21D0> [1, 2] [None, None]\n",
      "1 <qdesignoptimizer.utils.sim_plot_progress.OptPltSet object at 0x0000022FD540C190> [1, 2] [None, None]\n",
      "0 <qdesignoptimizer.utils.sim_plot_progress.OptPltSet object at 0x0000022FFD7C21D0> [1, 2] [None, None]\n",
      "1 <qdesignoptimizer.utils.sim_plot_progress.OptPltSet object at 0x0000022FD540C190> [1, 2] [None, None]\n",
      "WARNING, does not update passes in Scattering simulation not in Capacitance matrix simulation.\n",
      "updated_design_vars {'design_var_ind_coupl_length_2': '1672.1139851237006 um'}\n",
      "pyaedt INFO: Project Project155 Saved correctly\n"
     ]
    },
    {
     "name": "stderr",
     "output_type": "stream",
     "text": [
      "INFO:Global:Project Project155 Saved correctly\n",
      "INFO 09:30AM [connect_project]: Connecting to Ansys Desktop API...\n",
      "INFO 09:30AM [load_ansys_project]: \tOpened Ansys App\n",
      "INFO 09:30AM [load_ansys_project]: \tOpened Ansys Desktop v2021.2.0\n",
      "INFO 09:30AM [load_ansys_project]: \tOpened Ansys Project\n",
      "\tFolder:    C:/Users/nirpit/Documents/Ansoft/\n",
      "\tProject:   Project155\n",
      "INFO 09:30AM [connect_design]: \tOpened active design\n",
      "\tDesign:    HFSS_NMY [Solution type: DrivenModal]\n"
     ]
    },
    {
     "name": "stdout",
     "output_type": "stream",
     "text": [
      "self.eig_solver.sim.setup\n",
      "{'name': 'Resonator_setup', 'reuse_selected_design': True, 'reuse_setup': True, 'min_freq_ghz': 1, 'n_modes': 1, 'max_delta_f': 0.5, 'max_passes': 10, 'min_passes': 1, 'min_converged': 1, 'pct_refinement': 30, 'basis_order': 1, 'vars': {'Lj': '10 nH', 'Cj': '0 fF'}}\n"
     ]
    },
    {
     "name": "stderr",
     "output_type": "stream",
     "text": [
      "INFO 09:30AM [get_setup]: \tOpened setup `Setup`  (<class 'pyEPR.ansys.HfssDMSetup'>)\n",
      "INFO 09:30AM [connect]: \tConnected to project \"Project155\" and design \"HFSS_NMY\" 😀 \n",
      "\n",
      "09:30AM 19s WARNING [activate_ansys_design]: The design_name=get_mini_study_scattering_analysis was not in active project.  Designs in active project are: \n",
      "['HFSS_NMY'].  A new design will be added to the project.  \n",
      "INFO 09:30AM [connect_design]: \tOpened active design\n",
      "\tDesign:    get_mini_study_scattering_analysis [Solution type: Eigenmode]\n",
      "WARNING 09:30AM [connect_setup]: \tNo design setup detected.\n",
      "WARNING 09:30AM [connect_setup]: \tCreating eigenmode default setup.\n",
      "INFO 09:30AM [get_setup]: \tOpened setup `Setup`  (<class 'pyEPR.ansys.HfssEMSetup'>)\n",
      "09:30AM 22s WARNING [check_lengths]: For path table, component=NAME_RES2, key=trace has short segments that could cause issues with fillet. Values in (1-2)  are index(es) in shapely geometry.\n",
      "09:30AM 22s WARNING [check_lengths]: For path table, component=NAME_RES2, key=cut has short segments that could cause issues with fillet. Values in (1-2)  are index(es) in shapely geometry.\n",
      "INFO 09:30AM [analyze]: Analyzing setup Setup\n",
      "INFO 09:32AM [connect_project]: Connecting to Ansys Desktop API...\n",
      "INFO 09:32AM [load_ansys_project]: \tOpened Ansys App\n",
      "INFO 09:32AM [load_ansys_project]: \tOpened Ansys Desktop v2021.2.0\n",
      "INFO 09:32AM [load_ansys_project]: \tOpened Ansys Project\n",
      "\tFolder:    C:/Users/nirpit/Documents/Ansoft/\n",
      "\tProject:   Project155\n",
      "INFO 09:32AM [connect_design]: \tOpened active design\n",
      "\tDesign:    get_mini_study_scattering_analysis [Solution type: Eigenmode]\n",
      "INFO 09:32AM [get_setup]: \tOpened setup `Setup`  (<class 'pyEPR.ansys.HfssEMSetup'>)\n",
      "INFO 09:32AM [connect]: \tConnected to project \"Project155\" and design \"get_mini_study_scattering_analysis\" 😀 \n",
      "\n"
     ]
    },
    {
     "name": "stdout",
     "output_type": "stream",
     "text": [
      "Design \"get_mini_study_scattering_analysis\" info:\n",
      "\t# eigenmodes    1\n",
      "\t# variations    1\n",
      "Design \"get_mini_study_scattering_analysis\" info:\n",
      "\t# eigenmodes    1\n",
      "\t# variations    1\n",
      "Warning: no junctions found, skipping EPR analysis.\n",
      "[]\n"
     ]
    },
    {
     "name": "stderr",
     "output_type": "stream",
     "text": [
      "09:32AM 46s WARNING [activate_ansys_design]: The design_name=get_mini_study_scattering_analysis_drivenmodal was not in active project.  Designs in active project are: \n",
      "['HFSS_NMY', 'get_mini_study_scattering_analysis'].  A new design will be added to the project.  \n",
      "INFO 09:32AM [connect_design]: \tOpened active design\n",
      "\tDesign:    get_mini_study_scattering_analysis_drivenmodal [Solution type: DrivenModal]\n",
      "WARNING 09:32AM [connect_setup]: \tNo design setup detected.\n",
      "WARNING 09:32AM [connect_setup]: \tCreating driven modal default setup.\n",
      "INFO 09:32AM [get_setup]: \tOpened setup `Setup`  (<class 'pyEPR.ansys.HfssDMSetup'>)\n",
      "INFO 09:32AM [get_setup]: \tOpened setup `Setup`  (<class 'pyEPR.ansys.HfssDMSetup'>)\n",
      "INFO 09:32AM [get_setup]: \tOpened setup `Setup`  (<class 'pyEPR.ansys.HfssDMSetup'>)\n",
      "INFO 09:32AM [analyze]: Analyzing setup Setup : Sweep\n"
     ]
    },
    {
     "name": "stdout",
     "output_type": "stream",
     "text": [
      "2.3848666029700003 6.38486660297 25000\n",
      "pinfo_setup\n",
      "solution_freq default 4.38486660297GHz\n"
     ]
    },
    {
     "name": "stderr",
     "output_type": "stream",
     "text": [
      "WARNING:py.warnings:c:\\Users\\nirpit\\AppData\\Local\\anaconda3\\envs\\qdesign-env\\lib\\site-packages\\scipy\\optimize\\_minpack_py.py:492: RuntimeWarning: Number of calls to function has reached maxfev = 200.\n",
      "  warnings.warn(errors[info][0], RuntimeWarning)\n",
      "\n",
      "INFO 09:33AM [get_setup]: \tOpened setup `Setup`  (<class 'pyEPR.ansys.HfssDMSetup'>)\n"
     ]
    },
    {
     "name": "stdout",
     "output_type": "stream",
     "text": [
      "5917830571.475459 5951229033.7793455\n",
      "5.917830571475459 5.951229033779345 25000\n"
     ]
    },
    {
     "name": "stderr",
     "output_type": "stream",
     "text": [
      "INFO 09:33AM [get_setup]: \tOpened setup `Setup`  (<class 'pyEPR.ansys.HfssDMSetup'>)\n",
      "INFO 09:33AM [analyze]: Analyzing setup Setup : Sweep1\n"
     ]
    },
    {
     "name": "stdout",
     "output_type": "stream",
     "text": [
      "pinfo_setup\n",
      "solution_freq default 4.38486660297GHz\n"
     ]
    },
    {
     "name": "stderr",
     "output_type": "stream",
     "text": [
      "WARNING:py.warnings:c:\\Users\\nirpit\\AppData\\Local\\anaconda3\\envs\\qdesign-env\\lib\\site-packages\\scipy\\optimize\\_minpack_py.py:178: RuntimeWarning: The iteration is not making good progress, as measured by the \n",
      "  improvement from the last ten iterations.\n",
      "  warnings.warn(msg, RuntimeWarning)\n",
      "\n"
     ]
    },
    {
     "name": "stdout",
     "output_type": "stream",
     "text": [
      "Kappa simualted is 560048.7437653117\n",
      "------------------ Design variables -----------------\n",
      "{'cpw_gap': '6 um',\n",
      " 'cpw_width': '10 um',\n",
      " 'design_var_cj_NAME_QB0': '0fF',\n",
      " 'design_var_cj_NAME_QB1': '0fF',\n",
      " 'design_var_cj_NAME_QB2': '0fF',\n",
      " 'design_var_cj_NAME_QB3': '0fF',\n",
      " 'design_var_cj_NAME_QB4': '0fF',\n",
      " 'design_var_ind_coupl_length_0': '577.0052335141787 um',\n",
      " 'design_var_ind_coupl_length_1': '200um',\n",
      " 'design_var_ind_coupl_length_2': '1672.1139851237006 um',\n",
      " 'design_var_ind_coupl_length_3': '200um',\n",
      " 'design_var_ind_coupl_length_4': '200um',\n",
      " 'design_var_lj_NAME_QB0': '12nH',\n",
      " 'design_var_lj_NAME_QB1': '12nH',\n",
      " 'design_var_lj_NAME_QB2': '12nH',\n",
      " 'design_var_lj_NAME_QB3': '12nH',\n",
      " 'design_var_lj_NAME_QB4': '12nH',\n",
      " 'design_var_qb_pad_width_0': '400um',\n",
      " 'design_var_qb_pad_width_1': '400um',\n",
      " 'design_var_qb_pad_width_2': '400um',\n",
      " 'design_var_qb_pad_width_3': '400um',\n",
      " 'design_var_qb_pad_width_4': '400um',\n",
      " 'design_var_res_length_0': '5mm',\n",
      " 'design_var_res_length_1': '5mm',\n",
      " 'design_var_res_length_2': '5mm',\n",
      " 'design_var_res_length_3': '5mm',\n",
      " 'design_var_res_length_4': '5mm',\n",
      " 'design_var_res_qb_coupl_length_0': '120um',\n",
      " 'design_var_res_qb_coupl_length_1': '120um',\n",
      " 'design_var_res_qb_coupl_length_2': '120um',\n",
      " 'design_var_res_qb_coupl_length_3': '120um',\n",
      " 'design_var_res_qb_coupl_length_4': '120um'}\n",
      "-------------- System optimized params --------------\n",
      "2\n",
      "{'qubit_freq': None,\n",
      " 'res_freq': 4384866602.97,\n",
      " 'res_kappa': 560048.7437653117,\n",
      " 'res_qubit_chi': None}\n",
      "0 <qdesignoptimizer.utils.sim_plot_progress.OptPltSet object at 0x0000022FFD7C21D0> [1, 2, 3] [None, None, None]\n",
      "1 <qdesignoptimizer.utils.sim_plot_progress.OptPltSet object at 0x0000022FD540C190> [1, 2, 3] [None, None, None]\n",
      "0 <qdesignoptimizer.utils.sim_plot_progress.OptPltSet object at 0x0000022FFD7C21D0> [1, 2, 3] [None, None, None]\n",
      "1 <qdesignoptimizer.utils.sim_plot_progress.OptPltSet object at 0x0000022FD540C190> [1, 2, 3] [None, None, None]\n",
      "0 <qdesignoptimizer.utils.sim_plot_progress.OptPltSet object at 0x0000022FFD7C21D0> [1, 2, 3] [5295337031.88, 4796373000.03, 4384866602.97]\n",
      "1 <qdesignoptimizer.utils.sim_plot_progress.OptPltSet object at 0x0000022FD540C190> [1, 2, 3] [142432.51926359264, 220570.97884762092, 560048.7437653117]\n",
      "0 <qdesignoptimizer.utils.sim_plot_progress.OptPltSet object at 0x0000022FFD7C21D0> [1, 2, 3] [None, None, None]\n",
      "1 <qdesignoptimizer.utils.sim_plot_progress.OptPltSet object at 0x0000022FD540C190> [1, 2, 3] [None, None, None]\n",
      "0 <qdesignoptimizer.utils.sim_plot_progress.OptPltSet object at 0x0000022FFD7C21D0> [1, 2, 3] [None, None, None]\n",
      "1 <qdesignoptimizer.utils.sim_plot_progress.OptPltSet object at 0x0000022FD540C190> [1, 2, 3] [None, None, None]\n",
      "WARNING, does not update passes in Scattering simulation not in Capacitance matrix simulation.\n",
      "updated_design_vars {'design_var_ind_coupl_length_2': '1719.5261946757792 um'}\n",
      "pyaedt INFO: Project Project155 Saved correctly\n"
     ]
    },
    {
     "name": "stderr",
     "output_type": "stream",
     "text": [
      "INFO:Global:Project Project155 Saved correctly\n",
      "INFO 09:33AM [connect_project]: Connecting to Ansys Desktop API...\n",
      "INFO 09:33AM [load_ansys_project]: \tOpened Ansys App\n",
      "INFO 09:33AM [load_ansys_project]: \tOpened Ansys Desktop v2021.2.0\n",
      "INFO 09:33AM [load_ansys_project]: \tOpened Ansys Project\n",
      "\tFolder:    C:/Users/nirpit/Documents/Ansoft/\n",
      "\tProject:   Project155\n"
     ]
    },
    {
     "name": "stdout",
     "output_type": "stream",
     "text": [
      "self.eig_solver.sim.setup\n",
      "{'name': 'Resonator_setup', 'reuse_selected_design': True, 'reuse_setup': True, 'min_freq_ghz': 1, 'n_modes': 1, 'max_delta_f': 0.5, 'max_passes': 10, 'min_passes': 1, 'min_converged': 1, 'pct_refinement': 30, 'basis_order': 1, 'vars': {'Lj': '10 nH', 'Cj': '0 fF'}}\n"
     ]
    },
    {
     "name": "stderr",
     "output_type": "stream",
     "text": [
      "INFO 09:33AM [connect_design]: \tOpened active design\n",
      "\tDesign:    HFSS_NMY [Solution type: DrivenModal]\n",
      "INFO 09:33AM [get_setup]: \tOpened setup `Setup`  (<class 'pyEPR.ansys.HfssDMSetup'>)\n",
      "INFO 09:33AM [connect]: \tConnected to project \"Project155\" and design \"HFSS_NMY\" 😀 \n",
      "\n",
      "09:33AM 54s WARNING [activate_ansys_design]: The design_name=get_mini_study_scattering_analysis was not in active project.  Designs in active project are: \n",
      "['HFSS_NMY'].  A new design will be added to the project.  \n",
      "INFO 09:33AM [__del__]: Disconnected from Ansys HFSS\n",
      "INFO 09:33AM [__del__]: Disconnected from Ansys HFSS\n",
      "INFO 09:33AM [__del__]: Disconnected from Ansys HFSS\n",
      "INFO 09:33AM [connect_design]: \tOpened active design\n",
      "\tDesign:    get_mini_study_scattering_analysis [Solution type: Eigenmode]\n",
      "WARNING 09:33AM [connect_setup]: \tNo design setup detected.\n",
      "WARNING 09:33AM [connect_setup]: \tCreating eigenmode default setup.\n",
      "INFO 09:33AM [get_setup]: \tOpened setup `Setup`  (<class 'pyEPR.ansys.HfssEMSetup'>)\n",
      "09:33AM 57s WARNING [check_lengths]: For path table, component=NAME_RES2, key=trace has short segments that could cause issues with fillet. Values in (1-2)  are index(es) in shapely geometry.\n",
      "09:33AM 57s WARNING [check_lengths]: For path table, component=NAME_RES2, key=cut has short segments that could cause issues with fillet. Values in (1-2)  are index(es) in shapely geometry.\n",
      "INFO 09:34AM [analyze]: Analyzing setup Setup\n",
      "INFO 09:36AM [connect_project]: Connecting to Ansys Desktop API...\n",
      "INFO 09:36AM [load_ansys_project]: \tOpened Ansys App\n",
      "INFO 09:36AM [load_ansys_project]: \tOpened Ansys Desktop v2021.2.0\n",
      "INFO 09:36AM [load_ansys_project]: \tOpened Ansys Project\n",
      "\tFolder:    C:/Users/nirpit/Documents/Ansoft/\n",
      "\tProject:   Project155\n"
     ]
    },
    {
     "name": "stdout",
     "output_type": "stream",
     "text": [
      "Design \"get_mini_study_scattering_analysis\" info:\n",
      "\t# eigenmodes    1\n",
      "\t# variations    1\n",
      "Design \"get_mini_study_scattering_analysis\" info:\n",
      "\t# eigenmodes    1\n",
      "\t# variations    1\n",
      "Warning: no junctions found, skipping EPR analysis.\n",
      "[]\n"
     ]
    },
    {
     "name": "stderr",
     "output_type": "stream",
     "text": [
      "INFO 09:36AM [connect_design]: \tOpened active design\n",
      "\tDesign:    get_mini_study_scattering_analysis [Solution type: Eigenmode]\n",
      "INFO 09:36AM [get_setup]: \tOpened setup `Setup`  (<class 'pyEPR.ansys.HfssEMSetup'>)\n",
      "INFO 09:36AM [connect]: \tConnected to project \"Project155\" and design \"get_mini_study_scattering_analysis\" 😀 \n",
      "\n",
      "09:36AM 41s WARNING [activate_ansys_design]: The design_name=get_mini_study_scattering_analysis_drivenmodal was not in active project.  Designs in active project are: \n",
      "['HFSS_NMY', 'get_mini_study_scattering_analysis'].  A new design will be added to the project.  \n",
      "INFO 09:36AM [connect_design]: \tOpened active design\n",
      "\tDesign:    get_mini_study_scattering_analysis_drivenmodal [Solution type: DrivenModal]\n",
      "WARNING 09:36AM [connect_setup]: \tNo design setup detected.\n",
      "WARNING 09:36AM [connect_setup]: \tCreating driven modal default setup.\n",
      "INFO 09:36AM [get_setup]: \tOpened setup `Setup`  (<class 'pyEPR.ansys.HfssDMSetup'>)\n",
      "INFO 09:36AM [get_setup]: \tOpened setup `Setup`  (<class 'pyEPR.ansys.HfssDMSetup'>)\n",
      "INFO 09:36AM [get_setup]: \tOpened setup `Setup`  (<class 'pyEPR.ansys.HfssDMSetup'>)\n",
      "INFO 09:36AM [analyze]: Analyzing setup Setup : Sweep\n"
     ]
    },
    {
     "name": "stdout",
     "output_type": "stream",
     "text": [
      "2.35466627192 6.35466627192 25000\n",
      "pinfo_setup\n",
      "solution_freq default 4.35466627192GHz\n"
     ]
    },
    {
     "name": "stderr",
     "output_type": "stream",
     "text": [
      "INFO 09:37AM [get_setup]: \tOpened setup `Setup`  (<class 'pyEPR.ansys.HfssDMSetup'>)\n"
     ]
    },
    {
     "name": "stdout",
     "output_type": "stream",
     "text": [
      "6251695788.181419 6327782242.585661\n",
      "6.2516957881814195 6.327782242585661 25000\n"
     ]
    },
    {
     "name": "stderr",
     "output_type": "stream",
     "text": [
      "INFO 09:37AM [get_setup]: \tOpened setup `Setup`  (<class 'pyEPR.ansys.HfssDMSetup'>)\n",
      "INFO 09:37AM [analyze]: Analyzing setup Setup : Sweep1\n"
     ]
    },
    {
     "name": "stdout",
     "output_type": "stream",
     "text": [
      "pinfo_setup\n",
      "solution_freq default 4.35466627192GHz\n"
     ]
    },
    {
     "name": "stderr",
     "output_type": "stream",
     "text": [
      "WARNING:py.warnings:c:\\Users\\nirpit\\AppData\\Local\\anaconda3\\envs\\qdesign-env\\lib\\site-packages\\scipy\\optimize\\_minpack_py.py:492: RuntimeWarning: Number of calls to function has reached maxfev = 200.\n",
      "  warnings.warn(errors[info][0], RuntimeWarning)\n",
      "\n"
     ]
    },
    {
     "name": "stdout",
     "output_type": "stream",
     "text": [
      "Kappa simualted is 1224202.6382503982\n",
      "------------------ Design variables -----------------\n",
      "{'cpw_gap': '6 um',\n",
      " 'cpw_width': '10 um',\n",
      " 'design_var_cj_NAME_QB0': '0fF',\n",
      " 'design_var_cj_NAME_QB1': '0fF',\n",
      " 'design_var_cj_NAME_QB2': '0fF',\n",
      " 'design_var_cj_NAME_QB3': '0fF',\n",
      " 'design_var_cj_NAME_QB4': '0fF',\n",
      " 'design_var_ind_coupl_length_0': '577.0052335141787 um',\n",
      " 'design_var_ind_coupl_length_1': '200um',\n",
      " 'design_var_ind_coupl_length_2': '1719.5261946757792 um',\n",
      " 'design_var_ind_coupl_length_3': '200um',\n",
      " 'design_var_ind_coupl_length_4': '200um',\n",
      " 'design_var_lj_NAME_QB0': '12nH',\n",
      " 'design_var_lj_NAME_QB1': '12nH',\n",
      " 'design_var_lj_NAME_QB2': '12nH',\n",
      " 'design_var_lj_NAME_QB3': '12nH',\n",
      " 'design_var_lj_NAME_QB4': '12nH',\n",
      " 'design_var_qb_pad_width_0': '400um',\n",
      " 'design_var_qb_pad_width_1': '400um',\n",
      " 'design_var_qb_pad_width_2': '400um',\n",
      " 'design_var_qb_pad_width_3': '400um',\n",
      " 'design_var_qb_pad_width_4': '400um',\n",
      " 'design_var_res_length_0': '5mm',\n",
      " 'design_var_res_length_1': '5mm',\n",
      " 'design_var_res_length_2': '5mm',\n",
      " 'design_var_res_length_3': '5mm',\n",
      " 'design_var_res_length_4': '5mm',\n",
      " 'design_var_res_qb_coupl_length_0': '120um',\n",
      " 'design_var_res_qb_coupl_length_1': '120um',\n",
      " 'design_var_res_qb_coupl_length_2': '120um',\n",
      " 'design_var_res_qb_coupl_length_3': '120um',\n",
      " 'design_var_res_qb_coupl_length_4': '120um'}\n",
      "-------------- System optimized params --------------\n",
      "2\n",
      "{'qubit_freq': None,\n",
      " 'res_freq': 4354666271.92,\n",
      " 'res_kappa': 1224202.6382503982,\n",
      " 'res_qubit_chi': None}\n",
      "0 <qdesignoptimizer.utils.sim_plot_progress.OptPltSet object at 0x0000022FFD7C21D0> [1, 2, 3, 4] [None, None, None, None]\n",
      "1 <qdesignoptimizer.utils.sim_plot_progress.OptPltSet object at 0x0000022FD540C190> [1, 2, 3, 4] [None, None, None, None]\n",
      "0 <qdesignoptimizer.utils.sim_plot_progress.OptPltSet object at 0x0000022FFD7C21D0> [1, 2, 3, 4] [None, None, None, None]\n",
      "1 <qdesignoptimizer.utils.sim_plot_progress.OptPltSet object at 0x0000022FD540C190> [1, 2, 3, 4] [None, None, None, None]\n",
      "0 <qdesignoptimizer.utils.sim_plot_progress.OptPltSet object at 0x0000022FFD7C21D0> [1, 2, 3, 4] [5295337031.88, 4796373000.03, 4384866602.97, 4354666271.92]\n",
      "1 <qdesignoptimizer.utils.sim_plot_progress.OptPltSet object at 0x0000022FD540C190> [1, 2, 3, 4] [142432.51926359264, 220570.97884762092, 560048.7437653117, 1224202.6382503982]\n",
      "0 <qdesignoptimizer.utils.sim_plot_progress.OptPltSet object at 0x0000022FFD7C21D0> [1, 2, 3, 4] [None, None, None, None]\n",
      "1 <qdesignoptimizer.utils.sim_plot_progress.OptPltSet object at 0x0000022FD540C190> [1, 2, 3, 4] [None, None, None, None]\n",
      "0 <qdesignoptimizer.utils.sim_plot_progress.OptPltSet object at 0x0000022FFD7C21D0> [1, 2, 3, 4] [None, None, None, None]\n",
      "1 <qdesignoptimizer.utils.sim_plot_progress.OptPltSet object at 0x0000022FD540C190> [1, 2, 3, 4] [None, None, None, None]\n",
      "WARNING, does not update passes in Scattering simulation not in Capacitance matrix simulation.\n",
      "updated_design_vars {'design_var_ind_coupl_length_2': '1307.2978058593717 um'}\n",
      "pyaedt INFO: Project Project155 Saved correctly\n"
     ]
    },
    {
     "name": "stderr",
     "output_type": "stream",
     "text": [
      "INFO:Global:Project Project155 Saved correctly\n",
      "INFO 09:37AM [connect_project]: Connecting to Ansys Desktop API...\n",
      "INFO 09:37AM [load_ansys_project]: \tOpened Ansys App\n",
      "INFO 09:37AM [load_ansys_project]: \tOpened Ansys Desktop v2021.2.0\n",
      "INFO 09:37AM [load_ansys_project]: \tOpened Ansys Project\n",
      "\tFolder:    C:/Users/nirpit/Documents/Ansoft/\n",
      "\tProject:   Project155\n"
     ]
    },
    {
     "name": "stdout",
     "output_type": "stream",
     "text": [
      "self.eig_solver.sim.setup\n",
      "{'name': 'Resonator_setup', 'reuse_selected_design': True, 'reuse_setup': True, 'min_freq_ghz': 1, 'n_modes': 1, 'max_delta_f': 0.5, 'max_passes': 10, 'min_passes': 1, 'min_converged': 1, 'pct_refinement': 30, 'basis_order': 1, 'vars': {'Lj': '10 nH', 'Cj': '0 fF'}}\n"
     ]
    },
    {
     "name": "stderr",
     "output_type": "stream",
     "text": [
      "INFO 09:37AM [connect_design]: \tOpened active design\n",
      "\tDesign:    HFSS_NMY [Solution type: DrivenModal]\n",
      "INFO 09:37AM [get_setup]: \tOpened setup `Setup`  (<class 'pyEPR.ansys.HfssDMSetup'>)\n",
      "INFO 09:37AM [connect]: \tConnected to project \"Project155\" and design \"HFSS_NMY\" 😀 \n",
      "\n",
      "09:37AM 45s WARNING [activate_ansys_design]: The design_name=get_mini_study_scattering_analysis was not in active project.  Designs in active project are: \n",
      "['HFSS_NMY'].  A new design will be added to the project.  \n",
      "INFO 09:37AM [connect_design]: \tOpened active design\n",
      "\tDesign:    get_mini_study_scattering_analysis [Solution type: Eigenmode]\n",
      "WARNING 09:37AM [connect_setup]: \tNo design setup detected.\n",
      "WARNING 09:37AM [connect_setup]: \tCreating eigenmode default setup.\n",
      "INFO 09:37AM [get_setup]: \tOpened setup `Setup`  (<class 'pyEPR.ansys.HfssEMSetup'>)\n",
      "09:37AM 48s WARNING [check_lengths]: For path table, component=NAME_RES2, key=trace has short segments that could cause issues with fillet. Values in (1-2)  are index(es) in shapely geometry.\n",
      "09:37AM 48s WARNING [check_lengths]: For path table, component=NAME_RES2, key=cut has short segments that could cause issues with fillet. Values in (1-2)  are index(es) in shapely geometry.\n",
      "INFO 09:37AM [analyze]: Analyzing setup Setup\n",
      "INFO 09:40AM [connect_project]: Connecting to Ansys Desktop API...\n",
      "INFO 09:40AM [load_ansys_project]: \tOpened Ansys App\n",
      "INFO 09:40AM [load_ansys_project]: \tOpened Ansys Desktop v2021.2.0\n",
      "INFO 09:40AM [load_ansys_project]: \tOpened Ansys Project\n",
      "\tFolder:    C:/Users/nirpit/Documents/Ansoft/\n",
      "\tProject:   Project155\n"
     ]
    },
    {
     "name": "stdout",
     "output_type": "stream",
     "text": [
      "Design \"get_mini_study_scattering_analysis\" info:\n",
      "\t# eigenmodes    1\n",
      "\t# variations    1\n",
      "Design \"get_mini_study_scattering_analysis\" info:\n",
      "\t# eigenmodes    1\n",
      "\t# variations    1\n",
      "Warning: no junctions found, skipping EPR analysis.\n",
      "[]\n"
     ]
    },
    {
     "name": "stderr",
     "output_type": "stream",
     "text": [
      "INFO 09:40AM [connect_design]: \tOpened active design\n",
      "\tDesign:    get_mini_study_scattering_analysis [Solution type: Eigenmode]\n",
      "INFO 09:40AM [get_setup]: \tOpened setup `Setup`  (<class 'pyEPR.ansys.HfssEMSetup'>)\n",
      "INFO 09:40AM [connect]: \tConnected to project \"Project155\" and design \"get_mini_study_scattering_analysis\" 😀 \n",
      "\n",
      "09:40AM 15s WARNING [activate_ansys_design]: The design_name=get_mini_study_scattering_analysis_drivenmodal was not in active project.  Designs in active project are: \n",
      "['HFSS_NMY', 'get_mini_study_scattering_analysis'].  A new design will be added to the project.  \n",
      "INFO 09:40AM [connect_design]: \tOpened active design\n",
      "\tDesign:    get_mini_study_scattering_analysis_drivenmodal [Solution type: DrivenModal]\n",
      "WARNING 09:40AM [connect_setup]: \tNo design setup detected.\n",
      "WARNING 09:40AM [connect_setup]: \tCreating driven modal default setup.\n",
      "INFO 09:40AM [get_setup]: \tOpened setup `Setup`  (<class 'pyEPR.ansys.HfssDMSetup'>)\n",
      "INFO 09:40AM [get_setup]: \tOpened setup `Setup`  (<class 'pyEPR.ansys.HfssDMSetup'>)\n"
     ]
    },
    {
     "name": "stdout",
     "output_type": "stream",
     "text": [
      "2.63781528288 6.63781528288 25000\n",
      "pinfo_setup\n"
     ]
    },
    {
     "name": "stderr",
     "output_type": "stream",
     "text": [
      "INFO 09:40AM [get_setup]: \tOpened setup `Setup`  (<class 'pyEPR.ansys.HfssDMSetup'>)\n",
      "INFO 09:40AM [analyze]: Analyzing setup Setup : Sweep\n"
     ]
    },
    {
     "name": "stdout",
     "output_type": "stream",
     "text": [
      "solution_freq default 4.63781528288GHz\n"
     ]
    },
    {
     "name": "stderr",
     "output_type": "stream",
     "text": [
      "WARNING:py.warnings:c:\\Users\\nirpit\\AppData\\Local\\anaconda3\\envs\\qdesign-env\\lib\\site-packages\\scipy\\optimize\\_minpack_py.py:492: RuntimeWarning: Number of calls to function has reached maxfev = 200.\n",
      "  warnings.warn(errors[info][0], RuntimeWarning)\n",
      "\n",
      "INFO 09:40AM [get_setup]: \tOpened setup `Setup`  (<class 'pyEPR.ansys.HfssDMSetup'>)\n"
     ]
    },
    {
     "name": "stdout",
     "output_type": "stream",
     "text": [
      "4390155937.667985 4405153232.846911\n",
      "4.390155937667985 4.405153232846912 25000\n"
     ]
    },
    {
     "name": "stderr",
     "output_type": "stream",
     "text": [
      "INFO 09:40AM [get_setup]: \tOpened setup `Setup`  (<class 'pyEPR.ansys.HfssDMSetup'>)\n",
      "INFO 09:40AM [analyze]: Analyzing setup Setup : Sweep1\n"
     ]
    },
    {
     "name": "stdout",
     "output_type": "stream",
     "text": [
      "pinfo_setup\n",
      "solution_freq default 4.63781528288GHz\n"
     ]
    },
    {
     "name": "stderr",
     "output_type": "stream",
     "text": [
      "INFO 09:41AM [__del__]: Disconnected from Ansys HFSS\n",
      "INFO 09:41AM [__del__]: Disconnected from Ansys HFSS\n",
      "INFO 09:41AM [__del__]: Disconnected from Ansys HFSS\n",
      "WARNING:py.warnings:c:\\Users\\nirpit\\AppData\\Local\\anaconda3\\envs\\qdesign-env\\lib\\site-packages\\scipy\\optimize\\_minpack_py.py:178: RuntimeWarning: The iteration is not making good progress, as measured by the \n",
      "  improvement from the last ten iterations.\n",
      "  warnings.warn(msg, RuntimeWarning)\n",
      "\n",
      "WARNING:py.warnings:c:\\Users\\nirpit\\AppData\\Local\\anaconda3\\envs\\qdesign-env\\lib\\site-packages\\scipy\\optimize\\_minpack_py.py:492: RuntimeWarning: Number of calls to function has reached maxfev = 200.\n",
      "  warnings.warn(errors[info][0], RuntimeWarning)\n",
      "\n"
     ]
    },
    {
     "name": "stdout",
     "output_type": "stream",
     "text": [
      "Kappa simualted is 251104.36364684705\n",
      "------------------ Design variables -----------------\n",
      "{'cpw_gap': '6 um',\n",
      " 'cpw_width': '10 um',\n",
      " 'design_var_cj_NAME_QB0': '0fF',\n",
      " 'design_var_cj_NAME_QB1': '0fF',\n",
      " 'design_var_cj_NAME_QB2': '0fF',\n",
      " 'design_var_cj_NAME_QB3': '0fF',\n",
      " 'design_var_cj_NAME_QB4': '0fF',\n",
      " 'design_var_ind_coupl_length_0': '577.0052335141787 um',\n",
      " 'design_var_ind_coupl_length_1': '200um',\n",
      " 'design_var_ind_coupl_length_2': '1307.2978058593717 um',\n",
      " 'design_var_ind_coupl_length_3': '200um',\n",
      " 'design_var_ind_coupl_length_4': '200um',\n",
      " 'design_var_lj_NAME_QB0': '12nH',\n",
      " 'design_var_lj_NAME_QB1': '12nH',\n",
      " 'design_var_lj_NAME_QB2': '12nH',\n",
      " 'design_var_lj_NAME_QB3': '12nH',\n",
      " 'design_var_lj_NAME_QB4': '12nH',\n",
      " 'design_var_qb_pad_width_0': '400um',\n",
      " 'design_var_qb_pad_width_1': '400um',\n",
      " 'design_var_qb_pad_width_2': '400um',\n",
      " 'design_var_qb_pad_width_3': '400um',\n",
      " 'design_var_qb_pad_width_4': '400um',\n",
      " 'design_var_res_length_0': '5mm',\n",
      " 'design_var_res_length_1': '5mm',\n",
      " 'design_var_res_length_2': '5mm',\n",
      " 'design_var_res_length_3': '5mm',\n",
      " 'design_var_res_length_4': '5mm',\n",
      " 'design_var_res_qb_coupl_length_0': '120um',\n",
      " 'design_var_res_qb_coupl_length_1': '120um',\n",
      " 'design_var_res_qb_coupl_length_2': '120um',\n",
      " 'design_var_res_qb_coupl_length_3': '120um',\n",
      " 'design_var_res_qb_coupl_length_4': '120um'}\n",
      "-------------- System optimized params --------------\n",
      "2\n",
      "{'qubit_freq': None,\n",
      " 'res_freq': 4637815282.88,\n",
      " 'res_kappa': 251104.36364684705,\n",
      " 'res_qubit_chi': None}\n",
      "0 <qdesignoptimizer.utils.sim_plot_progress.OptPltSet object at 0x0000022FFD7C21D0> [1, 2, 3, 4, 5] [None, None, None, None, None]\n",
      "1 <qdesignoptimizer.utils.sim_plot_progress.OptPltSet object at 0x0000022FD540C190> [1, 2, 3, 4, 5] [None, None, None, None, None]\n",
      "0 <qdesignoptimizer.utils.sim_plot_progress.OptPltSet object at 0x0000022FFD7C21D0> [1, 2, 3, 4, 5] [None, None, None, None, None]\n",
      "1 <qdesignoptimizer.utils.sim_plot_progress.OptPltSet object at 0x0000022FD540C190> [1, 2, 3, 4, 5] [None, None, None, None, None]\n",
      "0 <qdesignoptimizer.utils.sim_plot_progress.OptPltSet object at 0x0000022FFD7C21D0> [1, 2, 3, 4, 5] [5295337031.88, 4796373000.03, 4384866602.97, 4354666271.92, 4637815282.88]\n",
      "1 <qdesignoptimizer.utils.sim_plot_progress.OptPltSet object at 0x0000022FD540C190> [1, 2, 3, 4, 5] [142432.51926359264, 220570.97884762092, 560048.7437653117, 1224202.6382503982, 251104.36364684705]\n",
      "0 <qdesignoptimizer.utils.sim_plot_progress.OptPltSet object at 0x0000022FFD7C21D0> [1, 2, 3, 4, 5] [None, None, None, None, None]\n",
      "1 <qdesignoptimizer.utils.sim_plot_progress.OptPltSet object at 0x0000022FD540C190> [1, 2, 3, 4, 5] [None, None, None, None, None]\n",
      "0 <qdesignoptimizer.utils.sim_plot_progress.OptPltSet object at 0x0000022FFD7C21D0> [1, 2, 3, 4, 5] [None, None, None, None, None]\n",
      "1 <qdesignoptimizer.utils.sim_plot_progress.OptPltSet object at 0x0000022FD540C190> [1, 2, 3, 4, 5] [None, None, None, None, None]\n",
      "WARNING, does not update passes in Scattering simulation not in Capacitance matrix simulation.\n",
      "updated_design_vars {'design_var_ind_coupl_length_2': '1878.2939495582286 um'}\n",
      "pyaedt INFO: Project Project155 Saved correctly\n"
     ]
    },
    {
     "name": "stderr",
     "output_type": "stream",
     "text": [
      "INFO:Global:Project Project155 Saved correctly\n",
      "INFO 09:41AM [connect_project]: Connecting to Ansys Desktop API...\n",
      "INFO 09:41AM [load_ansys_project]: \tOpened Ansys App\n",
      "INFO 09:41AM [load_ansys_project]: \tOpened Ansys Desktop v2021.2.0\n",
      "INFO 09:41AM [load_ansys_project]: \tOpened Ansys Project\n",
      "\tFolder:    C:/Users/nirpit/Documents/Ansoft/\n",
      "\tProject:   Project155\n"
     ]
    },
    {
     "name": "stdout",
     "output_type": "stream",
     "text": [
      "self.eig_solver.sim.setup\n",
      "{'name': 'Resonator_setup', 'reuse_selected_design': True, 'reuse_setup': True, 'min_freq_ghz': 1, 'n_modes': 1, 'max_delta_f': 0.5, 'max_passes': 10, 'min_passes': 1, 'min_converged': 1, 'pct_refinement': 30, 'basis_order': 1, 'vars': {'Lj': '10 nH', 'Cj': '0 fF'}}\n"
     ]
    },
    {
     "name": "stderr",
     "output_type": "stream",
     "text": [
      "INFO 09:41AM [connect_design]: \tOpened active design\n",
      "\tDesign:    HFSS_NMY [Solution type: DrivenModal]\n",
      "INFO 09:41AM [get_setup]: \tOpened setup `Setup`  (<class 'pyEPR.ansys.HfssDMSetup'>)\n",
      "INFO 09:41AM [connect]: \tConnected to project \"Project155\" and design \"HFSS_NMY\" 😀 \n",
      "\n",
      "09:41AM 24s WARNING [activate_ansys_design]: The design_name=get_mini_study_scattering_analysis was not in active project.  Designs in active project are: \n",
      "['HFSS_NMY'].  A new design will be added to the project.  \n",
      "INFO 09:41AM [connect_design]: \tOpened active design\n",
      "\tDesign:    get_mini_study_scattering_analysis [Solution type: Eigenmode]\n",
      "WARNING 09:41AM [connect_setup]: \tNo design setup detected.\n",
      "WARNING 09:41AM [connect_setup]: \tCreating eigenmode default setup.\n",
      "INFO 09:41AM [get_setup]: \tOpened setup `Setup`  (<class 'pyEPR.ansys.HfssEMSetup'>)\n",
      "09:41AM 26s WARNING [check_lengths]: For path table, component=NAME_RES2, key=trace has short segments that could cause issues with fillet. Values in (1-2)  are index(es) in shapely geometry.\n",
      "09:41AM 26s WARNING [check_lengths]: For path table, component=NAME_RES2, key=cut has short segments that could cause issues with fillet. Values in (1-2)  are index(es) in shapely geometry.\n",
      "09:41AM 27s ERROR [rebuild]: ERROR in building component name=NAME_TEE1_TO_TEE2, error='NoneType' object has no attribute 'coords'\n"
     ]
    },
    {
     "ename": "AttributeError",
     "evalue": "'NoneType' object has no attribute 'coords'",
     "output_type": "error",
     "traceback": [
      "\u001b[1;31m---------------------------------------------------------------------------\u001b[0m",
      "\u001b[1;31mAttributeError\u001b[0m                            Traceback (most recent call last)",
      "Cell \u001b[1;32mIn[7], line 19\u001b[0m\n\u001b[0;32m     17\u001b[0m design_analysis\u001b[38;5;241m.\u001b[39mupdate_nbr_passes(nbr_passes)\n\u001b[0;32m     18\u001b[0m design_analysis\u001b[38;5;241m.\u001b[39mupdate_delta_f(delta_f)\n\u001b[1;32m---> 19\u001b[0m \u001b[43mdesign_analysis\u001b[49m\u001b[38;5;241;43m.\u001b[39;49m\u001b[43moptimize_target\u001b[49m\u001b[43m(\u001b[49m\u001b[43m{\u001b[49m\u001b[43m}\u001b[49m\u001b[43m,\u001b[49m\u001b[43m \u001b[49m\u001b[43m{\u001b[49m\u001b[43m}\u001b[49m\u001b[43m)\u001b[49m\n",
      "File \u001b[1;32mD:\\PhD_All_Code\\QDesignOptimizer\\src\\qdesignoptimizer\\design_analysis.py:1133\u001b[0m, in \u001b[0;36mDesignAnalysis.optimize_target\u001b[1;34m(self, updated_design_vars_input, system_optimized_params)\u001b[0m\n\u001b[0;32m   1130\u001b[0m     \u001b[38;5;28;01mpass\u001b[39;00m\n\u001b[0;32m   1131\u001b[0m \u001b[38;5;28;01mif\u001b[39;00m \u001b[38;5;28mself\u001b[39m\u001b[38;5;241m.\u001b[39mmini_study \u001b[38;5;129;01mis\u001b[39;00m \u001b[38;5;129;01mnot\u001b[39;00m \u001b[38;5;28;01mNone\u001b[39;00m \u001b[38;5;129;01mand\u001b[39;00m \u001b[38;5;28mlen\u001b[39m(\u001b[38;5;28mself\u001b[39m\u001b[38;5;241m.\u001b[39mmini_study\u001b[38;5;241m.\u001b[39mmode_freqs) \u001b[38;5;241m>\u001b[39m \u001b[38;5;241m0\u001b[39m:\n\u001b[0;32m   1132\u001b[0m     \u001b[38;5;66;03m# Eigenmode analysis for frequencies\u001b[39;00m\n\u001b[1;32m-> 1133\u001b[0m     \u001b[38;5;28mself\u001b[39m\u001b[38;5;241m.\u001b[39meig_result \u001b[38;5;241m=\u001b[39m \u001b[38;5;28;43mself\u001b[39;49m\u001b[38;5;241;43m.\u001b[39;49m\u001b[43mrun_eigenmodes\u001b[49m\u001b[43m(\u001b[49m\u001b[43m)\u001b[49m\n\u001b[0;32m   1134\u001b[0m     iteration_result[\u001b[38;5;124m\"\u001b[39m\u001b[38;5;124meig_results\u001b[39m\u001b[38;5;124m\"\u001b[39m] \u001b[38;5;241m=\u001b[39m deepcopy(\u001b[38;5;28mself\u001b[39m\u001b[38;5;241m.\u001b[39meig_result)\n\u001b[0;32m   1136\u001b[0m     \u001b[38;5;66;03m# EPR analysis for nonlinearities\u001b[39;00m\n",
      "File \u001b[1;32mD:\\PhD_All_Code\\QDesignOptimizer\\src\\qdesignoptimizer\\design_analysis.py:264\u001b[0m, in \u001b[0;36mDesignAnalysis.run_eigenmodes\u001b[1;34m(self)\u001b[0m\n\u001b[0;32m    261\u001b[0m \u001b[38;5;28mself\u001b[39m\u001b[38;5;241m.\u001b[39mpinfo\u001b[38;5;241m.\u001b[39mvalidate_junction_info()\n\u001b[0;32m    263\u001b[0m \u001b[38;5;28mself\u001b[39m\u001b[38;5;241m.\u001b[39mrenderer\u001b[38;5;241m.\u001b[39mclean_active_design()\n\u001b[1;32m--> 264\u001b[0m \u001b[38;5;28mself\u001b[39m\u001b[38;5;241m.\u001b[39mrender_qiskit_metal(\n\u001b[0;32m    265\u001b[0m     \u001b[38;5;28mself\u001b[39m\u001b[38;5;241m.\u001b[39mdesign, \u001b[38;5;241m*\u001b[39m\u001b[38;5;241m*\u001b[39m\u001b[38;5;28mself\u001b[39m\u001b[38;5;241m.\u001b[39mmini_study\u001b[38;5;241m.\u001b[39mrender_qiskit_metal_eigenmode_kw_args\n\u001b[0;32m    266\u001b[0m )\n\u001b[0;32m    267\u001b[0m \u001b[38;5;28mself\u001b[39m\u001b[38;5;241m.\u001b[39mrenderer\u001b[38;5;241m.\u001b[39mrender_design(\n\u001b[0;32m    268\u001b[0m     selection\u001b[38;5;241m=\u001b[39m\u001b[38;5;28mself\u001b[39m\u001b[38;5;241m.\u001b[39mmini_study\u001b[38;5;241m.\u001b[39mcomponent_names,\n\u001b[0;32m    269\u001b[0m     port_list\u001b[38;5;241m=\u001b[39m\u001b[38;5;28mself\u001b[39m\u001b[38;5;241m.\u001b[39mmini_study\u001b[38;5;241m.\u001b[39mport_list,\n\u001b[0;32m    270\u001b[0m     open_pins\u001b[38;5;241m=\u001b[39m\u001b[38;5;28mself\u001b[39m\u001b[38;5;241m.\u001b[39mmini_study\u001b[38;5;241m.\u001b[39mopen_pins,\n\u001b[0;32m    271\u001b[0m )\n\u001b[0;32m    273\u001b[0m \u001b[38;5;66;03m# for component_name in self.mini_study.component_names:\u001b[39;00m\n\u001b[0;32m    274\u001b[0m \u001b[38;5;66;03m#     if hasattr(self.design.components[component_name], 'get_air_bridge_coordinates'):\u001b[39;00m\n\u001b[0;32m    275\u001b[0m \u001b[38;5;66;03m#         for coord in self.design.components[component_name].get_air_bridge_coordinates():\u001b[39;00m\n\u001b[1;32m   (...)\u001b[0m\n\u001b[0;32m    288\u001b[0m \u001b[38;5;66;03m#             ],\u001b[39;00m\n\u001b[0;32m    289\u001b[0m \u001b[38;5;66;03m#         MaxLength=self.mini_study.max_mesh_length_lines_to_ports)\u001b[39;00m\n",
      "Cell \u001b[1;32mIn[6], line 3\u001b[0m, in \u001b[0;36m<lambda>\u001b[1;34m(design)\u001b[0m\n\u001b[0;32m      1\u001b[0m MINI_STUDY_BRANCH \u001b[38;5;241m=\u001b[39m \u001b[38;5;241m2\u001b[39m\n\u001b[0;32m      2\u001b[0m MINI_STUDY \u001b[38;5;241m=\u001b[39m ms\u001b[38;5;241m.\u001b[39mget_mini_study_scattering_analysis(branch\u001b[38;5;241m=\u001b[39mMINI_STUDY_BRANCH)\n\u001b[1;32m----> 3\u001b[0m RENDER_QISKIT_METAL \u001b[38;5;241m=\u001b[39m \u001b[38;5;28;01mlambda\u001b[39;00m design: \u001b[43mrender_qiskit_metal_design\u001b[49m\u001b[43m(\u001b[49m\u001b[43mdesign\u001b[49m\u001b[43m,\u001b[49m\u001b[43m \u001b[49m\u001b[43mgui\u001b[49m\u001b[43m)\u001b[49m\n\u001b[0;32m      5\u001b[0m \u001b[38;5;66;03m################# optimization targets ##############\u001b[39;00m\n\u001b[0;32m      6\u001b[0m opt_targets \u001b[38;5;241m=\u001b[39m [ot\u001b[38;5;241m.\u001b[39mget_opt_target_res_kappa_via_coupl_length(\n\u001b[0;32m      7\u001b[0m     branch \u001b[38;5;241m=\u001b[39m MINI_STUDY_BRANCH,\n\u001b[0;32m      8\u001b[0m )]\n",
      "Cell \u001b[1;32mIn[4], line 9\u001b[0m, in \u001b[0;36mrender_qiskit_metal_design\u001b[1;34m(design, gui)\u001b[0m\n\u001b[0;32m      6\u001b[0m d\u001b[38;5;241m.\u001b[39madd_branch(design, \u001b[38;5;241m4\u001b[39m, gui)\n\u001b[0;32m      8\u001b[0m d\u001b[38;5;241m.\u001b[39madd_route_interconnects(design, \u001b[38;5;241m0\u001b[39m, gui)\n\u001b[1;32m----> 9\u001b[0m \u001b[43md\u001b[49m\u001b[38;5;241;43m.\u001b[39;49m\u001b[43madd_route_interconnects\u001b[49m\u001b[43m(\u001b[49m\u001b[43mdesign\u001b[49m\u001b[43m,\u001b[49m\u001b[43m \u001b[49m\u001b[38;5;241;43m1\u001b[39;49m\u001b[43m,\u001b[49m\u001b[43m \u001b[49m\u001b[43mgui\u001b[49m\u001b[43m)\u001b[49m\n\u001b[0;32m     10\u001b[0m d\u001b[38;5;241m.\u001b[39madd_route_interconnects(design, \u001b[38;5;241m2\u001b[39m, gui)\n\u001b[0;32m     11\u001b[0m d\u001b[38;5;241m.\u001b[39madd_route_interconnects(design, \u001b[38;5;241m3\u001b[39m, gui)\n",
      "File \u001b[1;32md:\\PhD_All_Code\\QDesignOptimizer\\projects\\example_resonator_scattering_analysis\\design.py:108\u001b[0m, in \u001b[0;36madd_route_interconnects\u001b[1;34m(design, branch, gui)\u001b[0m\n\u001b[0;32m     97\u001b[0m     pins \u001b[38;5;241m=\u001b[39m \u001b[38;5;28mdict\u001b[39m(\n\u001b[0;32m     98\u001b[0m         start_pin\u001b[38;5;241m=\u001b[39m\u001b[38;5;28mdict\u001b[39m(component\u001b[38;5;241m=\u001b[39mu\u001b[38;5;241m.\u001b[39mname_tee(branch), pin\u001b[38;5;241m=\u001b[39m\u001b[38;5;124m\"\u001b[39m\u001b[38;5;124mprime_end\u001b[39m\u001b[38;5;124m\"\u001b[39m),\n\u001b[0;32m     99\u001b[0m         end_pin\u001b[38;5;241m=\u001b[39m\u001b[38;5;28mdict\u001b[39m(component\u001b[38;5;241m=\u001b[39mu\u001b[38;5;241m.\u001b[39mname_tee(branch \u001b[38;5;241m+\u001b[39m \u001b[38;5;241m1\u001b[39m), pin\u001b[38;5;241m=\u001b[39m\u001b[38;5;124m\"\u001b[39m\u001b[38;5;124mprime_end\u001b[39m\u001b[38;5;124m\"\u001b[39m),\n\u001b[0;32m    100\u001b[0m     )\n\u001b[0;32m    101\u001b[0m options_rpf \u001b[38;5;241m=\u001b[39m \u001b[38;5;28mdict\u001b[39m(\n\u001b[0;32m    102\u001b[0m     fillet\u001b[38;5;241m=\u001b[39m\u001b[38;5;124m\"\u001b[39m\u001b[38;5;124m49um\u001b[39m\u001b[38;5;124m\"\u001b[39m,\n\u001b[0;32m    103\u001b[0m     hfss_wire_bonds\u001b[38;5;241m=\u001b[39m\u001b[38;5;28;01mFalse\u001b[39;00m,\n\u001b[1;32m   (...)\u001b[0m\n\u001b[0;32m    106\u001b[0m     pin_inputs\u001b[38;5;241m=\u001b[39mpins,\n\u001b[0;32m    107\u001b[0m )\n\u001b[1;32m--> 108\u001b[0m \u001b[43mRoutePathfinder\u001b[49m\u001b[43m(\u001b[49m\u001b[43mdesign\u001b[49m\u001b[43m,\u001b[49m\u001b[43m \u001b[49m\u001b[43mu\u001b[49m\u001b[38;5;241;43m.\u001b[39;49m\u001b[43mname_tee_to_tee\u001b[49m\u001b[43m(\u001b[49m\u001b[43mbranch\u001b[49m\u001b[43m,\u001b[49m\u001b[43m \u001b[49m\u001b[43mbranch\u001b[49m\u001b[43m \u001b[49m\u001b[38;5;241;43m+\u001b[39;49m\u001b[43m \u001b[49m\u001b[38;5;241;43m1\u001b[39;49m\u001b[43m)\u001b[49m\u001b[43m,\u001b[49m\u001b[43m \u001b[49m\u001b[43moptions\u001b[49m\u001b[38;5;241;43m=\u001b[39;49m\u001b[43moptions_rpf\u001b[49m\u001b[43m)\u001b[49m\n\u001b[0;32m    109\u001b[0m \u001b[38;5;28;01mif\u001b[39;00m gui \u001b[38;5;129;01mis\u001b[39;00m \u001b[38;5;129;01mnot\u001b[39;00m \u001b[38;5;28;01mNone\u001b[39;00m:\n\u001b[0;32m    110\u001b[0m     gui\u001b[38;5;241m.\u001b[39mrebuild()\n",
      "File \u001b[1;32mD:\\PhD_All_Code\\qiskit-metal\\qiskit_metal\\qlibrary\\core\\qroute.py:178\u001b[0m, in \u001b[0;36mQRoute.__init__\u001b[1;34m(self, design, name, options, type, **kwargs)\u001b[0m\n\u001b[0;32m    175\u001b[0m options \u001b[38;5;241m=\u001b[39m \u001b[38;5;28mself\u001b[39m\u001b[38;5;241m.\u001b[39m_add_route_specific_options(options)\n\u001b[0;32m    177\u001b[0m \u001b[38;5;66;03m# regular QComponent boot, including the run of make()\u001b[39;00m\n\u001b[1;32m--> 178\u001b[0m \u001b[38;5;28msuper\u001b[39m()\u001b[38;5;241m.\u001b[39m\u001b[38;5;21m__init__\u001b[39m(design, name, options, \u001b[38;5;241m*\u001b[39m\u001b[38;5;241m*\u001b[39mkwargs)\n",
      "File \u001b[1;32mD:\\PhD_All_Code\\qiskit-metal\\qiskit_metal\\qlibrary\\core\\base.py:262\u001b[0m, in \u001b[0;36mQComponent.__init__\u001b[1;34m(self, design, name, options, make, component_template)\u001b[0m\n\u001b[0;32m    260\u001b[0m \u001b[38;5;66;03m# Make the component geometry\u001b[39;00m\n\u001b[0;32m    261\u001b[0m \u001b[38;5;28;01mif\u001b[39;00m make:\n\u001b[1;32m--> 262\u001b[0m     \u001b[38;5;28;43mself\u001b[39;49m\u001b[38;5;241;43m.\u001b[39;49m\u001b[43mrebuild\u001b[49m\u001b[43m(\u001b[49m\u001b[43m)\u001b[49m\n",
      "File \u001b[1;32mD:\\PhD_All_Code\\qiskit-metal\\qiskit_metal\\qlibrary\\core\\base.py:724\u001b[0m, in \u001b[0;36mQComponent.rebuild\u001b[1;34m(self)\u001b[0m\n\u001b[0;32m    719\u001b[0m \u001b[38;5;28mself\u001b[39m\u001b[38;5;241m.\u001b[39mlogger\u001b[38;5;241m.\u001b[39merror(\n\u001b[0;32m    720\u001b[0m     \u001b[38;5;124mf\u001b[39m\u001b[38;5;124m'\u001b[39m\u001b[38;5;124mERROR in building component name=\u001b[39m\u001b[38;5;132;01m{\u001b[39;00m\u001b[38;5;28mself\u001b[39m\u001b[38;5;241m.\u001b[39mname\u001b[38;5;132;01m}\u001b[39;00m\u001b[38;5;124m, error=\u001b[39m\u001b[38;5;132;01m{\u001b[39;00merror\u001b[38;5;132;01m}\u001b[39;00m\u001b[38;5;124m'\u001b[39m)\n\u001b[0;32m    721\u001b[0m \u001b[38;5;28mself\u001b[39m\u001b[38;5;241m.\u001b[39mdesign\u001b[38;5;241m.\u001b[39mbuild_logs\u001b[38;5;241m.\u001b[39madd_error(\n\u001b[0;32m    722\u001b[0m     \u001b[38;5;124mf\u001b[39m\u001b[38;5;124m\"\u001b[39m\u001b[38;5;132;01m{\u001b[39;00m\u001b[38;5;28mstr\u001b[39m(datetime\u001b[38;5;241m.\u001b[39mnow())\u001b[38;5;132;01m}\u001b[39;00m\u001b[38;5;124m -- Component: \u001b[39m\u001b[38;5;132;01m{\u001b[39;00m\u001b[38;5;28mself\u001b[39m\u001b[38;5;241m.\u001b[39mname\u001b[38;5;132;01m}\u001b[39;00m\u001b[38;5;124m failed with error\u001b[39m\u001b[38;5;130;01m\\n\u001b[39;00m\u001b[38;5;124m: \u001b[39m\u001b[38;5;132;01m{\u001b[39;00merror\u001b[38;5;132;01m}\u001b[39;00m\u001b[38;5;124m\"\u001b[39m\n\u001b[0;32m    723\u001b[0m )\n\u001b[1;32m--> 724\u001b[0m \u001b[38;5;28;01mraise\u001b[39;00m error\n",
      "File \u001b[1;32mD:\\PhD_All_Code\\qiskit-metal\\qiskit_metal\\qlibrary\\core\\base.py:710\u001b[0m, in \u001b[0;36mQComponent.rebuild\u001b[1;34m(self)\u001b[0m\n\u001b[0;32m    707\u001b[0m     \u001b[38;5;66;03m# pylint: disable=protected-access\u001b[39;00m\n\u001b[0;32m    708\u001b[0m     \u001b[38;5;28mself\u001b[39m\u001b[38;5;241m.\u001b[39mdesign\u001b[38;5;241m.\u001b[39m_delete_all_pins_for_component(\u001b[38;5;28mself\u001b[39m\u001b[38;5;241m.\u001b[39mid)\n\u001b[1;32m--> 710\u001b[0m \u001b[38;5;28;43mself\u001b[39;49m\u001b[38;5;241;43m.\u001b[39;49m\u001b[43mmake\u001b[49m\u001b[43m(\u001b[49m\u001b[43m)\u001b[49m\n\u001b[0;32m    711\u001b[0m \u001b[38;5;28mself\u001b[39m\u001b[38;5;241m.\u001b[39m_made \u001b[38;5;241m=\u001b[39m \u001b[38;5;28;01mTrue\u001b[39;00m\n\u001b[0;32m    712\u001b[0m \u001b[38;5;28mself\u001b[39m\u001b[38;5;241m.\u001b[39mstatus \u001b[38;5;241m=\u001b[39m \u001b[38;5;124m'\u001b[39m\u001b[38;5;124mgood\u001b[39m\u001b[38;5;124m'\u001b[39m\n",
      "File \u001b[1;32mD:\\PhD_All_Code\\qiskit-metal\\qiskit_metal\\qlibrary\\tlines\\pathfinder.py:183\u001b[0m, in \u001b[0;36mRoutePathfinder.make\u001b[1;34m(self)\u001b[0m\n\u001b[0;32m    180\u001b[0m     \u001b[38;5;28;01melse\u001b[39;00m:\n\u001b[0;32m    181\u001b[0m         \u001b[38;5;28mself\u001b[39m\u001b[38;5;241m.\u001b[39mintermediate_pts[arc_num] \u001b[38;5;241m=\u001b[39m np\u001b[38;5;241m.\u001b[39mconcatenate(\n\u001b[0;32m    182\u001b[0m             [arc_pts, [coord]], axis\u001b[38;5;241m=\u001b[39m\u001b[38;5;241m0\u001b[39m)\n\u001b[1;32m--> 183\u001b[0m arc_pts \u001b[38;5;241m=\u001b[39m \u001b[38;5;28;43mself\u001b[39;49m\u001b[38;5;241;43m.\u001b[39;49m\u001b[43mconnect_astar_or_simple\u001b[49m\u001b[43m(\u001b[49m\u001b[38;5;28;43mself\u001b[39;49m\u001b[38;5;241;43m.\u001b[39;49m\u001b[43mget_tip\u001b[49m\u001b[43m(\u001b[49m\u001b[43m)\u001b[49m\u001b[43m,\u001b[49m\u001b[43m \u001b[49m\u001b[43mend_point\u001b[49m\u001b[43m)\u001b[49m\n\u001b[0;32m    184\u001b[0m \u001b[38;5;28;01mif\u001b[39;00m arc_pts \u001b[38;5;129;01mis\u001b[39;00m \u001b[38;5;129;01mnot\u001b[39;00m \u001b[38;5;28;01mNone\u001b[39;00m:\n\u001b[0;32m    185\u001b[0m     \u001b[38;5;28mself\u001b[39m\u001b[38;5;241m.\u001b[39mintermediate_pts[\u001b[38;5;28mlen\u001b[39m(anchors)] \u001b[38;5;241m=\u001b[39m np\u001b[38;5;241m.\u001b[39marray(arc_pts)\n",
      "File \u001b[1;32mD:\\PhD_All_Code\\qiskit-metal\\qiskit_metal\\qlibrary\\tlines\\pathfinder.py:138\u001b[0m, in \u001b[0;36mRoutePathfinder.connect_astar_or_simple\u001b[1;34m(self, start_pt, end_pt)\u001b[0m\n\u001b[0;32m    136\u001b[0m         curpt \u001b[38;5;241m=\u001b[39m current_path[\u001b[38;5;241m-\u001b[39m\u001b[38;5;241m1\u001b[39m]\n\u001b[0;32m    137\u001b[0m         nextpt \u001b[38;5;241m=\u001b[39m curpt \u001b[38;5;241m+\u001b[39m step_size \u001b[38;5;241m*\u001b[39m disp\n\u001b[1;32m--> 138\u001b[0m         \u001b[38;5;28;01mif\u001b[39;00m \u001b[38;5;28;43mself\u001b[39;49m\u001b[38;5;241;43m.\u001b[39;49m\u001b[43munobstructed\u001b[49m\u001b[43m(\u001b[49m\u001b[43m[\u001b[49m\u001b[43mcurpt\u001b[49m\u001b[43m,\u001b[49m\u001b[43m \u001b[49m\u001b[43mnextpt\u001b[49m\u001b[43m]\u001b[49m\u001b[43m)\u001b[49m:\n\u001b[0;32m    139\u001b[0m             neighbors\u001b[38;5;241m.\u001b[39mappend(nextpt)\n\u001b[0;32m    140\u001b[0m \u001b[38;5;28;01mfor\u001b[39;00m neighbor \u001b[38;5;129;01min\u001b[39;00m neighbors:\n",
      "File \u001b[1;32mD:\\PhD_All_Code\\qiskit-metal\\qiskit_metal\\qlibrary\\tlines\\anchored_path.py:203\u001b[0m, in \u001b[0;36mRouteAnchors.unobstructed\u001b[1;34m(self, segment)\u001b[0m\n\u001b[0;32m    193\u001b[0m     p, q, r, s \u001b[38;5;241m=\u001b[39m [\n\u001b[0;32m    194\u001b[0m         np\u001b[38;5;241m.\u001b[39marray([xmin, ymin]),\n\u001b[0;32m    195\u001b[0m         np\u001b[38;5;241m.\u001b[39marray([xmin, ymax]),\n\u001b[0;32m    196\u001b[0m         np\u001b[38;5;241m.\u001b[39marray([xmax, ymin]),\n\u001b[0;32m    197\u001b[0m         np\u001b[38;5;241m.\u001b[39marray([xmax, ymax])\n\u001b[0;32m    198\u001b[0m     ]\n\u001b[0;32m    199\u001b[0m     \u001b[38;5;28;01mif\u001b[39;00m \u001b[38;5;28many\u001b[39m(\n\u001b[0;32m    200\u001b[0m             intersecting(segment[\u001b[38;5;241m0\u001b[39m], segment[\u001b[38;5;241m1\u001b[39m], k, l)\n\u001b[0;32m    201\u001b[0m             \u001b[38;5;28;01mfor\u001b[39;00m k, l \u001b[38;5;129;01min\u001b[39;00m [(p, q), (p, r), (r, s), (q, s)]):\n\u001b[0;32m    202\u001b[0m         \u001b[38;5;66;03m# At least 1 intersection with the component bounding box. Check the actual contour.\u001b[39;00m\n\u001b[1;32m--> 203\u001b[0m         \u001b[38;5;28;01mif\u001b[39;00m \u001b[38;5;129;01mnot\u001b[39;00m \u001b[38;5;28;43mself\u001b[39;49m\u001b[38;5;241;43m.\u001b[39;49m\u001b[43munobstructed_close_up\u001b[49m\u001b[43m(\u001b[49m\u001b[43msegment\u001b[49m\u001b[43m,\u001b[49m\u001b[43m \u001b[49m\u001b[43mcomponent\u001b[49m\u001b[43m)\u001b[49m:\n\u001b[0;32m    204\u001b[0m             \u001b[38;5;66;03m# At least 1 intersection with the actual component contour; do not proceed!\u001b[39;00m\n\u001b[0;32m    205\u001b[0m             \u001b[38;5;28;01mreturn\u001b[39;00m \u001b[38;5;28;01mFalse\u001b[39;00m\n\u001b[0;32m    206\u001b[0m \u001b[38;5;66;03m# All clear, no intersections\u001b[39;00m\n",
      "File \u001b[1;32mD:\\PhD_All_Code\\qiskit-metal\\qiskit_metal\\qlibrary\\tlines\\anchored_path.py:165\u001b[0m, in \u001b[0;36mRouteAnchors.unobstructed_close_up\u001b[1;34m(self, segment, component_name)\u001b[0m\n\u001b[0;32m    163\u001b[0m polygons \u001b[38;5;241m=\u001b[39m \u001b[38;5;28mself\u001b[39m\u001b[38;5;241m.\u001b[39mdesign\u001b[38;5;241m.\u001b[39mcomponents[component_name]\u001b[38;5;241m.\u001b[39mqgeometry_list(\u001b[38;5;124m'\u001b[39m\u001b[38;5;124mpoly\u001b[39m\u001b[38;5;124m'\u001b[39m)\n\u001b[0;32m    164\u001b[0m boundary \u001b[38;5;241m=\u001b[39m gpd\u001b[38;5;241m.\u001b[39mGeoSeries(unary_union(polygons \u001b[38;5;241m+\u001b[39m paths_converted))\n\u001b[1;32m--> 165\u001b[0m boundary_coords \u001b[38;5;241m=\u001b[39m \u001b[38;5;28mlist\u001b[39m(\u001b[43mboundary\u001b[49m\u001b[38;5;241;43m.\u001b[39;49m\u001b[43mgeometry\u001b[49m\u001b[38;5;241;43m.\u001b[39;49m\u001b[43mexterior\u001b[49m\u001b[43m[\u001b[49m\u001b[38;5;241;43m0\u001b[39;49m\u001b[43m]\u001b[49m\u001b[38;5;241;43m.\u001b[39;49m\u001b[43mcoords\u001b[49m)\n\u001b[0;32m    166\u001b[0m \u001b[38;5;28;01mif\u001b[39;00m \u001b[38;5;28many\u001b[39m(\n\u001b[0;32m    167\u001b[0m         intersecting(segment[\u001b[38;5;241m0\u001b[39m], segment[\u001b[38;5;241m1\u001b[39m], boundary_coords[i],\n\u001b[0;32m    168\u001b[0m                      boundary_coords[i \u001b[38;5;241m+\u001b[39m \u001b[38;5;241m1\u001b[39m])\n\u001b[0;32m    169\u001b[0m         \u001b[38;5;28;01mfor\u001b[39;00m i \u001b[38;5;129;01min\u001b[39;00m \u001b[38;5;28mrange\u001b[39m(\u001b[38;5;28mlen\u001b[39m(boundary_coords) \u001b[38;5;241m-\u001b[39m \u001b[38;5;241m1\u001b[39m)):\n\u001b[0;32m    170\u001b[0m     \u001b[38;5;66;03m# At least 1 intersection with the actual component contour; do not proceed!\u001b[39;00m\n\u001b[0;32m    171\u001b[0m     \u001b[38;5;28;01mreturn\u001b[39;00m \u001b[38;5;28;01mFalse\u001b[39;00m\n",
      "\u001b[1;31mAttributeError\u001b[0m: 'NoneType' object has no attribute 'coords'"
     ]
    }
   ],
   "source": [
    "design_analysis_state = DesignAnalysisState(design, RENDER_QISKIT_METAL, tp.TARGET_PARAMS)\n",
    "design_analysis = DesignAnalysis(\n",
    "    design_analysis_state, \n",
    "    mini_study=MINI_STUDY, \n",
    "    opt_targets=opt_targets,\n",
    "    print_progress=True,\n",
    "    save_path=CHIP_NAME + \"_\" + time.strftime(\"%Y%m%d-%H%M%S\"),\n",
    "    plot_settings=ps.PLOT_SETTINGS,\n",
    "    plot_branches_separately=False\n",
    "    )\n",
    "\n",
    "nbr_runs = 10\n",
    "nbr_passes = 10\n",
    "delta_f = 0.001\n",
    "\n",
    "for i in range(nbr_runs):   \n",
    "    design_analysis.update_nbr_passes(nbr_passes)\n",
    "    design_analysis.update_delta_f(delta_f)\n",
    "    design_analysis.optimize_target({}, {})"
   ]
  },
  {
   "cell_type": "code",
   "execution_count": 9,
   "metadata": {},
   "outputs": [
    {
     "data": {
      "text/plain": [
       "{'0': {'qubit_freq': None,\n",
       "  'res_qubit_chi': None,\n",
       "  'res_freq': None,\n",
       "  'res_kappa': None},\n",
       " '1': {'qubit_freq': None,\n",
       "  'res_qubit_chi': None,\n",
       "  'res_freq': None,\n",
       "  'res_kappa': None},\n",
       " '2': {'qubit_freq': None,\n",
       "  'res_qubit_chi': None,\n",
       "  'res_freq': 4637815282.88,\n",
       "  'res_kappa': 251104.36364684705},\n",
       " '3': {'qubit_freq': None,\n",
       "  'res_qubit_chi': None,\n",
       "  'res_freq': None,\n",
       "  'res_kappa': None},\n",
       " '4': {'qubit_freq': None,\n",
       "  'res_qubit_chi': None,\n",
       "  'res_freq': None,\n",
       "  'res_kappa': None}}"
      ]
     },
     "execution_count": 9,
     "metadata": {},
     "output_type": "execute_result"
    }
   ],
   "source": [
    "design_analysis.system_optimized_params"
   ]
  },
  {
   "cell_type": "code",
   "execution_count": null,
   "metadata": {},
   "outputs": [],
   "source": [
    "\n"
   ]
  }
 ],
 "metadata": {
  "kernelspec": {
   "display_name": "qdesign-env",
   "language": "python",
   "name": "python3"
  },
  "language_info": {
   "codemirror_mode": {
    "name": "ipython",
    "version": 3
   },
   "file_extension": ".py",
   "mimetype": "text/x-python",
   "name": "python",
   "nbconvert_exporter": "python",
   "pygments_lexer": "ipython3",
   "version": "3.10.0"
  }
 },
 "nbformat": 4,
 "nbformat_minor": 2
}
