{
 "cells": [
  {
   "cell_type": "markdown",
   "metadata": {},
   "source": [
    "# Example 1: Single Transmon"
   ]
  },
  {
   "cell_type": "code",
   "execution_count": null,
   "metadata": {},
   "outputs": [],
   "source": [
    "%load_ext autoreload\n",
    "%autoreload 2\n",
    "import time"
   ]
  },
  {
   "cell_type": "code",
   "execution_count": null,
   "metadata": {},
   "outputs": [],
   "source": [
    "import json\n",
    "\n",
    "import design as d\n",
    "\n",
    "with open(\"design_variables.json\") as in_file:\n",
    "    dv = json.load(in_file)\n",
    "import mini_studies as ms\n",
    "import optimization_targets as ot\n",
    "import plot_settings as ps\n",
    "import target_parameters as tp\n",
    "\n",
    "import qdesignoptimizer.utils.utils_design_variables as u\n",
    "from qdesignoptimizer.design_analysis import DesignAnalysis, DesignAnalysisState\n",
    "from qdesignoptimizer.utils.utils_design import create_chip_base"
   ]
  },
  {
   "cell_type": "markdown",
   "metadata": {},
   "source": [
    "## Design assembly"
   ]
  },
  {
   "cell_type": "code",
   "execution_count": null,
   "metadata": {},
   "outputs": [],
   "source": [
    "CHIP_NAME = \"transmon_chip\"\n",
    "OPEN_GUI = True\n",
    "CHIP_TYPE = {\"size_x\": \"10mm\", \"size_y\": \"10mm\", \"size_z\": \"-300um\"}\n",
    "design, gui = create_chip_base(\n",
    "    chip_name=CHIP_NAME, chip_type=CHIP_TYPE, open_gui=OPEN_GUI\n",
    ")\n",
    "\n",
    "u.add_design_variables_to_design(design, dv)"
   ]
  },
  {
   "cell_type": "code",
   "execution_count": null,
   "metadata": {},
   "outputs": [],
   "source": [
    "def render_qiskit_metal_design(design, gui):\n",
    "    d.add_branch(design, 0, gui)\n",
    "    d.add_branch(design, 1, gui)\n",
    "    d.add_branch(design, 2, gui)\n",
    "    d.add_branch(design, 3, gui)\n",
    "    d.add_branch(design, 4, gui)\n",
    "\n",
    "    d.add_route_interconnects(design, 0, gui)\n",
    "    d.add_route_interconnects(design, 1, gui)\n",
    "    d.add_route_interconnects(design, 2, gui)\n",
    "    d.add_route_interconnects(design, 3, gui)\n",
    "\n",
    "    d.add_launch_pads(design, gui)\n",
    "\n",
    "\n",
    "render_qiskit_metal_design(design, gui)"
   ]
  },
  {
   "cell_type": "markdown",
   "metadata": {},
   "source": [
    "## MiniStudy: qubit and resonator"
   ]
  },
  {
   "cell_type": "code",
   "execution_count": null,
   "metadata": {},
   "outputs": [],
   "source": [
    "MINI_STUDY_BRANCH = 0\n",
    "MINI_STUDY = ms.get_mini_study_qb_res(branch=MINI_STUDY_BRANCH)\n",
    "RENDER_QISKIT_METAL = lambda design: render_qiskit_metal_design(design, gui)\n",
    "opt_targets = ot.get_opt_targets_qb_res(branch=MINI_STUDY_BRANCH)"
   ]
  },
  {
   "cell_type": "code",
   "execution_count": null,
   "metadata": {},
   "outputs": [],
   "source": [
    "design_analysis_state = DesignAnalysisState(\n",
    "    design, RENDER_QISKIT_METAL, tp.TARGET_PARAMS\n",
    ")\n",
    "design_analysis = DesignAnalysis(\n",
    "    design_analysis_state,\n",
    "    mini_study=MINI_STUDY,\n",
    "    opt_targets=opt_targets,\n",
    "    save_path=CHIP_NAME + \"_\" + time.strftime(\"%Y%m%d-%H%M%S\"),\n",
    "    update_parameters=False,\n",
    "    plot_settings=ps.PLOT_SETTINGS,\n",
    "    plot_branches_separately=False,\n",
    ")\n",
    "\n",
    "\n",
    "nbr_runs = 8\n",
    "nbr_passes = 5\n",
    "\n",
    "delta_f = 0.001\n",
    "for i in range(nbr_runs):\n",
    "    design_analysis.update_nbr_passes(nbr_passes)\n",
    "    design_analysis.update_delta_f(delta_f)\n",
    "    design_analysis.optimize_target({}, {})\n",
    "    design_analysis.screenshot(gui=gui, run=i)"
   ]
  },
  {
   "cell_type": "code",
   "execution_count": null,
   "metadata": {},
   "outputs": [],
   "source": [
    "design_analysis.overwrite_parameters()"
   ]
  },
  {
   "cell_type": "markdown",
   "metadata": {},
   "source": [
    "## MiniStudy: qubit decay in charge line\n",
    "The T1 of the qubit is limited by its decay into the charge line.\n",
    "This ministudy will change the distance of the charge line from the transmon pocket to optimize a T1 limit of 1 ms. This value is computed with simple capacitance matrix simulations and a classical model, assuming that the qubit frequency has already been optimized."
   ]
  },
  {
   "cell_type": "code",
   "execution_count": null,
   "metadata": {},
   "outputs": [],
   "source": [
    "MINI_STUDY_BRANCH = 0\n",
    "MINI_STUDY = ms.get_mini_study_qb_charge_line(branch=MINI_STUDY_BRANCH)\n",
    "opt_targets = ot.get_opt_targets_qb_charge_line(branch=MINI_STUDY_BRANCH)\n",
    "RENDER_QISKIT_METAL = lambda design: render_qiskit_metal_design(design, gui)"
   ]
  },
  {
   "cell_type": "code",
   "execution_count": null,
   "metadata": {},
   "outputs": [],
   "source": [
    "%matplotlib inline\n",
    "design_analysis_state = DesignAnalysisState(\n",
    "    design, RENDER_QISKIT_METAL, tp.TARGET_PARAMS_CHARGE_LINE_DECAY\n",
    ")\n",
    "design_analysis = DesignAnalysis(\n",
    "    design_analysis_state,\n",
    "    mini_study=MINI_STUDY,\n",
    "    opt_targets=opt_targets,\n",
    "    save_path=CHIP_NAME + \"_\" + time.strftime(\"%Y%m%d-%H%M%S\"),\n",
    "    update_parameters=False,\n",
    "    plot_settings=ps.PLOT_SETTINGS_CHARGE_LINE_DECAY,\n",
    "    plot_branches_separately=False,\n",
    ")\n",
    "\n",
    "\n",
    "nbr_runs = 5\n",
    "nbr_passes_cap = 8\n",
    "\n",
    "for i in range(nbr_runs):\n",
    "    design_analysis.update_nbr_passes_capacitance_ministudies(nbr_passes_cap)\n",
    "    design_analysis.optimize_target({}, {})\n",
    "    design_analysis.screenshot(gui=gui, run=i)"
   ]
  },
  {
   "cell_type": "code",
   "execution_count": null,
   "metadata": {},
   "outputs": [],
   "source": [
    "design_analysis.overwrite_parameters()"
   ]
  },
  {
   "cell_type": "code",
   "execution_count": null,
   "metadata": {},
   "outputs": [],
   "source": [
    "from qdesignoptimizer.utils.utils import close_ansys\n",
    "\n",
    "close_ansys()"
   ]
  }
 ],
 "metadata": {
  "kernelspec": {
   "display_name": "qdesignenv",
   "language": "python",
   "name": "python3"
  },
  "language_info": {
   "codemirror_mode": {
    "name": "ipython",
    "version": 3
   },
   "file_extension": ".py",
   "mimetype": "text/x-python",
   "name": "python",
   "nbconvert_exporter": "python",
   "pygments_lexer": "ipython3",
   "version": "3.10.16"
  }
 },
 "nbformat": 4,
 "nbformat_minor": 2
}
