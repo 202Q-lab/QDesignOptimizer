{
 "cells": [
  {
   "cell_type": "code",
   "execution_count": null,
   "metadata": {},
   "outputs": [],
   "source": [
    "import numpy as np\n",
    "import matplotlib.pyplot as plt\n",
    "import matplotlib.image as mpimg\n",
    "import matplotlib.colors as mcolors\n",
    "from typing import Dict, Any\n",
    "import names as n\n",
    "\n",
    "from qdesignoptimizer.utils.plotting import load_data_by_date, plot_optimization_results\n",
    "from qdesignoptimizer.sim_plot_progress import DataExtractor, OptimizationPlotter\n",
    "from qdesignoptimizer.sim_plot_progress import OptPltSet\n",
    "from qdesignoptimizer.utils.names_parameters import (\n",
    "    param,\n",
    "    param_capacitance,\n",
    "    param_nonlin,\n",
    ")"
   ]
  },
  {
   "cell_type": "code",
   "execution_count": null,
   "metadata": {},
   "outputs": [],
   "source": [
    "import optimization_targets as ot"
   ]
  },
  {
   "cell_type": "markdown",
   "metadata": {},
   "source": [
    "# Figures for publication"
   ]
  },
  {
   "cell_type": "code",
   "execution_count": null,
   "metadata": {},
   "outputs": [],
   "source": [
    "# selected colors based on Gothenburg tram line map\n",
    "colors_got = {'green': '#009639', \n",
    "              'blue': '#0066CC', \n",
    "              'yellow': '#FFD200', \n",
    "              'red': '#E30613', \n",
    "              'pink': '#EC008C', \n",
    "              'lightblue': '#00B5E2', \n",
    "              'purple': '#93328E', \n",
    "              'orange': '#F58220', \n",
    "              'grey': '#8C8C8C',\n",
    "              'lightsalmon': '#FF9E80'}"
   ]
  },
  {
   "cell_type": "code",
   "execution_count": null,
   "metadata": {},
   "outputs": [],
   "source": [
    "def lighten_color(hex_color, factor=0.3):\n",
    "    \"\"\"Lighten a hex color by mixing with white\"\"\"\n",
    "    rgb = np.array(mcolors.hex2color(hex_color))\n",
    "    # Mix with white: new_color = color + factor * (white - color)\n",
    "    lightened = rgb + factor * (1 - rgb)\n",
    "    return mcolors.rgb2hex(lightened)\n",
    "\n",
    "def darken_color(hex_color, factor=0.3):\n",
    "    \"\"\"Darken a hex color by mixing with black\"\"\"\n",
    "    rgb = np.array(mcolors.hex2color(hex_color))\n",
    "    # Mix with black: new_color = color * (1 - factor)\n",
    "    darkened = rgb * (1 - factor)\n",
    "    return mcolors.rgb2hex(darkened)\n",
    "\n",
    "def get_color_shades(hex_color, num_shades=5):\n",
    "    \"\"\"\n",
    "    Generate a list of color shades from dark to light with original color in center.\n",
    "    \n",
    "    Parameters:\n",
    "    -----------\n",
    "    hex_color : str\n",
    "        Base hex color (e.g., '#009639')\n",
    "    num_shades : int\n",
    "        Number of shades on each side of the original color\n",
    "        Total colors returned = 2 * num_shades + 1\n",
    "        \n",
    "    Returns:\n",
    "    --------\n",
    "    list\n",
    "        List of hex colors ordered from darkest to lightest\n",
    "        [darkest, ..., darker, ORIGINAL, lighter, ..., lightest]\n",
    "    \"\"\"\n",
    "    shades = []\n",
    "    \n",
    "    # Generate darker shades (from darkest to less dark)\n",
    "    for i in range(num_shades, 0, -1):\n",
    "        factor = i / (num_shades + 3)  # Avoid pure black by using num_shades+3\n",
    "        dark_shade = darken_color(hex_color, factor)\n",
    "        shades.append(dark_shade)\n",
    "    \n",
    "    # Add original color in the center\n",
    "    shades.append(hex_color)\n",
    "    \n",
    "    # Generate lighter shades (from less light to lightest)\n",
    "    for i in range(1, num_shades + 1):\n",
    "        factor = i / (num_shades + 1)  # Avoid pure white by using num_shades+1\n",
    "        light_shade = lighten_color(hex_color, factor)\n",
    "        shades.append(light_shade)\n",
    "    \n",
    "    return shades\n",
    "\n",
    "color_shades_purple = get_color_shades(colors_got['purple'], num_shades=5)\n",
    "color_shades_red = get_color_shades(colors_got['red'], num_shades=5)\n",
    "color_shades_blue = get_color_shades(colors_got['blue'], num_shades=5)\n",
    "color_shades_lightblue = get_color_shades(colors_got['lightblue'], num_shades=5)\n",
    "color_shades_grey = get_color_shades(colors_got['grey'], num_shades=5)"
   ]
  },
  {
   "cell_type": "code",
   "execution_count": null,
   "metadata": {},
   "outputs": [],
   "source": [
    "def crop_image_by_fraction(image_path, left=0, right=0, top=0, bottom=0, rotate_90=0):\n",
    "    \"\"\"\n",
    "    Crop an image by specified fractions from each edge and optionally rotate.\n",
    "    \n",
    "    Parameters:\n",
    "    -----------\n",
    "    image_path : str\n",
    "        Path to the image file\n",
    "    left : float\n",
    "        Fraction to crop from left edge (0-1)\n",
    "    right : float  \n",
    "        Fraction to crop from right edge (0-1)\n",
    "    top : float\n",
    "        Fraction to crop from top edge (0-1)\n",
    "    bottom : float\n",
    "        Fraction to crop from bottom edge (0-1)\n",
    "    rotate_90 : int\n",
    "        Number of 90-degree rotations (0, 1, 2, 3 or negative values)\n",
    "        0: no rotation, 1: 90° clockwise, 2: 180°, 3: 270° clockwise, etc.\n",
    "        \n",
    "    Returns:\n",
    "    --------\n",
    "    numpy.ndarray\n",
    "        Cropped and rotated image array\n",
    "    \"\"\"\n",
    "    # Read the image\n",
    "    img = mpimg.imread(image_path)\n",
    "    \n",
    "    # Get dimensions\n",
    "    height, width = img.shape[:2]  # Works for both grayscale and color images\n",
    "    print(f\"Original image size: {width}x{height}\")\n",
    "    \n",
    "    # Calculate crop boundaries\n",
    "    left_px = int(width * left)\n",
    "    right_px = int(width * (1 - right))\n",
    "    top_px = int(height * top)\n",
    "    bottom_px = int(height * (1 - bottom))\n",
    "    \n",
    "    # Crop the image using array slicing\n",
    "    # Format: img[top:bottom, left:right] for 2D\n",
    "    # Format: img[top:bottom, left:right, :] for 3D (color)\n",
    "    if len(img.shape) == 3:  # Color image\n",
    "        cropped_img = img[top_px:bottom_px, left_px:right_px, :]\n",
    "    else:  # Grayscale image\n",
    "        cropped_img = img[top_px:bottom_px, left_px:right_px]\n",
    "    \n",
    "    new_height, new_width = cropped_img.shape[:2]\n",
    "    print(f\"Cropped image size: {new_width}x{new_height}\")\n",
    "    \n",
    "    # Apply rotation if specified\n",
    "    if rotate_90 != 0:\n",
    "        # Normalize rotation to 0-3 range\n",
    "        rotation_steps = rotate_90 % 4\n",
    "        if rotation_steps != 0:\n",
    "            cropped_img = np.rot90(cropped_img, k=rotation_steps)\n",
    "            final_height, final_width = cropped_img.shape[:2]\n",
    "            print(f\"After {rotate_90 * 90}° rotation: {final_width}x{final_height}\")\n",
    "    \n",
    "    return cropped_img"
   ]
  },
  {
   "cell_type": "markdown",
   "metadata": {},
   "source": [
    "## Fig 2: Single qubit example"
   ]
  },
  {
   "cell_type": "code",
   "execution_count": null,
   "metadata": {},
   "outputs": [],
   "source": [
    "parent_path = r\"C:\\Users\\lukassp\\OneDrive - Chalmers\\202Q-lab\\PROJECTS\\QDesignOptimizer\\Files_for_paper\"\n",
    "child_path = r\"\\single_qubit_resonator_fullchi\"\n"
   ]
  },
  {
   "cell_type": "markdown",
   "metadata": {},
   "source": [
    "### Load iamge"
   ]
  },
  {
   "cell_type": "code",
   "execution_count": null,
   "metadata": {},
   "outputs": [],
   "source": [
    "cropped_image = crop_image_by_fraction(parent_path + child_path + r'\\2025-08-10_OPT_qubit_resonator_final.png', left=0.1, right=0.1, top=0.1, bottom=0.1, rotate_90=1)\n"
   ]
  },
  {
   "cell_type": "markdown",
   "metadata": {},
   "source": [
    "### Load data"
   ]
  },
  {
   "cell_type": "code",
   "execution_count": null,
   "metadata": {},
   "outputs": [],
   "source": [
    "f_sim_result = [parent_path + child_path + r\"\\multi_transmon_chip_20250810-104840.npy\"]"
   ]
  },
  {
   "cell_type": "code",
   "execution_count": null,
   "metadata": {},
   "outputs": [],
   "source": [
    "d_sim_result = np.load(f_sim_result[0], allow_pickle=True)[0]\n",
    "system_target_params = d_sim_result[\"system_target_params\"]\n",
    "opt_result = d_sim_result['optimization_results']\n",
    "\n",
    "opt_target_list = ot.get_opt_targets_2qubits_resonator_coupler([1], True,True,True,True,True,False,False)\n",
    "\n",
    "iteration = 'Iteration'\n",
    "config = {\n",
    "    'RES_freq': OptPltSet(n.ITERATION, param(n.RESONATOR_1, n.FREQ), y_label=\"RES Freq\", unit=\"GHz\"), \n",
    "    'RES_kappa': OptPltSet(n.ITERATION, param(n.RESONATOR_1, n.KAPPA), y_label=\"RES Kappa\", unit=\"MHz\"),\n",
    "    'QUB_freq': OptPltSet(n.ITERATION, param(n.QUBIT_1, n.FREQ), y_label=\"QB Freq\", unit=\"GHz\"),\n",
    "    'QUB_anh': OptPltSet(n.ITERATION, param_nonlin(n.QUBIT_1, n.QUBIT_1), y_label=\"QB Anharm.\", unit=\"MHz\"),\n",
    "    'RES_QUB_chi': OptPltSet(n.ITERATION, param_nonlin(n.RESONATOR_1, n.QUBIT_1), y_label=\"RES-QB Chi\", unit=\"MHz\"),\n",
    "    }\n",
    "\n",
    "print(system_target_params)\n",
    "print(opt_result[0]['design_variables'])\n"
   ]
  },
  {
   "cell_type": "code",
   "execution_count": null,
   "metadata": {},
   "outputs": [],
   "source": [
    "data_extractor = DataExtractor([opt_result], system_target_params, opt_target_list)\n",
    "plotter = OptimizationPlotter(data_extractor, plot_variance=False, save_figures=False)"
   ]
  },
  {
   "cell_type": "markdown",
   "metadata": {},
   "source": [
    "### Plot figure with data"
   ]
  },
  {
   "cell_type": "code",
   "execution_count": null,
   "metadata": {},
   "outputs": [],
   "source": [
    "figure_width_inch = 7\n",
    "plt.rcParams.update({\n",
    "    'font.family': 'serif',\n",
    "    'font.serif': ['Times New Roman'], \n",
    "    'font.size': 10,  \n",
    "    'mathtext.fontset': 'stix',  \n",
    "})\n",
    "\n",
    "fig = plt.figure(figsize=(figure_width_inch, 3.5))\n",
    "gs = fig.add_gridspec(2, 4, wspace=0.7, hspace=0.4, left=0.02, right=0.96, bottom=0.13, top=0.95)\n",
    "ax0 = fig.add_subplot(gs[0:2, 0])\n",
    "ax1 = fig.add_subplot(gs[0, 1])\n",
    "ax2 = fig.add_subplot(gs[1, 1])\n",
    "ax3 = fig.add_subplot(gs[0, 2])\n",
    "ax4 = fig.add_subplot(gs[1, 2])\n",
    "ax5 = fig.add_subplot(gs[0, 3])\n",
    "ax6 = fig.add_subplot(gs[1, 3])\n",
    "\n",
    "plotter._plot_single_param(ax1, config['RES_freq'], y_param=config['RES_freq'].y, color=colors_got['blue'])\n",
    "plotter._plot_single_param(ax2, config['RES_kappa'], y_param=config['RES_kappa'].y, color=colors_got['lightblue'])\n",
    "plotter._plot_single_param(ax3, config['QUB_freq'], y_param=config['QUB_freq'].y, color=colors_got['purple'])\n",
    "plotter._plot_single_param(ax4, config['QUB_anh'], y_param=config['QUB_anh'].y, color=colors_got['pink'])\n",
    "plotter._plot_single_param(ax5, config['RES_QUB_chi'], y_param=config['RES_QUB_chi'].y, color=colors_got['orange'])\n",
    "plotter._plot_param_vs_design_var(ax6, config['RES_QUB_chi'], y_param=config['RES_QUB_chi'].y, color=colors_got['orange'], sort_by_x=False)\n",
    "\n",
    "ax1.set_xticks([5,10,15])\n",
    "ax2.set_xticks([5,10,15])\n",
    "ax3.set_xticks([5,10,15])\n",
    "ax4.set_xticks([5,10,15])\n",
    "ax5.set_xticks([5,10,15])\n",
    "ax6.set_xticks([100,300])\n",
    "\n",
    "ax1.set_xlabel('Iteration')\n",
    "ax2.set_xlabel('Iteration')\n",
    "ax3.set_xlabel('Iteration')\n",
    "ax4.set_xlabel('Iteration')\n",
    "ax5.set_xlabel('Iteration')\n",
    "ax6.set_xlabel('Coupling length (um)')\n",
    "\n",
    "ax1.text(0.1,0.88,'(b)', transform=ax1.transAxes)\n",
    "ax2.text(0.04,0.88,'(c)', transform=ax2.transAxes)\n",
    "ax3.text(0.1,0.88,'(d)', transform=ax3.transAxes)\n",
    "ax4.text(0.1,0.88,'(e)', transform=ax4.transAxes)\n",
    "ax5.text(0.1,0.88,'(f)', transform=ax5.transAxes)\n",
    "ax6.text(0.16,0.88,'(g)', transform=ax6.transAxes)\n",
    "\n",
    "ax0.imshow(cropped_image)\n",
    "ax0.axis('off')\n",
    "\n",
    "fig.savefig(parent_path + r\"\\Fig2_OPT_single_qubit_resonator.png\", dpi=300)"
   ]
  },
  {
   "cell_type": "markdown",
   "metadata": {},
   "source": [
    "## Fig 3: Effect of nonlinear model"
   ]
  },
  {
   "cell_type": "code",
   "execution_count": null,
   "metadata": {},
   "outputs": [],
   "source": [
    "iteration = 'Iteration'\n",
    "config = {\n",
    "    'RES_QUB_chi': OptPltSet(n.ITERATION, param_nonlin(n.RESONATOR_1, n.QUBIT_1), y_label=\"RES-QB Chi\", unit=\"MHz\"),\n",
    "    'QUB_freq': OptPltSet(n.ITERATION, param(n.QUBIT_1, n.FREQ), y_label=\"QB Freq\", unit=\"GHz\")\n",
    "    }"
   ]
  },
  {
   "cell_type": "markdown",
   "metadata": {},
   "source": [
    "### Load data (nonlinear model)"
   ]
  },
  {
   "cell_type": "code",
   "execution_count": null,
   "metadata": {},
   "outputs": [],
   "source": [
    "child_path_simple_chi = r\"\\single_qubit_resonator_simple\""
   ]
  },
  {
   "cell_type": "code",
   "execution_count": null,
   "metadata": {},
   "outputs": [],
   "source": [
    "f_sim_result = [parent_path + child_path + r\"\\multi_transmon_chip_20250810-104840.npy\", parent_path + child_path_simple_chi + r\"\\multi_transmon_chip_20250810-093400.npy\"] "
   ]
  },
  {
   "cell_type": "code",
   "execution_count": null,
   "metadata": {},
   "outputs": [],
   "source": [
    "opt_plot = []\n",
    "for i in range(len(f_sim_result)):\n",
    "    d_sim_result = np.load(f_sim_result[i], allow_pickle=True)[0]\n",
    "    system_target_params = d_sim_result[\"system_target_params\"]\n",
    "    opt_result = d_sim_result['optimization_results']\n",
    "\n",
    "    data_extractor = DataExtractor([opt_result], system_target_params)\n",
    "    plotter = OptimizationPlotter(data_extractor, plot_variance=False, save_figures=False)\n",
    "    opt_plot.append(plotter)"
   ]
  },
  {
   "cell_type": "markdown",
   "metadata": {},
   "source": [
    "### Load data (variations)"
   ]
  },
  {
   "cell_type": "code",
   "execution_count": null,
   "metadata": {},
   "outputs": [],
   "source": [
    "f_sim_result_variation = [parent_path + child_path + r\"\\multi_transmon_chip_20250810-104840.npy\", parent_path + child_path_simple_chi + r\"\\multi_transmon_chip_20250810-093400.npy\"] "
   ]
  },
  {
   "cell_type": "code",
   "execution_count": null,
   "metadata": {},
   "outputs": [],
   "source": [
    "opt_plot_variations = []\n",
    "for i in range(len(f_sim_result_variation)):\n",
    "    d_sim_result = np.load(f_sim_result_variation[i], allow_pickle=True)[0]\n",
    "    system_target_params = d_sim_result[\"system_target_params\"]\n",
    "    opt_result = d_sim_result['optimization_results']\n",
    "\n",
    "    data_extractor = DataExtractor([opt_result], system_target_params)\n",
    "    plotter = OptimizationPlotter(data_extractor, plot_variance=False, save_figures=False)\n",
    "    opt_plot_variations.append(plotter)"
   ]
  },
  {
   "cell_type": "markdown",
   "metadata": {},
   "source": [
    "### Plot figure with data"
   ]
  },
  {
   "cell_type": "code",
   "execution_count": null,
   "metadata": {},
   "outputs": [],
   "source": [
    "figure_width_inch = 3.35\n",
    "figure_height_inch = 3.5\n",
    "plt.rcParams.update({\n",
    "    'font.family': 'serif',\n",
    "    'font.serif': ['Times New Roman'], \n",
    "    'font.size': 10,  \n",
    "    'mathtext.fontset': 'stix',  \n",
    "})\n",
    "\n",
    "fig = plt.figure(figsize=(figure_width_inch, figure_height_inch))\n",
    "gs = fig.add_gridspec(2, 2, wspace=0.7, hspace=0.4, left=0.16, right=0.96, bottom=0.14, top=0.95)\n",
    "ax1 = fig.add_subplot(gs[0, :])\n",
    "ax2 = fig.add_subplot(gs[1, 0])\n",
    "ax3 = fig.add_subplot(gs[1, 1])\n",
    "\n",
    "opt_plot[0]._plot_single_param(ax1, config['RES_QUB_chi'], y_param=config['RES_QUB_chi'].y, color=colors_got['blue'])\n",
    "opt_plot[1]._plot_single_param(ax1, config['RES_QUB_chi'], y_param=config['RES_QUB_chi'].y, color=colors_got['lightblue'])\n",
    "opt_plot[1]._plot_target(ax1, config['RES_QUB_chi'].y, 0, 15, colors_got['grey'], config['RES_QUB_chi'].normalization)\n",
    "\n",
    "ax1.set_xticks([5,10])\n",
    "ax1.set_xlabel('Iteration')\n",
    "\n",
    "n_variations = len(opt_plot_variations)\n",
    "for i in range(n_variations):\n",
    "    opt_plot_variations[i]._plot_single_param(ax2, config['QUB_freq'], y_param=config['QUB_freq'].y, color=color_shades_purple[i])\n",
    "    opt_plot_variations[i]._plot_single_param(ax3, config['RES_QUB_chi'], y_param=config['RES_QUB_chi'].y, color=color_shades_blue[i])\n",
    "\n",
    "\n",
    "ax1.text(0.1,0.88,'(a)', transform=ax1.transAxes)\n",
    "ax2.text(0.1,0.88,'(b)', transform=ax2.transAxes)\n",
    "ax3.text(0.1,0.88,'(c)', transform=ax3.transAxes)\n",
    "\n",
    "ax2.set_xticks([5,10])\n",
    "ax3.set_xticks([5,10])\n",
    "ax2.set_xlabel('Iteration')\n",
    "ax3.set_xlabel('Iteration')\n",
    "\n",
    "\n",
    "fig.savefig(parent_path + r\"\\Fig3_COMP_single_qubit_resonator.png\", dpi=300)"
   ]
  },
  {
   "cell_type": "markdown",
   "metadata": {},
   "source": [
    "## Fig 4: Capacitance targets"
   ]
  },
  {
   "cell_type": "markdown",
   "metadata": {},
   "source": [
    "### Load images"
   ]
  },
  {
   "cell_type": "code",
   "execution_count": null,
   "metadata": {},
   "outputs": [],
   "source": [
    "child_path_capacitance = r'\\capacitance_resonator_feedline'\n",
    "child_path_decay = r\"\\chargeline_qubit\""
   ]
  },
  {
   "cell_type": "code",
   "execution_count": null,
   "metadata": {},
   "outputs": [],
   "source": [
    "cropped_image_capacitance = crop_image_by_fraction(parent_path + child_path_capacitance + r'\\2025-08-10_OPT_resonator_feedline_capacitance_final_zoom.png', left=0.1, right=0.1, top=0.0, bottom=0.1, rotate_90=0)\n",
    "cropped_image_decay = crop_image_by_fraction(parent_path + child_path_decay + r'\\2025-08-10_OPT_chargeline_final_zoom.png', left=0., right=0.0, top=0.0, bottom=0.1, rotate_90=0)"
   ]
  },
  {
   "cell_type": "markdown",
   "metadata": {},
   "source": [
    "### Load data"
   ]
  },
  {
   "cell_type": "code",
   "execution_count": null,
   "metadata": {},
   "outputs": [],
   "source": [
    "f_sim_result = [parent_path  + child_path_capacitance + r'\\multi_transmon_chip_20250810-122434.npy', parent_path + child_path_decay + r'\\multi_transmon_chip_20250810-134018.npy']"
   ]
  },
  {
   "cell_type": "code",
   "execution_count": null,
   "metadata": {},
   "outputs": [],
   "source": [
    "opt_plot = []\n",
    "for i in range(len(f_sim_result)):\n",
    "    d_sim_result = np.load(f_sim_result[i], allow_pickle=True)[0]\n",
    "    system_target_params = d_sim_result[\"system_target_params\"]\n",
    "    opt_result = d_sim_result['optimization_results']\n",
    "\n",
    "    data_extractor = DataExtractor([opt_result], system_target_params)\n",
    "    plotter = OptimizationPlotter(data_extractor, plot_variance=False, save_figures=False)\n",
    "    opt_plot.append(plotter)"
   ]
  },
  {
   "cell_type": "code",
   "execution_count": null,
   "metadata": {},
   "outputs": [],
   "source": [
    "iteration = 'Iteration'\n",
    "config = {\n",
    "    'res_fd_coupling': OptPltSet(n.ITERATION, param_capacitance(\"prime_cpw_name_tee1_\", \"second_cpw_name_tee1_\"), y_label=\"Capacitance\", unit=\"fF\"), \n",
    "    'charge_line': OptPltSet(n.ITERATION, param(n.QUBIT_1, n.CHARGE_LINE_LIMITED_T1), y_label=\"T1 limit\", y_scale=\"linear\", unit=\"ms\")\n",
    "    }"
   ]
  },
  {
   "cell_type": "markdown",
   "metadata": {},
   "source": [
    "### Plot figure with data and images"
   ]
  },
  {
   "cell_type": "code",
   "execution_count": null,
   "metadata": {},
   "outputs": [],
   "source": [
    "figure_width_inch = 3.35\n",
    "figure_height_inch = 3.2\n",
    "plt.rcParams.update({\n",
    "    'font.family': 'serif',\n",
    "    'font.serif': ['Times New Roman'], \n",
    "    'font.size': 10,  \n",
    "    'mathtext.fontset': 'stix',  \n",
    "})\n",
    "\n",
    "fig = plt.figure(figsize=(figure_width_inch, figure_height_inch))\n",
    "gs = fig.add_gridspec(2, 2, wspace=0.7, hspace=0.4, left=0.16, right=0.96, bottom=0.14, top=0.95)\n",
    "ax1 = fig.add_subplot(gs[0,0])\n",
    "ax2 = fig.add_subplot(gs[1,0])\n",
    "ax3 = fig.add_subplot(gs[0,1])\n",
    "ax4 = fig.add_subplot(gs[1,1])\n",
    "\n",
    "ax1.imshow(cropped_image_capacitance)\n",
    "ax2.imshow(cropped_image_decay)\n",
    "\n",
    "ax1.axis('off')\n",
    "ax2.axis('off')\n",
    "\n",
    "\n",
    "opt_plot[0]._plot_single_param(ax3, config['res_fd_coupling'], y_param=config['res_fd_coupling'].y, color=colors_got['blue'])\n",
    "opt_plot[1]._plot_single_param(ax4, config['charge_line'], y_param=config['charge_line'].y, color=colors_got['lightblue'])\n",
    "\n",
    "ax3.set_xticks([5,10,15])\n",
    "ax4.set_xticks([5,10,15])\n",
    "\n",
    "ax3.set_xlabel('Iteration')\n",
    "ax4.set_xlabel('Iteration')\n",
    "\n",
    "ax3.text(0.1,0.88,'(c)', transform=ax3.transAxes)\n",
    "ax4.text(0.1,0.88,'(d)', transform=ax4.transAxes)\n",
    "\n",
    "fig.savefig(parent_path + r\"\\Fig4_OPT_capacitance_decay.png\", dpi=300)"
   ]
  },
  {
   "cell_type": "code",
   "execution_count": null,
   "metadata": {},
   "outputs": [],
   "source": []
  },
  {
   "cell_type": "code",
   "execution_count": null,
   "metadata": {},
   "outputs": [],
   "source": []
  },
  {
   "cell_type": "code",
   "execution_count": null,
   "metadata": {},
   "outputs": [],
   "source": []
  },
  {
   "cell_type": "code",
   "execution_count": null,
   "metadata": {},
   "outputs": [],
   "source": []
  },
  {
   "cell_type": "code",
   "execution_count": null,
   "metadata": {},
   "outputs": [],
   "source": []
  },
  {
   "cell_type": "code",
   "execution_count": null,
   "metadata": {},
   "outputs": [],
   "source": []
  },
  {
   "cell_type": "code",
   "execution_count": null,
   "metadata": {},
   "outputs": [],
   "source": []
  },
  {
   "cell_type": "code",
   "execution_count": null,
   "metadata": {},
   "outputs": [],
   "source": []
  },
  {
   "cell_type": "code",
   "execution_count": null,
   "metadata": {},
   "outputs": [],
   "source": [
    "# Load data\n",
    "\n",
    "opt_result = d_sim_result['optimization_results']\n",
    "system_target_params = d_sim_result[\"system_target_params\"]"
   ]
  },
  {
   "cell_type": "code",
   "execution_count": null,
   "metadata": {},
   "outputs": [],
   "source": [
    "system_target_params"
   ]
  },
  {
   "cell_type": "code",
   "execution_count": null,
   "metadata": {},
   "outputs": [],
   "source": [
    "PLOT_SETTINGS = {\n",
    "    \"RES\": [\n",
    "        OptPltSet(\n",
    "            n.ITERATION, param(n.RESONATOR_1, n.FREQ), y_label=\"RES Freq\", unit=\"GHz\"\n",
    "        ),\n",
    "        OptPltSet(\n",
    "            n.ITERATION, param(n.RESONATOR_1, n.KAPPA), y_label=\"RES Kappa\", unit=\"MHz\"\n",
    "        ),\n",
    "        OptPltSet(\n",
    "            n.design_var_length(n.RESONATOR_1),\n",
    "            param(n.RESONATOR_1, n.KAPPA),\n",
    "            y_label=\"RES Kappa\",\n",
    "            unit=\"MHz\",\n",
    "        ),  # As an example that design variables can also be plotted for the results\n",
    "    ],\n",
    "    \"QUBIT\": [\n",
    "        OptPltSet(n.ITERATION, param(n.QUBIT_1, n.FREQ), y_label=\"QB Freq\", unit=\"GHz\"),\n",
    "        OptPltSet(\n",
    "            n.ITERATION,\n",
    "            param_nonlin(n.QUBIT_1, n.QUBIT_1),\n",
    "            y_label=\"QB Anharm.\",\n",
    "            unit=\"MHz\",\n",
    "        ),\n",
    "    ],\n",
    "    \"COUPLINGS\": [\n",
    "        OptPltSet(\n",
    "            n.ITERATION,\n",
    "            param_nonlin(n.RESONATOR_1, n.QUBIT_1),\n",
    "            y_label=\"RES-QB Chi\",\n",
    "            unit=\"kHz\",\n",
    "        ),\n",
    "    ],\n",
    "}"
   ]
  },
  {
   "cell_type": "code",
   "execution_count": null,
   "metadata": {},
   "outputs": [],
   "source": [
    "data_extractor = DataExtractor(opt_result, system_target_params)\n",
    "plotter = OptimizationPlotter(data_extractor)"
   ]
  },
  {
   "cell_type": "code",
   "execution_count": null,
   "metadata": {},
   "outputs": [],
   "source": [
    "config= PLOT_SETTINGS['QUBIT'][0]"
   ]
  },
  {
   "cell_type": "code",
   "execution_count": null,
   "metadata": {},
   "outputs": [],
   "source": [
    "config.y"
   ]
  },
  {
   "cell_type": "code",
   "execution_count": null,
   "metadata": {},
   "outputs": [],
   "source": [
    "data_extractor.get_parameter_value?"
   ]
  },
  {
   "cell_type": "code",
   "execution_count": null,
   "metadata": {},
   "outputs": [],
   "source": [
    "data_extractor.get_parameter_value(config.y, opt_result,0)"
   ]
  },
  {
   "cell_type": "code",
   "execution_count": null,
   "metadata": {},
   "outputs": [],
   "source": [
    "data_extractor.extract_xy_data(config.x, config.y, run_index=2)"
   ]
  },
  {
   "cell_type": "code",
   "execution_count": null,
   "metadata": {},
   "outputs": [],
   "source": [
    "fig, axs = plt.subplots(2,3)\n",
    "# plotter._setup_ax(axs[1,1],PLOT_SETTINGS['QUBIT'][0],x_label='Iteration', y_label='Qubit freq')\n",
    "plotter._plot_single_param(axs[1,1], PLOT_SETTINGS['QUBIT'][0], y_param=PLOT_SETTINGS['QUBIT'][0].y, color='blue')"
   ]
  },
  {
   "cell_type": "code",
   "execution_count": null,
   "metadata": {},
   "outputs": [],
   "source": [
    "OptimizationResult = Dict[str, Any]\n",
    "data_extractor.get_parameter_value('freq_qubit_1', OptimizationResult, iteration=)"
   ]
  },
  {
   "cell_type": "code",
   "execution_count": null,
   "metadata": {},
   "outputs": [],
   "source": [
    "data_extractor.get_parameter_value(param_name='qubit_1_freq', re)"
   ]
  },
  {
   "cell_type": "code",
   "execution_count": null,
   "metadata": {},
   "outputs": [],
   "source": [
    "opt_result"
   ]
  },
  {
   "cell_type": "code",
   "execution_count": null,
   "metadata": {},
   "outputs": [],
   "source": [
    "d_sim_result"
   ]
  },
  {
   "cell_type": "code",
   "execution_count": null,
   "metadata": {},
   "outputs": [],
   "source": []
  },
  {
   "cell_type": "code",
   "execution_count": null,
   "metadata": {},
   "outputs": [],
   "source": [
    "plot_optimization_results(f_sim_result)"
   ]
  },
  {
   "cell_type": "code",
   "execution_count": null,
   "metadata": {},
   "outputs": [],
   "source": []
  },
  {
   "cell_type": "code",
   "execution_count": null,
   "metadata": {},
   "outputs": [],
   "source": []
  }
 ],
 "metadata": {
  "kernelspec": {
   "display_name": "202qdesign",
   "language": "python",
   "name": "python3"
  },
  "language_info": {
   "codemirror_mode": {
    "name": "ipython",
    "version": 3
   },
   "file_extension": ".py",
   "mimetype": "text/x-python",
   "name": "python",
   "nbconvert_exporter": "python",
   "pygments_lexer": "ipython3",
   "version": "3.10.16"
  }
 },
 "nbformat": 4,
 "nbformat_minor": 2
}
