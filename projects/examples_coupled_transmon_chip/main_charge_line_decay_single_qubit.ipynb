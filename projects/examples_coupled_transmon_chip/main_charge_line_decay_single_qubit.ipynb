{
 "cells": [
  {
   "cell_type": "markdown",
   "metadata": {},
   "source": [
    "# Capacitive simulation of qubit decay in charge line"
   ]
  },
  {
   "cell_type": "code",
   "execution_count": 1,
   "metadata": {},
   "outputs": [],
   "source": [
    "%load_ext autoreload\n",
    "%autoreload 2"
   ]
  },
  {
   "cell_type": "markdown",
   "metadata": {},
   "source": [
    "## Rendering the design"
   ]
  },
  {
   "cell_type": "code",
   "execution_count": 2,
   "metadata": {},
   "outputs": [
    {
     "name": "stdout",
     "output_type": "stream",
     "text": [
      "position: [ 0.       -2.491745] : direction:[0. 1.]. position: [0.       2.731745] : direction:[ 0. -1.].\n",
      "position: [0.       4.461745] : direction:[-0. -1.]. position: [0.       3.068255] : direction:[0. 1.].\n",
      "position: [ 0.       -4.461745] : direction:[0. 1.]. position: [ 0.       -3.308255] : direction:[ 0. -1.].\n",
      "position: [-4.37 -2.  ] : direction:[ 1. -0.]. position: [-4.2 -1.8] : direction:[-1.  0.].\n",
      "position: [-4.37  2.  ] : direction:[ 1. -0.]. position: [-4.2  1.8] : direction:[-1.  0.].\n",
      "position: [ 0.       -2.491745] : direction:[0. 1.]. position: [0.       2.731745] : direction:[ 0. -1.].\n",
      "position: [0.       4.461745] : direction:[-0. -1.]. position: [0.       3.068255] : direction:[0. 1.].\n",
      "position: [ 0.       -4.461745] : direction:[0. 1.]. position: [ 0.       -3.308255] : direction:[ 0. -1.].\n",
      "position: [-4.37 -2.  ] : direction:[ 1. -0.]. position: [-4.2 -1.8] : direction:[-1.  0.].\n",
      "position: [-4.37  2.  ] : direction:[ 1. -0.]. position: [-4.2  1.8] : direction:[-1.  0.].\n"
     ]
    }
   ],
   "source": [
    "from chip_initialization import create_chip_and_gui\n",
    "design, gui = create_chip_and_gui()\n",
    "\n",
    "from design import render_qiskit_metal_design\n",
    "render_qiskit_metal_design(design, gui)"
   ]
  },
  {
   "cell_type": "markdown",
   "metadata": {},
   "source": [
    "## Creating the study and optimization targets"
   ]
  },
  {
   "cell_type": "code",
   "execution_count": 3,
   "metadata": {},
   "outputs": [],
   "source": [
    "import names as n\n",
    "import mini_studies as ms\n",
    "import optimization_targets as ot"
   ]
  },
  {
   "cell_type": "code",
   "execution_count": 4,
   "metadata": {},
   "outputs": [],
   "source": [
    "MINI_STUDY_GROUP = n.NBR_1\n",
    "MINI_STUDY = ms.get_mini_study_qb_charge_line(group=MINI_STUDY_GROUP)\n",
    "RENDER_QISKIT_METAL = lambda design: render_qiskit_metal_design(design, gui)\n",
    "\n",
    "opt_targets = ot.get_opt_targets_qb_charge_line(group=MINI_STUDY_GROUP)"
   ]
  },
  {
   "cell_type": "markdown",
   "metadata": {},
   "source": [
    "## Creating design analysis objects"
   ]
  },
  {
   "cell_type": "code",
   "execution_count": null,
   "metadata": {},
   "outputs": [],
   "source": [
    "import time\n",
    "import parameter_targets as pt\n",
    "import plot_settings as ps\n",
    "\n",
    "from qdesignoptimizer.design_analysis import DesignAnalysis, DesignAnalysisState\n",
    "from qdesignoptimizer.utils.utils import get_save_path\n",
    "\n",
    "# Closing Ansys hfss\n",
    "from qdesignoptimizer.utils.utils import close_ansys\n",
    "close_ansys()"
   ]
  },
  {
   "cell_type": "code",
   "execution_count": 7,
   "metadata": {},
   "outputs": [
    {
     "name": "stderr",
     "output_type": "stream",
     "text": [
      "\u001b[38;20m[INFO|2025-03-17 11:41:04]: self.eig_solver.sim.setup \n",
      "{\n",
      "    \"name\": \"Resonator_setup\",\n",
      "    \"reuse_selected_design\": true,\n",
      "    \"reuse_setup\": true,\n",
      "    \"min_freq_ghz\": 1,\n",
      "    \"n_modes\": 1,\n",
      "    \"max_delta_f\": 0.5,\n",
      "    \"max_passes\": 10,\n",
      "    \"min_passes\": 1,\n",
      "    \"min_converged\": 1,\n",
      "    \"pct_refinement\": 30,\n",
      "    \"basis_order\": 1,\n",
      "    \"vars\": {\n",
      "        \"Lj\": \"10 nH\",\n",
      "        \"Cj\": \"0 fF\"\n",
      "    }\n",
      "}\u001b[0m\n",
      "INFO 11:41AM [connect_project]: Connecting to Ansys Desktop API...\n",
      "INFO 11:41AM [load_ansys_project]: \tOpened Ansys App\n",
      "INFO 11:41AM [load_ansys_project]: \tOpened Ansys Desktop v2021.2.0\n",
      "INFO 11:41AM [load_ansys_project]: \tOpened Ansys Project\n",
      "\tFolder:    C:/Users/harshva/Documents/Ansoft/\n",
      "\tProject:   Project325\n",
      "INFO 11:41AM [connect_design]: No active design found (or error getting active design).\n",
      "INFO 11:41AM [connect]: \t Connected to project \"Project325\". No design detected\n",
      "11:41AM 12s WARNING [activate_ansys_design]: The design_name=get_mini_study_qb_charge_line was not in active project.  Designs in active project are: \n",
      "[].  A new design will be added to the project.  \n",
      "INFO 11:41AM [connect_design]: \tOpened active design\n",
      "\tDesign:    get_mini_study_qb_charge_line [Solution type: Eigenmode]\n",
      "WARNING 11:41AM [connect_setup]: \tNo design setup detected.\n",
      "WARNING 11:41AM [connect_setup]: \tCreating eigenmode default setup.\n",
      "INFO 11:41AM [get_setup]: \tOpened setup `Setup`  (<class 'pyEPR.ansys.HfssEMSetup'>)\n"
     ]
    }
   ],
   "source": [
    "design_analysis_state = DesignAnalysisState(\n",
    "    design, RENDER_QISKIT_METAL, pt.PARAM_TARGETS\n",
    "    )\n",
    "\n",
    "design_analysis = DesignAnalysis(\n",
    "    design_analysis_state,\n",
    "    mini_study=MINI_STUDY,\n",
    "    opt_targets=opt_targets,\n",
    "    save_path=get_save_path(\"out/\", n.CHIP_NAME),\n",
    "    update_design_variables=False,\n",
    "    plot_settings=ps.PLOT_SETTINGS_CHARGE_LINE_DECAY,\n",
    ")"
   ]
  },
  {
   "cell_type": "markdown",
   "metadata": {},
   "source": [
    "## Optimization step"
   ]
  },
  {
   "cell_type": "code",
   "execution_count": null,
   "metadata": {},
   "outputs": [
    {
     "name": "stderr",
     "output_type": "stream",
     "text": [
      "\u001b[38;20m[INFO|2025-03-17 11:41:14]: Updated_design_vars\n",
      "{\n",
      "    \"cpw_width\": \"10 um\",\n",
      "    \"cpw_gap\": \"6 um\",\n",
      "    \"design_var_width_qubit_1\": \"400um\",\n",
      "    \"design_var_width_qubit_2\": \"400um\",\n",
      "    \"design_var_cl_pos_x_qubit_1\": \"-2600um\",\n",
      "    \"design_var_cl_pos_y_qubit_1\": \"-1800um\",\n",
      "    \"design_var_cl_pos_x_qubit_2\": \"-2600um\",\n",
      "    \"design_var_cl_pos_y_qubit_2\": \"1800um\",\n",
      "    \"design_var_length_resonator_1_capacitance\": \"20um\",\n",
      "    \"design_var_length_resonator_2_capacitance\": \"20um\",\n",
      "    \"design_var_lj_qubit_1\": \"12.1nH\",\n",
      "    \"design_var_lj_qubit_2\": \"9.1nH\",\n",
      "    \"design_var_cj_qubit_1\": \"0fF\",\n",
      "    \"design_var_cj_qubit_2\": \"0fF\",\n",
      "    \"design_var_length_resonator_1\": \"7500um\",\n",
      "    \"design_var_length_resonator_2\": \"6500um\",\n",
      "    \"design_var_length_coupler_1to2\": \"4000um\",\n",
      "    \"design_var_coupl_length_qubit_1_resonator_1\": \"100um\",\n",
      "    \"design_var_coupl_length_qubit_2_resonator_2\": \"100um\",\n",
      "    \"design_var_coupl_length_resonator_1_tee\": \"400um\",\n",
      "    \"design_var_coupl_length_resonator_2_tee\": \"160um\"\n",
      "}\u001b[0m\n",
      "\u001b[38;20m[INFO|2025-03-17 11:41:14]: Simulating capacitance matrix study.\u001b[0m\n"
     ]
    },
    {
     "name": "stdout",
     "output_type": "stream",
     "text": [
      "position: [ 0.       -2.491745] : direction:[0. 1.]. position: [0.       2.731745] : direction:[ 0. -1.].\n",
      "position: [0.       4.461745] : direction:[-0. -1.]. position: [0.       3.068255] : direction:[0. 1.].\n",
      "position: [ 0.       -4.461745] : direction:[0. 1.]. position: [ 0.       -3.308255] : direction:[ 0. -1.].\n",
      "position: [-4.37 -2.  ] : direction:[ 1. -0.]. position: [-4.2 -1.8] : direction:[-1.  0.].\n",
      "position: [-4.37  2.  ] : direction:[ 1. -0.]. position: [-4.2  1.8] : direction:[-1.  0.].\n",
      "position: [ 0.       -2.491745] : direction:[0. 1.]. position: [0.       2.731745] : direction:[ 0. -1.].\n",
      "position: [0.       4.461745] : direction:[-0. -1.]. position: [0.       3.068255] : direction:[0. 1.].\n",
      "position: [ 0.       -4.461745] : direction:[0. 1.]. position: [ 0.       -3.308255] : direction:[ 0. -1.].\n",
      "position: [-4.37 -2.  ] : direction:[ 1. -0.]. position: [-4.2 -1.8] : direction:[-1.  0.].\n",
      "position: [-4.37  2.  ] : direction:[ 1. -0.]. position: [-4.2  1.8] : direction:[-1.  0.].\n"
     ]
    },
    {
     "name": "stderr",
     "output_type": "stream",
     "text": [
      "INFO 11:41AM [connect_project]: Connecting to Ansys Desktop API...\n",
      "INFO 11:41AM [load_ansys_project]: \tOpened Ansys App\n",
      "INFO 11:41AM [load_ansys_project]: \tOpened Ansys Desktop v2021.2.0\n",
      "INFO 11:41AM [load_ansys_project]: \tOpened Ansys Project\n",
      "\tFolder:    C:/Users/harshva/Documents/Ansoft/\n",
      "\tProject:   Project325\n",
      "INFO 11:41AM [connect_design]: \tOpened active design\n",
      "\tDesign:    get_mini_study_qb_charge_line [Solution type: Eigenmode]\n",
      "INFO 11:41AM [get_setup]: \tOpened setup `Setup`  (<class 'pyEPR.ansys.HfssEMSetup'>)\n",
      "INFO 11:41AM [connect]: \tConnected to project \"Project325\" and design \"get_mini_study_qb_charge_line\" 😀 \n",
      "\n",
      "INFO 11:41AM [connect_design]: \tOpened active design\n",
      "\tDesign:    Design_q3d [Solution type: Q3D]\n",
      "WARNING 11:41AM [connect_setup]: \tNo design setup detected.\n",
      "WARNING 11:41AM [connect_setup]: \tCreating Q3D default setup.\n",
      "INFO 11:41AM [get_setup]: \tOpened setup `Setup`  (<class 'pyEPR.ansys.AnsysQ3DSetup'>)\n",
      "INFO 11:41AM [get_setup]: \tOpened setup `Setup`  (<class 'pyEPR.ansys.AnsysQ3DSetup'>)\n",
      "INFO 11:41AM [analyze]: Analyzing setup Setup\n",
      "INFO 11:41AM [get_matrix]: Exporting matrix data to (C:\\Users\\harshva\\AppData\\Local\\Temp\\tmpy0jjpyx8.txt, C, , Setup:LastAdaptive, \"Original\", \"ohm\", \"nH\", \"fF\", \"mSie\", 5000000000, Maxwell, 1, False\n",
      "INFO 11:41AM [get_matrix]: Exporting matrix data to (C:\\Users\\harshva\\AppData\\Local\\Temp\\tmp_yuaoo37.txt, C, , Setup:AdaptivePass, \"Original\", \"ohm\", \"nH\", \"fF\", \"mSie\", 5000000000, Maxwell, 1, False\n",
      "INFO 11:41AM [get_matrix]: Exporting matrix data to (C:\\Users\\harshva\\AppData\\Local\\Temp\\tmpem_hroc9.txt, C, , Setup:AdaptivePass, \"Original\", \"ohm\", \"nH\", \"fF\", \"mSie\", 5000000000, Maxwell, 2, False\n",
      "INFO 11:41AM [get_matrix]: Exporting matrix data to (C:\\Users\\harshva\\AppData\\Local\\Temp\\tmp5qkl688a.txt, C, , Setup:AdaptivePass, \"Original\", \"ohm\", \"nH\", \"fF\", \"mSie\", 5000000000, Maxwell, 3, False\n",
      "\u001b[38;20m[INFO|2025-03-17 11:41:27]: CAPACITANCE MATRIX\n",
      "                                    coupler_connector_pad_name_qubit_1  ground_main_plane  pad_bot_name_qubit_1  pad_top_name_qubit_1  readout_connector_pad_name_qubit_1  trace_name_charge_line1\n",
      "coupler_connector_pad_name_qubit_1                            38.31119          -26.68746              -7.02366              -1.45320                            -0.21147                 -0.01213\n",
      "ground_main_plane                                            -26.68746          746.40459             -48.14219             -54.60660                           -62.92659               -247.60952\n",
      "pad_bot_name_qubit_1                                          -7.02366          -48.14219              82.50850             -22.40193                            -1.62931                 -0.05453\n",
      "pad_top_name_qubit_1                                          -1.45320          -54.60660             -22.40193              86.55198                            -8.02042                 -0.06983\n",
      "readout_connector_pad_name_qubit_1                            -0.21147          -62.92659              -1.62931              -8.02042                            74.75230                 -0.02831\n",
      "trace_name_charge_line1                                       -0.01213         -247.60952              -0.05453              -0.06983                            -0.02831                247.77431\u001b[0m\n",
      "\u001b[38;20m[INFO|2025-03-17 11:41:27]: Computing charge_line_limited_t1 from decay study.\u001b[0m\n",
      "\u001b[38;20m[INFO|2025-03-17 11:41:27]: Computed charge_line_limited_t1 value: 0.10907783739654588\u001b[0m\n",
      "\u001b[38;20m[INFO|2025-03-17 11:41:28]: Updated_design_vars\n",
      "{\n",
      "    \"design_var_cl_pos_x_qubit_1\": \"-2580.000000001 um\"\n",
      "}\u001b[0m\n",
      "\u001b[38;20m[INFO|2025-03-17 11:41:28]: Simulating capacitance matrix study.\u001b[0m\n"
     ]
    },
    {
     "name": "stdout",
     "output_type": "stream",
     "text": [
      "position: [ 0.       -2.491745] : direction:[0. 1.]. position: [0.       2.731745] : direction:[ 0. -1.].\n",
      "position: [0.       4.461745] : direction:[-0. -1.]. position: [0.       3.068255] : direction:[0. 1.].\n",
      "position: [ 0.       -4.461745] : direction:[0. 1.]. position: [ 0.       -3.308255] : direction:[ 0. -1.].\n",
      "position: [-4.37 -2.  ] : direction:[ 1. -0.]. position: [-4.18 -1.8 ] : direction:[-1.  0.].\n",
      "position: [-4.37  2.  ] : direction:[ 1. -0.]. position: [-4.2  1.8] : direction:[-1.  0.].\n",
      "position: [ 0.       -2.491745] : direction:[0. 1.]. position: [0.       2.731745] : direction:[ 0. -1.].\n",
      "position: [0.       4.461745] : direction:[-0. -1.]. position: [0.       3.068255] : direction:[0. 1.].\n",
      "position: [ 0.       -4.461745] : direction:[0. 1.]. position: [ 0.       -3.308255] : direction:[ 0. -1.].\n",
      "position: [-4.37 -2.  ] : direction:[ 1. -0.]. position: [-4.18 -1.8 ] : direction:[-1.  0.].\n",
      "position: [-4.37  2.  ] : direction:[ 1. -0.]. position: [-4.2  1.8] : direction:[-1.  0.].\n"
     ]
    },
    {
     "name": "stderr",
     "output_type": "stream",
     "text": [
      "INFO 11:41AM [connect_design]: \tOpened active design\n",
      "\tDesign:    Design_q3d [Solution type: Q3D]\n",
      "INFO 11:41AM [get_setup]: \tOpened setup `Setup`  (<class 'pyEPR.ansys.AnsysQ3DSetup'>)\n",
      "INFO 11:41AM [analyze]: Analyzing setup Setup\n",
      "INFO 11:41AM [get_matrix]: Exporting matrix data to (C:\\Users\\harshva\\AppData\\Local\\Temp\\tmp86kzhi9g.txt, C, , Setup:LastAdaptive, \"Original\", \"ohm\", \"nH\", \"fF\", \"mSie\", 5000000000, Maxwell, 1, False\n",
      "INFO 11:41AM [get_matrix]: Exporting matrix data to (C:\\Users\\harshva\\AppData\\Local\\Temp\\tmpnv0jkk8o.txt, C, , Setup:AdaptivePass, \"Original\", \"ohm\", \"nH\", \"fF\", \"mSie\", 5000000000, Maxwell, 1, False\n",
      "INFO 11:41AM [get_matrix]: Exporting matrix data to (C:\\Users\\harshva\\AppData\\Local\\Temp\\tmp4iyfa0vx.txt, C, , Setup:AdaptivePass, \"Original\", \"ohm\", \"nH\", \"fF\", \"mSie\", 5000000000, Maxwell, 2, False\n",
      "INFO 11:41AM [get_matrix]: Exporting matrix data to (C:\\Users\\harshva\\AppData\\Local\\Temp\\tmp7gcii_fp.txt, C, , Setup:AdaptivePass, \"Original\", \"ohm\", \"nH\", \"fF\", \"mSie\", 5000000000, Maxwell, 3, False\n",
      "\u001b[38;20m[INFO|2025-03-17 11:41:40]: CAPACITANCE MATRIX\n",
      "                                    coupler_connector_pad_name_qubit_1  ground_main_plane  pad_bot_name_qubit_1  pad_top_name_qubit_1  readout_connector_pad_name_qubit_1  trace_name_charge_line1\n",
      "coupler_connector_pad_name_qubit_1                            38.31123          -26.68548              -7.02349              -1.45308                            -0.21140                 -0.01404\n",
      "ground_main_plane                                            -26.68548          750.12951             -48.13802             -54.61199                           -62.92249               -250.99485\n",
      "pad_bot_name_qubit_1                                          -7.02349          -48.13802              82.50941             -22.40095                            -1.62888                 -0.05879\n",
      "pad_top_name_qubit_1                                          -1.45308          -54.61199             -22.40095              86.56357                            -8.01963                 -0.07792\n",
      "readout_connector_pad_name_qubit_1                            -0.21140          -62.92249              -1.62888              -8.01963                            74.75268                 -0.03260\n",
      "trace_name_charge_line1                                       -0.01404         -250.99485              -0.05879              -0.07792                            -0.03260                251.17821\u001b[0m\n",
      "\u001b[38;20m[INFO|2025-03-17 11:41:40]: Computing charge_line_limited_t1 from decay study.\u001b[0m\n",
      "\u001b[38;20m[INFO|2025-03-17 11:41:40]: Computed charge_line_limited_t1 value: 0.05513939686660529\u001b[0m\n"
     ]
    }
   ],
   "source": [
    "# number of runs of optimization and number of passes for simulation at each run\n",
    "group_runs = 14\n",
    "group_passes_cap = 8\n",
    "\n",
    "for i in range(group_runs):\n",
    "    design_analysis.update_nbr_passes_capacitance_ministudies(group_passes_cap)\n",
    "    design_analysis.optimize_target({}, {})\n",
    "    design_analysis.screenshot(gui=gui, run=i)"
   ]
  },
  {
   "cell_type": "markdown",
   "metadata": {},
   "source": [
    "## Update parameters"
   ]
  },
  {
   "cell_type": "code",
   "execution_count": null,
   "metadata": {},
   "outputs": [],
   "source": [
    "design_analysis.overwrite_parameters()"
   ]
  },
  {
   "cell_type": "markdown",
   "metadata": {},
   "source": [
    "## Close"
   ]
  },
  {
   "cell_type": "code",
   "execution_count": null,
   "metadata": {},
   "outputs": [],
   "source": [
    "close_ansys()"
   ]
  }
 ],
 "metadata": {
  "kernelspec": {
   "display_name": "qdesignenv",
   "language": "python",
   "name": "python3"
  },
  "language_info": {
   "codemirror_mode": {
    "name": "ipython",
    "version": 3
   },
   "file_extension": ".py",
   "mimetype": "text/x-python",
   "name": "python",
   "nbconvert_exporter": "python",
   "pygments_lexer": "ipython3",
   "version": "3.10.16"
  }
 },
 "nbformat": 4,
 "nbformat_minor": 2
}
