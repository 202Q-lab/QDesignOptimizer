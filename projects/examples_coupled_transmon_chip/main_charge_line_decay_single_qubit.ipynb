{
 "cells": [
  {
   "cell_type": "markdown",
   "metadata": {},
   "source": [
    "# Capacitive simulation of qubit decay in charge line\n",
    "Optimize the T1 limit of the qubit as a function of its distance from a charge line.\n",
    "\n",
    "**_NOTE:_**  In order for the optimization to work properly, the design variable ```design_var_cl_pos_x_qubit``` refers to the relative position between the charge line and the edge of the transmon's pocket. Check the [design file](https://github.com/202Q-lab/QDesignOptimizer/blob/main/projects/examples_coupled_transmon_chip/design.py) to see how it is parsed when creating the design."
   ]
  },
  {
   "cell_type": "code",
   "execution_count": null,
   "metadata": {},
   "outputs": [],
   "source": [
    "%load_ext autoreload\n",
    "%autoreload 2"
   ]
  },
  {
   "cell_type": "markdown",
   "metadata": {},
   "source": [
    "## Rendering the design"
   ]
  },
  {
   "cell_type": "code",
   "execution_count": null,
   "metadata": {},
   "outputs": [],
   "source": [
    "import names as n\n",
    "from design import render_qiskit_metal_design\n",
    "from qdesignoptimizer.utils.chip_generation import create_chip_and_gui, ChipType\n",
    "\n",
    "chip_type = ChipType(size_x=\"10mm\", size_y=\"10mm\", size_z=\"-300um\", material=\"silicon\")\n",
    "design, gui = create_chip_and_gui(n.CHIP_NAME, chip_type, open_gui=True)\n",
    "render_qiskit_metal_design(design, gui)"
   ]
  },
  {
   "cell_type": "markdown",
   "metadata": {},
   "source": [
    "## Creating the study and optimization targets"
   ]
  },
  {
   "cell_type": "code",
   "execution_count": null,
   "metadata": {},
   "outputs": [],
   "source": [
    "import mini_studies as ms\n",
    "import optimization_targets as ot"
   ]
  },
  {
   "cell_type": "code",
   "execution_count": null,
   "metadata": {},
   "outputs": [],
   "source": [
    "MINI_STUDY_GROUP = n.NBR_1\n",
    "MINI_STUDY = ms.get_mini_study_qb_charge_line(group=MINI_STUDY_GROUP)\n",
    "RENDER_QISKIT_METAL = lambda design: render_qiskit_metal_design(design, gui)\n",
    "\n",
    "opt_targets = ot.get_opt_targets_qb_charge_line(group=MINI_STUDY_GROUP)"
   ]
  },
  {
   "cell_type": "markdown",
   "metadata": {},
   "source": [
    "## Creating design analysis objects"
   ]
  },
  {
   "cell_type": "code",
   "execution_count": null,
   "metadata": {},
   "outputs": [],
   "source": [
    "import time\n",
    "import parameter_targets as pt\n",
    "import plot_settings as ps\n",
    "\n",
    "from qdesignoptimizer.design_analysis import DesignAnalysis, DesignAnalysisState\n",
    "from qdesignoptimizer.utils.utils import get_save_path\n",
    "\n",
    "# Closing Ansys hfss\n",
    "from qdesignoptimizer.utils.utils import close_ansys\n",
    "\n",
    "close_ansys()"
   ]
  },
  {
   "cell_type": "code",
   "execution_count": null,
   "metadata": {},
   "outputs": [],
   "source": [
    "design_analysis_state = DesignAnalysisState(\n",
    "    design, RENDER_QISKIT_METAL, pt.PARAM_TARGETS\n",
    ")\n",
    "\n",
    "design_analysis = DesignAnalysis(\n",
    "    design_analysis_state,\n",
    "    mini_study=MINI_STUDY,\n",
    "    opt_targets=opt_targets,\n",
    "    save_path=get_save_path(\"out/\", n.CHIP_NAME),\n",
    "    update_design_variables=False,\n",
    "    plot_settings=ps.PLOT_SETTINGS_CHARGE_LINE_DECAY,\n",
    ")"
   ]
  },
  {
   "cell_type": "markdown",
   "metadata": {},
   "source": [
    "## Optimization step"
   ]
  },
  {
   "cell_type": "code",
   "execution_count": null,
   "metadata": {},
   "outputs": [],
   "source": [
    "# number of runs of optimization and number of passes for simulation at each run\n",
    "group_runs = 10\n",
    "group_passes_cap = 8\n",
    "\n",
    "for i in range(group_runs):\n",
    "    design_analysis.update_nbr_passes_capacitance_ministudies(group_passes_cap)\n",
    "    design_analysis.optimize_target({}, {})\n",
    "    design_analysis.screenshot(gui=gui, run=i)"
   ]
  },
  {
   "cell_type": "markdown",
   "metadata": {},
   "source": [
    "## Update parameters"
   ]
  },
  {
   "cell_type": "code",
   "execution_count": null,
   "metadata": {},
   "outputs": [],
   "source": [
    "design_analysis.overwrite_parameters()"
   ]
  },
  {
   "cell_type": "markdown",
   "metadata": {},
   "source": [
    "## Close"
   ]
  },
  {
   "cell_type": "code",
   "execution_count": null,
   "metadata": {},
   "outputs": [],
   "source": [
    "close_ansys()"
   ]
  },
  {
   "cell_type": "code",
   "execution_count": null,
   "metadata": {},
   "outputs": [],
   "source": []
  }
 ],
 "metadata": {
  "kernelspec": {
   "display_name": "qdesignenv",
   "language": "python",
   "name": "python3"
  },
  "language_info": {
   "codemirror_mode": {
    "name": "ipython",
    "version": 3
   },
   "file_extension": ".py",
   "mimetype": "text/x-python",
   "name": "python",
   "nbconvert_exporter": "python",
   "pygments_lexer": "ipython3",
   "version": "3.10.16"
  }
 },
 "nbformat": 4,
 "nbformat_minor": 2
}
