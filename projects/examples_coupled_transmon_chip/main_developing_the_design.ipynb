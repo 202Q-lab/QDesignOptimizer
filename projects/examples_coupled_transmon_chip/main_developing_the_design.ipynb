{
 "cells": [
  {
   "cell_type": "markdown",
   "metadata": {},
   "source": [
    "# Generating the design and setting up the gui for qiskit metal"
   ]
  },
  {
   "cell_type": "markdown",
   "metadata": {},
   "source": [
    "This is the first examlpe notebook where we develop the design."
   ]
  },
  {
   "cell_type": "code",
   "execution_count": null,
   "metadata": {},
   "outputs": [],
   "source": [
    "%load_ext autoreload\n",
    "%autoreload 2"
   ]
  },
  {
   "cell_type": "markdown",
   "metadata": {},
   "source": [
    "## Setting up the chip and gui"
   ]
  },
  {
   "cell_type": "code",
   "execution_count": null,
   "metadata": {},
   "outputs": [],
   "source": [
    "import json\n",
    "import names as n\n",
    "from qdesignoptimizer.utils.chip_generation import create_chip_base, ChipType"
   ]
  },
  {
   "cell_type": "code",
   "execution_count": null,
   "metadata": {},
   "outputs": [],
   "source": [
    "CHIP_NAME = \"multi_transmon_chip\"\n",
    "OPEN_GUI = True\n",
    "\n",
    "# Creating base design object and gui\n",
    "chip_type = ChipType(size_x=\"10mm\", size_y=\"10mm\", size_z=\"-300um\", material=\"silicon\")\n",
    "design, gui = create_chip_base(\n",
    "    chip_name=CHIP_NAME, chip_type=chip_type, open_gui=OPEN_GUI\n",
    ")\n",
    "\n",
    "# Adding the variables for the design\n",
    "with open(\"design_variables.json\") as in_file:\n",
    "    initial_design_variables = json.load(in_file)\n",
    "n.add_design_variables_to_design(design, initial_design_variables)"
   ]
  },
  {
   "cell_type": "markdown",
   "metadata": {},
   "source": [
    "## Generating the design"
   ]
  },
  {
   "cell_type": "code",
   "execution_count": null,
   "metadata": {},
   "outputs": [],
   "source": [
    "import design as d\n",
    "\n",
    "# Function to render the design\n",
    "def render_qiskit_metal_design(design, gui):\n",
    "    d.add_transmon_plus_resonator(design, group=n.NBR_1)\n",
    "    d.add_transmon_plus_resonator(design, group=n.NBR_2)\n",
    "\n",
    "    d.add_coupler(design)\n",
    "\n",
    "    d.add_route_interconnects(design)\n",
    "\n",
    "    d.add_launch_pads(design)\n",
    "\n",
    "    d.add_chargeline(design, group=n.NBR_1)\n",
    "    d.add_chargeline(design, group=n.NBR_2)\n",
    "\n",
    "    gui.rebuild()\n",
    "    gui.autoscale()"
   ]
  },
  {
   "cell_type": "code",
   "execution_count": null,
   "metadata": {},
   "outputs": [],
   "source": [
    "render_qiskit_metal_design(design, gui)"
   ]
  }
 ],
 "metadata": {
  "kernelspec": {
   "display_name": "qdesignenv",
   "language": "python",
   "name": "python3"
  },
  "language_info": {
   "codemirror_mode": {
    "name": "ipython",
    "version": 3
   },
   "file_extension": ".py",
   "mimetype": "text/x-python",
   "name": "python",
   "nbconvert_exporter": "python",
   "pygments_lexer": "ipython3",
   "version": "3.10.16"
  }
 },
 "nbformat": 4,
 "nbformat_minor": 2
}
