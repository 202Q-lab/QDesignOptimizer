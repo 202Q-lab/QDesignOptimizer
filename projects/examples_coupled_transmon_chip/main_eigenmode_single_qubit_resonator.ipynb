{
 "cells": [
  {
   "cell_type": "markdown",
   "metadata": {},
   "source": [
    "# Eigenmode simulation of single qubit with readout resonator"
   ]
  },
  {
   "cell_type": "code",
   "execution_count": 1,
   "metadata": {},
   "outputs": [],
   "source": [
    "%load_ext autoreload\n",
    "%autoreload 2"
   ]
  },
  {
   "cell_type": "markdown",
   "metadata": {},
   "source": [
    "## Rendering the design"
   ]
  },
  {
   "cell_type": "code",
   "execution_count": 2,
   "metadata": {},
   "outputs": [],
   "source": [
    "import names as n\n",
    "import design as d\n",
    "from qdesignoptimizer.utils.chip_generation import create_chip_base\n",
    "\n",
    "design, gui = create_chip_base(n.CHIP_NAME, d.chip_type, open_gui=True)\n",
    "d.render_qiskit_metal_design(design, gui)"
   ]
  },
  {
   "cell_type": "markdown",
   "metadata": {},
   "source": [
    "## Creating the study and optimization targets"
   ]
  },
  {
   "cell_type": "code",
   "execution_count": 3,
   "metadata": {},
   "outputs": [],
   "source": [
    "import mini_studies as ms\n",
    "import optimization_targets as ot"
   ]
  },
  {
   "cell_type": "code",
   "execution_count": 4,
   "metadata": {},
   "outputs": [],
   "source": [
    "MINI_STUDY_GROUP = n.NBR_1\n",
    "MINI_STUDY = ms.get_mini_study_qb_res(group=MINI_STUDY_GROUP)\n",
    "RENDER_QISKIT_METAL = lambda design: d.render_qiskit_metal_design(design, gui)\n",
    "\n",
    "\n",
    "opt_targets = ot.get_opt_targets_2qubits_resonator_coupler(\n",
    "    groups=[MINI_STUDY_GROUP],\n",
    "    opt_target_qubit_freq=True,\n",
    "    opt_target_qubit_anharm=True,\n",
    "    opt_target_resonator_freq=True,\n",
    "    opt_target_resonator_kappa=True,\n",
    "    opt_target_resonator_qubit_chi=True,\n",
    "    use_simple_resonator_qubit_chi_relation=True,\n",
    ")"
   ]
  },
  {
   "cell_type": "markdown",
   "metadata": {},
   "source": [
    "## Creating design analysis objects"
   ]
  },
  {
   "cell_type": "code",
   "execution_count": 5,
   "metadata": {},
   "outputs": [],
   "source": [
    "import time\n",
    "import parameter_targets as pt\n",
    "import plot_settings as ps\n",
    "\n",
    "from qdesignoptimizer.design_analysis import DesignAnalysis, DesignAnalysisState\n",
    "from qiskit_metal.qlibrary.couplers.coupled_line_tee import CoupledLineTee\n",
    "from design import CoupledLineTee_mesh_names\n",
    "from qdesignoptimizer.design_analysis_types import MeshingMap\n",
    "\n",
    "from qdesignoptimizer.utils.utils import get_save_path\n",
    "\n",
    "# Closing Ansys hfss\n",
    "from qdesignoptimizer.utils.utils import close_ansys\n",
    "\n",
    "close_ansys()"
   ]
  },
  {
   "cell_type": "code",
   "execution_count": 6,
   "metadata": {},
   "outputs": [
    {
     "name": "stderr",
     "output_type": "stream",
     "text": [
      "\u001b[38;20m[INFO|2025-07-14 16:03:37]: self.eig_solver.sim.setup \n",
      "{\n",
      "    \"name\": \"Resonator_setup\",\n",
      "    \"reuse_selected_design\": true,\n",
      "    \"reuse_setup\": true,\n",
      "    \"min_freq_ghz\": 1,\n",
      "    \"n_modes\": 1,\n",
      "    \"max_delta_f\": 0.5,\n",
      "    \"max_passes\": 10,\n",
      "    \"min_passes\": 1,\n",
      "    \"min_converged\": 1,\n",
      "    \"pct_refinement\": 30,\n",
      "    \"basis_order\": 1,\n",
      "    \"vars\": {\n",
      "        \"Lj\": \"10 nH\",\n",
      "        \"Cj\": \"0 fF\"\n",
      "    }\n",
      "}\u001b[0m\n",
      "INFO 04:03PM [connect_project]: Connecting to Ansys Desktop API...\n",
      "INFO 04:03PM [load_ansys_project]: \tOpened Ansys App\n",
      "INFO 04:03PM [load_ansys_project]: \tOpened Ansys Desktop v2021.2.0\n",
      "INFO 04:03PM [load_ansys_project]: \tOpened Ansys Project\n",
      "\tFolder:    C:/Users/lukassp/Documents/Ansoft/\n",
      "\tProject:   Project97\n",
      "INFO 04:03PM [connect_design]: No active design found (or error getting active design).\n",
      "INFO 04:03PM [connect]: \t Connected to project \"Project97\". No design detected\n",
      "04:03PM 45s WARNING [activate_ansys_design]: The design_name=get_mini_study_qb_res was not in active project.  Designs in active project are: \n",
      "[].  A new design will be added to the project.  \n",
      "INFO 04:03PM [connect_design]: \tOpened active design\n",
      "\tDesign:    get_mini_study_qb_res [Solution type: Eigenmode]\n",
      "WARNING 04:03PM [connect_setup]: \tNo design setup detected.\n",
      "WARNING 04:03PM [connect_setup]: \tCreating eigenmode default setup.\n",
      "INFO 04:03PM [get_setup]: \tOpened setup `Setup`  (<class 'pyEPR.ansys.HfssEMSetup'>)\n"
     ]
    }
   ],
   "source": [
    "design_analysis_state = DesignAnalysisState(\n",
    "    design, RENDER_QISKIT_METAL, pt.PARAM_TARGETS\n",
    ")\n",
    "\n",
    "# map for finer meshing\n",
    "meshing_map = [\n",
    "    MeshingMap(component_class=CoupledLineTee, mesh_names=CoupledLineTee_mesh_names)\n",
    "]\n",
    "\n",
    "design_analysis = DesignAnalysis(\n",
    "    design_analysis_state,\n",
    "    mini_study=MINI_STUDY,\n",
    "    opt_targets=opt_targets,\n",
    "    save_path=get_save_path(\"out/\", n.CHIP_NAME),\n",
    "    update_design_variables=False,\n",
    "    plot_settings=ps.PLOT_SETTINGS,\n",
    "    meshing_map=meshing_map,\n",
    ")"
   ]
  },
  {
   "cell_type": "markdown",
   "metadata": {},
   "source": [
    "## Optimization step"
   ]
  },
  {
   "cell_type": "code",
   "execution_count": 7,
   "metadata": {},
   "outputs": [
    {
     "name": "stderr",
     "output_type": "stream",
     "text": [
      "\u001b[38;20m[INFO|2025-07-14 16:03:46]: Updated_design_vars\n",
      "{\n",
      "    \"cpw_width\": \"10 um\",\n",
      "    \"cpw_gap\": \"6 um\",\n",
      "    \"design_var_width_qubit_1\": \"400um\",\n",
      "    \"design_var_width_qubit_2\": \"400um\",\n",
      "    \"design_var_cl_pos_x_qubit_1\": \"-100um\",\n",
      "    \"design_var_cl_pos_y_qubit_1\": \"-300um\",\n",
      "    \"design_var_cl_pos_x_qubit_2\": \"-100um\",\n",
      "    \"design_var_cl_pos_y_qubit_2\": \"300um\",\n",
      "    \"design_var_length_resonator_1_capacitance\": \"20um\",\n",
      "    \"design_var_length_resonator_2_capacitance\": \"20um\",\n",
      "    \"design_var_lj_qubit_1\": \"12.1nH\",\n",
      "    \"design_var_lj_qubit_2\": \"9.1nH\",\n",
      "    \"design_var_cj_qubit_1\": \"0fF\",\n",
      "    \"design_var_cj_qubit_2\": \"0fF\",\n",
      "    \"design_var_length_resonator_1\": \"7500um\",\n",
      "    \"design_var_length_resonator_2\": \"6500um\",\n",
      "    \"design_var_length_coupler_1to2\": \"4000um\",\n",
      "    \"design_var_coupl_length_qubit_1_resonator_1\": \"100um\",\n",
      "    \"design_var_coupl_length_qubit_2_resonator_2\": \"100um\",\n",
      "    \"design_var_coupl_length_resonator_1_tee\": \"400um\",\n",
      "    \"design_var_coupl_length_resonator_2_tee\": \"160um\"\n",
      "}\u001b[0m\n"
     ]
    },
    {
     "name": "stdout",
     "output_type": "stream",
     "text": [
      "pyaedt INFO: using existing logger.\n",
      "pyaedt INFO: Launching PyAEDT outside AEDT with CPython and PythonNET.\n",
      "pyaedt INFO: AEDT installation Path C:\\Program Files\\AnsysEM\\AnsysEM21.2\\Win64.\n",
      "pyaedt INFO: Launching AEDT with module PythonNET.\n",
      "pyaedt INFO: Ansoft.ElectronicsDesktop.2021.2 Started with process ID 17508.\n",
      "pyaedt INFO: pyaedt v0.6.46\n",
      "pyaedt INFO: Python version 3.10.15 | packaged by Anaconda, Inc. | (main, Oct  3 2024, 07:22:19) [MSC v.1929 64 bit (AMD64)]\n",
      "pyaedt INFO: No project is defined. Project Project97 exists and has been read.\n",
      "pyaedt INFO: Active Design set to get_mini_study_qb_res\n",
      "pyaedt INFO: Aedt Objects initialized\n",
      "pyaedt INFO: Variable Manager initialized\n",
      "pyaedt INFO: Design Loaded\n",
      "pyaedt INFO: Successfully loaded project materials !\n",
      "pyaedt INFO: Materials Loaded\n",
      "pyaedt INFO: Union of 10 objects has been executed.\n",
      "sheet_thickness 0.0002\n",
      "pyaedt INFO: Union of 10 objects has been executed.\n"
     ]
    },
    {
     "name": "stderr",
     "output_type": "stream",
     "text": [
      "INFO 04:04PM [analyze]: Analyzing setup Setup\n"
     ]
    },
    {
     "name": "stdout",
     "output_type": "stream",
     "text": [
      "interface substrate_air\n",
      "Assigning {'eps_r': 11.4, 'th': 1e-06, 'tan_delta_surf': 1} to main_Section1 with properties {'eps_r': 11.4, 'th': 1e-06, 'tan_delta_surf': 1}\n",
      "interface metal_substrate\n",
      "Assigning {'eps_r': 11.4, 'th': 1e-06, 'tan_delta_surf': 1} to readout_wire_name_qubit_1_2 with properties {'eps_r': 11.4, 'th': 1e-06, 'tan_delta_surf': 1}\n",
      "interface underside_surface\n",
      "Assigning {'eps_r': 11.4, 'th': 1e-06, 'tan_delta_surf': 1} to main_Section2 with properties {'eps_r': 11.4, 'th': 1e-06, 'tan_delta_surf': 1}\n",
      "interface metal_air\n",
      "Assigning {'eps_r': 11.4, 'th': 1e-06, 'tan_delta_surf': 1} to readout_wire_name_qubit_1_ with properties {'eps_r': 11.4, 'th': 1e-06, 'tan_delta_surf': 1}\n"
     ]
    },
    {
     "ename": "KeyboardInterrupt",
     "evalue": "",
     "output_type": "error",
     "traceback": [
      "\u001b[1;31m---------------------------------------------------------------------------\u001b[0m",
      "\u001b[1;31mKeyboardInterrupt\u001b[0m                         Traceback (most recent call last)",
      "Cell \u001b[1;32mIn[7], line 8\u001b[0m\n\u001b[0;32m      6\u001b[0m design_analysis\u001b[38;5;241m.\u001b[39mupdate_nbr_passes(group_passes)\n\u001b[0;32m      7\u001b[0m design_analysis\u001b[38;5;241m.\u001b[39mupdate_delta_f(delta_f)\n\u001b[1;32m----> 8\u001b[0m \u001b[43mdesign_analysis\u001b[49m\u001b[38;5;241;43m.\u001b[39;49m\u001b[43moptimize_target\u001b[49m\u001b[43m(\u001b[49m\u001b[43m{\u001b[49m\u001b[43m}\u001b[49m\u001b[43m,\u001b[49m\u001b[43m \u001b[49m\u001b[43m{\u001b[49m\u001b[43m}\u001b[49m\u001b[43m)\u001b[49m\n\u001b[0;32m      9\u001b[0m design_analysis\u001b[38;5;241m.\u001b[39mscreenshot(gui\u001b[38;5;241m=\u001b[39mgui, run\u001b[38;5;241m=\u001b[39mi)\n",
      "File \u001b[1;32m~\\Documents\\conda_envs\\qdo\\QDesignOptimizer\\src\\qdesignoptimizer\\design_analysis.py:803\u001b[0m, in \u001b[0;36mDesignAnalysis.optimize_target\u001b[1;34m(self, updated_design_vars_input, system_optimized_params)\u001b[0m\n\u001b[0;32m    796\u001b[0m iteration_result \u001b[38;5;241m=\u001b[39m {}\n\u001b[0;32m    797\u001b[0m \u001b[38;5;28;01mif\u001b[39;00m (\n\u001b[0;32m    798\u001b[0m     \u001b[38;5;28mself\u001b[39m\u001b[38;5;241m.\u001b[39mmini_study \u001b[38;5;129;01mis\u001b[39;00m \u001b[38;5;129;01mnot\u001b[39;00m \u001b[38;5;28;01mNone\u001b[39;00m\n\u001b[0;32m    799\u001b[0m     \u001b[38;5;129;01mand\u001b[39;00m \u001b[38;5;28mlen\u001b[39m(\u001b[38;5;28mself\u001b[39m\u001b[38;5;241m.\u001b[39mmini_study\u001b[38;5;241m.\u001b[39mmodes) \u001b[38;5;241m>\u001b[39m \u001b[38;5;241m0\u001b[39m\n\u001b[0;32m    800\u001b[0m     \u001b[38;5;129;01mand\u001b[39;00m \u001b[38;5;129;01mnot\u001b[39;00m \u001b[38;5;28mself\u001b[39m\u001b[38;5;241m.\u001b[39mmini_study\u001b[38;5;241m.\u001b[39mrun_capacitance_studies_only\n\u001b[0;32m    801\u001b[0m ):\n\u001b[0;32m    802\u001b[0m     \u001b[38;5;66;03m# Eigenmode analysis for frequencies\u001b[39;00m\n\u001b[1;32m--> 803\u001b[0m     \u001b[38;5;28mself\u001b[39m\u001b[38;5;241m.\u001b[39meig_result \u001b[38;5;241m=\u001b[39m \u001b[38;5;28;43mself\u001b[39;49m\u001b[38;5;241;43m.\u001b[39;49m\u001b[43mrun_eigenmodes\u001b[49m\u001b[43m(\u001b[49m\u001b[43m)\u001b[49m\n\u001b[0;32m    804\u001b[0m     iteration_result[\u001b[38;5;124m\"\u001b[39m\u001b[38;5;124meig_results\u001b[39m\u001b[38;5;124m\"\u001b[39m] \u001b[38;5;241m=\u001b[39m deepcopy(\u001b[38;5;28mself\u001b[39m\u001b[38;5;241m.\u001b[39meig_result)\n\u001b[0;32m    806\u001b[0m     \u001b[38;5;66;03m# EPR analysis for nonlinearities\u001b[39;00m\n",
      "File \u001b[1;32m~\\Documents\\conda_envs\\qdo\\QDesignOptimizer\\src\\qdesignoptimizer\\design_analysis.py:333\u001b[0m, in \u001b[0;36mDesignAnalysis.run_eigenmodes\u001b[1;34m(self)\u001b[0m\n\u001b[0;32m    325\u001b[0m     \u001b[38;5;28mself\u001b[39m\u001b[38;5;241m.\u001b[39mrenderer\u001b[38;5;241m.\u001b[39mmodeler\u001b[38;5;241m.\u001b[39mmesh_length(\n\u001b[0;32m    326\u001b[0m         \u001b[38;5;124m\"\u001b[39m\u001b[38;5;124mfine_mesh\u001b[39m\u001b[38;5;124m\"\u001b[39m,\n\u001b[0;32m    327\u001b[0m         fine_mesh_names,\n\u001b[0;32m    328\u001b[0m         MaxLength\u001b[38;5;241m=\u001b[39m\u001b[38;5;28mself\u001b[39m\u001b[38;5;241m.\u001b[39mmini_study\u001b[38;5;241m.\u001b[39mmax_mesh_length_lines_to_ports,\n\u001b[0;32m    329\u001b[0m         RefineInside\u001b[38;5;241m=\u001b[39m\u001b[38;5;28;01mTrue\u001b[39;00m,\n\u001b[0;32m    330\u001b[0m     )        \n\u001b[0;32m    332\u001b[0m \u001b[38;5;66;03m# run eigenmode analysis\u001b[39;00m\n\u001b[1;32m--> 333\u001b[0m \u001b[38;5;28;43mself\u001b[39;49m\u001b[38;5;241;43m.\u001b[39;49m\u001b[43msetup\u001b[49m\u001b[38;5;241;43m.\u001b[39;49m\u001b[43manalyze\u001b[49m\u001b[43m(\u001b[49m\u001b[43m)\u001b[49m\n\u001b[0;32m    334\u001b[0m eig_results \u001b[38;5;241m=\u001b[39m \u001b[38;5;28mself\u001b[39m\u001b[38;5;241m.\u001b[39meig_solver\u001b[38;5;241m.\u001b[39mget_frequencies()\n\u001b[0;32m    335\u001b[0m eig_results[\u001b[38;5;124m\"\u001b[39m\u001b[38;5;124mKappas (kHz)\u001b[39m\u001b[38;5;124m\"\u001b[39m] \u001b[38;5;241m=\u001b[39m (\n\u001b[0;32m    336\u001b[0m     eig_results[\u001b[38;5;124m\"\u001b[39m\u001b[38;5;124mFreq. (GHz)\u001b[39m\u001b[38;5;124m\"\u001b[39m] \u001b[38;5;241m*\u001b[39m \u001b[38;5;241m1e9\u001b[39m \u001b[38;5;241m/\u001b[39m eig_results[\u001b[38;5;124m\"\u001b[39m\u001b[38;5;124mQuality Factor\u001b[39m\u001b[38;5;124m\"\u001b[39m] \u001b[38;5;241m/\u001b[39m \u001b[38;5;241m1e3\u001b[39m\n\u001b[0;32m    337\u001b[0m )\n",
      "File \u001b[1;32mc:\\Users\\lukassp\\AppData\\Local\\anaconda3\\envs\\qdo\\lib\\site-packages\\pyEPR\\ansys.py:1065\u001b[0m, in \u001b[0;36mHfssSetup.analyze\u001b[1;34m(self, name)\u001b[0m\n\u001b[0;32m   1063\u001b[0m     name \u001b[38;5;241m=\u001b[39m \u001b[38;5;28mself\u001b[39m\u001b[38;5;241m.\u001b[39mname\n\u001b[0;32m   1064\u001b[0m logger\u001b[38;5;241m.\u001b[39minfo(\u001b[38;5;124mf\u001b[39m\u001b[38;5;124m'\u001b[39m\u001b[38;5;124mAnalyzing setup \u001b[39m\u001b[38;5;132;01m{\u001b[39;00mname\u001b[38;5;132;01m}\u001b[39;00m\u001b[38;5;124m'\u001b[39m)\n\u001b[1;32m-> 1065\u001b[0m \u001b[38;5;28;01mreturn\u001b[39;00m \u001b[38;5;28;43mself\u001b[39;49m\u001b[38;5;241;43m.\u001b[39;49m\u001b[43mparent\u001b[49m\u001b[38;5;241;43m.\u001b[39;49m\u001b[43m_design\u001b[49m\u001b[38;5;241;43m.\u001b[39;49m\u001b[43mAnalyze\u001b[49m\u001b[43m(\u001b[49m\u001b[43mname\u001b[49m\u001b[43m)\u001b[49m\n",
      "File \u001b[1;32m<COMObject GetDesign>:2\u001b[0m, in \u001b[0;36mAnalyze\u001b[1;34m(self, simulationName)\u001b[0m\n",
      "\u001b[1;31mKeyboardInterrupt\u001b[0m: "
     ]
    }
   ],
   "source": [
    "# number of runs of optimization and number of passes for simulation at each run\n",
    "nbr_iterations = 1\n",
    "group_passes = 3\n",
    "delta_f = 0.001\n",
    "for i in range(nbr_iterations):\n",
    "    design_analysis.update_nbr_passes(group_passes)\n",
    "    design_analysis.update_delta_f(delta_f)\n",
    "    design_analysis.optimize_target({}, {})\n",
    "    design_analysis.screenshot(gui=gui, run=i)"
   ]
  },
  {
   "cell_type": "code",
   "execution_count": null,
   "metadata": {},
   "outputs": [
    {
     "data": {
      "text/plain": [
       "{'substrate_air': {'2': Qsurf_main_Section1    8.939671e-07\n",
       "  dtype: float64},\n",
       " 'metal_substrate': {'2': Qsurf_readout_wire_name_qubit_1_2    1.918400e-08\n",
       "  dtype: float64},\n",
       " 'underside_surface': {'2': Qsurf_main_Section2    6.327069e-11\n",
       "  dtype: float64},\n",
       " 'metal_air': {'2': Qsurf_readout_wire_name_qubit_1_    4.300215e-08\n",
       "  dtype: float64},\n",
       " 'Junction(inductive energy)': {'2': 0.001198706441869977},\n",
       " 'dielectric': {'2': 0.9075539941229287}}"
      ]
     },
     "execution_count": 8,
     "metadata": {},
     "output_type": "execute_result"
    }
   ],
   "source": [
    "design_analysis.pratio"
   ]
  },
  {
   "cell_type": "markdown",
   "metadata": {},
   "source": [
    "## Results"
   ]
  },
  {
   "cell_type": "markdown",
   "metadata": {},
   "source": [
    "### Eigenmodes"
   ]
  },
  {
   "cell_type": "code",
   "execution_count": null,
   "metadata": {},
   "outputs": [
    {
     "data": {
      "text/html": [
       "<div>\n",
       "<style scoped>\n",
       "    .dataframe tbody tr th:only-of-type {\n",
       "        vertical-align: middle;\n",
       "    }\n",
       "\n",
       "    .dataframe tbody tr th {\n",
       "        vertical-align: top;\n",
       "    }\n",
       "\n",
       "    .dataframe thead th {\n",
       "        text-align: right;\n",
       "    }\n",
       "</style>\n",
       "<table border=\"1\" class=\"dataframe\">\n",
       "  <thead>\n",
       "    <tr style=\"text-align: right;\">\n",
       "      <th></th>\n",
       "      <th></th>\n",
       "      <th>Freq. (GHz)</th>\n",
       "      <th>Quality Factor</th>\n",
       "      <th>Kappas (kHz)</th>\n",
       "      <th>Freq. (Hz)</th>\n",
       "      <th>Kappas (Hz)</th>\n",
       "    </tr>\n",
       "    <tr>\n",
       "      <th>variation</th>\n",
       "      <th>mode</th>\n",
       "      <th></th>\n",
       "      <th></th>\n",
       "      <th></th>\n",
       "      <th></th>\n",
       "      <th></th>\n",
       "    </tr>\n",
       "  </thead>\n",
       "  <tbody>\n",
       "    <tr>\n",
       "      <th rowspan=\"2\" valign=\"top\">0</th>\n",
       "      <th>0</th>\n",
       "      <td>4.662363</td>\n",
       "      <td>3.541408e+08</td>\n",
       "      <td>0.013165</td>\n",
       "      <td>4.662363e+09</td>\n",
       "      <td>13.165280</td>\n",
       "    </tr>\n",
       "    <tr>\n",
       "      <th>1</th>\n",
       "      <td>6.996461</td>\n",
       "      <td>2.281050e+05</td>\n",
       "      <td>30.672102</td>\n",
       "      <td>6.996461e+09</td>\n",
       "      <td>30672.102286</td>\n",
       "    </tr>\n",
       "  </tbody>\n",
       "</table>\n",
       "</div>"
      ],
      "text/plain": [
       "                Freq. (GHz)  Quality Factor  Kappas (kHz)    Freq. (Hz)  \\\n",
       "variation mode                                                            \n",
       "0         0        4.662363    3.541408e+08      0.013165  4.662363e+09   \n",
       "          1        6.996461    2.281050e+05     30.672102  6.996461e+09   \n",
       "\n",
       "                 Kappas (Hz)  \n",
       "variation mode                \n",
       "0         0        13.165280  \n",
       "          1     30672.102286  "
      ]
     },
     "execution_count": 9,
     "metadata": {},
     "output_type": "execute_result"
    }
   ],
   "source": [
    "design_analysis.get_eigenmode_results()"
   ]
  },
  {
   "cell_type": "markdown",
   "metadata": {},
   "source": [
    "### Cross Kerr"
   ]
  },
  {
   "cell_type": "code",
   "execution_count": null,
   "metadata": {},
   "outputs": [
    {
     "data": {
      "text/html": [
       "<div>\n",
       "<style scoped>\n",
       "    .dataframe tbody tr th:only-of-type {\n",
       "        vertical-align: middle;\n",
       "    }\n",
       "\n",
       "    .dataframe tbody tr th {\n",
       "        vertical-align: top;\n",
       "    }\n",
       "\n",
       "    .dataframe thead th {\n",
       "        text-align: right;\n",
       "    }\n",
       "</style>\n",
       "<table border=\"1\" class=\"dataframe\">\n",
       "  <thead>\n",
       "    <tr style=\"text-align: right;\">\n",
       "      <th></th>\n",
       "      <th></th>\n",
       "      <th>0</th>\n",
       "      <th>1</th>\n",
       "    </tr>\n",
       "    <tr>\n",
       "      <th>variation</th>\n",
       "      <th></th>\n",
       "      <th></th>\n",
       "      <th></th>\n",
       "    </tr>\n",
       "  </thead>\n",
       "  <tbody>\n",
       "    <tr>\n",
       "      <th rowspan=\"2\" valign=\"top\">0</th>\n",
       "      <th>0</th>\n",
       "      <td>216.455739</td>\n",
       "      <td>0.604541</td>\n",
       "    </tr>\n",
       "    <tr>\n",
       "      <th>1</th>\n",
       "      <td>0.604541</td>\n",
       "      <td>0.000468</td>\n",
       "    </tr>\n",
       "  </tbody>\n",
       "</table>\n",
       "</div>"
      ],
      "text/plain": [
       "                      0         1\n",
       "variation                        \n",
       "0         0  216.455739  0.604541\n",
       "          1    0.604541  0.000468"
      ]
     },
     "execution_count": 10,
     "metadata": {},
     "output_type": "execute_result"
    }
   ],
   "source": [
    "design_analysis.get_cross_kerr_matrix(iteration=-1)"
   ]
  },
  {
   "cell_type": "markdown",
   "metadata": {},
   "source": [
    "## Update parameters"
   ]
  },
  {
   "cell_type": "code",
   "execution_count": null,
   "metadata": {},
   "outputs": [
    {
     "name": "stderr",
     "output_type": "stream",
     "text": [
      "\u001b[38;20m[INFO|2025-07-14 16:00:02]: Overwritten parameters\n",
      "{\n",
      "    \"cpw_width\": \"10 um\",\n",
      "    \"cpw_gap\": \"6 um\",\n",
      "    \"design_var_width_qubit_1\": \"400um\",\n",
      "    \"design_var_width_qubit_2\": \"400um\",\n",
      "    \"design_var_cl_pos_x_qubit_1\": \"-100um\",\n",
      "    \"design_var_cl_pos_y_qubit_1\": \"-300um\",\n",
      "    \"design_var_cl_pos_x_qubit_2\": \"-100um\",\n",
      "    \"design_var_cl_pos_y_qubit_2\": \"300um\",\n",
      "    \"design_var_length_resonator_1_capacitance\": \"20um\",\n",
      "    \"design_var_length_resonator_2_capacitance\": \"20um\",\n",
      "    \"design_var_lj_qubit_1\": \"12.1nH\",\n",
      "    \"design_var_lj_qubit_2\": \"9.1nH\",\n",
      "    \"design_var_cj_qubit_1\": \"0fF\",\n",
      "    \"design_var_cj_qubit_2\": \"0fF\",\n",
      "    \"design_var_length_resonator_1\": \"7500um\",\n",
      "    \"design_var_length_resonator_2\": \"6500um\",\n",
      "    \"design_var_length_coupler_1to2\": \"4000um\",\n",
      "    \"design_var_coupl_length_qubit_1_resonator_1\": \"100um\",\n",
      "    \"design_var_coupl_length_qubit_2_resonator_2\": \"100um\",\n",
      "    \"design_var_coupl_length_resonator_1_tee\": \"400um\",\n",
      "    \"design_var_coupl_length_resonator_2_tee\": \"160um\"\n",
      "}\u001b[0m\n"
     ]
    }
   ],
   "source": [
    "design_analysis.overwrite_parameters()"
   ]
  },
  {
   "cell_type": "markdown",
   "metadata": {},
   "source": [
    "## Close"
   ]
  },
  {
   "cell_type": "code",
   "execution_count": null,
   "metadata": {},
   "outputs": [],
   "source": [
    "# close_ansys()"
   ]
  }
 ],
 "metadata": {
  "kernelspec": {
   "display_name": "qdo",
   "language": "python",
   "name": "python3"
  },
  "language_info": {
   "codemirror_mode": {
    "name": "ipython",
    "version": 3
   },
   "file_extension": ".py",
   "mimetype": "text/x-python",
   "name": "python",
   "nbconvert_exporter": "python",
   "pygments_lexer": "ipython3",
   "version": "3.10.15"
  }
 },
 "nbformat": 4,
 "nbformat_minor": 2
}
