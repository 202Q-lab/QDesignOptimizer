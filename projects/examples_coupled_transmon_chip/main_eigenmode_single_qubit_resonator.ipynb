{
 "cells": [
  {
   "cell_type": "markdown",
   "metadata": {},
   "source": [
    "# Eigenmode simulation of single qubit with readout resonator"
   ]
  },
  {
   "cell_type": "code",
   "execution_count": 1,
   "metadata": {},
   "outputs": [],
   "source": [
    "%load_ext autoreload\n",
    "%autoreload 2"
   ]
  },
  {
   "cell_type": "markdown",
   "metadata": {},
   "source": [
    "## Rendering the design"
   ]
  },
  {
   "cell_type": "code",
   "execution_count": 2,
   "metadata": {},
   "outputs": [],
   "source": [
    "import names as n\n",
    "import design as d\n",
    "from qdesignoptimizer.utils.chip_generation import create_chip_base\n",
    "\n",
    "design, gui = create_chip_base(n.CHIP_NAME, d.chip_type, open_gui=True)\n",
    "d.render_qiskit_metal_design(design, gui)"
   ]
  },
  {
   "cell_type": "markdown",
   "metadata": {},
   "source": [
    "## Creating the study and optimization targets"
   ]
  },
  {
   "cell_type": "code",
   "execution_count": 3,
   "metadata": {},
   "outputs": [],
   "source": [
    "import mini_studies as ms\n",
    "import optimization_targets as ot"
   ]
  },
  {
   "cell_type": "code",
   "execution_count": 4,
   "metadata": {},
   "outputs": [],
   "source": [
    "MINI_STUDY_GROUP = n.NBR_1\n",
    "MINI_STUDY = ms.get_mini_study_qb_res(group=MINI_STUDY_GROUP)\n",
    "RENDER_QISKIT_METAL = lambda design: d.render_qiskit_metal_design(design, gui)\n",
    "\n",
    "\n",
    "opt_targets = ot.get_opt_targets_2qubits_resonator_coupler(\n",
    "    groups=[MINI_STUDY_GROUP],\n",
    "    opt_target_qubit_freq=True,\n",
    "    opt_target_qubit_anharm=True,\n",
    "    opt_target_resonator_freq=True,\n",
    "    opt_target_resonator_kappa=True,\n",
    "    opt_target_resonator_qubit_chi=True,\n",
    "    use_simple_resonator_qubit_chi_relation=True,\n",
    ")"
   ]
  },
  {
   "cell_type": "markdown",
   "metadata": {},
   "source": [
    "## Creating design analysis objects"
   ]
  },
  {
   "cell_type": "code",
   "execution_count": 5,
   "metadata": {},
   "outputs": [],
   "source": [
    "import time\n",
    "import parameter_targets as pt\n",
    "import plot_settings as ps\n",
    "\n",
    "from qdesignoptimizer.design_analysis import DesignAnalysis, DesignAnalysisState\n",
    "from qiskit_metal.qlibrary.couplers.coupled_line_tee import CoupledLineTee\n",
    "from design import CoupledLineTee_mesh_names\n",
    "from qdesignoptimizer.design_analysis_types import MeshingMap\n",
    "\n",
    "from qdesignoptimizer.utils.utils import get_save_path\n",
    "\n",
    "# Closing Ansys hfss\n",
    "from qdesignoptimizer.utils.utils import close_ansys\n",
    "\n",
    "close_ansys()"
   ]
  },
  {
   "cell_type": "code",
   "execution_count": 6,
   "metadata": {},
   "outputs": [
    {
     "name": "stderr",
     "output_type": "stream",
     "text": [
      "\u001b[38;20m[INFO|2025-07-14 12:01:13]: self.eig_solver.sim.setup \n",
      "{\n",
      "    \"name\": \"Resonator_setup\",\n",
      "    \"reuse_selected_design\": true,\n",
      "    \"reuse_setup\": true,\n",
      "    \"min_freq_ghz\": 1,\n",
      "    \"n_modes\": 1,\n",
      "    \"max_delta_f\": 0.5,\n",
      "    \"max_passes\": 10,\n",
      "    \"min_passes\": 1,\n",
      "    \"min_converged\": 1,\n",
      "    \"pct_refinement\": 30,\n",
      "    \"basis_order\": 1,\n",
      "    \"vars\": {\n",
      "        \"Lj\": \"10 nH\",\n",
      "        \"Cj\": \"0 fF\"\n",
      "    }\n",
      "}\u001b[0m\n",
      "INFO 12:01PM [connect_project]: Connecting to Ansys Desktop API...\n",
      "INFO 12:01PM [load_ansys_project]: \tOpened Ansys App\n",
      "INFO 12:01PM [load_ansys_project]: \tOpened Ansys Desktop v2021.2.0\n",
      "INFO 12:01PM [load_ansys_project]: \tOpened Ansys Project\n",
      "\tFolder:    C:/Users/lukassp/Documents/Ansoft/\n",
      "\tProject:   Project75\n",
      "INFO 12:01PM [connect_design]: No active design found (or error getting active design).\n",
      "INFO 12:01PM [connect]: \t Connected to project \"Project75\". No design detected\n",
      "12:01PM 21s WARNING [activate_ansys_design]: The design_name=get_mini_study_qb_res was not in active project.  Designs in active project are: \n",
      "[].  A new design will be added to the project.  \n",
      "INFO 12:01PM [connect_design]: \tOpened active design\n",
      "\tDesign:    get_mini_study_qb_res [Solution type: Eigenmode]\n",
      "WARNING 12:01PM [connect_setup]: \tNo design setup detected.\n",
      "WARNING 12:01PM [connect_setup]: \tCreating eigenmode default setup.\n",
      "INFO 12:01PM [get_setup]: \tOpened setup `Setup`  (<class 'pyEPR.ansys.HfssEMSetup'>)\n"
     ]
    }
   ],
   "source": [
    "design_analysis_state = DesignAnalysisState(\n",
    "    design, RENDER_QISKIT_METAL, pt.PARAM_TARGETS\n",
    ")\n",
    "\n",
    "# map for finer meshing\n",
    "meshing_map = [\n",
    "    MeshingMap(component_class=CoupledLineTee, mesh_names=CoupledLineTee_mesh_names)\n",
    "]\n",
    "\n",
    "design_analysis = DesignAnalysis(\n",
    "    design_analysis_state,\n",
    "    mini_study=MINI_STUDY,\n",
    "    opt_targets=opt_targets,\n",
    "    save_path=get_save_path(\"out/\", n.CHIP_NAME),\n",
    "    update_design_variables=False,\n",
    "    plot_settings=ps.PLOT_SETTINGS,\n",
    "    meshing_map=meshing_map,\n",
    ")"
   ]
  },
  {
   "cell_type": "markdown",
   "metadata": {},
   "source": [
    "## Optimization step"
   ]
  },
  {
   "cell_type": "code",
   "execution_count": null,
   "metadata": {},
   "outputs": [
    {
     "name": "stderr",
     "output_type": "stream",
     "text": [
      "\u001b[38;20m[INFO|2025-07-14 11:54:55]: Updated_design_vars\n",
      "{\n",
      "    \"cpw_width\": \"10 um\",\n",
      "    \"cpw_gap\": \"6 um\",\n",
      "    \"design_var_width_qubit_1\": \"400um\",\n",
      "    \"design_var_width_qubit_2\": \"400um\",\n",
      "    \"design_var_cl_pos_x_qubit_1\": \"-100um\",\n",
      "    \"design_var_cl_pos_y_qubit_1\": \"-300um\",\n",
      "    \"design_var_cl_pos_x_qubit_2\": \"-100um\",\n",
      "    \"design_var_cl_pos_y_qubit_2\": \"300um\",\n",
      "    \"design_var_length_resonator_1_capacitance\": \"20um\",\n",
      "    \"design_var_length_resonator_2_capacitance\": \"20um\",\n",
      "    \"design_var_lj_qubit_1\": \"12.1nH\",\n",
      "    \"design_var_lj_qubit_2\": \"9.1nH\",\n",
      "    \"design_var_cj_qubit_1\": \"0fF\",\n",
      "    \"design_var_cj_qubit_2\": \"0fF\",\n",
      "    \"design_var_length_resonator_1\": \"7500um\",\n",
      "    \"design_var_length_resonator_2\": \"6500um\",\n",
      "    \"design_var_length_coupler_1to2\": \"4000um\",\n",
      "    \"design_var_coupl_length_qubit_1_resonator_1\": \"100um\",\n",
      "    \"design_var_coupl_length_qubit_2_resonator_2\": \"100um\",\n",
      "    \"design_var_coupl_length_resonator_1_tee\": \"400um\",\n",
      "    \"design_var_coupl_length_resonator_2_tee\": \"160um\"\n",
      "}\u001b[0m\n"
     ]
    },
    {
     "name": "stdout",
     "output_type": "stream",
     "text": [
      "pyaedt INFO: using existing logger.\n",
      "pyaedt INFO: Launching PyAEDT outside AEDT with CPython and PythonNET.\n",
      "pyaedt INFO: AEDT installation Path C:\\Program Files\\AnsysEM\\AnsysEM21.2\\Win64.\n",
      "pyaedt INFO: Launching AEDT with module PythonNET.\n",
      "pyaedt INFO: Ansoft.ElectronicsDesktop.2021.2 Started with process ID 8556.\n",
      "pyaedt INFO: pyaedt v0.6.46\n",
      "pyaedt INFO: Python version 3.10.15 | packaged by Anaconda, Inc. | (main, Oct  3 2024, 07:22:19) [MSC v.1929 64 bit (AMD64)]\n",
      "pyaedt INFO: No project is defined. Project Project74 exists and has been read.\n",
      "pyaedt INFO: Active Design set to get_mini_study_qb_res\n",
      "pyaedt INFO: Aedt Objects initialized\n",
      "pyaedt INFO: Variable Manager initialized\n",
      "pyaedt INFO: Design Loaded\n",
      "pyaedt INFO: Successfully loaded project materials !\n",
      "pyaedt INFO: Materials Loaded\n",
      "pyaedt ERROR: Error in :   File \"c:\\Users\\lukassp\\AppData\\Local\\anaconda3\\envs\\qdo\\lib\\site-packages\\pyaedt\\modeler\\cad\\Modeler.py\", line 3210, in subtract\n",
      "pyaedt ERROR: (-2147352567, 'Exception occurred.', (0, None, None, None, 0, -2147024381), None) - subtract -  GENERAL OR AEDT ERROR.\n",
      "pyaedt ERROR: Project: Project74, Design: get_mini_study_qb_res (Eigenmode), [error] Script macro error: Selections: Part with name \"readout_wire_name_qubit_11\" is not found!  (11:55:01  jul 14, 2025)\n",
      "\n",
      "pyaedt ERROR: Arguments with values: \n",
      "pyaedt ERROR:     blank_list = main_Section1 \n",
      "pyaedt ERROR:     tool_list = readout_wire_name_qubit_11 \n",
      "pyaedt ERROR:     keep_originals = False \n",
      "pyaedt ERROR: Check Online documentation on: https://aedt.docs.pyansys.com/search.html?q=subtract\n",
      "pyaedt ERROR: Error in :   File \"c:\\Users\\lukassp\\AppData\\Local\\anaconda3\\envs\\qdo\\lib\\site-packages\\pyaedt\\modeler\\cad\\Modeler.py\", line 3210, in subtract\n",
      "pyaedt ERROR: (-2147352567, 'Exception occurred.', (0, None, None, None, 0, -2147024381), None) - subtract -  GENERAL OR AEDT ERROR.\n",
      "pyaedt ERROR: Project: Project74, Design: get_mini_study_qb_res (Eigenmode), [error] Script macro error: Selections: Part with name \"coupler_wire_name_qubit_11\" is not found!  (11:55:01  jul 14, 2025)\n",
      "\n",
      "pyaedt ERROR: Arguments with values: \n",
      "pyaedt ERROR:     blank_list = main_Section1 \n",
      "pyaedt ERROR:     tool_list = coupler_wire_name_qubit_11 \n",
      "pyaedt ERROR:     keep_originals = False \n",
      "pyaedt ERROR: Check Online documentation on: https://aedt.docs.pyansys.com/search.html?q=subtract\n",
      "pyaedt ERROR: Error in :   File \"c:\\Users\\lukassp\\AppData\\Local\\anaconda3\\envs\\qdo\\lib\\site-packages\\pyaedt\\modeler\\cad\\Modeler.py\", line 3210, in subtract\n",
      "pyaedt ERROR: (-2147352567, 'Exception occurred.', (0, None, None, None, 0, -2147024381), None) - subtract -  GENERAL OR AEDT ERROR.\n",
      "pyaedt ERROR: Project: Project74, Design: get_mini_study_qb_res (Eigenmode), [error] Script macro error: Selections: Part with name \"prime_cpw_name_tee11\" is not found!  (11:55:01  jul 14, 2025)\n",
      "\n",
      "pyaedt ERROR: Arguments with values: \n",
      "pyaedt ERROR:     blank_list = main_Section1 \n",
      "pyaedt ERROR:     tool_list = prime_cpw_name_tee11 \n",
      "pyaedt ERROR:     keep_originals = False \n",
      "pyaedt ERROR: Check Online documentation on: https://aedt.docs.pyansys.com/search.html?q=subtract\n",
      "pyaedt ERROR: Error in :   File \"c:\\Users\\lukassp\\AppData\\Local\\anaconda3\\envs\\qdo\\lib\\site-packages\\pyaedt\\modeler\\cad\\Modeler.py\", line 3210, in subtract\n",
      "pyaedt ERROR: (-2147352567, 'Exception occurred.', (0, None, None, None, 0, -2147024381), None) - subtract -  GENERAL OR AEDT ERROR.\n",
      "pyaedt ERROR: Project: Project74, Design: get_mini_study_qb_res (Eigenmode), [error] Script macro error: Selections: Part with name \"second_cpw_name_tee11\" is not found!  (11:55:01  jul 14, 2025)\n",
      "\n",
      "pyaedt ERROR: Arguments with values: \n",
      "pyaedt ERROR:     blank_list = main_Section1 \n",
      "pyaedt ERROR:     tool_list = second_cpw_name_tee11 \n",
      "pyaedt ERROR:     keep_originals = False \n",
      "pyaedt ERROR: Check Online documentation on: https://aedt.docs.pyansys.com/search.html?q=subtract\n",
      "pyaedt ERROR: Error in :   File \"c:\\Users\\lukassp\\AppData\\Local\\anaconda3\\envs\\qdo\\lib\\site-packages\\pyaedt\\modeler\\cad\\Modeler.py\", line 3210, in subtract\n",
      "pyaedt ERROR: (-2147352567, 'Exception occurred.', (0, None, None, None, 0, -2147024381), None) - subtract -  GENERAL OR AEDT ERROR.\n",
      "pyaedt ERROR: Project: Project74, Design: get_mini_study_qb_res (Eigenmode), [error] Script macro error: Selections: Part with name \"trace_name_resonator_11\" is not found!  (11:55:01  jul 14, 2025)\n",
      "\n",
      "pyaedt ERROR: Arguments with values: \n",
      "pyaedt ERROR:     blank_list = main_Section1 \n",
      "pyaedt ERROR:     tool_list = trace_name_resonator_11 \n",
      "pyaedt ERROR:     keep_originals = False \n",
      "pyaedt ERROR: Check Online documentation on: https://aedt.docs.pyansys.com/search.html?q=subtract\n",
      "pyaedt ERROR: Error in :   File \"c:\\Users\\lukassp\\AppData\\Local\\anaconda3\\envs\\qdo\\lib\\site-packages\\pyaedt\\modeler\\cad\\Modeler.py\", line 3210, in subtract\n",
      "pyaedt ERROR: (-2147352567, 'Exception occurred.', (0, None, None, None, 0, -2147024381), None) - subtract -  GENERAL OR AEDT ERROR.\n",
      "pyaedt ERROR: Project: Project74, Design: get_mini_study_qb_res (Eigenmode), [error] Script macro error: Selections: Part with name \"pad_top_name_qubit_11\" is not found!  (11:55:01  jul 14, 2025)\n",
      "\n",
      "pyaedt ERROR: Arguments with values: \n",
      "pyaedt ERROR:     blank_list = main_Section1 \n",
      "pyaedt ERROR:     tool_list = pad_top_name_qubit_11 \n",
      "pyaedt ERROR:     keep_originals = False \n",
      "pyaedt ERROR: Check Online documentation on: https://aedt.docs.pyansys.com/search.html?q=subtract\n",
      "pyaedt ERROR: Error in :   File \"c:\\Users\\lukassp\\AppData\\Local\\anaconda3\\envs\\qdo\\lib\\site-packages\\pyaedt\\modeler\\cad\\Modeler.py\", line 3210, in subtract\n",
      "pyaedt ERROR: (-2147352567, 'Exception occurred.', (0, None, None, None, 0, -2147024381), None) - subtract -  GENERAL OR AEDT ERROR.\n",
      "pyaedt ERROR: Project: Project74, Design: get_mini_study_qb_res (Eigenmode), [error] Script macro error: Selections: Part with name \"pad_bot_name_qubit_11\" is not found!  (11:55:01  jul 14, 2025)\n",
      "\n",
      "pyaedt ERROR: Arguments with values: \n",
      "pyaedt ERROR:     blank_list = main_Section1 \n",
      "pyaedt ERROR:     tool_list = pad_bot_name_qubit_11 \n",
      "pyaedt ERROR:     keep_originals = False \n",
      "pyaedt ERROR: Check Online documentation on: https://aedt.docs.pyansys.com/search.html?q=subtract\n",
      "pyaedt ERROR: Error in :   File \"c:\\Users\\lukassp\\AppData\\Local\\anaconda3\\envs\\qdo\\lib\\site-packages\\pyaedt\\modeler\\cad\\Modeler.py\", line 3210, in subtract\n",
      "pyaedt ERROR: (-2147352567, 'Exception occurred.', (0, None, None, None, 0, -2147024381), None) - subtract -  GENERAL OR AEDT ERROR.\n",
      "pyaedt ERROR: Project: Project74, Design: get_mini_study_qb_res (Eigenmode), [error] Script macro error: Selections: Part with name \"readout_connector_pad_name_qubit_11\" is not found!  (11:55:02  jul 14, 2025)\n",
      "\n",
      "pyaedt ERROR: Arguments with values: \n",
      "pyaedt ERROR:     blank_list = main_Section1 \n",
      "pyaedt ERROR:     tool_list = readout_connector_pad_name_qubit_11 \n",
      "pyaedt ERROR:     keep_originals = False \n",
      "pyaedt ERROR: Check Online documentation on: https://aedt.docs.pyansys.com/search.html?q=subtract\n",
      "pyaedt ERROR: Error in :   File \"c:\\Users\\lukassp\\AppData\\Local\\anaconda3\\envs\\qdo\\lib\\site-packages\\pyaedt\\modeler\\cad\\Modeler.py\", line 3210, in subtract\n",
      "pyaedt ERROR: (-2147352567, 'Exception occurred.', (0, None, None, None, 0, -2147024381), None) - subtract -  GENERAL OR AEDT ERROR.\n",
      "pyaedt ERROR: Project: Project74, Design: get_mini_study_qb_res (Eigenmode), [error] Script macro error: Selections: Part with name \"coupler_connector_pad_name_qubit_11\" is not found!  (11:55:02  jul 14, 2025)\n",
      "\n",
      "pyaedt ERROR: Arguments with values: \n",
      "pyaedt ERROR:     blank_list = main_Section1 \n",
      "pyaedt ERROR:     tool_list = coupler_connector_pad_name_qubit_11 \n",
      "pyaedt ERROR:     keep_originals = False \n",
      "pyaedt ERROR: Check Online documentation on: https://aedt.docs.pyansys.com/search.html?q=subtract\n",
      "pyaedt ERROR: Error in :   File \"c:\\Users\\lukassp\\AppData\\Local\\anaconda3\\envs\\qdo\\lib\\site-packages\\pyaedt\\modeler\\cad\\Modeler.py\", line 3418, in unite\n",
      "pyaedt ERROR: (-2147352567, 'Exception occurred.', (0, None, None, None, 0, -2147024381), None) - unite -  GENERAL OR AEDT ERROR.\n",
      "pyaedt ERROR: Project: Project74, Design: get_mini_study_qb_res (Eigenmode), [error] Script macro error: Selections: Part with name \"readout_wire_name_qubit_12\" is not found! Selections: Part with name \"coupler_wire_name_qubit_12\" is not found! Selections: Part wi\n",
      "pyaedt ERROR: th name \"prime_cpw_name_tee12\" is not found! Selections: Part with name \"second_cpw_name_tee12\" is not found! Selections: Part with name \"trace_name_resonator_12\" is not found! Selections: Part with name \"pad_top_name_qubit_12\" is not found! Selectio\n",
      "pyaedt ERROR: ns: Part with name \"pad_bot_name_qubit_12\" is not found! Selections: Part with name \"readout_connector_pad_name_qubit_12\" is not found! Selections: Part with name \"coupler_connector_pad_name_qubit_12\" is not found! Selections: At least two parts shou\n",
      "pyaedt ERROR: ld be selected for boolean operation. Invalid blank object.  (11:55:03  jul 14, 2025)\n",
      "\n",
      "pyaedt ERROR: Arguments with values: \n",
      "pyaedt ERROR:     theList = ['readout_wire_name_qubit_12', 'coupler_wire_name_qubit_12', 'prime_cpw_name_tee12', 'second_cpw_name_tee12', 'trace_name_resonator_12', 'pad_top_name_qubit_12', 'pad_bot_name_qubit_12', 'readout_connector_pad_name_qubit_12', 'coupler_c\n",
      "pyaedt ERROR: onnector_pad_name_qubit_12', 'ground_main_plane2'] \n",
      "pyaedt ERROR:     purge = False \n",
      "pyaedt ERROR: Check Online documentation on: https://aedt.docs.pyansys.com/search.html?q=unite\n",
      "sheet_thickness 0.0002\n",
      "pyaedt INFO: Union of 10 objects has been executed.\n"
     ]
    },
    {
     "name": "stderr",
     "output_type": "stream",
     "text": [
      "INFO 11:55AM [analyze]: Analyzing setup Setup\n"
     ]
    },
    {
     "name": "stdout",
     "output_type": "stream",
     "text": [
      "interface substrate_air\n",
      "interface metal_substrate\n",
      "interface underside_surface\n",
      "interface metal_air\n",
      "Design \"get_mini_study_qb_res\" info:\n",
      "\t# eigenmodes    2\n",
      "\t# variations    1\n",
      "Design \"get_mini_study_qb_res\" info:\n",
      "\t# eigenmodes    2\n",
      "\t# variations    1\n",
      "Design \"get_mini_study_qb_res\" info:\n",
      "\t# eigenmodes    2\n",
      "\t# variations    1\n",
      "Design \"get_mini_study_qb_res\" info:\n",
      "\t# eigenmodes    2\n",
      "\t# variations    1\n",
      "Design \"get_mini_study_qb_res\" info:\n",
      "\t# eigenmodes    2\n",
      "\t# variations    1\n",
      "\n",
      "        energy_elec_all       = 2.05276210720019e-25\n",
      "        energy_elec_substrate = 1.8353094327588e-25\n",
      "        EPR of substrate = 89.4%\n",
      "\n",
      "        energy_mag    = 2.40154580039191e-27\n",
      "        energy_mag % of energy_elec_all  = 1.2%\n",
      "        \n",
      "\n",
      "Variation 0  [1/1]\n",
      "\n",
      "  \u001b[1mMode 0 at 5.34 GHz   [1/2]\u001b[0m\n",
      "    Calculating ℰ_magnetic,ℰ_electric\n",
      "       (ℰ_E-ℰ_H)/ℰ_E       ℰ_E       ℰ_H\n",
      "               98.8%  1.026e-25 1.201e-27\n",
      "\n",
      "    Calculating junction energy participation ration (EPR)\n",
      "\tmethod=`line_voltage`. First estimates:\n",
      "\tjunction        EPR p_0j   sign s_0j    (p_capacitive)\n"
     ]
    },
    {
     "name": "stderr",
     "output_type": "stream",
     "text": [
      "\u001b[31;20m[ERROR|2025-07-14 11:55:38]: Please install a more recent version of pyEPR (>=0.8.5.3)\u001b[0m\n"
     ]
    },
    {
     "name": "stdout",
     "output_type": "stream",
     "text": [
      "\t\tEnergy fraction (Lj over Lj&Cj)= 97.35%\n",
      "\tjj_name_qubit_1 0.987508  (+)        0.0268731\n",
      "\t\t(U_tot_cap-U_tot_ind)/mean=1.37%\n",
      "Calculating Qdielectric_main for mode 0 (0/1)\n",
      "p_dielectric_main_0 = 0.8940682538523771\n"
     ]
    },
    {
     "ename": "UnboundLocalError",
     "evalue": "local variable 'chis' referenced before assignment",
     "output_type": "error",
     "traceback": [
      "\u001b[1;31m---------------------------------------------------------------------------\u001b[0m",
      "\u001b[1;31mUnboundLocalError\u001b[0m                         Traceback (most recent call last)",
      "Cell \u001b[1;32mIn[7], line 8\u001b[0m\n\u001b[0;32m      6\u001b[0m design_analysis\u001b[38;5;241m.\u001b[39mupdate_nbr_passes(group_passes)\n\u001b[0;32m      7\u001b[0m design_analysis\u001b[38;5;241m.\u001b[39mupdate_delta_f(delta_f)\n\u001b[1;32m----> 8\u001b[0m \u001b[43mdesign_analysis\u001b[49m\u001b[38;5;241;43m.\u001b[39;49m\u001b[43moptimize_target\u001b[49m\u001b[43m(\u001b[49m\u001b[43m{\u001b[49m\u001b[43m}\u001b[49m\u001b[43m,\u001b[49m\u001b[43m \u001b[49m\u001b[43m{\u001b[49m\u001b[43m}\u001b[49m\u001b[43m)\u001b[49m\n\u001b[0;32m      9\u001b[0m design_analysis\u001b[38;5;241m.\u001b[39mscreenshot(gui\u001b[38;5;241m=\u001b[39mgui, run\u001b[38;5;241m=\u001b[39mi)\n",
      "File \u001b[1;32m~\\Documents\\conda_envs\\qdo\\QDesignOptimizer\\src\\qdesignoptimizer\\design_analysis.py:806\u001b[0m, in \u001b[0;36mDesignAnalysis.optimize_target\u001b[1;34m(self, updated_design_vars_input, system_optimized_params)\u001b[0m\n\u001b[0;32m    803\u001b[0m iteration_result[\u001b[38;5;124m\"\u001b[39m\u001b[38;5;124meig_results\u001b[39m\u001b[38;5;124m\"\u001b[39m] \u001b[38;5;241m=\u001b[39m deepcopy(\u001b[38;5;28mself\u001b[39m\u001b[38;5;241m.\u001b[39meig_result)\n\u001b[0;32m    805\u001b[0m \u001b[38;5;66;03m# EPR analysis for nonlinearities\u001b[39;00m\n\u001b[1;32m--> 806\u001b[0m \u001b[38;5;28mself\u001b[39m\u001b[38;5;241m.\u001b[39mcross_kerrs \u001b[38;5;241m=\u001b[39m \u001b[38;5;28;43mself\u001b[39;49m\u001b[38;5;241;43m.\u001b[39;49m\u001b[43mrun_epr\u001b[49m\u001b[43m(\u001b[49m\u001b[43m)\u001b[49m\n\u001b[0;32m    808\u001b[0m iteration_result[\u001b[38;5;124m\"\u001b[39m\u001b[38;5;124mcross_kerrs\u001b[39m\u001b[38;5;124m\"\u001b[39m] \u001b[38;5;241m=\u001b[39m deepcopy(\u001b[38;5;28mself\u001b[39m\u001b[38;5;241m.\u001b[39mcross_kerrs)\n\u001b[0;32m    810\u001b[0m \u001b[38;5;66;03m# Surface participation ratio\u001b[39;00m\n",
      "File \u001b[1;32m~\\Documents\\conda_envs\\qdo\\QDesignOptimizer\\src\\qdesignoptimizer\\design_analysis.py:384\u001b[0m, in \u001b[0;36mDesignAnalysis.run_epr\u001b[1;34m(self)\u001b[0m\n\u001b[0;32m    378\u001b[0m             log\u001b[38;5;241m.\u001b[39merror(\n\u001b[0;32m    379\u001b[0m                 \u001b[38;5;124m\"\u001b[39m\u001b[38;5;124mPlease install a more recent version of pyEPR (>=0.8.5.3)\u001b[39m\u001b[38;5;124m\"\u001b[39m\n\u001b[0;32m    380\u001b[0m             )\n\u001b[0;32m    382\u001b[0m     \u001b[38;5;28mself\u001b[39m\u001b[38;5;241m.\u001b[39meig_solver\u001b[38;5;241m.\u001b[39msetup\u001b[38;5;241m.\u001b[39mjunctions \u001b[38;5;241m=\u001b[39m \u001b[38;5;28mself\u001b[39m\u001b[38;5;241m.\u001b[39mmini_study\u001b[38;5;241m.\u001b[39mjj_setup\n\u001b[1;32m--> 384\u001b[0m     \u001b[38;5;28;01mreturn\u001b[39;00m \u001b[43mchis\u001b[49m\n\u001b[0;32m    385\u001b[0m add_msg \u001b[38;5;241m=\u001b[39m \u001b[38;5;124m\"\u001b[39m\u001b[38;5;124m\"\u001b[39m\n\u001b[0;32m    386\u001b[0m \u001b[38;5;28;01mif\u001b[39;00m linear_element_found:\n",
      "\u001b[1;31mUnboundLocalError\u001b[0m: local variable 'chis' referenced before assignment"
     ]
    }
   ],
   "source": [
    "# number of runs of optimization and number of passes for simulation at each run\n",
    "nbr_iterations = 1\n",
    "group_passes = 6\n",
    "delta_f = 0.001\n",
    "for i in range(nbr_iterations):\n",
    "    design_analysis.update_nbr_passes(group_passes)\n",
    "    design_analysis.update_delta_f(delta_f)\n",
    "    design_analysis.optimize_target({}, {})\n",
    "    design_analysis.screenshot(gui=gui, run=i)"
   ]
  },
  {
   "cell_type": "markdown",
   "metadata": {},
   "source": [
    "## Results"
   ]
  },
  {
   "cell_type": "markdown",
   "metadata": {},
   "source": [
    "### Eigenmodes"
   ]
  },
  {
   "cell_type": "code",
   "execution_count": null,
   "metadata": {},
   "outputs": [],
   "source": [
    "design_analysis.get_eigenmode_results()"
   ]
  },
  {
   "cell_type": "markdown",
   "metadata": {},
   "source": [
    "### Cross Kerr"
   ]
  },
  {
   "cell_type": "code",
   "execution_count": null,
   "metadata": {},
   "outputs": [],
   "source": [
    "design_analysis.get_cross_kerr_matrix(iteration=-1)"
   ]
  },
  {
   "cell_type": "markdown",
   "metadata": {},
   "source": [
    "## Update parameters"
   ]
  },
  {
   "cell_type": "code",
   "execution_count": null,
   "metadata": {},
   "outputs": [],
   "source": [
    "design_analysis.overwrite_parameters()"
   ]
  },
  {
   "cell_type": "markdown",
   "metadata": {},
   "source": [
    "## Close"
   ]
  },
  {
   "cell_type": "code",
   "execution_count": null,
   "metadata": {},
   "outputs": [],
   "source": [
    "close_ansys()"
   ]
  }
 ],
 "metadata": {
  "kernelspec": {
   "display_name": "qdo",
   "language": "python",
   "name": "python3"
  },
  "language_info": {
   "codemirror_mode": {
    "name": "ipython",
    "version": 3
   },
   "file_extension": ".py",
   "mimetype": "text/x-python",
   "name": "python",
   "nbconvert_exporter": "python",
   "pygments_lexer": "ipython3",
   "version": "3.10.15"
  }
 },
 "nbformat": 4,
 "nbformat_minor": 2
}
