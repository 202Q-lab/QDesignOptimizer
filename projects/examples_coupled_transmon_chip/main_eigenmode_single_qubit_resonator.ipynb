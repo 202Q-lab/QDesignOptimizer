{
 "cells": [
  {
   "cell_type": "markdown",
   "metadata": {},
   "source": [
    "# Eigenmode simulation of single qubit with readout resonator"
   ]
  },
  {
   "cell_type": "code",
   "execution_count": 1,
   "metadata": {},
   "outputs": [],
   "source": [
    "%load_ext autoreload\n",
    "%autoreload 2"
   ]
  },
  {
   "cell_type": "markdown",
   "metadata": {},
   "source": [
    "## Rendering the design"
   ]
  },
  {
   "cell_type": "code",
   "execution_count": 2,
   "metadata": {},
   "outputs": [],
   "source": [
    "import names as n\n",
    "import design as d\n",
    "from qdesignoptimizer.utils.chip_generation import create_chip_base\n",
    "\n",
    "design, gui = create_chip_base(n.CHIP_NAME, d.chip_type, open_gui=True)\n",
    "d.render_qiskit_metal_design(design, gui)"
   ]
  },
  {
   "cell_type": "markdown",
   "metadata": {},
   "source": [
    "## Creating the study and optimization targets"
   ]
  },
  {
   "cell_type": "code",
   "execution_count": 3,
   "metadata": {},
   "outputs": [],
   "source": [
    "import mini_studies as ms\n",
    "import optimization_targets as ot"
   ]
  },
  {
   "cell_type": "code",
   "execution_count": 4,
   "metadata": {},
   "outputs": [],
   "source": [
    "MINI_STUDY_GROUP = n.NBR_1\n",
    "MINI_STUDY = ms.get_mini_study_qb_res(group=MINI_STUDY_GROUP)\n",
    "RENDER_QISKIT_METAL = lambda design: d.render_qiskit_metal_design(design, gui)\n",
    "\n",
    "\n",
    "opt_targets = ot.get_opt_targets_2qubits_resonator_coupler(\n",
    "    groups=[MINI_STUDY_GROUP],\n",
    "    opt_target_qubit_freq=True,\n",
    "    opt_target_qubit_anharm=True,\n",
    "    opt_target_resonator_freq=True,\n",
    "    opt_target_resonator_kappa=True,\n",
    "    opt_target_resonator_qubit_chi=True,\n",
    "    use_simple_resonator_qubit_chi_relation=True,\n",
    ")"
   ]
  },
  {
   "cell_type": "markdown",
   "metadata": {},
   "source": [
    "## Creating design analysis objects"
   ]
  },
  {
   "cell_type": "code",
   "execution_count": 5,
   "metadata": {},
   "outputs": [],
   "source": [
    "import parameter_targets as pt\n",
    "import plot_settings as ps\n",
    "from design import CoupledLineTee_mesh_names\n",
    "\n",
    "from qiskit_metal.qlibrary.couplers.coupled_line_tee import CoupledLineTee\n",
    "\n",
    "from qdesignoptimizer.design_analysis import DesignAnalysis, DesignAnalysisState\n",
    "from qdesignoptimizer.design_analysis_types import MeshingMap\n",
    "from qdesignoptimizer.utils.utils import get_save_path, close_ansys\n",
    "\n",
    "close_ansys()"
   ]
  },
  {
   "cell_type": "code",
   "execution_count": 7,
   "metadata": {},
   "outputs": [
    {
     "name": "stderr",
     "output_type": "stream",
     "text": [
      "\u001b[38;20m[INFO|2025-04-25 09:54:49]: self.eig_solver.sim.setup \n",
      "{\n",
      "    \"name\": \"Resonator_setup\",\n",
      "    \"reuse_selected_design\": true,\n",
      "    \"reuse_setup\": true,\n",
      "    \"min_freq_ghz\": 1,\n",
      "    \"n_modes\": 1,\n",
      "    \"max_delta_f\": 0.5,\n",
      "    \"max_passes\": 10,\n",
      "    \"min_passes\": 1,\n",
      "    \"min_converged\": 1,\n",
      "    \"pct_refinement\": 30,\n",
      "    \"basis_order\": 1,\n",
      "    \"vars\": {\n",
      "        \"Lj\": \"10 nH\",\n",
      "        \"Cj\": \"0 fF\"\n",
      "    }\n",
      "}\u001b[0m\n",
      "INFO 09:55AM [connect_project]: Connecting to Ansys Desktop API...\n",
      "INFO 09:55AM [load_ansys_project]: \tOpened Ansys App\n",
      "INFO 09:55AM [load_ansys_project]: \tOpened Ansys Desktop v2021.2.0\n",
      "INFO 09:55AM [load_ansys_project]: \tOpened Ansys Project\n",
      "\tFolder:    C:/Users/lukassp/Documents/Ansoft/\n",
      "\tProject:   Project43\n",
      "INFO 09:55AM [connect_design]: No active design found (or error getting active design).\n",
      "INFO 09:55AM [connect]: \t Connected to project \"Project43\". No design detected\n",
      "09:55AM 07s WARNING [activate_ansys_design]: The design_name=get_mini_study_qb_res was not in active project.  Designs in active project are: \n",
      "[].  A new design will be added to the project.  \n",
      "INFO 09:55AM [connect_design]: \tOpened active design\n",
      "\tDesign:    get_mini_study_qb_res [Solution type: Eigenmode]\n",
      "WARNING 09:55AM [connect_setup]: \tNo design setup detected.\n",
      "WARNING 09:55AM [connect_setup]: \tCreating eigenmode default setup.\n",
      "INFO 09:55AM [get_setup]: \tOpened setup `Setup`  (<class 'pyEPR.ansys.HfssEMSetup'>)\n"
     ]
    }
   ],
   "source": [
    "design_analysis_state = DesignAnalysisState(\n",
    "    design, RENDER_QISKIT_METAL, pt.PARAM_TARGETS\n",
    ")\n",
    "\n",
    "# map for finer meshing\n",
    "meshing_map = [\n",
    "    MeshingMap(component_class=CoupledLineTee, mesh_names=CoupledLineTee_mesh_names)\n",
    "]\n",
    "\n",
    "design_analysis = DesignAnalysis(\n",
    "    design_analysis_state,\n",
    "    mini_study=MINI_STUDY,\n",
    "    opt_targets=opt_targets,\n",
    "    save_path=get_save_path(\"out/\", n.CHIP_NAME),\n",
    "    update_design_variables=False,\n",
    "    plot_settings=ps.PLOT_SETTINGS,\n",
    "    meshing_map=meshing_map,\n",
    ")"
   ]
  },
  {
   "cell_type": "markdown",
   "metadata": {},
   "source": [
    "## Optimization step"
   ]
  },
  {
   "cell_type": "code",
   "execution_count": 8,
   "metadata": {},
   "outputs": [
    {
     "name": "stderr",
     "output_type": "stream",
     "text": [
      "\u001b[38;20m[INFO|2025-04-25 09:55:16]: Updated_design_vars\n",
      "{\n",
      "    \"cpw_width\": \"10 um\",\n",
      "    \"cpw_gap\": \"6 um\",\n",
      "    \"design_var_width_qubit_1\": \"400um\",\n",
      "    \"design_var_width_qubit_2\": \"400um\",\n",
      "    \"design_var_cl_pos_x_qubit_1\": \"-100um\",\n",
      "    \"design_var_cl_pos_y_qubit_1\": \"-300um\",\n",
      "    \"design_var_cl_pos_x_qubit_2\": \"-100um\",\n",
      "    \"design_var_cl_pos_y_qubit_2\": \"300um\",\n",
      "    \"design_var_length_resonator_1_capacitance\": \"20um\",\n",
      "    \"design_var_length_resonator_2_capacitance\": \"20um\",\n",
      "    \"design_var_lj_qubit_1\": \"12.1nH\",\n",
      "    \"design_var_lj_qubit_2\": \"9.1nH\",\n",
      "    \"design_var_cj_qubit_1\": \"0fF\",\n",
      "    \"design_var_cj_qubit_2\": \"0fF\",\n",
      "    \"design_var_length_resonator_1\": \"7500um\",\n",
      "    \"design_var_length_resonator_2\": \"6500um\",\n",
      "    \"design_var_length_coupler_1to2\": \"4000um\",\n",
      "    \"design_var_coupl_length_qubit_1_resonator_1\": \"100um\",\n",
      "    \"design_var_coupl_length_qubit_2_resonator_2\": \"100um\",\n",
      "    \"design_var_coupl_length_resonator_1_tee\": \"400um\",\n",
      "    \"design_var_coupl_length_resonator_2_tee\": \"160um\"\n",
      "}\u001b[0m\n"
     ]
    },
    {
     "name": "stdout",
     "output_type": "stream",
     "text": [
      "pyaedt INFO: using existing logger.\n",
      "pyaedt INFO: Launching PyAEDT outside AEDT with CPython and PythonNET.\n",
      "pyaedt INFO: AEDT installation Path C:\\Program Files\\AnsysEM\\AnsysEM21.2\\Win64.\n",
      "pyaedt INFO: Launching AEDT with module PythonNET.\n",
      "pyaedt INFO: Ansoft.ElectronicsDesktop.2021.2 Started with process ID 31244.\n",
      "pyaedt INFO: pyaedt v0.6.46\n",
      "pyaedt INFO: Python version 3.10.15 | packaged by Anaconda, Inc. | (main, Oct  3 2024, 07:22:19) [MSC v.1929 64 bit (AMD64)]\n",
      "pyaedt INFO: No project is defined. Project Project43 exists and has been read.\n",
      "pyaedt INFO: Active Design set to get_mini_study_qb_res\n",
      "pyaedt INFO: Aedt Objects initialized\n",
      "pyaedt INFO: Variable Manager initialized\n",
      "pyaedt INFO: Design Loaded\n",
      "pyaedt INFO: Successfully loaded project materials !\n",
      "pyaedt INFO: Materials Loaded\n"
     ]
    },
    {
     "name": "stderr",
     "output_type": "stream",
     "text": [
      "INFO 09:55AM [analyze]: Analyzing setup Setup\n"
     ]
    },
    {
     "name": "stdout",
     "output_type": "stream",
     "text": [
      "Design \"get_mini_study_qb_res\" info:\n",
      "\t# eigenmodes    2\n",
      "\t# variations    1\n",
      "Design \"get_mini_study_qb_res\" info:\n",
      "\t# eigenmodes    2\n",
      "\t# variations    1\n",
      "Design \"get_mini_study_qb_res\" info:\n",
      "\t# eigenmodes    2\n",
      "\t# variations    1\n",
      "Design \"get_mini_study_qb_res\" info:\n",
      "\t# eigenmodes    2\n",
      "\t# variations    1\n",
      "Design \"get_mini_study_qb_res\" info:\n",
      "\t# eigenmodes    2\n",
      "\t# variations    1\n",
      "\n",
      "        energy_elec_all       = 1.50688569506402e-23\n",
      "        energy_elec_substrate = 1.38552434044584e-23\n",
      "        EPR of substrate = 91.9%\n",
      "\n",
      "        energy_mag    = 2.10184368942507e-25\n",
      "        energy_mag % of energy_elec_all  = 1.4%\n",
      "        \n",
      "\n",
      "Variation 0  [1/1]\n",
      "\n",
      "  \u001b[1mMode 0 at 6.00 GHz   [1/2]\u001b[0m\n",
      "    Calculating ℰ_magnetic,ℰ_electric\n",
      "       (ℰ_E-ℰ_H)/ℰ_E       ℰ_E       ℰ_H\n",
      "               98.6%  7.534e-24 1.051e-25\n",
      "\n",
      "    Calculating junction energy participation ration (EPR)\n",
      "\tmethod=`line_voltage`. First estimates:\n",
      "\tjunction        EPR p_0j   sign s_0j    (p_capacitive)\n",
      "\t\tEnergy fraction (Lj over Lj&Cj)= 96.68%\n",
      "\tjj_name_qubit_1 0.985265  (+)        0.0338434\n",
      "\t\t(U_tot_cap-U_tot_ind)/mean=1.70%\n",
      "Calculating Qdielectric_main for mode 0 (0/1)\n",
      "p_dielectric_main_0 = 0.9194621363679322\n",
      "\n",
      "  \u001b[1mMode 1 at 7.04 GHz   [2/2]\u001b[0m\n",
      "    Calculating ℰ_magnetic,ℰ_electric\n",
      "       (ℰ_E-ℰ_H)/ℰ_E       ℰ_E       ℰ_H\n",
      "                0.4%  1.546e-24  1.54e-24\n",
      "\n",
      "    Calculating junction energy participation ration (EPR)\n",
      "\tmethod=`line_voltage`. First estimates:\n",
      "\tjunction        EPR p_1j   sign s_1j    (p_capacitive)\n",
      "\t\tEnergy fraction (Lj over Lj&Cj)= 95.48%\n",
      "\tjj_name_qubit_1 0.00427382  (+)        0.000202365\n",
      "\t\t(U_tot_cap-U_tot_ind)/mean=0.01%\n",
      "Calculating Qdielectric_main for mode 1 (1/1)\n",
      "p_dielectric_main_1 = 0.9204396989090856\n"
     ]
    },
    {
     "name": "stderr",
     "output_type": "stream",
     "text": [
      "WARNING 10:02AM [__init__]: <p>Error: <class 'IndexError'></p>\n"
     ]
    },
    {
     "name": "stdout",
     "output_type": "stream",
     "text": [
      "\n",
      "ANALYSIS DONE. Data saved to:\n",
      "\n",
      "C:\\data-pyEPR\\Project43\\get_mini_study_qb_res\\2025-04-25 10-01-59.npz\n",
      "\n",
      "\n",
      "\t Differences in variations:\n",
      "\n",
      "\n",
      "\n",
      " . . . . . . . . . . . . . . . . . . . . . . . . . . . . . . . . . . . . . . . . \n",
      "Variation 0\n",
      "\n",
      "Starting the diagonalization\n",
      "Finished the diagonalization\n",
      "Pm_norm=\n",
      "modes\n",
      "0    1.034907\n",
      "1    1.022469\n",
      "dtype: float64\n",
      "\n",
      "Pm_norm idx =\n",
      "   jj_name_qubit_1\n",
      "0             True\n",
      "1            False\n",
      "*** P (participation matrix, not normlz.)\n",
      "   jj_name_qubit_1\n",
      "0         0.953012\n",
      "1         0.004273\n",
      "\n",
      "*** S (sign-bit matrix)\n",
      "   s_jj_name_qubit_1\n",
      "0                 -1\n",
      "1                  1\n",
      "*** P (participation matrix, normalized.)\n",
      "      0.99\n",
      "    0.0043\n",
      "\n",
      "*** Chi matrix O1 PT (MHz)\n",
      "    Diag is anharmonicity, off diag is full cross-Kerr.\n",
      "       324     3.29\n",
      "      3.29  0.00837\n",
      "\n",
      "*** Chi matrix ND (MHz) \n",
      "       367     1.69\n",
      "      1.69   0.0027\n",
      "\n",
      "*** Frequencies O1 PT (MHz)\n",
      "0    5670.899974\n",
      "1    7038.345485\n",
      "dtype: float64\n",
      "\n",
      "*** Frequencies ND (MHz)\n",
      "0    5650.379584\n",
      "1    7038.679409\n",
      "dtype: float64\n",
      "\n",
      "*** Q_coupling\n",
      "Empty DataFrame\n",
      "Columns: []\n",
      "Index: [0, 1]\n"
     ]
    },
    {
     "name": "stderr",
     "output_type": "stream",
     "text": [
      "\u001b[38;20m[INFO|2025-04-25 10:02:14]: freq_ND_results\n",
      "{\n",
      "    \"0\": {\n",
      "        \"0\": 5650.379584185201,\n",
      "        \"1\": 7038.679408518521\n",
      "    }\n",
      "}\u001b[0m\n",
      "10:02AM 15s CRITICAL [_qt_message_handler]: line: 0, func: None(), file: None  CRITICAL: QEventDispatcherWin32::wakeUp: Failed to post a message (Not enough quota is available to process this command.)\n",
      "\n"
     ]
    }
   ],
   "source": [
    "# number of runs of optimization and number of passes for simulation at each run\n",
    "nbr_iterations = 5\n",
    "group_passes = 4\n",
    "delta_f = 0.001\n",
    "for i in range(nbr_iterations):\n",
    "    design_analysis.update_nbr_passes(group_passes)\n",
    "    design_analysis.update_delta_f(delta_f)\n",
    "    design_analysis.optimize_target({}, {})\n",
    "    design_analysis.screenshot(gui=gui, run=i)"
   ]
  },
  {
   "cell_type": "markdown",
   "metadata": {},
   "source": [
    "## Results"
   ]
  },
  {
   "cell_type": "markdown",
   "metadata": {},
   "source": [
    "### Eigenmodes"
   ]
  },
  {
   "cell_type": "code",
   "execution_count": null,
   "metadata": {},
   "outputs": [],
   "source": [
    "design_analysis.get_eigenmode_results()"
   ]
  },
  {
   "cell_type": "markdown",
   "metadata": {},
   "source": [
    "### Cross Kerr"
   ]
  },
  {
   "cell_type": "code",
   "execution_count": null,
   "metadata": {},
   "outputs": [],
   "source": [
    "design_analysis.get_cross_kerr_matrix(iteration=-1)"
   ]
  },
  {
   "cell_type": "markdown",
   "metadata": {},
   "source": [
    "## Update parameters"
   ]
  },
  {
   "cell_type": "code",
   "execution_count": null,
   "metadata": {},
   "outputs": [],
   "source": [
    "design_analysis.overwrite_parameters()"
   ]
  },
  {
   "cell_type": "markdown",
   "metadata": {},
   "source": [
    "## Close"
   ]
  },
  {
   "cell_type": "code",
   "execution_count": null,
   "metadata": {},
   "outputs": [],
   "source": [
    "# close_ansys()"
   ]
  }
 ],
 "metadata": {
  "kernelspec": {
   "display_name": "202qdesign",
   "language": "python",
   "name": "python3"
  },
  "language_info": {
   "codemirror_mode": {
    "name": "ipython",
    "version": 3
   },
   "file_extension": ".py",
   "mimetype": "text/x-python",
   "name": "python",
   "nbconvert_exporter": "python",
   "pygments_lexer": "ipython3",
   "version": "3.10.15"
  }
 },
 "nbformat": 4,
 "nbformat_minor": 2
}
