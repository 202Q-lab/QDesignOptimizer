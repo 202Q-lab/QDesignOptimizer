{
 "cells": [
  {
   "cell_type": "markdown",
   "id": "26acf4a4",
   "metadata": {},
   "source": [
    "# Resonator Kappa through scattering analysis simulation"
   ]
  },
  {
   "cell_type": "code",
   "execution_count": 1,
   "id": "1d07b773",
   "metadata": {},
   "outputs": [],
   "source": [
    "%load_ext autoreload\n",
    "%autoreload 2"
   ]
  },
  {
   "cell_type": "code",
   "execution_count": 2,
   "id": "7a516ea5",
   "metadata": {},
   "outputs": [],
   "source": [
    "import names as n\n",
    "import design as d\n",
    "from qdesignoptimizer.utils.chip_generation import create_chip_base\n",
    "\n",
    "design, gui = create_chip_base(n.CHIP_NAME, d.chip_type, open_gui=False)\n",
    "\n",
    "d.render_qiskit_metal_design(design, gui)"
   ]
  },
  {
   "cell_type": "markdown",
   "id": "5460fd51",
   "metadata": {},
   "source": [
    "# Test 1"
   ]
  },
  {
   "cell_type": "code",
   "execution_count": 20,
   "id": "2422c2b3",
   "metadata": {},
   "outputs": [
    {
     "name": "stderr",
     "output_type": "stream",
     "text": [
      "INFO 09:49AM [connect_project]: Connecting to Ansys Desktop API...\n",
      "INFO 09:49AM [load_ansys_project]: \tOpened Ansys App\n",
      "INFO 09:49AM [load_ansys_project]: \tOpened Ansys Desktop v2021.2.0\n",
      "INFO 09:49AM [load_ansys_project]: \tOpened Ansys Project\n",
      "\tFolder:    C:/Users/nirpit/Documents/Ansoft/\n",
      "\tProject:   Project19\n",
      "INFO 09:49AM [connect_design]: \tOpened active design\n",
      "\tDesign:    HangingResonators [Solution type: DrivenModal]\n",
      "INFO 09:49AM [get_setup]: \tOpened setup `Setup`  (<class 'pyEPR.ansys.HfssDMSetup'>)\n",
      "INFO 09:49AM [connect]: \tConnected to project \"Project19\" and design \"HangingResonators\" 😀 \n",
      "\n"
     ]
    },
    {
     "data": {
      "text/plain": [
       "True"
      ]
     },
     "execution_count": 20,
     "metadata": {},
     "output_type": "execute_result"
    }
   ],
   "source": [
    "from qiskit_metal.analyses.simulation.scattering_impedance import ScatteringImpedanceSim\n",
    "em1 = ScatteringImpedanceSim(design, \"hfss\")\n",
    "hfss = em1.renderer\n",
    "hfss.start()"
   ]
  },
  {
   "cell_type": "code",
   "execution_count": 21,
   "id": "644ebc82",
   "metadata": {},
   "outputs": [
    {
     "name": "stderr",
     "output_type": "stream",
     "text": [
      "INFO 09:49AM [connect_design]: \tOpened active design\n",
      "\tDesign:    HangingResonators [Solution type: DrivenModal]\n"
     ]
    }
   ],
   "source": [
    "hfss.activate_ansys_design(\"HangingResonators\", 'drivenmodal',)"
   ]
  },
  {
   "cell_type": "code",
   "execution_count": 5,
   "id": "635c09b5",
   "metadata": {},
   "outputs": [],
   "source": [
    "hfss.options['x_buffer_width_mm'] = 0.5\n",
    "hfss.options['y_buffer_width_mm'] = 0.5"
   ]
  },
  {
   "cell_type": "code",
   "execution_count": 6,
   "id": "3c104296",
   "metadata": {},
   "outputs": [
    {
     "data": {
      "text/plain": [
       "'name_resonator_1'"
      ]
     },
     "execution_count": 6,
     "metadata": {},
     "output_type": "execute_result"
    }
   ],
   "source": [
    "n.name_mode(n.RESONATOR_1)"
   ]
  },
  {
   "cell_type": "code",
   "execution_count": 7,
   "id": "56f14345",
   "metadata": {},
   "outputs": [],
   "source": [
    "hfss.clean_active_design()\n",
    "\n"
   ]
  },
  {
   "cell_type": "code",
   "execution_count": 1,
   "id": "a8777627",
   "metadata": {},
   "outputs": [],
   "source": [
    "from pyaedt import Hfss"
   ]
  },
  {
   "cell_type": "code",
   "execution_count": 2,
   "id": "5b692543",
   "metadata": {},
   "outputs": [
    {
     "name": "stdout",
     "output_type": "stream",
     "text": [
      "Initializing new desktop!\n",
      "PyAEDT INFO: StdOut is enabled\n",
      "PyAEDT INFO: Log on file is enabled\n",
      "PyAEDT INFO: Log on Desktop Message Manager is enabled\n",
      "PyAEDT INFO: Debug logger is disabled. PyAEDT methods will not be logged.\n",
      "PyAEDT INFO: Launching PyAEDT outside AEDT with CPython and PythonNET.\n",
      "PyAEDT INFO: AEDT installation Path C:\\Program Files\\AnsysEM\\AnsysEM21.2\\Win64.\n",
      "PyAEDT INFO: Launching AEDT with COM plugin using PythonNET.\n"
     ]
    },
    {
     "name": "stderr",
     "output_type": "stream",
     "text": [
      "c:\\Users\\nirpit\\AppData\\Local\\anaconda3\\envs\\qdesignenv\\lib\\site-packages\\pyaedt\\desktop.py:768: UserWarning: PyAEDT has limited capabilities when used with an AEDT version earlier than 2022 R2.\n",
      "                Update your AEDT installation to 2022 R2 or later.\n",
      "  warnings.warn(\n"
     ]
    },
    {
     "name": "stdout",
     "output_type": "stream",
     "text": [
      "PyAEDT INFO: AEDT 2021.2 Started with process ID 29804.\n",
      "PyAEDT INFO: pyaedt v0.6.94\n",
      "PyAEDT INFO: Python version 3.10.17 | packaged by conda-forge | (main, Apr 10 2025, 22:06:35) [MSC v.1943 64 bit (AMD64)]\n",
      "PyAEDT INFO: AEDT 2021.2.0 Build Date 2021-06-02 22:21:55\n",
      "PyAEDT INFO: No project is defined. Project Project19 exists and has been read.\n",
      "PyAEDT INFO: Active Design set to HangingResonators\n",
      "PyAEDT INFO: Aedt Objects correctly read\n"
     ]
    }
   ],
   "source": [
    "\n",
    "hfss = Hfss()"
   ]
  },
  {
   "cell_type": "code",
   "execution_count": 3,
   "id": "efb7bed2",
   "metadata": {},
   "outputs": [
    {
     "data": {
      "text/plain": [
       "['__class__',\n",
       " '__delattr__',\n",
       " '__delitem__',\n",
       " '__dict__',\n",
       " '__dir__',\n",
       " '__doc__',\n",
       " '__eq__',\n",
       " '__format__',\n",
       " '__ge__',\n",
       " '__getattribute__',\n",
       " '__getitem__',\n",
       " '__gt__',\n",
       " '__hash__',\n",
       " '__init__',\n",
       " '__init_subclass__',\n",
       " '__le__',\n",
       " '__lt__',\n",
       " '__module__',\n",
       " '__ne__',\n",
       " '__new__',\n",
       " '__reduce__',\n",
       " '__reduce_ex__',\n",
       " '__repr__',\n",
       " '__setattr__',\n",
       " '__setitem__',\n",
       " '__sizeof__',\n",
       " '__str__',\n",
       " '__subclasshook__',\n",
       " '__weakref__',\n",
       " '_all_variables',\n",
       " '_app',\n",
       " '_cleanup_variables',\n",
       " '_dependent_design_variables',\n",
       " '_dependent_project_variables',\n",
       " '_dependent_variables',\n",
       " '_get_var_list_from_aedt',\n",
       " '_independent_design_variables',\n",
       " '_independent_project_variables',\n",
       " '_independent_variables',\n",
       " '_logger',\n",
       " '_odesign',\n",
       " '_oproject',\n",
       " '_variable_dict',\n",
       " 'aedt_object',\n",
       " 'decompose',\n",
       " 'delete_separator',\n",
       " 'delete_variable',\n",
       " 'dependent_design_variable_names',\n",
       " 'dependent_design_variables',\n",
       " 'dependent_project_variable_names',\n",
       " 'dependent_project_variables',\n",
       " 'dependent_variable_names',\n",
       " 'dependent_variables',\n",
       " 'design_variable_names',\n",
       " 'design_variables',\n",
       " 'get_expression',\n",
       " 'independent_design_variable_names',\n",
       " 'independent_design_variables',\n",
       " 'independent_project_variable_names',\n",
       " 'independent_project_variables',\n",
       " 'independent_variable_names',\n",
       " 'independent_variables',\n",
       " 'post_processing_variables',\n",
       " 'project_variable_names',\n",
       " 'project_variables',\n",
       " 'set_variable',\n",
       " 'variable_names',\n",
       " 'variables']"
      ]
     },
     "execution_count": 3,
     "metadata": {},
     "output_type": "execute_result"
    }
   ],
   "source": [
    "dir(hfss.variable_manager)"
   ]
  },
  {
   "cell_type": "code",
   "execution_count": 6,
   "id": "1ba643b1",
   "metadata": {},
   "outputs": [
    {
     "data": {
      "text/plain": [
       "True"
      ]
     },
     "execution_count": 6,
     "metadata": {},
     "output_type": "execute_result"
    }
   ],
   "source": [
    "hfss.variable_manager.set_variable(\"test\", '9nH')"
   ]
  },
  {
   "cell_type": "code",
   "execution_count": 17,
   "id": "91d82727",
   "metadata": {},
   "outputs": [
    {
     "data": {
      "text/plain": [
       "True"
      ]
     },
     "execution_count": 17,
     "metadata": {},
     "output_type": "execute_result"
    }
   ],
   "source": [
    "hfss.boundaries[0].object_properties.update_property('Inductance','10nH')"
   ]
  },
  {
   "cell_type": "code",
   "execution_count": 9,
   "id": "5fb87479",
   "metadata": {},
   "outputs": [
    {
     "data": {
      "text/plain": [
       "{'cpw_width': '10 um',\n",
       " 'cpw_gap': '6 um',\n",
       " 'design_var_width_qubit_1': '400um',\n",
       " 'design_var_width_qubit_2': '400um',\n",
       " 'design_var_cl_pos_x_qubit_1': '-100um',\n",
       " 'design_var_cl_pos_y_qubit_1': '-300um',\n",
       " 'design_var_cl_pos_x_qubit_2': '-100um',\n",
       " 'design_var_cl_pos_y_qubit_2': '300um',\n",
       " 'design_var_length_resonator_1_capacitance': '20um',\n",
       " 'design_var_length_resonator_2_capacitance': '20um',\n",
       " 'design_var_lj_qubit_1': '12.1nH',\n",
       " 'design_var_lj_qubit_2': '9.1nH',\n",
       " 'design_var_cj_qubit_1': '0fF',\n",
       " 'design_var_cj_qubit_2': '0fF',\n",
       " 'design_var_length_resonator_1': '7500um',\n",
       " 'design_var_length_resonator_2': '6500um',\n",
       " 'design_var_length_coupler_1to2': '4000um',\n",
       " 'design_var_coupl_length_qubit_1_resonator_1': '100um',\n",
       " 'design_var_coupl_length_qubit_2_resonator_2': '100um',\n",
       " 'design_var_coupl_length_resonator_1_tee': '400um',\n",
       " 'design_var_coupl_length_resonator_2_tee': '160um'}"
      ]
     },
     "execution_count": 9,
     "metadata": {},
     "output_type": "execute_result"
    }
   ],
   "source": [
    "design.variables"
   ]
  },
  {
   "cell_type": "code",
   "execution_count": 11,
   "id": "b8337cbf",
   "metadata": {},
   "outputs": [],
   "source": [
    "for key, value in design.variables.items():\n",
    "    hfss.variable_manager.set_variable(key, value)"
   ]
  },
  {
   "cell_type": "code",
   "execution_count": null,
   "id": "2b3f7bbb",
   "metadata": {},
   "outputs": [],
   "source": [
    "\n",
    "hfss.render_design(selection=[n.name_mode(n.RESONATOR_1),n.name_tee(1),n.name_mode(n.QUBIT_1)], \n",
    "                   open_pins=[], \n",
    "                   port_list=[(n.name_tee(1), 'prime_start', 50), (n.name_tee(1), 'prime_end', 50)], \n",
    "                   jj_to_port=[()], \n",
    "                   ignored_jjs=[],\n",
    "                   box_plus_buffer = True)"
   ]
  },
  {
   "cell_type": "code",
   "execution_count": null,
   "id": "6ab81444",
   "metadata": {},
   "outputs": [],
   "source": [
    "hfss."
   ]
  },
  {
   "cell_type": "code",
   "execution_count": 15,
   "id": "6f9cb31a",
   "metadata": {},
   "outputs": [
    {
     "name": "stderr",
     "output_type": "stream",
     "text": [
      "INFO 05:11PM [get_setup]: \tOpened setup `Setup`  (<class 'pyEPR.ansys.HfssDMSetup'>)\n"
     ]
    },
    {
     "data": {
      "text/plain": [
       "<pyEPR.ansys.HfssFrequencySweep at 0x1df2995b310>"
      ]
     },
     "execution_count": 15,
     "metadata": {},
     "output_type": "execute_result"
    }
   ],
   "source": [
    "hfss.add_sweep(setup_name=\"Setup\", \n",
    "               name=\"Sweep\", \n",
    "               start_ghz=7.93,\n",
    "               stop_ghz=7.94,\n",
    "               count=25000,\n",
    "               type=\"Fast\") "
   ]
  },
  {
   "cell_type": "code",
   "execution_count": 20,
   "id": "e03fefc8",
   "metadata": {},
   "outputs": [
    {
     "name": "stderr",
     "output_type": "stream",
     "text": [
      "INFO 05:11PM [get_setup]: \tOpened setup `Setup`  (<class 'pyEPR.ansys.HfssDMSetup'>)\n",
      "INFO 05:11PM [analyze]: Analyzing setup Setup : Sweep1\n"
     ]
    }
   ],
   "source": [
    "hfss.analyze_sweep(\"Sweep1\", \"Setup\")"
   ]
  },
  {
   "cell_type": "code",
   "execution_count": 21,
   "id": "33290bf6",
   "metadata": {},
   "outputs": [],
   "source": [
    "Sij = hfss.plot_params([ 'S21'])"
   ]
  },
  {
   "cell_type": "code",
   "execution_count": 22,
   "id": "1627be5c",
   "metadata": {},
   "outputs": [],
   "source": [
    "import numpy as np\n",
    "import matplotlib.pyplot as plt"
   ]
  },
  {
   "cell_type": "code",
   "execution_count": 23,
   "id": "7a543a6a",
   "metadata": {},
   "outputs": [],
   "source": [
    "freq = Sij[0].index\n",
    "S21 = Sij[0]['S21']\n",
    "mag_s21 = 20 * np.log10(np.abs(S21))\n",
    "phase_s21 = np.angle(S21, deg=True)\n",
    "\n",
    "plt.figure(figsize=(12, 6))\n",
    "plt.subplot(2, 1, 1)\n",
    "plt.plot(freq, mag_s21, label='Magnitude (dB)')\n",
    "plt.title('S21 Magnitude and Phase')\n",
    "\n",
    "plt.ylabel('Magnitude (dB)')\n",
    "plt.grid()\n",
    "plt.legend()\n",
    "plt.subplot(2, 1, 2)\n",
    "plt.plot(freq, phase_s21, label='Phase (degrees)', color='orange')\n",
    "plt.xlabel('Frequency (GHz)')\n",
    "plt.ylabel('Phase (degrees)')\n",
    "plt.grid()\n",
    "plt.legend()\n",
    "plt.tight_layout()\n",
    "plt.show()"
   ]
  },
  {
   "cell_type": "code",
   "execution_count": 21,
   "id": "94f19da6",
   "metadata": {},
   "outputs": [
    {
     "name": "stdout",
     "output_type": "stream",
     "text": [
      "Help on method add_drivenmodal_setup in module qiskit_metal.renderers.renderer_ansys.hfss_renderer:\n",
      "\n",
      "add_drivenmodal_setup(name: str = None, freq_ghz: int = None, max_delta_s: float = None, max_passes: int = None, min_passes: int = None, min_converged: int = None, pct_refinement: int = None, basis_order: int = None, *args, **kwargs) method of qiskit_metal.renderers.renderer_ansys.hfss_renderer.QHFSSRenderer instance\n",
      "    Create a solution setup in Ansys HFSS Driven Modal. If user does\n",
      "    not provide arguments, they will be obtained from default_setup dict.\n",
      "    \n",
      "    Args:\n",
      "        name (str, optional): Name of driven modal setup. Defaults to None.\n",
      "        freq_ghz (int, optional): Frequency in GHz. Defaults to None.\n",
      "        max_delta_s (float, optional): Absolute value of maximum difference in scattering parameter S. Defaults to None.\n",
      "        max_passes (int, optional): Maximum number of passes. Defaults to None.\n",
      "        min_passes (int, optional): Minimum number of passes. Defaults to None.\n",
      "        min_converged (int, optional): Minimum number of converged passes. Defaults to None.\n",
      "        pct_refinement (int, optional): Percent refinement. Defaults to None.\n",
      "        basis_order (int, optional): Basis order. Defaults to None.\n",
      "\n"
     ]
    }
   ],
   "source": [
    "help(hfss.add_drivenmodal_setup)"
   ]
  },
  {
   "cell_type": "code",
   "execution_count": 22,
   "id": "d0d2bf30",
   "metadata": {},
   "outputs": [
    {
     "data": {
      "text/plain": [
       "{'drivenmodal': {'name': 'Setup',\n",
       "  'freq_ghz': '5.0',\n",
       "  'max_delta_s': '0.1',\n",
       "  'max_passes': '10',\n",
       "  'min_passes': '1',\n",
       "  'min_converged': '1',\n",
       "  'pct_refinement': '30',\n",
       "  'basis_order': '1'},\n",
       " 'eigenmode': {'name': 'Setup',\n",
       "  'min_freq_ghz': '1',\n",
       "  'n_modes': '1',\n",
       "  'max_delta_f': '0.5',\n",
       "  'max_passes': '10',\n",
       "  'min_passes': '1',\n",
       "  'min_converged': '1',\n",
       "  'pct_refinement': '30',\n",
       "  'basis_order': '-1'},\n",
       " 'q3d': {'name': 'Setup',\n",
       "  'freq_ghz': '5.0',\n",
       "  'save_fields': 'False',\n",
       "  'enabled': 'True',\n",
       "  'max_passes': '15',\n",
       "  'min_passes': '2',\n",
       "  'min_converged_passes': '2',\n",
       "  'percent_error': '0.5',\n",
       "  'percent_refinement': '30',\n",
       "  'auto_increase_solution_order': 'True',\n",
       "  'solution_order': 'High',\n",
       "  'solver_type': 'Iterative'},\n",
       " 'port_inductor_gap': '10um'}"
      ]
     },
     "execution_count": 22,
     "metadata": {},
     "output_type": "execute_result"
    }
   ],
   "source": [
    "hfss.default_setup"
   ]
  },
  {
   "cell_type": "markdown",
   "id": "76f16788",
   "metadata": {},
   "source": [
    "# Eigenmode"
   ]
  },
  {
   "cell_type": "code",
   "execution_count": 3,
   "id": "2b26469b",
   "metadata": {},
   "outputs": [],
   "source": [
    "\n",
    "import mini_studies as ms\n",
    "import optimization_targets as ot"
   ]
  },
  {
   "cell_type": "code",
   "execution_count": 4,
   "id": "baaa389d",
   "metadata": {},
   "outputs": [],
   "source": [
    "MINI_STUDY_GROUP = n.NBR_1\n",
    "MINI_STUDY = ms.get_mini_study_qb_res_with_scattering_parameters_study(group=MINI_STUDY_GROUP)\n",
    "RENDER_QISKIT_METAL = lambda design: d.render_qiskit_metal_design(design, gui)\n",
    "\n",
    "\n",
    "opt_targets = ot.get_opt_targets_2qubits_resonator_coupler(\n",
    "    groups=[MINI_STUDY_GROUP],\n",
    "    opt_target_resonator_freq=True,\n",
    ")"
   ]
  },
  {
   "cell_type": "code",
   "execution_count": 5,
   "id": "13ca8336",
   "metadata": {},
   "outputs": [],
   "source": [
    "import time\n",
    "import parameter_targets as pt\n",
    "import plot_settings as ps\n",
    "\n",
    "from qdesignoptimizer.design_analysis import DesignAnalysis, DesignAnalysisState\n",
    "from qiskit_metal.qlibrary.couplers.coupled_line_tee import CoupledLineTee\n",
    "from design import CoupledLineTee_mesh_names\n",
    "from qdesignoptimizer.design_analysis_types import MeshingMap\n",
    "\n",
    "from qdesignoptimizer.utils.utils import get_save_path\n",
    "\n",
    "# Closing Ansys hfss\n",
    "from qdesignoptimizer.utils.utils import close_ansys\n",
    "\n",
    "close_ansys()"
   ]
  },
  {
   "cell_type": "code",
   "execution_count": 6,
   "id": "8d032c27",
   "metadata": {},
   "outputs": [
    {
     "name": "stderr",
     "output_type": "stream",
     "text": [
      "\u001b[38;20m[INFO|2025-04-30 15:45:52]: self.eig_solver.sim.setup \n",
      "{\n",
      "    \"name\": \"Resonator_setup\",\n",
      "    \"reuse_selected_design\": true,\n",
      "    \"reuse_setup\": true,\n",
      "    \"min_freq_ghz\": 1,\n",
      "    \"n_modes\": 1,\n",
      "    \"max_delta_f\": 0.5,\n",
      "    \"max_passes\": 10,\n",
      "    \"min_passes\": 1,\n",
      "    \"min_converged\": 1,\n",
      "    \"pct_refinement\": 30,\n",
      "    \"basis_order\": 1,\n",
      "    \"vars\": {\n",
      "        \"Lj\": \"10 nH\",\n",
      "        \"Cj\": \"0 fF\"\n",
      "    }\n",
      "}\u001b[0m\n"
     ]
    },
    {
     "name": "stdout",
     "output_type": "stream",
     "text": [
      "Initializing new desktop!\n",
      "PyAEDT INFO: StdOut is enabled\n",
      "PyAEDT INFO: Log on file is enabled\n",
      "PyAEDT INFO: Log on Desktop Message Manager is enabled\n",
      "PyAEDT INFO: Debug logger is disabled. PyAEDT methods will not be logged.\n",
      "PyAEDT INFO: Launching PyAEDT outside AEDT with CPython and PythonNET.\n",
      "PyAEDT INFO: AEDT installation Path C:\\Program Files\\AnsysEM\\AnsysEM21.2\\Win64.\n",
      "PyAEDT INFO: Launching AEDT with COM plugin using PythonNET.\n",
      "PyAEDT INFO: AEDT 2021.2 Started with process ID 24796.\n",
      "PyAEDT INFO: pyaedt v0.6.94\n",
      "PyAEDT INFO: Python version 3.10.17 | packaged by conda-forge | (main, Apr 10 2025, 22:06:35) [MSC v.1943 64 bit (AMD64)]\n",
      "PyAEDT INFO: AEDT 2021.2.0 Build Date 2021-06-02 22:21:55\n",
      "PyAEDT INFO: Project Project45 has been created.\n",
      "PyAEDT INFO: Added design 'get_mini_study_qb_res' of type HFSS.\n",
      "PyAEDT INFO: Aedt Objects correctly read\n"
     ]
    },
    {
     "name": "stderr",
     "output_type": "stream",
     "text": [
      "\u001b[38;20m[INFO|2025-04-30 15:46:06]: self.eig_solver.sim.setup \n",
      "{\n",
      "    \"name\": \"Resonator_setup\",\n",
      "    \"reuse_selected_design\": true,\n",
      "    \"reuse_setup\": true,\n",
      "    \"min_freq_ghz\": 1,\n",
      "    \"n_modes\": 1,\n",
      "    \"max_delta_f\": 0.5,\n",
      "    \"max_passes\": 10,\n",
      "    \"min_passes\": 1,\n",
      "    \"min_converged\": 1,\n",
      "    \"pct_refinement\": 30,\n",
      "    \"basis_order\": 1,\n",
      "    \"vars\": {\n",
      "        \"Lj\": \"10 nH\",\n",
      "        \"Cj\": \"0 fF\"\n",
      "    }\n",
      "}\u001b[0m\n",
      "INFO 03:46PM [connect_project]: Connecting to Ansys Desktop API...\n",
      "INFO 03:46PM [load_ansys_project]: \tOpened Ansys App\n",
      "INFO 03:46PM [load_ansys_project]: \tOpened Ansys Desktop v2021.2.0\n",
      "INFO 03:46PM [load_ansys_project]: \tOpened Ansys Project\n",
      "\tFolder:    C:/Users/nirpit/Documents/Ansoft/\n",
      "\tProject:   Project45\n",
      "INFO 03:46PM [connect_design]: \tOpened active design\n",
      "\tDesign:    get_mini_study_qb_res [Solution type: Eigenmode]\n",
      "WARNING 03:46PM [connect_setup]: \tNo design setup detected.\n",
      "WARNING 03:46PM [connect_setup]: \tCreating eigenmode default setup.\n",
      "INFO 03:46PM [get_setup]: \tOpened setup `Setup`  (<class 'pyEPR.ansys.HfssEMSetup'>)\n",
      "INFO 03:46PM [connect]: \tConnected to project \"Project45\" and design \"get_mini_study_qb_res\" 😀 \n",
      "\n",
      "INFO 03:46PM [connect_design]: \tOpened active design\n",
      "\tDesign:    get_mini_study_qb_res [Solution type: Eigenmode]\n"
     ]
    }
   ],
   "source": [
    "design_analysis_state = DesignAnalysisState(\n",
    "    design, RENDER_QISKIT_METAL, pt.PARAM_TARGETS\n",
    ")\n",
    "\n",
    "# map for finer meshing\n",
    "meshing_map = [\n",
    "    MeshingMap(component_class=CoupledLineTee, mesh_names=CoupledLineTee_mesh_names)\n",
    "]\n",
    "\n",
    "design_analysis = DesignAnalysis(\n",
    "    design_analysis_state,\n",
    "    mini_study=MINI_STUDY,\n",
    "    opt_targets=opt_targets,\n",
    "    save_path=get_save_path(\"out/\", n.CHIP_NAME),\n",
    "    update_design_variables=False,\n",
    "    plot_settings=None,\n",
    "    meshing_map=None,\n",
    ")"
   ]
  },
  {
   "cell_type": "code",
   "execution_count": null,
   "id": "14b6cbf2",
   "metadata": {},
   "outputs": [
    {
     "name": "stderr",
     "output_type": "stream",
     "text": [
      "\u001b[38;20m[INFO|2025-04-30 15:46:07]: Updated_design_vars\n",
      "{\n",
      "    \"cpw_width\": \"10 um\",\n",
      "    \"cpw_gap\": \"6 um\",\n",
      "    \"design_var_width_qubit_1\": \"400um\",\n",
      "    \"design_var_width_qubit_2\": \"400um\",\n",
      "    \"design_var_cl_pos_x_qubit_1\": \"-100um\",\n",
      "    \"design_var_cl_pos_y_qubit_1\": \"-300um\",\n",
      "    \"design_var_cl_pos_x_qubit_2\": \"-100um\",\n",
      "    \"design_var_cl_pos_y_qubit_2\": \"300um\",\n",
      "    \"design_var_length_resonator_1_capacitance\": \"20um\",\n",
      "    \"design_var_length_resonator_2_capacitance\": \"20um\",\n",
      "    \"design_var_lj_qubit_1\": \"12.1nH\",\n",
      "    \"design_var_lj_qubit_2\": \"9.1nH\",\n",
      "    \"design_var_cj_qubit_1\": \"0fF\",\n",
      "    \"design_var_cj_qubit_2\": \"0fF\",\n",
      "    \"design_var_length_resonator_1\": \"7500um\",\n",
      "    \"design_var_length_resonator_2\": \"6500um\",\n",
      "    \"design_var_length_coupler_1to2\": \"4000um\",\n",
      "    \"design_var_coupl_length_qubit_1_resonator_1\": \"100um\",\n",
      "    \"design_var_coupl_length_qubit_2_resonator_2\": \"100um\",\n",
      "    \"design_var_coupl_length_resonator_1_tee\": \"400um\",\n",
      "    \"design_var_coupl_length_resonator_2_tee\": \"160um\"\n",
      "}\u001b[0m\n"
     ]
    },
    {
     "name": "stdout",
     "output_type": "stream",
     "text": [
      "Returning found desktop with PID 24796!\n",
      "PyAEDT INFO: No project is defined. Project Project45 exists and has been read.\n",
      "PyAEDT INFO: Aedt Objects correctly read\n"
     ]
    },
    {
     "name": "stderr",
     "output_type": "stream",
     "text": [
      "\u001b[38;20m[INFO|2025-04-30 15:46:07]: self.eig_solver.sim.setup \n",
      "{\n",
      "    \"name\": \"Resonator_setup\",\n",
      "    \"reuse_selected_design\": true,\n",
      "    \"reuse_setup\": true,\n",
      "    \"min_freq_ghz\": 1,\n",
      "    \"n_modes\": 1,\n",
      "    \"max_delta_f\": 0.5,\n",
      "    \"max_passes\": 10,\n",
      "    \"min_passes\": 1,\n",
      "    \"min_converged\": 1,\n",
      "    \"pct_refinement\": 30,\n",
      "    \"basis_order\": 1,\n",
      "    \"vars\": {\n",
      "        \"Lj\": \"10 nH\",\n",
      "        \"Cj\": \"0 fF\"\n",
      "    }\n",
      "}\u001b[0m\n",
      "INFO 03:46PM [connect_project]: Connecting to Ansys Desktop API...\n",
      "INFO 03:46PM [load_ansys_project]: \tOpened Ansys App\n",
      "INFO 03:46PM [load_ansys_project]: \tOpened Ansys Desktop v2021.2.0\n",
      "INFO 03:46PM [load_ansys_project]: \tOpened Ansys Project\n",
      "\tFolder:    C:/Users/nirpit/Documents/Ansoft/\n",
      "\tProject:   Project45\n",
      "INFO 03:46PM [connect_design]: \tOpened active design\n",
      "\tDesign:    get_mini_study_qb_res [Solution type: Eigenmode]\n",
      "INFO 03:46PM [get_setup]: \tOpened setup `Setup`  (<class 'pyEPR.ansys.HfssEMSetup'>)\n",
      "INFO 03:46PM [connect]: \tConnected to project \"Project45\" and design \"get_mini_study_qb_res\" 😀 \n",
      "\n",
      "INFO 03:46PM [connect_design]: \tOpened active design\n",
      "\tDesign:    get_mini_study_qb_res [Solution type: Eigenmode]\n",
      "\u001b[38;20m[INFO|2025-04-30 15:46:08]: self.eig_solver.sim.setup \n",
      "{\n",
      "    \"name\": \"Resonator_setup\",\n",
      "    \"reuse_selected_design\": true,\n",
      "    \"reuse_setup\": true,\n",
      "    \"min_freq_ghz\": 1,\n",
      "    \"n_modes\": 1,\n",
      "    \"max_delta_f\": 0.5,\n",
      "    \"max_passes\": 10,\n",
      "    \"min_passes\": 1,\n",
      "    \"min_converged\": 1,\n",
      "    \"pct_refinement\": 30,\n",
      "    \"basis_order\": 1,\n",
      "    \"vars\": {\n",
      "        \"Lj\": \"10 nH\",\n",
      "        \"Cj\": \"0 fF\"\n",
      "    }\n",
      "}\u001b[0m\n",
      "INFO 03:46PM [connect_design]: \tOpened active design\n",
      "\tDesign:    get_mini_study_qb_res [Solution type: Eigenmode]\n",
      "INFO 03:46PM [analyze]: Analyzing setup Setup\n"
     ]
    },
    {
     "name": "stdout",
     "output_type": "stream",
     "text": [
      "Design \"get_mini_study_qb_res\" info:\n",
      "\t# eigenmodes    2\n",
      "\t# variations    1\n",
      "Design \"get_mini_study_qb_res\" info:\n",
      "\t# eigenmodes    2\n",
      "\t# variations    1\n",
      "Design \"get_mini_study_qb_res\" info:\n",
      "\t# eigenmodes    2\n",
      "\t# variations    1\n",
      "Design \"get_mini_study_qb_res\" info:\n",
      "\t# eigenmodes    2\n",
      "\t# variations    1\n",
      "Design \"get_mini_study_qb_res\" info:\n",
      "\t# eigenmodes    2\n",
      "\t# variations    1\n",
      "\n",
      "        energy_elec_all       = 1.2441529266319e-23\n",
      "        energy_elec_substrate = 1.13406851705184e-23\n",
      "        EPR of substrate = 91.2%\n",
      "\n",
      "        energy_mag    = 1.59679142064183e-25\n",
      "        energy_mag % of energy_elec_all  = 1.3%\n",
      "        \n",
      "\n",
      "Variation 0  [1/1]\n",
      "\n",
      "  \u001b[1mMode 0 at 5.76 GHz   [1/2]\u001b[0m\n",
      "    Calculating ℰ_magnetic,ℰ_electric\n",
      "       (ℰ_E-ℰ_H)/ℰ_E       ℰ_E       ℰ_H\n",
      "               98.7%  6.221e-24 7.984e-26\n",
      "\n",
      "    Calculating junction energy participation ration (EPR)\n",
      "\tmethod=`line_voltage`. First estimates:\n",
      "\tjunction        EPR p_0j   sign s_0j    (p_capacitive)\n",
      "\t\tEnergy fraction (Lj over Lj&Cj)= 96.92%\n",
      "\tjj_name_qubit_1 0.986362  (+)        0.0313172\n",
      "\t\t(U_tot_cap-U_tot_ind)/mean=1.58%\n",
      "Calculating Qdielectric_main for mode 0 (0/1)\n",
      "p_dielectric_main_0 = 0.911518586482713\n",
      "\n",
      "  \u001b[1mMode 1 at 7.01 GHz   [2/2]\u001b[0m\n",
      "    Calculating ℰ_magnetic,ℰ_electric\n",
      "       (ℰ_E-ℰ_H)/ℰ_E       ℰ_E       ℰ_H\n",
      "                0.3%  1.954e-23 1.947e-23\n",
      "\n",
      "    Calculating junction energy participation ration (EPR)\n",
      "\tmethod=`line_voltage`. First estimates:\n",
      "\tjunction        EPR p_1j   sign s_1j    (p_capacitive)\n"
     ]
    },
    {
     "name": "stderr",
     "output_type": "stream",
     "text": [
      "INFO 03:47PM [__del__]: Disconnected from Ansys HFSS\n"
     ]
    },
    {
     "name": "stdout",
     "output_type": "stream",
     "text": [
      "\t\tEnergy fraction (Lj over Lj&Cj)= 95.51%\n",
      "\tjj_name_qubit_1 0.00341228  (+)        0.000160299\n",
      "\t\t(U_tot_cap-U_tot_ind)/mean=0.01%\n",
      "Calculating Qdielectric_main for mode 1 (1/1)\n",
      "p_dielectric_main_1 = 0.9141438415140272\n"
     ]
    },
    {
     "name": "stderr",
     "output_type": "stream",
     "text": [
      "WARNING 03:47PM [__init__]: <p>Error: <class 'IndexError'></p>\n"
     ]
    },
    {
     "name": "stdout",
     "output_type": "stream",
     "text": [
      "\n",
      "ANALYSIS DONE. Data saved to:\n",
      "\n",
      "C:\\data-pyEPR\\Project45\\get_mini_study_qb_res\\2025-04-30 15-47-16.npz\n",
      "\n",
      "\n",
      "\t Differences in variations:\n",
      "\n",
      "\n",
      "\n",
      " . . . . . . . . . . . . . . . . . . . . . . . . . . . . . . . . . . . . . . . . \n",
      "Variation 0\n",
      "\n",
      "Starting the diagonalization\n",
      "Finished the diagonalization\n",
      "Pm_norm=\n",
      "modes\n",
      "0    1.032359\n",
      "1    1.018314\n",
      "dtype: float64\n",
      "\n",
      "Pm_norm idx =\n",
      "   jj_name_qubit_1\n",
      "0             True\n",
      "1            False\n",
      "*** P (participation matrix, not normlz.)\n",
      "   jj_name_qubit_1\n",
      "0         0.956410\n",
      "1         0.003412\n",
      "\n",
      "*** S (sign-bit matrix)\n",
      "   s_jj_name_qubit_1\n",
      "0                 -1\n",
      "1                  1\n",
      "*** P (participation matrix, normalized.)\n",
      "      0.99\n",
      "    0.0034\n",
      "\n",
      "*** Chi matrix O1 PT (MHz)\n",
      "    Diag is anharmonicity, off diag is full cross-Kerr.\n",
      "       300     2.52\n",
      "      2.52   0.0053\n",
      "\n",
      "*** Chi matrix ND (MHz) \n",
      "       338      1.5\n",
      "       1.5  0.00219\n",
      "\n",
      "*** Frequencies O1 PT (MHz)\n",
      "0    5463.778480\n",
      "1    7010.950017\n",
      "dtype: float64\n",
      "\n",
      "*** Frequencies ND (MHz)\n",
      "0    5445.71734\n",
      "1    7011.14742\n",
      "dtype: float64\n",
      "\n",
      "*** Q_coupling\n",
      "Empty DataFrame\n",
      "Columns: []\n",
      "Index: [0, 1]\n"
     ]
    },
    {
     "name": "stderr",
     "output_type": "stream",
     "text": [
      "\u001b[38;20m[INFO|2025-04-30 15:47:21]: freq_ND_results\n",
      "{\n",
      "    \"0\": {\n",
      "        \"0\": 5445.71733983924,\n",
      "        \"1\": 7011.147419902695\n",
      "    }\n",
      "}\u001b[0m\n"
     ]
    },
    {
     "name": "stdout",
     "output_type": "stream",
     "text": [
      "Returning found desktop with PID 24796!\n",
      "PyAEDT INFO: No project is defined. Project Project45 exists and has been read.\n",
      "PyAEDT INFO: Added design 'get_mini_study_qb_res_scattering' of type HFSS.\n",
      "PyAEDT INFO: Aedt Objects correctly read\n"
     ]
    },
    {
     "name": "stderr",
     "output_type": "stream",
     "text": [
      "INFO 03:47PM [connect_design]: \tOpened active design\n",
      "\tDesign:    get_mini_study_qb_res_scattering [Solution type: DrivenModal]\n",
      "INFO 03:47PM [get_setup]: \tOpened setup `Setup_QDO`  (<class 'pyEPR.ansys.HfssDMSetup'>)\n",
      "INFO 03:47PM [get_setup]: \tOpened setup `Setup_QDO`  (<class 'pyEPR.ansys.HfssDMSetup'>)\n",
      "INFO 03:47PM [analyze]: Analyzing setup Setup_QDO : Sweep\n"
     ]
    }
   ],
   "source": [
    "# number of runs of optimization and number of passes for simulation at each run\n",
    "nbr_iterations = 2\n",
    "group_passes = 5\n",
    "delta_f = 0.001\n",
    "for i in range(nbr_iterations):\n",
    "    design_analysis.update_nbr_passes(group_passes)\n",
    "    design_analysis.update_delta_f(delta_f)\n",
    "    design_analysis.optimize_target({}, {})\n",
    "    # design_analysis.screenshot(gui=gui, run=i)"
   ]
  },
  {
   "cell_type": "code",
   "execution_count": 10,
   "id": "62084e80",
   "metadata": {},
   "outputs": [
    {
     "name": "stdout",
     "output_type": "stream",
     "text": [
      "Help on method activate_ansys_design in module qiskit_metal.renderers.renderer_ansys.ansys_renderer:\n",
      "\n",
      "activate_ansys_design(design_name: str, solution_type: str = None) method of qiskit_metal.renderers.renderer_ansys.hfss_renderer.QHFSSRenderer instance\n",
      "    Select a design with the given name from the open project.\n",
      "    If the design exists, that will be added WITHOUT altering the suffix of the design name.\n",
      "    \n",
      "    Args:\n",
      "        name (str): Name of the new Ansys design\n",
      "\n"
     ]
    }
   ],
   "source": [
    "help(design_analysis.renderer.activate_ansys_design)"
   ]
  },
  {
   "cell_type": "code",
   "execution_count": 1,
   "id": "a5a1324f",
   "metadata": {},
   "outputs": [],
   "source": [
    "from pyaedt import Hfss"
   ]
  },
  {
   "cell_type": "code",
   "execution_count": 5,
   "id": "68ece937",
   "metadata": {},
   "outputs": [
    {
     "data": {
      "text/plain": [
       "True"
      ]
     },
     "execution_count": 5,
     "metadata": {},
     "output_type": "execute_result"
    }
   ],
   "source": [
    "hfss.close_desktop()"
   ]
  },
  {
   "cell_type": "code",
   "execution_count": 13,
   "id": "16f3bf38",
   "metadata": {},
   "outputs": [
    {
     "data": {
      "text/plain": [
       "['AXIS',\n",
       " 'AvailableVariations',\n",
       " 'AxisDir',\n",
       " 'BoundaryType',\n",
       " 'GRAVITY',\n",
       " 'PLANE',\n",
       " 'Position',\n",
       " 'SBRAntennaDefaults',\n",
       " 'SETUPS',\n",
       " 'SOLUTIONS',\n",
       " 'SbrAntennas',\n",
       " 'SimulationSetupTypes',\n",
       " 'SolutionTypes',\n",
       " 'VIEW',\n",
       " '_Design__aedt_version',\n",
       " '__class__',\n",
       " '__delattr__',\n",
       " '__delitem__',\n",
       " '__dict__',\n",
       " '__dir__',\n",
       " '__doc__',\n",
       " '__enter__',\n",
       " '__eq__',\n",
       " '__exit__',\n",
       " '__format__',\n",
       " '__ge__',\n",
       " '__getattribute__',\n",
       " '__getitem__',\n",
       " '__gt__',\n",
       " '__hash__',\n",
       " '__init__',\n",
       " '__init_subclass__',\n",
       " '__le__',\n",
       " '__lt__',\n",
       " '__module__',\n",
       " '__ne__',\n",
       " '__new__',\n",
       " '__reduce__',\n",
       " '__reduce_ex__',\n",
       " '__repr__',\n",
       " '__setattr__',\n",
       " '__setitem__',\n",
       " '__sizeof__',\n",
       " '__str__',\n",
       " '__subclasshook__',\n",
       " '__weakref__',\n",
       " '_add_handler',\n",
       " '_aedt_version',\n",
       " '_arg_with_units',\n",
       " '_assert_consistent_design_type',\n",
       " '_available_variations',\n",
       " '_boundaries',\n",
       " '_check_design_consistency',\n",
       " '_check_solution_consistency',\n",
       " '_close_edb',\n",
       " '_configurations',\n",
       " '_create_boundary',\n",
       " '_create_circuit_port',\n",
       " '_create_dataset_from_sherlock',\n",
       " '_create_lumped_driven',\n",
       " '_create_native_component',\n",
       " '_create_pec_cap',\n",
       " '_create_port_terminal',\n",
       " '_create_sbr_doppler_setup',\n",
       " '_create_sbr_doppler_sweep',\n",
       " '_create_setup',\n",
       " '_create_waveport_driven',\n",
       " '_design_datasets',\n",
       " '_design_dictionary',\n",
       " '_design_type',\n",
       " '_desktop',\n",
       " '_desktop_class',\n",
       " '_desktop_install_dir',\n",
       " '_export_touchstone',\n",
       " '_field_setups',\n",
       " '_find_design',\n",
       " '_find_indices',\n",
       " '_generate_unique_design_name',\n",
       " '_generate_unique_project_name',\n",
       " '_get_boundaries_data',\n",
       " '_get_boundaries_object',\n",
       " '_get_design_datasets',\n",
       " '_get_ds_data',\n",
       " '_get_native_data',\n",
       " '_get_project_datasets',\n",
       " '_get_rad_fields',\n",
       " '_get_reference_and_integration_points',\n",
       " '_get_unique_source_name',\n",
       " '_global_logger',\n",
       " '_init_design',\n",
       " '_init_from_design',\n",
       " '_init_variables',\n",
       " '_insert_design',\n",
       " '_is_object_oriented_enabled',\n",
       " '_layouteditor',\n",
       " '_logger',\n",
       " '_materials',\n",
       " '_mesh',\n",
       " '_modeler',\n",
       " '_mttime',\n",
       " '_native_components',\n",
       " '_o_component_manager',\n",
       " '_o_maxwell_parameters',\n",
       " '_o_model_manager',\n",
       " '_o_symbol_manager',\n",
       " '_oanalysis',\n",
       " '_oboundary',\n",
       " '_odefinition_manager',\n",
       " '_odesign',\n",
       " '_odesktop',\n",
       " '_oeditor',\n",
       " '_oexcitation',\n",
       " '_ofieldsreporter',\n",
       " '_oimport_export',\n",
       " '_omaterial_manager',\n",
       " '_omatrix',\n",
       " '_omeshmodule',\n",
       " '_omodel_setup',\n",
       " '_omonitor',\n",
       " '_ooptimetrics',\n",
       " '_ooutput_variable',\n",
       " '_opadstackmanager',\n",
       " '_oproject',\n",
       " '_optimetrics_variable_args',\n",
       " '_oradfield',\n",
       " '_oreportsetup',\n",
       " '_osolution',\n",
       " '_post',\n",
       " '_project_datasets',\n",
       " '_project_dictionary',\n",
       " '_setup',\n",
       " '_temp_solution_type',\n",
       " '_variable_manager',\n",
       " 'activate_variable_optimization',\n",
       " 'activate_variable_sensitivity',\n",
       " 'activate_variable_statistical',\n",
       " 'activate_variable_tuning',\n",
       " 'active_setup',\n",
       " 'add_3d_component_array_from_json',\n",
       " 'add_error_message',\n",
       " 'add_from_toolkit',\n",
       " 'add_info_message',\n",
       " 'add_stackup_3d',\n",
       " 'add_warning_message',\n",
       " 'aedt_version_id',\n",
       " 'analysis_setup',\n",
       " 'analyze',\n",
       " 'analyze_all',\n",
       " 'analyze_from_initial_mesh',\n",
       " 'analyze_nominal',\n",
       " 'analyze_setup',\n",
       " 'archive_project',\n",
       " 'are_there_simulations_running',\n",
       " 'assign_coating',\n",
       " 'assign_current_source_to_sheet',\n",
       " 'assign_hybrid_region',\n",
       " 'assign_impedance_to_sheet',\n",
       " 'assign_lattice_pair',\n",
       " 'assign_lumped_rlc_to_sheet',\n",
       " 'assign_material',\n",
       " 'assign_perfecte_to_sheets',\n",
       " 'assign_perfecth_to_sheets',\n",
       " 'assign_primary',\n",
       " 'assign_radiation_boundary_to_faces',\n",
       " 'assign_radiation_boundary_to_objects',\n",
       " 'assign_secondary',\n",
       " 'assign_symmetry',\n",
       " 'assign_voltage_source_to_sheet',\n",
       " 'assignmaterial_from_sherlock_files',\n",
       " 'auto_assign_lattice_pairs',\n",
       " 'autosave_disable',\n",
       " 'autosave_enable',\n",
       " 'available_variations',\n",
       " 'boundaries',\n",
       " 'boundaries_by_type',\n",
       " 'change_automatically_use_causal_materials',\n",
       " 'change_design_settings',\n",
       " 'change_material_override',\n",
       " 'change_property',\n",
       " 'change_validation_settings',\n",
       " 'check_beta_option_enabled',\n",
       " 'check_if_project_is_loaded',\n",
       " 'circuit_port',\n",
       " 'clean_proj_folder',\n",
       " 'cleanup_solution',\n",
       " 'close_desktop',\n",
       " 'close_on_exit',\n",
       " 'close_project',\n",
       " 'components3d',\n",
       " 'composite',\n",
       " 'configurations',\n",
       " 'copy_design_from',\n",
       " 'copy_project',\n",
       " 'copy_solid_bodies_from',\n",
       " 'create_boundary',\n",
       " 'create_circuit_port_between_objects',\n",
       " 'create_circuit_port_from_edges',\n",
       " 'create_current_source_from_objects',\n",
       " 'create_dataset',\n",
       " 'create_dataset1d_design',\n",
       " 'create_dataset1d_project',\n",
       " 'create_dataset3d',\n",
       " 'create_floquet_port',\n",
       " 'create_impedance_between_objects',\n",
       " 'create_linear_count_sweep',\n",
       " 'create_linear_step_sweep',\n",
       " 'create_lumped_port_between_objects',\n",
       " 'create_lumped_port_to_sheet',\n",
       " 'create_lumped_rlc_between_objects',\n",
       " 'create_new_project',\n",
       " 'create_open_region',\n",
       " 'create_output_variable',\n",
       " 'create_perfecte_from_objects',\n",
       " 'create_perfecth_from_objects',\n",
       " 'create_qfactor_report',\n",
       " 'create_sbr_antenna',\n",
       " 'create_sbr_chirp_i_doppler_setup',\n",
       " 'create_sbr_chirp_iq_doppler_setup',\n",
       " 'create_sbr_file_based_antenna',\n",
       " 'create_sbr_linked_antenna',\n",
       " 'create_sbr_pulse_doppler_setup',\n",
       " 'create_sbr_radar_from_json',\n",
       " 'create_scattering',\n",
       " 'create_setup',\n",
       " 'create_single_point_sweep',\n",
       " 'create_source_excitation',\n",
       " 'create_spiral_lumped_port',\n",
       " 'create_voltage_source_from_objects',\n",
       " 'create_wave_port',\n",
       " 'create_wave_port_between_objects',\n",
       " 'create_wave_port_from_sheet',\n",
       " 'create_wave_port_microstrip_between_objects',\n",
       " 'dataset_exists',\n",
       " 'deactivate_variable_optimization',\n",
       " 'deactivate_variable_sensitivity',\n",
       " 'deactivate_variable_statistical',\n",
       " 'deactivate_variable_tuning',\n",
       " 'default_solution_type',\n",
       " 'delete_design',\n",
       " 'delete_project',\n",
       " 'delete_separator',\n",
       " 'delete_setup',\n",
       " 'delete_variable',\n",
       " 'design_datasets',\n",
       " 'design_excitations',\n",
       " 'design_list',\n",
       " 'design_name',\n",
       " 'design_properties',\n",
       " 'design_settings',\n",
       " 'design_solutions',\n",
       " 'design_type',\n",
       " 'design_variation',\n",
       " 'desktop_class',\n",
       " 'desktop_install_dir',\n",
       " 'duplicate_design',\n",
       " 'edit_setup',\n",
       " 'edit_source',\n",
       " 'edit_source_from_file',\n",
       " 'edit_sources',\n",
       " 'edit_sources_from_file',\n",
       " 'evaluate_expression',\n",
       " 'excitations',\n",
       " 'excitations_by_type',\n",
       " 'existing_analysis_setups',\n",
       " 'existing_analysis_sweeps',\n",
       " 'export_3d_model',\n",
       " 'export_convergence',\n",
       " 'export_design_preview_to_jpg',\n",
       " 'export_mesh_stats',\n",
       " 'export_parametric_results',\n",
       " 'export_profile',\n",
       " 'export_results',\n",
       " 'export_rl_matrix',\n",
       " 'export_touchstone',\n",
       " 'export_variables_to_csv',\n",
       " 'field_setup_names',\n",
       " 'field_setups',\n",
       " 'flatten_3d_components',\n",
       " 'generate_temp_project_directory',\n",
       " 'generate_unique_setup_name',\n",
       " 'get_all_conductors_names',\n",
       " 'get_all_dielectrics_names',\n",
       " 'get_all_sources',\n",
       " 'get_antenna_ffd_solution_data',\n",
       " 'get_components3d_vars',\n",
       " 'get_dxf_layers',\n",
       " 'get_evaluated_value',\n",
       " 'get_hdm_plotter',\n",
       " 'get_module',\n",
       " 'get_monitor_data',\n",
       " 'get_nominal_variation',\n",
       " 'get_object_material_properties',\n",
       " 'get_oo_name',\n",
       " 'get_oo_object',\n",
       " 'get_oo_properties',\n",
       " 'get_oo_property_value',\n",
       " 'get_output_variable',\n",
       " 'get_property_value',\n",
       " 'get_registry_key_int',\n",
       " 'get_registry_key_string',\n",
       " 'get_setup',\n",
       " 'get_setups',\n",
       " 'get_sweeps',\n",
       " 'get_touchstone_data',\n",
       " 'get_traces_for_plot',\n",
       " 'hidden_variable',\n",
       " 'hybrid',\n",
       " 'identify_touching_conductors',\n",
       " 'import_dataset1d',\n",
       " 'import_dataset3d',\n",
       " 'import_dxf',\n",
       " 'insert_design',\n",
       " 'insert_infinite_sphere',\n",
       " 'insert_near_field_box',\n",
       " 'insert_near_field_line',\n",
       " 'insert_near_field_rectangle',\n",
       " 'insert_near_field_sphere',\n",
       " 'last_run_job',\n",
       " 'last_run_log',\n",
       " 'layouteditor',\n",
       " 'library_list',\n",
       " 'list_of_variations',\n",
       " 'load_project',\n",
       " 'lock_file',\n",
       " 'logger',\n",
       " 'lumped_port',\n",
       " 'materials',\n",
       " 'mesh',\n",
       " 'modeler',\n",
       " 'native_components',\n",
       " 'nominal_adaptive',\n",
       " 'nominal_sweep',\n",
       " 'number_with_units',\n",
       " 'o_component_manager',\n",
       " 'o_maxwell_parameters',\n",
       " 'o_model_manager',\n",
       " 'o_symbol_manager',\n",
       " 'oanalysis',\n",
       " 'oboundary',\n",
       " 'odefinition_manager',\n",
       " 'odesign',\n",
       " 'odesktop',\n",
       " 'oeditor',\n",
       " 'oexcitation',\n",
       " 'ofieldsreporter',\n",
       " 'oimport_export',\n",
       " 'omaterial_manager',\n",
       " 'omatrix',\n",
       " 'omeshmodule',\n",
       " 'omodelsetup',\n",
       " 'omonitor',\n",
       " 'ooptimetrics',\n",
       " 'ooutput_variable',\n",
       " 'opadstackmanager',\n",
       " 'oproject',\n",
       " 'optimizations',\n",
       " 'oradfield',\n",
       " 'oreportsetup',\n",
       " 'osolution',\n",
       " 'output_variables',\n",
       " 'parametrics',\n",
       " 'parse_hdm_file',\n",
       " 'personallib',\n",
       " 'plot',\n",
       " 'post',\n",
       " 'project_datasets',\n",
       " 'project_file',\n",
       " 'project_list',\n",
       " 'project_name',\n",
       " 'project_path',\n",
       " 'project_properties',\n",
       " 'project_time_stamp',\n",
       " 'project_timestamp_changed',\n",
       " 'pyaedt_dir',\n",
       " 'read_design_data',\n",
       " 'read_only_variable',\n",
       " 'release_desktop',\n",
       " 'rename_design',\n",
       " 'results_directory',\n",
       " 'sar_setup',\n",
       " 'save_project',\n",
       " 'set_active_design',\n",
       " 'set_active_dso_config_name',\n",
       " 'set_auto_open',\n",
       " 'set_differential_pair',\n",
       " 'set_export_touchstone',\n",
       " 'set_impedance_multiplier',\n",
       " 'set_license_type',\n",
       " 'set_material_threshold',\n",
       " 'set_phase_center_per_port',\n",
       " 'set_radiated_power_calc_method',\n",
       " 'set_registry_from_file',\n",
       " 'set_registry_key',\n",
       " 'set_sbr_current_sources_options',\n",
       " 'set_sbr_txrx_settings',\n",
       " 'set_source_context',\n",
       " 'set_temporary_directory',\n",
       " 'settings',\n",
       " 'setup_names',\n",
       " 'setups',\n",
       " 'solution_type',\n",
       " 'solve_in_batch',\n",
       " 'src_dir',\n",
       " 'stop_simulations',\n",
       " 'student_version',\n",
       " 'submit_job',\n",
       " 'syslib',\n",
       " 'temp_directory',\n",
       " 'thicken_port_sheets',\n",
       " 'toolkit_directory',\n",
       " 'userlib',\n",
       " 'valid_design',\n",
       " 'validate_full_design',\n",
       " 'validate_simple',\n",
       " 'value_with_units',\n",
       " 'variable_manager',\n",
       " 'wave_port',\n",
       " 'working_directory']"
      ]
     },
     "execution_count": 13,
     "metadata": {},
     "output_type": "execute_result"
    }
   ],
   "source": [
    "dir(hfss)"
   ]
  },
  {
   "cell_type": "code",
   "execution_count": 17,
   "id": "ddd7cd6f",
   "metadata": {},
   "outputs": [
    {
     "data": {
      "text/plain": [
       "True"
      ]
     },
     "execution_count": 17,
     "metadata": {},
     "output_type": "execute_result"
    }
   ],
   "source": [
    "hfss.delete_design()"
   ]
  },
  {
   "cell_type": "code",
   "execution_count": null,
   "id": "c252e82c",
   "metadata": {},
   "outputs": [],
   "source": []
  }
 ],
 "metadata": {
  "kernelspec": {
   "display_name": "qdesignenv",
   "language": "python",
   "name": "python3"
  },
  "language_info": {
   "codemirror_mode": {
    "name": "ipython",
    "version": 3
   },
   "file_extension": ".py",
   "mimetype": "text/x-python",
   "name": "python",
   "nbconvert_exporter": "python",
   "pygments_lexer": "ipython3",
   "version": "3.10.17"
  }
 },
 "nbformat": 4,
 "nbformat_minor": 5
}
