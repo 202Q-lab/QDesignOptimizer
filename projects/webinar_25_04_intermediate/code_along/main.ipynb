{
 "cells": [
  {
   "cell_type": "code",
   "execution_count": null,
   "metadata": {},
   "outputs": [],
   "source": [
    "%load_ext autoreload\n",
    "%autoreload 2"
   ]
  },
  {
   "cell_type": "markdown",
   "metadata": {},
   "source": [
    "# QDO Webinar: intermediate tutorial\n",
    "In this tutorial we will see how to integrate a complete Qiskit Metal design with the QDO.\n",
    "\n",
    "### Requirements to follow along\n",
    "- Working installation of the QDO\n",
    "- Pull this material from the ``webinar-intermediate`` branch of the repository\n",
    "\n",
    "### Structure of the code\n",
    "![image info](../plots/code_structure.png)\n",
    "- We will start from the minimal code provided in ``projects/webinar_25_04_intermediate/code_along/`` and progressively write all the files needed to set up a project with the QDO.\n",
    "- You can find the completed code in ``projects/webinar_25_04_intermediate/solution/``.\n"
   ]
  },
  {
   "cell_type": "markdown",
   "metadata": {},
   "source": [
    "# 01 Basics: design and rendering"
   ]
  },
  {
   "cell_type": "markdown",
   "metadata": {},
   "source": [
    "## What we will learn about\n",
    "- Keeping the design tidy: groups and name conventions\n",
    "- Design variables\n",
    "- MiniStudies\n",
    "\n",
    "## What we will do\n",
    "- Transform the resonator length into a design variable\n",
    "- Create the ``mini_studies.py`` file and add a MiniStudy that isolates the resonator"
   ]
  },
  {
   "cell_type": "markdown",
   "metadata": {},
   "source": [
    "![image info](../plots/full_design.png)"
   ]
  },
  {
   "cell_type": "code",
   "execution_count": null,
   "metadata": {},
   "outputs": [],
   "source": [
    "# Library imports\n",
    "import json\n",
    "from qdesignoptimizer.utils.chip_generation import create_chip_base, ChipType\n",
    "\n",
    "# Project specific\n",
    "from design import *\n",
    "import names as n"
   ]
  },
  {
   "cell_type": "markdown",
   "metadata": {},
   "source": [
    "### Create the chip"
   ]
  },
  {
   "cell_type": "code",
   "execution_count": null,
   "metadata": {},
   "outputs": [],
   "source": [
    "def create_chip_and_gui():\n",
    "    # Initialize the chip and open the Qiskit Metal GUI.\n",
    "    chip_type = ChipType(\n",
    "        size_x=\"10mm\", size_y=\"10mm\", size_z=\"-300um\", material=\"silicon\"\n",
    "    )\n",
    "    design, gui = create_chip_base(\n",
    "        chip_name=n.CHIP_NAME, chip_type=chip_type, open_gui=True\n",
    "    )\n",
    "\n",
    "    # Pick the values for the design variables defined in the .json file\n",
    "    # and add them to the design object created by Qiskit Metal\n",
    "    with open(\"design_variables.json\") as in_file:\n",
    "        initial_design_variables = json.load(in_file)\n",
    "    n.add_design_variables_to_design(design, initial_design_variables)\n",
    "\n",
    "    return design, gui\n",
    "\n",
    "\n",
    "design, gui = create_chip_and_gui()"
   ]
  },
  {
   "cell_type": "markdown",
   "metadata": {},
   "source": [
    "### Call the functions defined in design.py"
   ]
  },
  {
   "cell_type": "code",
   "execution_count": null,
   "metadata": {},
   "outputs": [],
   "source": [
    "def render_qiskit_metal_design(design, gui):\n",
    "    add_transmon_plus_resonator(design, group=n.NBR_1)\n",
    "    add_transmon_plus_resonator(design, group=n.NBR_2)\n",
    "\n",
    "    add_coupler(design)\n",
    "\n",
    "    add_route_interconnects(design)\n",
    "\n",
    "    add_launch_pads(design)\n",
    "\n",
    "    add_chargeline(design, group=n.NBR_1)\n",
    "    add_chargeline(design, group=n.NBR_2)\n",
    "\n",
    "    gui.rebuild()\n",
    "    gui.autoscale()\n",
    "\n",
    "\n",
    "render_qiskit_metal_design(design, gui)\n",
    "gui.screenshot()"
   ]
  },
  {
   "cell_type": "markdown",
   "metadata": {},
   "source": [
    "## 02 Optimization of readout resonator frequency"
   ]
  },
  {
   "cell_type": "markdown",
   "metadata": {},
   "source": [
    "## What we will learn about\n",
    "- Parameter targets\n",
    "- Linking parameters and design variables: optimization targets\n",
    "- Plotting optimization results\n",
    "- What happens when running the optimization\n",
    "\n",
    "## What we will do\n",
    "- Define the target value for the resonator frequency in the ``parameter_targets.py`` file\n",
    "- Link the physical parameter to the resonator length in the ``optimization_targets.py`` file\n",
    "- Configure a simple plot for the optimization results in the ``plot_settings.py`` file\n",
    "- Put everything together and run the optimization"
   ]
  },
  {
   "cell_type": "code",
   "execution_count": 1,
   "metadata": {},
   "outputs": [],
   "source": [
    "# Library imports\n",
    "import os\n",
    "from qdesignoptimizer.design_analysis import DesignAnalysis, DesignAnalysisState\n",
    "from qdesignoptimizer.utils.utils import get_save_path\n",
    "from qdesignoptimizer.utils.utils import close_ansys\n",
    "\n",
    "# Project-specific imports\n",
    "import names as n\n",
    "import mini_studies as ms\n",
    "import optimization_targets as ot\n",
    "import parameter_targets as pt\n",
    "import plot_settings as ps\n",
    "\n",
    "os.makedirs(os.path.dirname(\"out/\"), exist_ok=True)"
   ]
  },
  {
   "cell_type": "markdown",
   "metadata": {},
   "source": [
    "### Create the study and optimization targets"
   ]
  },
  {
   "cell_type": "code",
   "execution_count": null,
   "metadata": {},
   "outputs": [],
   "source": [
    "MINI_STUDY_GROUP = n.NBR_1\n",
    "\n",
    "MINI_STUDY = ms.get_mini_study_resonator_only(group=MINI_STUDY_GROUP)\n",
    "opt_targets = ot.get_opt_target_resonator_frequency(\n",
    "    MINI_STUDY_GROUP,\n",
    ")\n",
    "plot_settings = ps.get_plot_settings_resonator(MINI_STUDY_GROUP)"
   ]
  },
  {
   "cell_type": "markdown",
   "metadata": {},
   "source": [
    "### Initialize the DesignAnalysis objects"
   ]
  },
  {
   "cell_type": "code",
   "execution_count": null,
   "metadata": {},
   "outputs": [],
   "source": [
    "RENDER_QISKIT_METAL = lambda design: render_qiskit_metal_design(design, gui)\n",
    "\n",
    "design_analysis_state = DesignAnalysisState(\n",
    "    design, RENDER_QISKIT_METAL, pt.PARAM_TARGETS\n",
    ")\n",
    "\n",
    "design_analysis = DesignAnalysis(\n",
    "    design_analysis_state,\n",
    "    mini_study=MINI_STUDY,\n",
    "    opt_targets=opt_targets,\n",
    "    save_path=get_save_path(\"out/\", n.CHIP_NAME),\n",
    "    update_design_variables=False,\n",
    "    plot_settings=plot_settings,\n",
    ")"
   ]
  },
  {
   "cell_type": "markdown",
   "metadata": {},
   "source": [
    "### Run the optimization"
   ]
  },
  {
   "cell_type": "code",
   "execution_count": null,
   "metadata": {},
   "outputs": [],
   "source": [
    "group_runs = 3\n",
    "group_passes = 8\n",
    "delta_f = 0.01\n",
    "\n",
    "design_analysis.update_nbr_passes(group_passes)\n",
    "design_analysis.update_delta_f(delta_f)\n",
    "\n",
    "for i in range(group_runs):\n",
    "    design_analysis.optimize_target({}, {})\n",
    "    design_analysis.screenshot(gui=gui, run=i)"
   ]
  },
  {
   "cell_type": "markdown",
   "metadata": {},
   "source": [
    "### Results\n",
    "\n",
    "For group 1\n",
    "\n",
    "![image info](../plots/resonator_frequency_1.png)\n",
    "\n",
    "For group 2\n",
    "\n",
    "![image info](../plots/resonator_frequency_2.png)\n"
   ]
  },
  {
   "cell_type": "markdown",
   "metadata": {},
   "source": [
    "# 03 Adding more parameters\n",
    "## What we will learn about\n",
    "- Defining a MiniStudy containing a Josephson junction and multiple modes.\n",
    "- Using parameters targeting nonlinearities.\n",
    "\n",
    "### Goal: optimize the qubit frequency, its anharmonicity and resonator-qubit chi at the same time as the resonator frequency.\n",
    "### TODO\n",
    "- Transform the inductance of the qubit's Josephson junction into a design variable.\n",
    "- Add a function called ``get_mini_study_resonator_qubit`` to the mini-studies file that isolates the qubit and readout resonator.\n",
    "- Add the targets for the new parameters to the corresponding file. Import and use ``param_nonlin`` to define targets for $\\chi$ and the anharmonicity.\n",
    "- Add a function called ``get_opt_targets_resonator_qubit`` to the optimization targets file. Use the targets predefined in the library.\n",
    "- Add a function called ``get_plot_settings_resonator_qubit`` to the optimization targets file. Plot the qubit frequency in the same panel as the resonator frequency, while $\\chi$ and the qubit anharmonicity should appear in a new panel. "
   ]
  },
  {
   "cell_type": "code",
   "execution_count": null,
   "metadata": {},
   "outputs": [],
   "source": [
    "MINI_STUDY_GROUP = n.NBR_1\n",
    "RENDER_QISKIT_METAL = lambda design: render_qiskit_metal_design(design, gui)\n",
    "MINI_STUDY = ms.get_mini_study_resonator_qubit(group=MINI_STUDY_GROUP)\n",
    "opt_targets = ot.get_opt_target_resonator_qubit(MINI_STUDY_GROUP)\n",
    "plot_settings = ps.get_plot_settings_resonator_qubit(MINI_STUDY_GROUP)"
   ]
  },
  {
   "cell_type": "code",
   "execution_count": null,
   "metadata": {},
   "outputs": [],
   "source": [
    "design_analysis_state = DesignAnalysisState(\n",
    "    design, RENDER_QISKIT_METAL, pt.PARAM_TARGETS\n",
    ")\n",
    "\n",
    "design_analysis = DesignAnalysis(\n",
    "    design_analysis_state,\n",
    "    mini_study=MINI_STUDY,\n",
    "    opt_targets=opt_targets,\n",
    "    save_path=get_save_path(\"out/\", n.CHIP_NAME),\n",
    "    update_design_variables=False,\n",
    "    plot_settings=plot_settings,\n",
    ")"
   ]
  },
  {
   "cell_type": "code",
   "execution_count": null,
   "metadata": {},
   "outputs": [],
   "source": [
    "group_runs = 6\n",
    "group_passes = 8\n",
    "delta_f = 0.01\n",
    "\n",
    "design_analysis.update_nbr_passes(group_passes)\n",
    "design_analysis.update_delta_f(delta_f)\n",
    "\n",
    "for i in range(group_runs):\n",
    "    design_analysis.optimize_target({}, {})\n",
    "    design_analysis.screenshot(gui=gui, run=i)"
   ]
  },
  {
   "cell_type": "markdown",
   "metadata": {},
   "source": [
    "### Results\n",
    "![image info](../plots/frequencies_1.png)\n",
    "![image info](../plots/nonlinearities_1.png)"
   ]
  },
  {
   "cell_type": "markdown",
   "metadata": {},
   "source": [
    "### Update parameters and close Ansys"
   ]
  },
  {
   "cell_type": "code",
   "execution_count": null,
   "metadata": {},
   "outputs": [],
   "source": [
    "design_analysis.overwrite_parameters()\n",
    "close_ansys()"
   ]
  },
  {
   "cell_type": "code",
   "execution_count": null,
   "metadata": {},
   "outputs": [],
   "source": []
  }
 ],
 "metadata": {
  "kernelspec": {
   "display_name": "qdesignenv",
   "language": "python",
   "name": "python3"
  },
  "language_info": {
   "codemirror_mode": {
    "name": "ipython",
    "version": 3
   },
   "file_extension": ".py",
   "mimetype": "text/x-python",
   "name": "python",
   "nbconvert_exporter": "python",
   "pygments_lexer": "ipython3",
   "version": "3.10.16"
  }
 },
 "nbformat": 4,
 "nbformat_minor": 2
}
