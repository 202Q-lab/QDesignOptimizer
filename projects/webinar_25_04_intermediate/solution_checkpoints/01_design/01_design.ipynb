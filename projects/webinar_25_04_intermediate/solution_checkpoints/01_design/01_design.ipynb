{
 "cells": [
  {
   "cell_type": "code",
   "execution_count": null,
   "metadata": {},
   "outputs": [],
   "source": [
    "%load_ext autoreload\n",
    "%autoreload 2"
   ]
  },
  {
   "cell_type": "markdown",
   "metadata": {},
   "source": [
    "# Basics: design and rendering"
   ]
  },
  {
   "cell_type": "markdown",
   "metadata": {},
   "source": [
    "## What we will learn about\n",
    "- Keeping the design tidy: groups and name conventions\n",
    "- Design variables\n",
    "- MiniStudies\n",
    "- Structure of the optimization notebook\n",
    "\n",
    "## What we will do\n",
    "- Transform the resonator length into a design variable\n",
    "- Write a MiniStudy that isolates the resonator"
   ]
  },
  {
   "cell_type": "code",
   "execution_count": null,
   "metadata": {},
   "outputs": [],
   "source": [
    "# Library imports\n",
    "import json\n",
    "from qdesignoptimizer.utils.chip_generation import create_chip_base, ChipType\n",
    "\n",
    "# Project specific\n",
    "from design import *\n",
    "import names as n"
   ]
  },
  {
   "cell_type": "markdown",
   "metadata": {},
   "source": [
    "## Rendering the design"
   ]
  },
  {
   "cell_type": "markdown",
   "metadata": {},
   "source": [
    "### 1. Create the chip"
   ]
  },
  {
   "cell_type": "code",
   "execution_count": null,
   "metadata": {},
   "outputs": [],
   "source": [
    "def create_chip_and_gui():\n",
    "    # Initialize the chip and open the Qiskit Metal GUI.\n",
    "    chip_type = ChipType(\n",
    "        size_x=\"10mm\", size_y=\"10mm\", size_z=\"-300um\", material=\"silicon\"\n",
    "    )\n",
    "    design, gui = create_chip_base(\n",
    "        chip_name=n.CHIP_NAME, chip_type=chip_type, open_gui=True\n",
    "    )\n",
    "\n",
    "    # Pick the values for the design variables defined in the .json file\n",
    "    # and add them to the design object created by Qiskit Metal\n",
    "    with open(\"design_variables.json\") as in_file:\n",
    "        initial_design_variables = json.load(in_file)\n",
    "    n.add_design_variables_to_design(design, initial_design_variables)\n",
    "\n",
    "    return design, gui\n",
    "\n",
    "\n",
    "design, gui = create_chip_and_gui()"
   ]
  },
  {
   "cell_type": "markdown",
   "metadata": {},
   "source": [
    "### 2. Call the functions defined in design.py"
   ]
  },
  {
   "cell_type": "code",
   "execution_count": null,
   "metadata": {},
   "outputs": [],
   "source": [
    "def render_qiskit_metal_design(design, gui):\n",
    "    add_transmon_plus_resonator(design, group=n.NBR_1)\n",
    "    add_transmon_plus_resonator(design, group=n.NBR_2)\n",
    "\n",
    "    add_coupler(design)\n",
    "\n",
    "    add_route_interconnects(design)\n",
    "\n",
    "    add_launch_pads(design)\n",
    "\n",
    "    add_chargeline(design, group=n.NBR_1)\n",
    "    add_chargeline(design, group=n.NBR_2)\n",
    "\n",
    "    gui.rebuild()\n",
    "    gui.autoscale()\n",
    "\n",
    "\n",
    "render_qiskit_metal_design(design, gui)"
   ]
  },
  {
   "cell_type": "markdown",
   "metadata": {},
   "source": [
    "## Creating the study and rendering the isolated components in Ansys"
   ]
  },
  {
   "cell_type": "code",
   "execution_count": null,
   "metadata": {},
   "outputs": [],
   "source": [
    "# Library imports\n",
    "from qdesignoptimizer.design_analysis import DesignAnalysis, DesignAnalysisState\n",
    "from qdesignoptimizer.utils.utils import get_save_path\n",
    "\n",
    "# Project specific\n",
    "import mini_studies as ms"
   ]
  },
  {
   "cell_type": "code",
   "execution_count": null,
   "metadata": {},
   "outputs": [],
   "source": [
    "MINI_STUDY = ms.get_mini_study_resonator_only(group=n.NBR_1)\n",
    "RENDER_QISKIT_METAL = lambda design: render_qiskit_metal_design(design, gui)\n",
    "\n",
    "design_analysis_state = DesignAnalysisState(design, RENDER_QISKIT_METAL, {})\n",
    "\n",
    "design_analysis = DesignAnalysis(\n",
    "    design_analysis_state,\n",
    "    mini_study=MINI_STUDY,\n",
    "    opt_targets={},\n",
    "    save_path=get_save_path(\"./\", n.CHIP_NAME),\n",
    "    update_design_variables=False,\n",
    ")\n",
    "design_analysis.optimize_target({}, {})"
   ]
  },
  {
   "cell_type": "code",
   "execution_count": null,
   "metadata": {},
   "outputs": [],
   "source": [
    "from qdesignoptimizer.utils.utils import close_ansys\n",
    "\n",
    "close_ansys()"
   ]
  }
 ],
 "metadata": {
  "kernelspec": {
   "display_name": "qdesignenv",
   "language": "python",
   "name": "python3"
  },
  "language_info": {
   "codemirror_mode": {
    "name": "ipython",
    "version": 3
   },
   "file_extension": ".py",
   "mimetype": "text/x-python",
   "name": "python",
   "nbconvert_exporter": "python",
   "pygments_lexer": "ipython3",
   "version": "3.10.16"
  }
 },
 "nbformat": 4,
 "nbformat_minor": 2
}
