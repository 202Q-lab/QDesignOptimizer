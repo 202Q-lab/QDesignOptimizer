{
 "cells": [
  {
   "cell_type": "markdown",
   "metadata": {},
   "source": [
    "# Adding more optimization parameters"
   ]
  },
  {
   "cell_type": "code",
   "execution_count": null,
   "metadata": {},
   "outputs": [],
   "source": [
    "%load_ext autoreload\n",
    "%autoreload 2"
   ]
  },
  {
   "cell_type": "markdown",
   "metadata": {},
   "source": [
    "## What we will learn about\n",
    "- Defining a MiniStudy containing a Josephson junction and multiple modes.\n",
    "- Using parameters targeting nonlinearities.\n",
    "\n",
    "\n",
    "## Now it is your time to extend the example!\n",
    "### Goal: also optimize the qubit frequency, its anharmonicity and resonator-qubit chi.\n",
    "### TODO\n",
    "- Add a function called ``get_mini_study_resonator_qubit`` to the mini-studies file that isolates the qubit and readout resonator.\n",
    "- Transform the inductance of the qubit's Josephson junction into a design variable.\n",
    "- Add the targets for the new parameters to the corresponding file. Import and use ``param_nonlin`` to define targets for $\\chi$ and the anharmonicity.\n",
    "- Add a function called ``get_opt_targets_resonator_qubit`` to the optimization targets file. Use the targets predefined in the library.\n",
    "- Add a function called ``get_plot_settings_resonator_qubit`` to the optimization targets file. Plot the qubit frequency in the same panel as the resonator frequency, while $\\chi$ and the qubit anharmonicity should appear in a new panel. \n"
   ]
  },
  {
   "cell_type": "code",
   "execution_count": null,
   "metadata": {},
   "outputs": [],
   "source": [
    "# Library imports\n",
    "import os\n",
    "from qdesignoptimizer.design_analysis import DesignAnalysis, DesignAnalysisState\n",
    "from qdesignoptimizer.utils.utils import get_save_path\n",
    "from qdesignoptimizer.utils.utils import close_ansys\n",
    "\n",
    "# Project-specific imports\n",
    "import names as n\n",
    "import mini_studies as ms\n",
    "import optimization_targets as ot\n",
    "import parameter_targets as pt\n",
    "import plot_settings as ps\n",
    "from design import render_qiskit_metal_design, create_chip_and_gui\n",
    "\n",
    "os.makedirs(os.path.dirname(\"out/\"), exist_ok=True)\n",
    "close_ansys()"
   ]
  },
  {
   "cell_type": "code",
   "execution_count": null,
   "metadata": {},
   "outputs": [],
   "source": [
    "design, gui = create_chip_and_gui()\n",
    "render_qiskit_metal_design(design, gui)"
   ]
  },
  {
   "cell_type": "markdown",
   "metadata": {},
   "source": [
    "## Creating design analysis objects"
   ]
  },
  {
   "cell_type": "code",
   "execution_count": null,
   "metadata": {},
   "outputs": [],
   "source": [
    "MINI_STUDY_GROUP = n.NBR_1\n",
    "RENDER_QISKIT_METAL = lambda design: render_qiskit_metal_design(design, gui)\n",
    "MINI_STUDY = ms.get_mini_study_resonator_qubit(group=MINI_STUDY_GROUP)\n",
    "opt_targets = ot.get_opt_target_resonator_qubit(MINI_STUDY_GROUP)\n",
    "plot_settings = ps.get_plot_settings_resonator_qubit(MINI_STUDY_GROUP)"
   ]
  },
  {
   "cell_type": "code",
   "execution_count": null,
   "metadata": {},
   "outputs": [],
   "source": [
    "design_analysis_state = DesignAnalysisState(\n",
    "    design, RENDER_QISKIT_METAL, pt.PARAM_TARGETS\n",
    ")\n",
    "\n",
    "design_analysis = DesignAnalysis(\n",
    "    design_analysis_state,\n",
    "    mini_study=MINI_STUDY,\n",
    "    opt_targets=opt_targets,\n",
    "    save_path=get_save_path(\"out/\", n.CHIP_NAME),\n",
    "    update_design_variables=False,\n",
    "    plot_settings=plot_settings,\n",
    ")"
   ]
  },
  {
   "cell_type": "markdown",
   "metadata": {},
   "source": [
    "## Optimization step"
   ]
  },
  {
   "cell_type": "code",
   "execution_count": null,
   "metadata": {},
   "outputs": [],
   "source": [
    "group_runs = 6\n",
    "group_passes = 10\n",
    "for i in range(group_runs):\n",
    "    design_analysis.update_nbr_passes(group_passes)\n",
    "    design_analysis.optimize_target({}, {})\n",
    "    design_analysis.screenshot(gui=gui, run=i)"
   ]
  },
  {
   "cell_type": "markdown",
   "metadata": {},
   "source": [
    "## Results"
   ]
  },
  {
   "cell_type": "markdown",
   "metadata": {},
   "source": [
    "### Eigenmodes and cross Kerr"
   ]
  },
  {
   "cell_type": "code",
   "execution_count": null,
   "metadata": {},
   "outputs": [],
   "source": [
    "design_analysis.get_eigenmode_results()"
   ]
  },
  {
   "cell_type": "code",
   "execution_count": null,
   "metadata": {},
   "outputs": [],
   "source": [
    "design_analysis.get_cross_kerr_matrix(iteration=-1)"
   ]
  },
  {
   "cell_type": "markdown",
   "metadata": {},
   "source": [
    "### What you should see\n",
    "![image info](./plots/frequencies_1.png)\n",
    "![image info](./plots/nonlinearities_1.png)"
   ]
  },
  {
   "cell_type": "markdown",
   "metadata": {},
   "source": [
    "## Update parameters and close Ansys"
   ]
  },
  {
   "cell_type": "code",
   "execution_count": null,
   "metadata": {},
   "outputs": [],
   "source": [
    "design_analysis.overwrite_parameters()\n",
    "close_ansys()"
   ]
  }
 ],
 "metadata": {
  "kernelspec": {
   "display_name": "qdesignenv",
   "language": "python",
   "name": "python3"
  },
  "language_info": {
   "codemirror_mode": {
    "name": "ipython",
    "version": 3
   },
   "file_extension": ".py",
   "mimetype": "text/x-python",
   "name": "python",
   "nbconvert_exporter": "python",
   "pygments_lexer": "ipython3",
   "version": "3.10.16"
  }
 },
 "nbformat": 4,
 "nbformat_minor": 2
}
