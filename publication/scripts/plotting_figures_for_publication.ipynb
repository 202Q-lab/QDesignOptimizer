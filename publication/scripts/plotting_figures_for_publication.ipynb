{
 "cells": [
  {
   "cell_type": "code",
   "execution_count": null,
   "metadata": {},
   "outputs": [],
   "source": [
    "import sys\n",
    "from pathlib import Path\n",
    "\n",
    "def add_repo_to_path():\n",
    "    repo_root = Path.cwd().parent.parent\n",
    "    sys.path.insert(0, str(repo_root))"
   ]
  },
  {
   "cell_type": "code",
   "execution_count": null,
   "metadata": {},
   "outputs": [],
   "source": [
    "import numpy as np\n",
    "import matplotlib.pyplot as plt\n",
    "\n",
    "from qdesignoptimizer.sim_plot_progress import DataExtractor, OptimizationPlotter\n",
    "from qdesignoptimizer.sim_plot_progress import OptPltSet\n",
    "from qdesignoptimizer.utils.names_parameters import (\n",
    "    param,\n",
    "    param_capacitance,\n",
    "    param_nonlin,\n",
    ")\n",
    "\n",
    "from utils_plot import get_color_shades, crop_image_by_fraction"
   ]
  },
  {
   "cell_type": "code",
   "execution_count": null,
   "metadata": {},
   "outputs": [],
   "source": [
    "add_repo_to_path()\n",
    "import projects.examples_coupled_transmon_chip.names as n\n",
    "repo_root = Path.cwd().parent.parent\n",
    "sys.path.insert(0, str(repo_root)+'/projects/examples_coupled_transmon_chip')\n",
    "import projects.examples_coupled_transmon_chip.optimization_targets as ot"
   ]
  },
  {
   "cell_type": "markdown",
   "metadata": {},
   "source": [
    "# Figures for publication"
   ]
  },
  {
   "cell_type": "markdown",
   "metadata": {},
   "source": [
    "## colors"
   ]
  },
  {
   "cell_type": "code",
   "execution_count": null,
   "metadata": {},
   "outputs": [],
   "source": [
    "# selected colors based on Gothenburg tram line map\n",
    "colors_got = {'green': '#009639', \n",
    "              'blue': '#0066CC', \n",
    "              'yellow': '#FFD200', \n",
    "              'red': '#E30613', \n",
    "              'pink': '#EC008C', \n",
    "              'lightblue': '#00B5E2', \n",
    "              'purple': '#93328E', \n",
    "              'orange': '#F58220', \n",
    "              'grey': '#8C8C8C',\n",
    "              'lightsalmon': '#FF9E80'}\n",
    "\n",
    "# make a list of colors\n",
    "color_list = list(colors_got.values())\n",
    "\n",
    "color_shades_purple = get_color_shades(colors_got['purple'], num_shades=5)\n",
    "color_shades_red = get_color_shades(colors_got['red'], num_shades=5)\n",
    "color_shades_blue = get_color_shades(colors_got['blue'], num_shades=5)\n",
    "color_shades_lightblue = get_color_shades(colors_got['lightblue'], num_shades=4)\n",
    "color_shades_grey = get_color_shades(colors_got['grey'], num_shades=5)"
   ]
  },
  {
   "cell_type": "markdown",
   "metadata": {},
   "source": [
    "## Fig 3: Single qubit example"
   ]
  },
  {
   "cell_type": "code",
   "execution_count": null,
   "metadata": {},
   "outputs": [],
   "source": [
    "# Load iamge\n",
    "cropped_image = crop_image_by_fraction(r'..\\data\\figures' + r'\\2025-08-10_OPT_qubit_resonator_final_sb.png', left=0.1, right=0.1, top=0.0, bottom=0.0, rotate_90=1)\n",
    "\n",
    "# Load data\n",
    "f_sim_result = [r'..\\data\\simulations_single_qubit' + r\"\\multi_transmon_chip_20250821-221223.npy\"]\n"
   ]
  },
  {
   "cell_type": "code",
   "execution_count": null,
   "metadata": {},
   "outputs": [],
   "source": [
    "d_sim_result = np.load(f_sim_result[0], allow_pickle=True)[0]\n",
    "system_target_params = d_sim_result[\"system_target_params\"]\n",
    "opt_result = d_sim_result['optimization_results']\n",
    "\n",
    "opt_target_list = ot.get_opt_targets_2qubits_resonator_coupler([1], True,True,True,True,True,False,False)\n",
    "\n",
    "iteration = 'Iteration'\n",
    "config_Fig3 = {\n",
    "    'RES_freq': OptPltSet(n.ITERATION, param(n.RESONATOR_1, n.FREQ), y_label=\"$f_{res}$\", unit=\"GHz\"), \n",
    "    'RES_kappa': OptPltSet(n.ITERATION, param(n.RESONATOR_1, n.KAPPA), y_label=\"$\\kappa_{res}$\", unit=\"MHz\"),\n",
    "    'QUB_freq': OptPltSet(n.ITERATION, param(n.QUBIT_1, n.FREQ), y_label=\"$f_{qb}$\", unit=\"GHz\"),\n",
    "    'QUB_anh': OptPltSet(n.ITERATION, param_nonlin(n.QUBIT_1, n.QUBIT_1), y_label=\"$\\\\alpha_{qb}$\", unit=\"MHz\"),\n",
    "    'RES_QUB_chi': OptPltSet(n.ITERATION, param_nonlin(n.RESONATOR_1, n.QUBIT_1), y_label=\"$\\chi_{qb-res}$\", unit=\"MHz\"),\n",
    "    }\n",
    "\n",
    "print(system_target_params)\n",
    "print(opt_result[0]['design_variables'])\n"
   ]
  },
  {
   "cell_type": "code",
   "execution_count": null,
   "metadata": {},
   "outputs": [],
   "source": [
    "data_extractor = DataExtractor([opt_result], system_target_params, opt_target_list)\n",
    "plotter_Fig3 = OptimizationPlotter(data_extractor, plot_variance=False, save_figures=False)"
   ]
  },
  {
   "cell_type": "markdown",
   "metadata": {},
   "source": [
    "### Plot figure with data"
   ]
  },
  {
   "cell_type": "code",
   "execution_count": null,
   "metadata": {},
   "outputs": [],
   "source": [
    "figure_width_inch = 3.35\n",
    "plt.rcParams.update({\n",
    "    'font.family': 'serif',\n",
    "    'font.serif': ['Times New Roman'], \n",
    "    'font.size': 10,  \n",
    "    'mathtext.fontset': 'stix',  \n",
    "})\n",
    "\n",
    "fig = plt.figure(figsize=(figure_width_inch, 3.5))\n",
    "gs = fig.add_gridspec(3, 2, wspace=0.55, hspace=0.15, left=0.16, right=0.99, bottom=0.13, top=0.97)\n",
    "ax0 = fig.add_subplot(gs[0, 0])\n",
    "ax1 = fig.add_subplot(gs[0, 1])\n",
    "ax2 = fig.add_subplot(gs[1, 0])\n",
    "ax3 = fig.add_subplot(gs[1, 1])\n",
    "ax4 = fig.add_subplot(gs[2, 0])\n",
    "ax5 = fig.add_subplot(gs[2, 1])\n",
    "\n",
    "plotter_Fig3._plot_single_param(ax1, config_Fig3['RES_freq'], y_param=config_Fig3['RES_freq'].y, color=colors_got['blue'], markersize=5)\n",
    "plotter_Fig3._plot_single_param(ax2, config_Fig3['RES_kappa'], y_param=config_Fig3['RES_kappa'].y, color=colors_got['lightblue'], markersize=5)\n",
    "plotter_Fig3._plot_single_param(ax3, config_Fig3['QUB_freq'], y_param=config_Fig3['QUB_freq'].y, color=colors_got['purple'], markersize=5)\n",
    "plotter_Fig3._plot_single_param(ax4, config_Fig3['QUB_anh'], y_param=config_Fig3['QUB_anh'].y, color=colors_got['pink'], markersize=5)\n",
    "plotter_Fig3._plot_single_param(ax5, config_Fig3['RES_QUB_chi'], y_param=config_Fig3['RES_QUB_chi'].y, color=colors_got['orange'], markersize=5)\n",
    "\n",
    "ax1.set_xticks([5,10])\n",
    "ax2.set_xticks([5,10])\n",
    "ax3.set_xticks([5,10])\n",
    "ax4.set_xticks([5,10])\n",
    "ax5.set_xticks([5,10])\n",
    "\n",
    "ax1.set_xlabel('')\n",
    "ax2.set_xlabel('')\n",
    "ax3.set_xlabel('')\n",
    "ax4.set_xlabel('Iteration')\n",
    "ax5.set_xlabel('Iteration')\n",
    "\n",
    "ax1.set_xticklabels([])\n",
    "ax2.set_xticklabels([])\n",
    "ax3.set_xticklabels([])\n",
    "\n",
    "ax1.text(0.05,0.1,'(a)', transform=ax0.transAxes)\n",
    "ax1.text(0.1,0.86,'(b)', transform=ax1.transAxes)\n",
    "ax2.text(0.04,0.74,'(c)', transform=ax2.transAxes)\n",
    "ax3.text(0.1,0.86,'(d)', transform=ax3.transAxes)\n",
    "ax4.text(0.1,0.86,'(e)', transform=ax4.transAxes)\n",
    "ax5.text(0.1,0.86,'(f)', transform=ax5.transAxes)\n",
    "\n",
    "ax0.imshow(cropped_image)\n",
    "ax0.axis('off')\n",
    "\n",
    "fig.savefig(r'..\\data\\figures' + r\"\\Fig2_OPT_single_qubit_resonator.png\", dpi=300)"
   ]
  },
  {
   "cell_type": "markdown",
   "metadata": {},
   "source": [
    "## Fig 4: Effect of nonlinear model"
   ]
  },
  {
   "cell_type": "code",
   "execution_count": null,
   "metadata": {},
   "outputs": [],
   "source": [
    "iteration = 'Iteration'\n",
    "config = {\n",
    "    'RES_QUB_chi': OptPltSet(n.ITERATION, param_nonlin(n.RESONATOR_1, n.QUBIT_1), y_label=\"$\\chi_{qb-res}$\", unit=\"MHz\"),\n",
    "    'QUB_freq': OptPltSet(n.ITERATION, param(n.QUBIT_1, n.FREQ), y_label=\"$f_{qb}$\", unit=\"GHz\"),\n",
    "    'RES_freq': OptPltSet(n.ITERATION, param(n.RESONATOR_1, n.FREQ), y_label=\"$f_{res}$\", unit=\"GHz\")\n",
    "    }"
   ]
  },
  {
   "cell_type": "markdown",
   "metadata": {},
   "source": [
    "### Load data (nonlinear model)"
   ]
  },
  {
   "cell_type": "code",
   "execution_count": null,
   "metadata": {},
   "outputs": [],
   "source": [
    "f_sim_result = [\n",
    "                r'..\\data\\simulations_single_qubit' + r\"\\multi_transmon_chip_20250821-221223.npy\",\n",
    "                r'..\\data\\simulations_single_qubit' + r\"\\multi_transmon_chip_20250813-100952.npy\", \n",
    "                r'..\\data\\simulations_single_qubit' + r\"\\multi_transmon_chip_20250818-230313.npy\", \n",
    "                r'..\\data\\simulations_single_qubit' + r\"\\multi_transmon_chip_20250818-120022.npy\", \n",
    "                r'..\\data\\simulations_single_qubit' + r\"\\multi_transmon_chip_20250819-091159.npy\", \n",
    "                r'..\\data\\simulations_single_qubit' + r'\\multi_transmon_chip_20250820-143805.npy', \n",
    "                r'..\\data\\simulations_single_qubit' + r'\\multi_transmon_chip_20250821-175639.npy',\n",
    "               ] "
   ]
  },
  {
   "cell_type": "code",
   "execution_count": null,
   "metadata": {},
   "outputs": [],
   "source": [
    "opt_plot_Fig4 = []\n",
    "opt_target_list = ot.get_opt_targets_2qubits_resonator_coupler([1], True,True,True,True,True,False,False)\n",
    "for i in range(len(f_sim_result)):\n",
    "    d_sim_result = np.load(f_sim_result[i], allow_pickle=True)[0]\n",
    "    system_target_params = d_sim_result[\"system_target_params\"]\n",
    "    opt_result = d_sim_result['optimization_results']\n",
    "\n",
    "    data_extractor = DataExtractor([opt_result], system_target_params,opt_target_list)\n",
    "    plotter = OptimizationPlotter(data_extractor, plot_variance=False, save_figures=False)\n",
    "    opt_plot_Fig4.append(plotter)"
   ]
  },
  {
   "cell_type": "markdown",
   "metadata": {},
   "source": [
    "### Load data (variations)"
   ]
  },
  {
   "cell_type": "code",
   "execution_count": null,
   "metadata": {},
   "outputs": [],
   "source": [
    "# 10_4_wide_full chi\n",
    "child_path_initials = r'..\\data\\simulations_single_qubit'\n",
    "f_sim_result_variation = [r\"\\multi_transmon_chip_20250822-105223.npy\", \n",
    "                          r\"\\multi_transmon_chip_20250822-125214.npy\", \n",
    "                          r\"\\multi_transmon_chip_20250822-133856.npy\", \n",
    "                          r\"\\multi_transmon_chip_20250822-142604.npy\", \n",
    "                          r'\\multi_transmon_chip_20250822-152333.npy',\n",
    "                          r\"\\multi_transmon_chip_20250822-162827.npy\",\n",
    "                          r\"\\multi_transmon_chip_20250822-175650.npy\", \n",
    "                          r\"\\multi_transmon_chip_20250822-214021.npy\",\n",
    "                          r\"\\multi_transmon_chip_20250823-080244.npy\", \n",
    "                          r\"\\multi_transmon_chip_20250823-123457.npy\",\n",
    "                          ] "
   ]
  },
  {
   "cell_type": "code",
   "execution_count": null,
   "metadata": {},
   "outputs": [],
   "source": [
    "opt_plot_variations = []\n",
    "for i in range(len(f_sim_result_variation)):\n",
    "    d_sim_result = np.load(child_path_initials + f_sim_result_variation[i], allow_pickle=True)[0]\n",
    "    system_target_params = d_sim_result[\"system_target_params\"]\n",
    "    opt_result = d_sim_result['optimization_results']\n",
    "\n",
    "    data_extractor = DataExtractor([opt_result], system_target_params)\n",
    "    plotter = OptimizationPlotter(data_extractor, plot_variance=False, save_figures=False)\n",
    "    opt_plot_variations.append(plotter)"
   ]
  },
  {
   "cell_type": "markdown",
   "metadata": {},
   "source": [
    "### Plot figure with data"
   ]
  },
  {
   "cell_type": "code",
   "execution_count": null,
   "metadata": {},
   "outputs": [],
   "source": [
    "figure_width_inch = 3.35\n",
    "figure_height_inch = 3.5\n",
    "plt.rcParams.update({\n",
    "    'font.family': 'serif',\n",
    "    'font.serif': ['Times New Roman'], \n",
    "    'font.size': 10,  \n",
    "    'mathtext.fontset': 'stix',  \n",
    "})\n",
    "\n",
    "fig = plt.figure(figsize=(figure_width_inch, figure_height_inch))\n",
    "gs = fig.add_gridspec(2, 2, wspace=0.45, hspace=0.4, left=0.12, right=0.98, bottom=0.13, top=0.97)\n",
    "ax0 = fig.add_subplot(gs[0, :])\n",
    "ax2 = fig.add_subplot(gs[1, 0])\n",
    "ax3 = fig.add_subplot(gs[1, 1])\n",
    "\n",
    "# comparison of nonlinear models\n",
    "opt_plot_Fig4[0]._plot_single_param(ax0, config['RES_QUB_chi'], y_param=config['RES_QUB_chi'].y, color=colors_got['blue'], markersize=5)\n",
    "opt_plot_Fig4[1]._plot_single_param(ax0, config['RES_QUB_chi'], y_param=config['RES_QUB_chi'].y, color=colors_got['orange'], markersize=5)\n",
    "opt_plot_Fig4[2]._plot_single_param(ax0, config['RES_QUB_chi'], y_param=config['RES_QUB_chi'].y, color=colors_got['grey'], markersize=5, alpha=0.15) # sqrt\n",
    "opt_plot_Fig4[3]._plot_single_param(ax0, config['RES_QUB_chi'], y_param=config['RES_QUB_chi'].y, color=colors_got['purple'], markersize=5) # x2\n",
    "opt_plot_Fig4[5]._plot_single_param(ax0, config['RES_QUB_chi'], y_param=config['RES_QUB_chi'].y, color=colors_got['green'], markersize=5) # sqrt x adj 0.5\n",
    "opt_plot_Fig4[6]._plot_single_param(ax0, config['RES_QUB_chi'], y_param=config['RES_QUB_chi'].y, color=colors_got['pink'], markersize=5) # x3\n",
    "opt_plot_Fig4[1]._plot_target(ax0, config['RES_QUB_chi'].y, 0, 15, colors_got['grey'], config['RES_QUB_chi'].normalization)\n",
    "\n",
    "ax0.set_xticks([5,10])\n",
    "ax0.set_xlabel('Iteration')\n",
    "ax0.text(0.1,0.6,r'$\\chi \\sim (w/w_{qb})^2 \\alpha / [\\Delta (\\Delta - \\alpha) ] $', transform=ax0.transAxes, color=colors_got['blue'])\n",
    "ax0.text(0.4,0.45,'$\\chi \\sim w$', transform=ax0.transAxes, color=colors_got['orange'])\n",
    "ax0.text(0.5,0.05,'$\\chi \\sim w^2$', transform=ax0.transAxes, color=colors_got['purple'])\n",
    "ax0.text(0.7,0.1,'$\\chi \\sim w^3$', transform=ax0.transAxes, color=colors_got['pink'])\n",
    "ax0.text(0.65,0.75,'$\\chi \\sim \\sqrt{w}$', transform=ax0.transAxes, color=colors_got['grey'])\n",
    "ax0.text(0.6,0.4,'$\\chi \\sim \\sqrt{w}, \\gamma=0.5$', transform=ax0.transAxes, color=colors_got['green'])\n",
    "\n",
    "# Comparison of different initial conditions\n",
    "for i in [0,6]: # selection of initial conditions showing no good optimization\n",
    "    opt_plot_variations[i]._plot_single_param(ax2, config['QUB_freq'], y_param=config['QUB_freq'].y, color=colors_got['grey'], markersize=5, alpha=0.15)\n",
    "    opt_plot_variations[i]._plot_single_param(ax3, config['RES_QUB_chi'], y_param=config['RES_QUB_chi'].y, color=colors_got['grey'], markersize=5, alpha=0.15)\n",
    "\n",
    "n_variations = len(f_sim_result_variation)\n",
    "for i in [1,2,3,4,5,7]: # selection of initial conditions showing good optimization\n",
    "    opt_plot_variations[i]._plot_single_param(ax2, config['QUB_freq'], y_param=config['QUB_freq'].y, color=color_shades_blue[i], markersize=5)\n",
    "    opt_plot_variations[i]._plot_single_param(ax3, config['RES_QUB_chi'], y_param=config['RES_QUB_chi'].y, color=color_shades_blue[i], markersize=5)\n",
    "\n",
    "ax2.set_xticks([5,10])\n",
    "ax3.set_xticks([5,10])\n",
    "ax2.set_xlabel('Iteration')\n",
    "ax3.set_xlabel('Iteration')\n",
    "\n",
    "ax2.set_ylim(2.5,5.8)\n",
    "ax3.set_ylim(0,5)\n",
    "\n",
    "ax0.text(0.025,0.88,'(a)', transform=ax0.transAxes)\n",
    "ax2.text(0.1,0.88,'(b)', transform=ax2.transAxes)\n",
    "ax3.text(0.3,0.88,'(c)', transform=ax3.transAxes)\n",
    "\n",
    "fig.savefig(r'..\\data\\figures' + r\"\\Fig3_COMP_single_qubit_resonator.png\", dpi=300)"
   ]
  },
  {
   "cell_type": "markdown",
   "metadata": {},
   "source": [
    "## Fig 5: 2QB-CPLR chip"
   ]
  },
  {
   "cell_type": "code",
   "execution_count": null,
   "metadata": {},
   "outputs": [],
   "source": [
    "# Load images\n",
    "cropped_image_2qb = crop_image_by_fraction(r'..\\data\\figures' + r'\\2qb_cplr_medqual_fc_sb.png', left=0.13, right=0.13, top=0.2, bottom=0.27, rotate_90=0)\n",
    "\n",
    "# Load data\n",
    "f_sim_result_2qb = [r'..\\data\\simulations_two_qubit_cplr' + r'\\multi_transmon_chip_20250823-103823.npy']"
   ]
  },
  {
   "cell_type": "code",
   "execution_count": null,
   "metadata": {},
   "outputs": [],
   "source": [
    "d_sim_result = np.load(f_sim_result_2qb[0], allow_pickle=True)[0]\n",
    "system_target_params = d_sim_result[\"system_target_params\"]\n",
    "opt_result = d_sim_result['optimization_results']\n",
    "\n",
    "opt_target_list = ot.get_opt_targets_2qubits_resonator_coupler([1], True,True,True,True,True,False,False)\n",
    "\n",
    "iteration = 'Iteration'\n",
    "config = {\n",
    "    'RES1_freq': OptPltSet(n.ITERATION, param(n.RESONATOR_1, n.FREQ), y_label=\"RES Freq\", unit=\"GHz\"), \n",
    "    'RES2_freq': OptPltSet(n.ITERATION, param(n.RESONATOR_2, n.FREQ), y_label=\"RES Freq\", unit=\"GHz\"), \n",
    "    'QUB1_freq': OptPltSet(n.ITERATION, param(n.QUBIT_1, n.FREQ), y_label=\"QB Freq\", unit=\"GHz\"),\n",
    "    'QUB2_freq': OptPltSet(n.ITERATION, param(n.QUBIT_2, n.FREQ), y_label=\"$f_{qb}$\", unit=\"GHz\"),\n",
    "    'CPLR_freq': OptPltSet(n.ITERATION, param('coupler_1to2', n.FREQ), y_label=\"$f$\", unit=\"GHz\"),\n",
    "    'QUB1_anh': OptPltSet(n.ITERATION, param_nonlin(n.QUBIT_1, n.QUBIT_1), y_label=\"QB Anharm.\", unit=\"MHz\"),\n",
    "    'QUB2_anh': OptPltSet(n.ITERATION, param_nonlin(n.QUBIT_2, n.QUBIT_2), y_label=r\"$\\alpha_{qb}$\", unit=\"MHz\"),\n",
    "    'CPLR_anh': OptPltSet(n.ITERATION, param_nonlin('coupler_1to2', 'coupler_1to2'), y_label=r\"$\\alpha$\", unit=\"MHz\"),\n",
    "    'RES1_QUB1_chi': OptPltSet(n.ITERATION, param_nonlin(n.RESONATOR_1, n.QUBIT_1), y_label=\"RES-QB Chi\", unit=\"MHz\"),\n",
    "    'RES2_QUB2_chi': OptPltSet(n.ITERATION, param_nonlin(n.RESONATOR_2, n.QUBIT_2), y_label=r\"$\\chi_{qb-res}$\", unit=\"MHz\"),\n",
    "    'QUB1_CPLR_chi': OptPltSet(n.ITERATION, param_nonlin(n.QUBIT_1, 'coupler_1to2'), y_label=\"QB-CPLR Chi\", unit=\"MHz\"),\n",
    "    'QUB2_CPLR_chi': OptPltSet(n.ITERATION, param_nonlin(n.QUBIT_2, 'coupler_1to2'), y_label=r\"$\\chi_{qb-cplr}$\", unit=\"MHz\"),\n",
    "    }\n",
    "\n",
    "print(system_target_params)\n",
    "print(opt_result[0]['design_variables'])\n"
   ]
  },
  {
   "cell_type": "code",
   "execution_count": null,
   "metadata": {},
   "outputs": [],
   "source": [
    "data_extractor_2qb = DataExtractor([opt_result], system_target_params, opt_target_list)\n",
    "plotter_2qb = OptimizationPlotter(data_extractor_2qb, plot_variance=False, save_figures=False)"
   ]
  },
  {
   "cell_type": "code",
   "execution_count": null,
   "metadata": {},
   "outputs": [],
   "source": [
    "figure_width_inch = 3.35\n",
    "plt.rcParams.update({\n",
    "    'font.family': 'serif',\n",
    "    'font.serif': ['Times New Roman'], \n",
    "    'font.size': 10,  \n",
    "    'mathtext.fontset': 'stix',  \n",
    "})\n",
    "\n",
    "fig = plt.figure(figsize=(figure_width_inch, 4.5))\n",
    "gs = fig.add_gridspec(3, 2, wspace=0.55, hspace=0.15, left=0.12, right=0.96, bottom=0.10, top=0.98)\n",
    "ax0 = fig.add_subplot(gs[0, :])\n",
    "\n",
    "ax2 = fig.add_subplot(gs[1, 0])\n",
    "ax3 = fig.add_subplot(gs[1, 1])\n",
    "ax4 = fig.add_subplot(gs[2, 0])\n",
    "ax5 = fig.add_subplot(gs[2, 1])\n",
    "\n",
    "# image\n",
    "ax0.imshow(cropped_image_2qb)\n",
    "ax0.axis('off')\n",
    "\n",
    "# Modes \n",
    "## Resonator\n",
    "plotter_2qb._plot_single_param(ax2, config['RES1_freq'], y_param=config['RES1_freq'].y, color=colors_got['blue'], markersize=5, marker='v')\n",
    "plotter_2qb._plot_single_param(ax2, config['RES2_freq'], y_param=config['RES2_freq'].y, color=colors_got['orange'], markersize=5, marker='v')\n",
    "plotter_2qb._plot_single_param(ax2, config['QUB1_freq'], y_param=config['QUB1_freq'].y, color=colors_got['blue'], markersize=5)\n",
    "plotter_2qb._plot_single_param(ax2, config['QUB2_freq'], y_param=config['QUB2_freq'].y, color=colors_got['orange'], markersize=5)\n",
    "plotter_2qb._plot_single_param(ax2, config['CPLR_freq'], y_param=config['CPLR_freq'].y, color=colors_got['green'], markersize=5)\n",
    "\n",
    "# Nonlinearities\n",
    "## Anharmonicity\n",
    "plotter_2qb._plot_single_param(ax3, config['QUB1_anh'], y_param=config['QUB1_anh'].y, color=colors_got['blue'], markersize=5)\n",
    "plotter_2qb._plot_single_param(ax3, config['QUB2_anh'], y_param=config['QUB2_anh'].y, color=colors_got['orange'], markersize=5)\n",
    "plotter_2qb._plot_single_param(ax3, config['CPLR_anh'], y_param=config['CPLR_anh'].y, color=colors_got['green'], markersize=5)\n",
    "## RES-QB chi\n",
    "plotter_2qb._plot_single_param(ax5, config['RES1_QUB1_chi'], y_param=config['RES1_QUB1_chi'].y, color=colors_got['blue'], markersize=5)\n",
    "plotter_2qb._plot_single_param(ax5, config['RES2_QUB2_chi'], y_param=config['RES2_QUB2_chi'].y, color=colors_got['orange'], markersize=5)\n",
    "## QB-CPLR chi\n",
    "plotter_2qb._plot_single_param(ax4, config['QUB1_CPLR_chi'], y_param=config['QUB1_CPLR_chi'].y, color=colors_got['blue'], markersize=5)\n",
    "plotter_2qb._plot_single_param(ax4, config['QUB2_CPLR_chi'], y_param=config['QUB2_CPLR_chi'].y, color=colors_got['orange'], markersize=5)\n",
    "\n",
    "ax2.set_xticks([5,10])\n",
    "ax3.set_xticks([5,10])\n",
    "ax4.set_xticks([5,10])\n",
    "ax5.set_xticks([5,10])\n",
    "\n",
    "ax2.set_xlabel('')\n",
    "ax3.set_xlabel('')\n",
    "ax4.set_xlabel('Iteration')\n",
    "ax5.set_xlabel('Iteration')\n",
    "\n",
    "ax2.set_xticklabels([])\n",
    "ax3.set_xticklabels([])\n",
    "\n",
    "ax0.text(0.025,0.85,'(a)', transform=ax0.transAxes)\n",
    "ax2.text(0.1,0.75,'(b)', transform=ax2.transAxes)\n",
    "ax3.text(0.1,0.7,'(c)', transform=ax3.transAxes)\n",
    "ax4.text(0.1,0.1,'(d)', transform=ax4.transAxes)\n",
    "ax5.text(0.2,0.88,'(e)', transform=ax5.transAxes)\n",
    "\n",
    "ax2.text(0.25,0.75,'RES1', transform=ax2.transAxes, color=colors_got['blue'])\n",
    "ax2.text(0.3,0.2,'QB1', transform=ax2.transAxes, color=colors_got['blue'])\n",
    "ax2.text(0.65,0.75,'RES2', transform=ax2.transAxes, color=colors_got['orange'])\n",
    "ax2.text(0.6,0.2,'QB2', transform=ax2.transAxes, color=colors_got['orange'])\n",
    "ax2.text(0.4,0.55,'CPLR', transform=ax2.transAxes, color=colors_got['green'])\n",
    "\n",
    "fig.savefig(r'..\\data\\figures' + r\"\\Fig4_OPT_two_qubit_resonator.png\", dpi=300)"
   ]
  },
  {
   "cell_type": "markdown",
   "metadata": {},
   "source": [
    "# Figures for supplement"
   ]
  },
  {
   "cell_type": "markdown",
   "metadata": {},
   "source": [
    "## Fig S1: Capacitance targets"
   ]
  },
  {
   "cell_type": "code",
   "execution_count": null,
   "metadata": {},
   "outputs": [],
   "source": [
    "# Load images\n",
    "cropped_image_capacitance = crop_image_by_fraction(r'..\\data\\figures' + r'\\2025-08-10_OPT_resonator_feedline_capacitance_final_zoom_2.png', left=0.1, right=0.1, top=0.0, bottom=0.1, rotate_90=0)\n",
    "cropped_image_decay = crop_image_by_fraction(r'..\\data\\figures' + r'\\2025-08-10_OPT_chargeline_final_zoom.png', left=0., right=0.0, top=0.2, bottom=0.0, rotate_90=0)\n",
    "\n",
    "# Load data\n",
    "f_sim_result = [r'..\\data\\simulations_single_qubit' + r'\\multi_transmon_chip_20250811-104854.npy', \n",
    "                r'..\\data\\simulations_single_qubit' + r'\\multi_transmon_chip_20250811-105908.npy']"
   ]
  },
  {
   "cell_type": "code",
   "execution_count": null,
   "metadata": {},
   "outputs": [],
   "source": [
    "opt_plot = []\n",
    "for i in range(len(f_sim_result)):\n",
    "    d_sim_result = np.load(f_sim_result[i], allow_pickle=True)[0]\n",
    "    system_target_params = d_sim_result[\"system_target_params\"]\n",
    "    opt_result = d_sim_result['optimization_results']\n",
    "\n",
    "    data_extractor = DataExtractor([opt_result], system_target_params)\n",
    "    plotter = OptimizationPlotter(data_extractor, plot_variance=False, save_figures=False)\n",
    "    opt_plot.append(plotter)"
   ]
  },
  {
   "cell_type": "code",
   "execution_count": null,
   "metadata": {},
   "outputs": [],
   "source": [
    "iteration = 'Iteration'\n",
    "config = {\n",
    "    'res_fd_coupling': OptPltSet(n.ITERATION, param_capacitance(\"prime_cpw_name_tee1_\", \"second_cpw_name_tee1_\"), y_label=\"Capacitance\", unit=\"fF\"), \n",
    "    'charge_line': OptPltSet(n.ITERATION, param(n.QUBIT_1, n.CHARGE_LINE_LIMITED_T1), y_label=\"T1 limit\", y_scale=\"linear\", unit=\"ms\")\n",
    "    }"
   ]
  },
  {
   "cell_type": "markdown",
   "metadata": {},
   "source": [
    "### Plot figure with data and images"
   ]
  },
  {
   "cell_type": "code",
   "execution_count": null,
   "metadata": {},
   "outputs": [],
   "source": [
    "figure_width_inch = 3.35\n",
    "figure_height_inch = 3.2\n",
    "plt.rcParams.update({\n",
    "    'font.family': 'serif',\n",
    "    'font.serif': ['Times New Roman'], \n",
    "    'font.size': 10,  \n",
    "    'mathtext.fontset': 'stix',  \n",
    "})\n",
    "\n",
    "fig = plt.figure(figsize=(figure_width_inch, figure_height_inch))\n",
    "gs = fig.add_gridspec(2, 2, wspace=0.7, hspace=0.4, left=0.16, right=0.96, bottom=0.14, top=0.95)\n",
    "ax1 = fig.add_subplot(gs[0,0])\n",
    "ax2 = fig.add_subplot(gs[1,0])\n",
    "ax3 = fig.add_subplot(gs[0,1])\n",
    "ax4 = fig.add_subplot(gs[1,1])\n",
    "\n",
    "ax1.imshow(cropped_image_capacitance)\n",
    "ax2.imshow(cropped_image_decay)\n",
    "\n",
    "ax1.axis('off')\n",
    "ax2.axis('off')\n",
    "\n",
    "opt_plot[0]._plot_single_param(ax3, config['res_fd_coupling'], y_param=config['res_fd_coupling'].y, color=colors_got['blue'], markersize=5)\n",
    "opt_plot[1]._plot_single_param(ax4, config['charge_line'], y_param=config['charge_line'].y, color=colors_got['blue'], markersize=5)\n",
    "\n",
    "ax3.set_xticks([5,10])\n",
    "ax4.set_xticks([5,10])\n",
    "ax3.set_ylim([-4.5,-2.3])\n",
    "ax4.set_ylim([0,25])\n",
    "\n",
    "ax3.set_xlabel('Iteration')\n",
    "ax4.set_xlabel('Iteration')\n",
    "\n",
    "ax1.text(-0.3,0.88,'(a)', transform=ax1.transAxes)\n",
    "ax2.text(-0.3,0.88,'(b)', transform=ax2.transAxes)\n",
    "ax3.text(0.1,0.88,'(c)', transform=ax3.transAxes)\n",
    "ax4.text(0.1,0.88,'(d)', transform=ax4.transAxes)\n",
    "\n",
    "fig.savefig(r'..\\data\\figures' + r\"\\FigS1_OPT_capacitance_decay.png\", dpi=300)"
   ]
  },
  {
   "cell_type": "markdown",
   "metadata": {},
   "source": [
    "## S2: Effect of simulation parameters on optimization landscape"
   ]
  },
  {
   "cell_type": "code",
   "execution_count": null,
   "metadata": {},
   "outputs": [],
   "source": [
    "f_sim_result = [r'\\multi_transmon_chip_20250818-104818.npy', # 3\n",
    "                r'\\multi_transmon_chip_20250815-095948.npy', # 4\n",
    "                 r'\\multi_transmon_chip_20250815-110158.npy', # 5\n",
    "                 r'\\multi_transmon_chip_20250815-130510.npy', # 6\n",
    "                 r'\\multi_transmon_chip_20250815-144537.npy', # 7\n",
    "                 r'\\multi_transmon_chip_20250810-175429.npy', # 8\n",
    "                 r'\\multi_transmon_chip_20250817-140710.npy', # 9\n",
    "                 r'\\multi_transmon_chip_20250816-070833.npy', # 10\n",
    "                 ]\n",
    "\n",
    "opt_plot = []\n",
    "for i in range(len(f_sim_result)):\n",
    "    d_sim_result = np.load(r'..\\data\\simulations_single_qubit' + f_sim_result[i], allow_pickle=True)[0]\n",
    "    system_target_params = d_sim_result[\"system_target_params\"]\n",
    "    opt_result = d_sim_result['optimization_results']\n",
    "\n",
    "    data_extractor = DataExtractor([opt_result], system_target_params)\n",
    "    plotter = OptimizationPlotter(data_extractor, plot_variance=False, save_figures=False)\n",
    "    opt_plot.append(plotter)"
   ]
  },
  {
   "cell_type": "code",
   "execution_count": null,
   "metadata": {},
   "outputs": [],
   "source": [
    "config = {\n",
    "    'RES_freq': OptPltSet(n.ITERATION, param(n.RESONATOR_1, n.FREQ), y_label=\"RES Freq\", unit=\"GHz\"), \n",
    "    'RES_kappa': OptPltSet(n.ITERATION, param(n.RESONATOR_1, n.KAPPA), y_label=\"$\\kappa_{res}$\", unit=\"MHz\"),\n",
    "    'QUB_freq': OptPltSet(n.ITERATION, param(n.QUBIT_1, n.FREQ), y_label=\"QB Freq\", unit=\"GHz\"),\n",
    "    'QUB_anh': OptPltSet(n.ITERATION, param_nonlin(n.QUBIT_1, n.QUBIT_1), y_label=\"QB Anharm.\", unit=\"MHz\"),\n",
    "    'RES_QUB_chi': OptPltSet(n.ITERATION, param_nonlin(n.RESONATOR_1, n.QUBIT_1), y_label=\"RES-QB Chi\", unit=\"MHz\"),\n",
    "    }"
   ]
  },
  {
   "cell_type": "code",
   "execution_count": null,
   "metadata": {},
   "outputs": [],
   "source": [
    "figure_width_inch = 7\n",
    "plt.rcParams.update({\n",
    "    'font.family': 'serif',\n",
    "    'font.serif': ['Times New Roman'], \n",
    "    'font.size': 10,  \n",
    "    'mathtext.fontset': 'stix',  \n",
    "})\n",
    "\n",
    "fig = plt.figure(figsize=(figure_width_inch, 3.5))\n",
    "gs = fig.add_gridspec(2, 3, wspace=0.55, hspace=0.15, left=0.1, right=0.96, bottom=0.13, top=0.95)\n",
    "ax0 = fig.add_subplot(gs[0, 0])\n",
    "ax1 = fig.add_subplot(gs[0, 1])\n",
    "ax2 = fig.add_subplot(gs[0, 2])\n",
    "ax3 = fig.add_subplot(gs[1, 0])\n",
    "ax4 = fig.add_subplot(gs[1, 1])\n",
    "ax5 = fig.add_subplot(gs[1, 2])\n",
    "for i in range(len(f_sim_result)):\n",
    "    opt_plot[i]._plot_single_param(ax1, config['RES_freq'], y_param=config['RES_freq'].y, color=color_shades_blue[i], markersize=5)\n",
    "    opt_plot[i]._plot_single_param(ax2, config['RES_kappa'], y_param=config['RES_kappa'].y, color=color_shades_blue[i], markersize=5)\n",
    "    opt_plot[i]._plot_single_param(ax3, config['QUB_freq'], y_param=config['QUB_freq'].y, color=color_shades_blue[i], markersize=5)\n",
    "    opt_plot[i]._plot_single_param(ax4, config['QUB_anh'], y_param=config['QUB_anh'].y, color=color_shades_blue[i], markersize=5)\n",
    "    opt_plot[i]._plot_single_param(ax5, config['RES_QUB_chi'], y_param=config['RES_QUB_chi'].y, color=color_shades_blue[i], markersize=5)\n",
    "\n",
    "ax1.set_xticks([5,10])\n",
    "ax2.set_xticks([5,10])\n",
    "ax3.set_xticks([5,10])\n",
    "ax4.set_xticks([5,10])\n",
    "ax5.set_xticks([5,10])\n",
    "\n",
    "ax1.set_xlabel('')\n",
    "ax2.set_xlabel('')\n",
    "ax3.set_xlabel('Iteration')\n",
    "ax4.set_xlabel('Iteration')\n",
    "ax5.set_xlabel('Iteration')\n",
    "\n",
    "ax1.set_xticklabels([])\n",
    "ax2.set_xticklabels([])\n",
    "\n",
    "ax1.text(0.05,0.1,'(a)', transform=ax0.transAxes)\n",
    "ax1.text(0.1,0.88,'(b)', transform=ax1.transAxes)\n",
    "ax2.text(0.04,0.88,'(c)', transform=ax2.transAxes)\n",
    "ax3.text(0.1,0.88,'(d)', transform=ax3.transAxes)\n",
    "ax4.text(0.1,0.88,'(e)', transform=ax4.transAxes)\n",
    "ax5.text(0.1,0.88,'(f)', transform=ax5.transAxes)\n",
    "\n",
    "ax0.imshow(cropped_image)\n",
    "ax0.axis('off')\n",
    "\n",
    "fig.savefig(r'..\\data\\figures' + r\"\\FigS2_OPT_single_qubit_resonator_passes.png\", dpi=300)"
   ]
  },
  {
   "cell_type": "markdown",
   "metadata": {},
   "source": [
    "### Design variables"
   ]
  },
  {
   "cell_type": "code",
   "execution_count": null,
   "metadata": {},
   "outputs": [],
   "source": [
    "data_vs_passes = np.zeros((len(f_sim_result), 5))  # 5 design variables\n",
    "for i in range(len(f_sim_result)):\n",
    "    d_sim_result = np.load(r'..\\data\\simulations_single_qubit' + f_sim_result[i], allow_pickle=True)[0]\n",
    "    system_target_params = d_sim_result[\"system_target_params\"]\n",
    "    opt_result = d_sim_result['optimization_results']\n",
    "\n",
    "    data_extractor = DataExtractor([opt_result], system_target_params)\n",
    "\n",
    "    \n",
    "    for k, des_var in enumerate([\"design_var_lj_qubit_1\", \"design_var_width_qubit_1\", \"design_var_length_resonator_1\", \"design_var_coupl_length_resonator_1_tee\", \"design_var_coupl_length_qubit_1_resonator_1\"]):\n",
    "        data_vs_passes[i, k] = data_extractor.get_parameter_value(des_var, result=opt_result[-1], iteration=0)\n",
    "\n",
    "list_of_passes = np.array([3,4,5,6,7,8,9,10])\n"
   ]
  },
  {
   "cell_type": "code",
   "execution_count": null,
   "metadata": {},
   "outputs": [],
   "source": [
    "figure_width_inch = 3.35\n",
    "plt.rcParams.update({\n",
    "    'font.family': 'serif',\n",
    "    'font.serif': ['Times New Roman'], \n",
    "    'font.size': 10,  \n",
    "    'mathtext.fontset': 'stix',  \n",
    "})\n",
    "\n",
    "fig = plt.figure(figsize=(figure_width_inch, 3.2))\n",
    "gs = fig.add_gridspec(2, 1, wspace=0.55, hspace=0.4, left=0.15, right=0.97, bottom=0.13, top=0.96)\n",
    "ax1 = fig.add_subplot(gs[0, 0])\n",
    "ax0 = fig.add_subplot(gs[1, 0])\n",
    "for i in range(len(f_sim_result)):\n",
    "    opt_plot[i]._plot_single_param(ax0, config['RES_kappa'], y_param=config['RES_kappa'].y, color=color_shades_lightblue[i], markersize=5)\n",
    "\n",
    "ax0.text(0.4,0.5,'$3~passes$', transform=ax0.transAxes, color=color_shades_lightblue[0])\n",
    "ax0.text(0.7,0.5,'$10~passes$', transform=ax0.transAxes, color=color_shades_lightblue[i])\n",
    "\n",
    "ax1.plot(list_of_passes, data_vs_passes[:, 0]/data_vs_passes[-1, 0], marker='o', color=colors_got['purple'], label='LJ Qubit 1')\n",
    "ax1.plot(list_of_passes, data_vs_passes[:, 1]/data_vs_passes[-1, 1], marker='o', color=colors_got['pink'], label='Width Qubit 1')\n",
    "ax1.plot(list_of_passes, data_vs_passes[:, 2]/data_vs_passes[-1, 2], marker='o', color=colors_got['blue'], label='Length Resonator 1')\n",
    "ax1.plot(list_of_passes, data_vs_passes[:, 3]/data_vs_passes[-1, 3], marker='o', color=colors_got['lightblue'], label='Coupling Length Resonator 1 Tee')\n",
    "ax1.plot(list_of_passes, data_vs_passes[:, 4]/data_vs_passes[-1, 4], marker='o', color=colors_got['orange'], label='Coupling Length Qubit 1 Resonator 1')\n",
    "\n",
    "ax0.set_xlabel('Iteration')\n",
    "\n",
    "ax1.set_xlabel('Passes')\n",
    "ax1.set_ylabel('Norm. Design Var.')\n",
    "\n",
    "ax0.text(0.05,0.88,'(b)', transform=ax0.transAxes)\n",
    "ax1.text(0.05,0.88,'(a)', transform=ax1.transAxes)\n",
    "\n",
    "ax1.text(0.05,0.55,'$l_{res}$', transform=ax1.transAxes, color=colors_got['blue'])\n",
    "ax1.text(0.15,0.5,'$L_{qb}$', transform=ax1.transAxes, color=colors_got['purple'])\n",
    "ax1.text(0.25,0.05,'$w_{qb}$', transform=ax1.transAxes, color=colors_got['pink'])\n",
    "ax1.text(0.4,0.15,'$w_{res-qb}$', transform=ax1.transAxes, color=colors_got['orange'])\n",
    "ax1.text(0.75,0.7,'$l_{res-tl}$', transform=ax1.transAxes, color=colors_got['lightblue'])\n",
    "\n",
    "fig.savefig(r'..\\data\\figures' + r\"\\FigS2_OPT_single_qubit_resonator_passes_des_var.png\", dpi=300)"
   ]
  },
  {
   "cell_type": "markdown",
   "metadata": {},
   "source": [
    "## S3: Tracking design variable updates"
   ]
  },
  {
   "cell_type": "code",
   "execution_count": null,
   "metadata": {},
   "outputs": [],
   "source": [
    "des_var_vs_iteration = np.zeros((10, 10, 5))  # 10 opts, 10 iterations, 5 design variables\n",
    "for i, run in enumerate([1,2,3,4,5,7,8,9]):\n",
    "    d_sim_result = np.load(r'..\\data\\simulations_single_qubit' + f_sim_result_variation[run], allow_pickle=True)[0]\n",
    "    system_target_params = d_sim_result[\"system_target_params\"]\n",
    "    opt_result = d_sim_result['optimization_results']\n",
    "\n",
    "    data_extractor = DataExtractor([opt_result], system_target_params)\n",
    "\n",
    "    for j in range(10):\n",
    "        for k, des_var in enumerate([\"design_var_lj_qubit_1\", \"design_var_width_qubit_1\", \"design_var_length_resonator_1\", \"design_var_coupl_length_resonator_1_tee\", \"design_var_coupl_length_qubit_1_resonator_1\"]):\n",
    "            des_var_vs_iteration[i, j, k] = data_extractor.get_parameter_value(des_var, result=opt_result[j], iteration=0)\n",
    "\n",
    "iterations = np.arange(start=1, stop=11, step=1)\n"
   ]
  },
  {
   "cell_type": "code",
   "execution_count": null,
   "metadata": {},
   "outputs": [],
   "source": [
    "figure_width_inch = 3.35\n",
    "figure_height_inch = 3.2\n",
    "plt.rcParams.update({\n",
    "    'font.family': 'serif',\n",
    "    'font.serif': ['Times New Roman'], \n",
    "    'font.size': 10,  \n",
    "    'mathtext.fontset': 'stix',  \n",
    "})\n",
    "\n",
    "fig = plt.figure(figsize=(figure_width_inch, figure_height_inch))\n",
    "gs = fig.add_gridspec(2, 2, wspace=0.7, hspace=0.4, left=0.16, right=0.98, bottom=0.08, top=0.98)\n",
    "ax0 = fig.add_subplot(gs[0,0])\n",
    "ax1 = fig.add_subplot(gs[0,1])\n",
    "ax2 = fig.add_subplot(gs[1,:])\n",
    "\n",
    "# tracking of two design variables: qubit Lj\n",
    "ax0.plot(iterations, des_var_vs_iteration[0,:,0], label='Design Var 1', color=color_shades_blue[0], marker='o', ms=5)\n",
    "ax0.plot(iterations, des_var_vs_iteration[1,:,0], label='Design Var 1', color=color_shades_blue[5], marker='o', ms=5)\n",
    "# tracking of two design variables: resonator length\n",
    "ax1.plot(iterations, des_var_vs_iteration[0,:,2]/1e3, label='Design Var 2', color=color_shades_blue[0], marker='o', ms=5)\n",
    "ax1.plot(iterations, des_var_vs_iteration[1,:,2]/1e3, label='Design Var 2', color=color_shades_blue[5], marker='o', ms=5)\n",
    "\n",
    "# tracking of chi\n",
    "opt_plot_Fig4[0]._plot_param_vs_design_var(ax2, config_Fig3['RES_QUB_chi'], y_param=config_Fig3['RES_QUB_chi'].y, color=colors_got['blue'], sort_by_x=False, markersize=5)\n",
    "opt_plot_Fig4[1]._plot_param_vs_design_var(ax2, config_Fig3['RES_QUB_chi'], y_param=config_Fig3['RES_QUB_chi'].y, color=colors_got['orange'], sort_by_x=False, markersize=5)\n",
    "opt_plot_Fig4[2]._plot_param_vs_design_var(ax2, config_Fig3['RES_QUB_chi'], y_param=config_Fig3['RES_QUB_chi'].y, color=colors_got['grey'], sort_by_x=False, markersize=5, alpha=0.15)\n",
    "opt_plot_Fig4[3]._plot_param_vs_design_var(ax2, config_Fig3['RES_QUB_chi'], y_param=config_Fig3['RES_QUB_chi'].y, color=colors_got['purple'], sort_by_x=False, markersize=5)\n",
    "opt_plot_Fig4[5]._plot_param_vs_design_var(ax2, config_Fig3['RES_QUB_chi'], y_param=config_Fig3['RES_QUB_chi'].y, color=colors_got['green'], sort_by_x=False, markersize=5)\n",
    "opt_plot_Fig4[6]._plot_param_vs_design_var(ax2, config_Fig3['RES_QUB_chi'], y_param=config_Fig3['RES_QUB_chi'].y, color=colors_got['pink'], sort_by_x=False, markersize=5)\n",
    "opt_plot_Fig4[1]._plot_target(ax2, config_Fig3['RES_QUB_chi'].y, 0, 15, colors_got['grey'], config_Fig3['RES_QUB_chi'].normalization)\n",
    "\n",
    "ax0.set_xticks([5,10])\n",
    "ax1.set_xticks([5,10])\n",
    "ax2.set_xticks([5,10])\n",
    "ax0.set_xlabel('Iteration')\n",
    "ax1.set_xlabel('Iteration')\n",
    "ax0.set_ylabel('Qubit $L_j$ (nH)')\n",
    "ax1.set_ylabel('RES length (mm)')\n",
    "ax2.set_xlabel('Coupling length QUB-RES $w_{res-qb}$ (mm)')\n",
    "\n",
    "ax2.set_ylim(0.2,1.9)\n",
    "ax2.set_xlim(20,500)\n",
    "\n",
    "ax0.text(0.2,0.88,'(a)', transform=ax0.transAxes)\n",
    "ax1.text(0.1,0.88,'(b)', transform=ax1.transAxes)\n",
    "ax2.text(0.025,0.88,'(c)', transform=ax2.transAxes)\n",
    "\n",
    "\n",
    "fig.savefig(r'..\\data\\figures' + r\"\\FigS3_OPT_single_qubit_resonator_tracking_des_var.png\", dpi=300)"
   ]
  },
  {
   "cell_type": "markdown",
   "metadata": {},
   "source": [
    "## S5: Parameter sweep"
   ]
  },
  {
   "cell_type": "code",
   "execution_count": null,
   "metadata": {},
   "outputs": [],
   "source": [
    "f_sim_result = [r'\\multi_transmon_chip_20250915-125727.npy']\n",
    "opt_plot = []\n",
    "\n",
    "d_sim_result = np.load(r'..\\data\\simulations_single_qubit' + f_sim_result[0], allow_pickle=True)[0]\n",
    "system_target_params = d_sim_result[\"system_target_params\"]\n",
    "opt_result = d_sim_result['optimization_results']\n",
    "\n",
    "data_extractor = DataExtractor([opt_result], system_target_params)"
   ]
  },
  {
   "cell_type": "code",
   "execution_count": null,
   "metadata": {},
   "outputs": [],
   "source": [
    "data_parameter_sweep = np.zeros((10, 2))  # 10 iterations, 5 design variables\n",
    "for i in range(10):\n",
    "    data_parameter_sweep[i, 0] = data_extractor.get_parameter_value(\"design_var_coupl_length_qubit_1_resonator_1\", result=opt_result[i], iteration=0)\n",
    "    data_parameter_sweep[i, 1] = data_extractor.opt_results[0][i]['system_optimized_params']['qubit_1_to_resonator_1_nonlin']\n",
    "    "
   ]
  },
  {
   "cell_type": "code",
   "execution_count": null,
   "metadata": {},
   "outputs": [],
   "source": [
    "def powerlaw(x, a, b):\n",
    "    return a * np.power(x, b)"
   ]
  },
  {
   "cell_type": "code",
   "execution_count": null,
   "metadata": {},
   "outputs": [],
   "source": [
    "figure_width_inch = 3.35\n",
    "plt.rcParams.update({\n",
    "    'font.family': 'serif',\n",
    "    'font.serif': ['Times New Roman'], \n",
    "    'font.size': 10,  \n",
    "    'mathtext.fontset': 'stix',  \n",
    "})\n",
    "\n",
    "fig = plt.figure(figsize=(figure_width_inch, 1.6))\n",
    "gs = fig.add_gridspec(1, 1, wspace=0.55, hspace=0.15, left=0.16, right=0.99, bottom=0.28, top=0.94)\n",
    "ax0 = fig.add_subplot(gs[0, 0])\n",
    "\n",
    "ax0.plot(data_parameter_sweep[:,0], data_parameter_sweep[:,1]/1e6, marker='o', color=colors_got['blue'], markersize=5)\n",
    "x = np.linspace(7,700,100)\n",
    "ax0.plot(x, powerlaw(x,a=0.012, b=1), linestyle='--', color=colors_got['grey'])\n",
    "\n",
    "ax0.set_xlabel('Coupl. length QUB-RES (nm)')\n",
    "ax0.set_ylabel(r\"$\\chi_{qb-cplr}$ (MHz)\")\n",
    "ax0.set_xscale('log')\n",
    "ax0.set_yscale('log')\n",
    "ax0.set_ylim(0.4,10)\n",
    "\n",
    "ax0.text(0.65,0.15,r'$\\chi \\sim a w_{res-qb}$', transform=ax0.transAxes, color=colors_got['grey'])\n",
    "\n",
    "fig.savefig(r'..\\data\\figures' + r\"\\FigS5_OPT_single_qubit_resonator_parametersweep.png\", dpi=300)"
   ]
  },
  {
   "cell_type": "code",
   "execution_count": null,
   "metadata": {},
   "outputs": [],
   "source": []
  }
 ],
 "metadata": {
  "kernelspec": {
   "display_name": "qdo202q",
   "language": "python",
   "name": "python3"
  },
  "language_info": {
   "codemirror_mode": {
    "name": "ipython",
    "version": 3
   },
   "file_extension": ".py",
   "mimetype": "text/x-python",
   "name": "python",
   "nbconvert_exporter": "python",
   "pygments_lexer": "ipython3",
   "version": "3.10.18"
  }
 },
 "nbformat": 4,
 "nbformat_minor": 2
}
